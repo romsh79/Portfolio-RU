{
 "cells": [
  {
   "cell_type": "markdown",
   "metadata": {},
   "source": [
    "# Классификация отзывов по тональности \n",
    "\n",
    "Классифицировать по тональности отзывы на банки с сайта banki.ru.\n",
    "\n",
    "Данные содержат непосредственно тексты отзывов, некоторую дополнительную информацию, а также оценку по шкале от 1 до 5. \n",
    "\n",
    "Тексты хранятся в json-ах в массиве responses."
   ]
  },
  {
   "cell_type": "code",
   "execution_count": 1,
   "metadata": {},
   "outputs": [
    {
     "name": "stdout",
     "output_type": "stream",
     "text": [
      "Populating the interactive namespace from numpy and matplotlib\n"
     ]
    }
   ],
   "source": [
    "import json\n",
    "import sqlite3\n",
    "\n",
    "import bz2\n",
    "import regex\n",
    "from tqdm import tqdm\n",
    "from scipy import sparse\n",
    "import pandas as pd\n",
    "import numpy as np\n",
    "import nltk\n",
    "import matplotlib.pyplot as plt\n",
    "import seaborn as sns\n",
    "import re\n",
    "\n",
    "from pymystem3 import Mystem          # морфологический анализатор\n",
    "from pymorphy2 import MorphAnalyzer   # морфологический анализатор\n",
    "from nltk.corpus import stopwords\n",
    "from nltk import FreqDist\n",
    "\n",
    "from gensim import corpora, similarities, models\n",
    "from gensim.models import CoherenceModel\n",
    "import pyLDAvis\n",
    "import pyLDAvis.gensim_models as newpyLDAgensim\n",
    "\n",
    "from sklearn.feature_extraction.text import TfidfVectorizer,CountVectorizer,TfidfTransformer\n",
    "from sklearn.model_selection import train_test_split\n",
    "from sklearn.metrics import f1_score,confusion_matrix,accuracy_score\n",
    "from sklearn.ensemble import RandomForestClassifier\n",
    "from sklearn.decomposition import TruncatedSVD\n",
    "\n",
    "from imblearn.over_sampling import ADASYN\n",
    "\n",
    "import warnings\n",
    "\n",
    "%matplotlib inline\n",
    "%pylab inline"
   ]
  },
  {
   "cell_type": "code",
   "execution_count": 15,
   "metadata": {},
   "outputs": [],
   "source": [
    "# conda install -c anaconda gensim\n",
    "# conda install -c conda-forge pyldavis\n",
    "# conda install -c conda-forge imbalanced-learn    (возможно, понадобиться перезапуск ядра!)"
   ]
  },
  {
   "cell_type": "code",
   "execution_count": 3,
   "metadata": {
    "scrolled": true
   },
   "outputs": [
    {
     "name": "stderr",
     "output_type": "stream",
     "text": [
      "201030it [00:47, 4196.51it/s]\n"
     ]
    }
   ],
   "source": [
    "responses = []\n",
    "with bz2.BZ2File('dataNLP/banki_responses.json.bz2', 'r') as thefile:\n",
    "    for row in tqdm(thefile):\n",
    "        resp = json.loads(row)\n",
    "        if not resp['rating_not_checked'] and (len(resp['text'].split()) > 0):\n",
    "            responses.append(resp)"
   ]
  },
  {
   "cell_type": "code",
   "execution_count": 4,
   "metadata": {},
   "outputs": [
    {
     "data": {
      "text/plain": [
       "{'city': 'г. Саратов',\n",
       " 'rating_not_checked': False,\n",
       " 'title': 'Карта ко вкладу',\n",
       " 'num_comments': 0,\n",
       " 'bank_license': 'лицензия № 880',\n",
       " 'author': 'ronnichka',\n",
       " 'bank_name': 'Югра',\n",
       " 'datetime': '2015-06-03 20:56:57',\n",
       " 'text': 'Здравствуйте! Хотела написать, что мне месяц не выдают карту ко вкладу, ссылаясь на \"нам же их из Самары везут\" (на секундочку 5 часов езды от нашего города). Но! Прочитала, что людям 3,5 месяцев не выдают карту, и поняла, что у меня все хорошо, пока что. И подарок мне дали, и кулер в отделении есть. Так что я, конечно, готова ждать. Правда хотелось бы не очень долго.',\n",
       " 'rating_grade': 3}"
      ]
     },
     "execution_count": 4,
     "metadata": {},
     "output_type": "execute_result"
    }
   ],
   "source": [
    "# пример отзыва\n",
    "responses[99]"
   ]
  },
  {
   "cell_type": "code",
   "execution_count": 2,
   "metadata": {},
   "outputs": [],
   "source": [
    "# задаём морфологический анализатор\n",
    "m = Mystem()\n",
    "\n",
    "# Ф-ция токенизации\n",
    "# задаём простой шаблон слова (слова с \"Ё\" или \"ё\" или с дефисом - выпадают из шаблона)\n",
    "regex = re.compile(\"[А-Яа-я]+\")\n",
    "def words_only(text, regex=regex):\n",
    "    try:\n",
    "        return \" \".join(regex.findall(text))\n",
    "    except:\n",
    "        return \"\"\n",
    "\n",
    "# ф-ция разделения текста на токены без стоп-слов\n",
    "mystopwords = stopwords.words('russian') + ['это', 'наш' , 'тыс', 'млн', 'млрд', 'также',  'т', 'д']\n",
    "def  remove_stopwords(text, mystopwords = mystopwords):\n",
    "    try:\n",
    "        return \" \".join([token for token in text.split() if not token in mystopwords])\n",
    "    except:\n",
    "        return \"\"\n",
    "\n",
    "# ф-ция лемматизации\n",
    "def lemmatize(text, mystem=m):\n",
    "    try:\n",
    "        return \"\".join(m.lemmatize(text)).strip()  \n",
    "    except:\n",
    "        return \" \"\n",
    "\n",
    "# ф-ция удаления стоп-лемм\n",
    "mystoplemmas = ['который','прошлый','сей', 'свой', 'наш', 'мочь', 'такой']\n",
    "def  remove_stoplemmas(text, mystoplemmas = mystoplemmas):\n",
    "    try:\n",
    "        return \" \".join([token for token in text.split() if not token in mystoplemmas])\n",
    "    except:\n",
    "        return \"\"\n",
    "\n",
    "# ф-ция для нахождения основы слова (стэмминг)\n",
    "def stemming(text, mystem=m):\n",
    "    try:\n",
    "        return \"\".join(m.lemmatize(text)).strip()\n",
    "    except:\n",
    "        return \" \""
   ]
  },
  {
   "cell_type": "markdown",
   "metadata": {},
   "source": [
    "## 1. Анализ текстов"
   ]
  },
  {
   "cell_type": "markdown",
   "metadata": {},
   "source": [
    "### 1.1 Считаем кол-во отзывов в разных городах и на разные банки"
   ]
  },
  {
   "cell_type": "code",
   "execution_count": null,
   "metadata": {},
   "outputs": [],
   "source": [
    "# переводим загруженные данные в датафрейм\n",
    "resp_matrix = []\n",
    "for resp in responses:\n",
    "    resp_matrix.append([resp['city'],resp['bank_name'],resp['title'],resp['text'],resp['rating_grade']])\n",
    "df = pd.DataFrame(resp_matrix,columns=['city','bank','title','text','rating'])\n",
    "df.head()"
   ]
  },
  {
   "cell_type": "code",
   "execution_count": 3,
   "metadata": {},
   "outputs": [],
   "source": [
    "# подготовим соединение с БД\n",
    "def select(sql):\n",
    "    return pd.read_sql(sql,con)\n",
    "con = sqlite3.connect('dataNLP/HW1.db')"
   ]
  },
  {
   "cell_type": "code",
   "execution_count": 8,
   "metadata": {},
   "outputs": [
    {
     "name": "stdout",
     "output_type": "stream",
     "text": [
      "Wall time: 2.58 s\n"
     ]
    }
   ],
   "source": [
    "%%time\n",
    "# запихнем фрейм в БД\n",
    "df.to_sql('original',con,index=False,if_exists='replace')"
   ]
  },
  {
   "cell_type": "code",
   "execution_count": 3,
   "metadata": {},
   "outputs": [
    {
     "name": "stdout",
     "output_type": "stream",
     "text": [
      "Wall time: 2.5 s\n"
     ]
    }
   ],
   "source": [
    "%%time\n",
    "warnings.filterwarnings(\"ignore\")\n",
    "# выборка из БД\n",
    "sql = '''\n",
    "    SELECT *\n",
    "    FROM original\n",
    "    '''\n",
    "df = select(sql)"
   ]
  },
  {
   "cell_type": "code",
   "execution_count": 10,
   "metadata": {},
   "outputs": [
    {
     "name": "stdout",
     "output_type": "stream",
     "text": [
      "всего отзывов: 153499 , из которых в 138325 указаны города\n"
     ]
    }
   ],
   "source": [
    "print(\"всего отзывов:\",df.shape[0],\", из которых в\", df[~df.city.isnull()].shape[0], \"указаны города\")"
   ]
  },
  {
   "cell_type": "code",
   "execution_count": 4,
   "metadata": {},
   "outputs": [
    {
     "data": {
      "text/plain": [
       "True"
      ]
     },
     "execution_count": 4,
     "metadata": {},
     "output_type": "execute_result"
    }
   ],
   "source": [
    "# проверяем, во всех ли отзывах с городами стоит 'г.'\n",
    "\n",
    "warnings.filterwarnings(\"ignore\")\n",
    "def f(x):\n",
    "    y = ''\n",
    "    if x:\n",
    "        y = re.findall('г\\. ',x)\n",
    "    if y:\n",
    "        return(y[0])\n",
    "    else:\n",
    "        return(np.nan)\n",
    "df['temp'] = df.apply(lambda x: f(x['city']), axis=1)\n",
    "df[~df.temp.isnull()].shape[0] == df[~df.city.isnull()].shape[0]"
   ]
  },
  {
   "cell_type": "code",
   "execution_count": 5,
   "metadata": {},
   "outputs": [],
   "source": [
    "warnings.filterwarnings(\"ignore\")\n",
    "df.drop('temp', axis=1, inplace=True)"
   ]
  },
  {
   "cell_type": "code",
   "execution_count": 6,
   "metadata": {},
   "outputs": [
    {
     "data": {
      "text/html": [
       "<div>\n",
       "<style scoped>\n",
       "    .dataframe tbody tr th:only-of-type {\n",
       "        vertical-align: middle;\n",
       "    }\n",
       "\n",
       "    .dataframe tbody tr th {\n",
       "        vertical-align: top;\n",
       "    }\n",
       "\n",
       "    .dataframe thead th {\n",
       "        text-align: right;\n",
       "    }\n",
       "</style>\n",
       "<table border=\"1\" class=\"dataframe\">\n",
       "  <thead>\n",
       "    <tr style=\"text-align: right;\">\n",
       "      <th></th>\n",
       "      <th>city</th>\n",
       "      <th>bank</th>\n",
       "      <th>title</th>\n",
       "      <th>text</th>\n",
       "      <th>rating</th>\n",
       "    </tr>\n",
       "  </thead>\n",
       "  <tbody>\n",
       "    <tr>\n",
       "      <th>0</th>\n",
       "      <td>Москва</td>\n",
       "      <td>Бинбанк</td>\n",
       "      <td>Жалоба</td>\n",
       "      <td>Добрый день! Я не являюсь клиентом банка и пор...</td>\n",
       "      <td>NaN</td>\n",
       "    </tr>\n",
       "    <tr>\n",
       "      <th>1</th>\n",
       "      <td>Новосибирск</td>\n",
       "      <td>Сбербанк России</td>\n",
       "      <td>Не могу пользоваться услугой Сбербанк он-лайн</td>\n",
       "      <td>Доброго дня! Являюсь держателем зарплатной кар...</td>\n",
       "      <td>NaN</td>\n",
       "    </tr>\n",
       "    <tr>\n",
       "      <th>2</th>\n",
       "      <td>Москва</td>\n",
       "      <td>Бинбанк</td>\n",
       "      <td>Двойное списание за один товар.</td>\n",
       "      <td>Здравствуйте!  Дублирую свое заявление от 03.0...</td>\n",
       "      <td>NaN</td>\n",
       "    </tr>\n",
       "    <tr>\n",
       "      <th>3</th>\n",
       "      <td>Ставрополь</td>\n",
       "      <td>Сбербанк России</td>\n",
       "      <td>Меняют проценты комиссии  не предупредив и не ...</td>\n",
       "      <td>Добрый день!! Я открыл расчетный счет в СберБа...</td>\n",
       "      <td>NaN</td>\n",
       "    </tr>\n",
       "    <tr>\n",
       "      <th>4</th>\n",
       "      <td>Челябинск</td>\n",
       "      <td>ОТП Банк</td>\n",
       "      <td>Верните денежные средства за страховку</td>\n",
       "      <td>04.03.2015 г. взяла кредит в вашем банке, заяв...</td>\n",
       "      <td>NaN</td>\n",
       "    </tr>\n",
       "  </tbody>\n",
       "</table>\n",
       "</div>"
      ],
      "text/plain": [
       "          city             bank  \\\n",
       "0       Москва          Бинбанк   \n",
       "1  Новосибирск  Сбербанк России   \n",
       "2       Москва          Бинбанк   \n",
       "3   Ставрополь  Сбербанк России   \n",
       "4    Челябинск         ОТП Банк   \n",
       "\n",
       "                                               title  \\\n",
       "0                                             Жалоба   \n",
       "1      Не могу пользоваться услугой Сбербанк он-лайн   \n",
       "2                    Двойное списание за один товар.   \n",
       "3  Меняют проценты комиссии  не предупредив и не ...   \n",
       "4             Верните денежные средства за страховку   \n",
       "\n",
       "                                                text  rating  \n",
       "0  Добрый день! Я не являюсь клиентом банка и пор...     NaN  \n",
       "1  Доброго дня! Являюсь держателем зарплатной кар...     NaN  \n",
       "2  Здравствуйте!  Дублирую свое заявление от 03.0...     NaN  \n",
       "3  Добрый день!! Я открыл расчетный счет в СберБа...     NaN  \n",
       "4  04.03.2015 г. взяла кредит в вашем банке, заяв...     NaN  "
      ]
     },
     "execution_count": 6,
     "metadata": {},
     "output_type": "execute_result"
    }
   ],
   "source": [
    "# Уберем все 'г. ' в начале строке-города всех отзывов\n",
    "def f(x):\n",
    "    patt = re.compile(r'^г. ')\n",
    "    if x:\n",
    "        return(patt.sub('',x))\n",
    "    else:\n",
    "        return(np.nan)\n",
    "df['city'] = df.apply(lambda x: f(x['city']), axis=1)\n",
    "df.head()"
   ]
  },
  {
   "cell_type": "code",
   "execution_count": 7,
   "metadata": {},
   "outputs": [],
   "source": [
    "warnings.filterwarnings(\"ignore\")\n",
    "# Пишем ф-цию для извлечения городов, если те присутствуют не в начале поля 'city',\n",
    "# а также обрубание мусора в этом поле (область, край и т.д.), если название города в начале\n",
    "def city_der(el):\n",
    "    y = ''\n",
    "    if el is not np.nan:\n",
    "        m1 = re.match(r' ?- ?', el)\n",
    "        m2 = re.match(r' ?\\.+ ?', el)\n",
    "        if m1 or m2:\n",
    "            el = np.nan\n",
    "    if el is not np.nan:\n",
    "        el = el.strip(' ()')\n",
    "        # case\n",
    "        y1 = re.findall('г\\. [А-Яа-я]+',el)\n",
    "        if y1:\n",
    "            if len(y1)>1:\n",
    "                y1 = [y1[len(y1)-1]]\n",
    "            y = re.sub('г.', '', y1[0])\n",
    "            y = y.strip()\n",
    "        # case  \n",
    "        y9 = re.findall('г\\.[А-Яа-я]+',el)\n",
    "        if y9:\n",
    "            if len(y9)>1:\n",
    "                y9 = [y9[len(y9)-1]]\n",
    "            y = re.sub('г.', '', y9[0])\n",
    "            y = y.strip()\n",
    "        # case\n",
    "        y2 = re.findall(' город [А-Яа-я]+',el)\n",
    "        if y2:\n",
    "            y = re.sub(' город ', '', y2[0])\n",
    "        # case\n",
    "        y3 = re.findall(',город [А-Яа-я]+',el)\n",
    "        if y3:\n",
    "            y = re.sub(',город ', '', y3[0])\n",
    "        # case\n",
    "        y4 = re.findall(' гор [А-Яа-я]+',el)\n",
    "        if y4:\n",
    "            y = re.sub(' гор ', '', y4[0])\n",
    "        # case\n",
    "        y5 = re.findall(',гор [А-Яа-я]+',el)\n",
    "        if y5:\n",
    "            y = re.sub(',гор ', '', y5[0])\n",
    "        # case\n",
    "        y6 = re.findall('гор\\.[А-Яа-я]+',el)\n",
    "        if y6:\n",
    "            y = re.sub('гор\\.', '', y6[0])\n",
    "        # case\n",
    "        y8 = re.findall('г\\.[А-Яа-я]+',el)\n",
    "        if y8:\n",
    "            if len(y8)>1:\n",
    "                y8 = [y8[len(y8)-1]]\n",
    "            y = re.sub('г.', '', y8[0])\n",
    "        # case\n",
    "        y7 = re.findall('г\\.[а-я]\\. [А-Яа-я]+',el)\n",
    "        if y7:\n",
    "            y = re.sub(r'г\\.[а-я]\\.', '', y7[0])\n",
    "            y = y.strip()\n",
    "        if y:\n",
    "            y = y.strip()\n",
    "            return(y.title())\n",
    "        # если же ничего не найдено по шаблонам, обрабатываем непосредственно всю введенную юзером строку\n",
    "        else:\n",
    "            first = el.split()[0].title()\n",
    "            citywords = ['Нижний','Верхний','Старый','Новый','Великий','Малый','Большой','Великие','Ханты','Вышний',\n",
    "                         'Нижняя','Верхняя','Малая','Большая','Старая','Новая','Великие','Нижние','Верхние','Старые',\n",
    "                         'Новые','Малые','Большие','Набережные','Каменск','Западная','Минеральные','Нарьян',\n",
    "                         'Дальнее','Красная','Вятские','Высокая','Белая','Александровск','Усть','Кривой','Сергиев','Павловский','Переславль']\n",
    "            if first in citywords:\n",
    "                try:\n",
    "                    city = first + ' ' + el.split()[1].title()\n",
    "                    if el.split()[1] == '-':\n",
    "                        try:\n",
    "                            city = first + '-' + el.split()[2].title()\n",
    "                        except IndexError:\n",
    "                            a = 1\n",
    "                    city = city.strip(' ,.-')\n",
    "                except IndexError:\n",
    "                    city = first\n",
    "            elif first == 'Комсомольск':\n",
    "                city = 'Комсомольск-на-Амуре'\n",
    "            else:\n",
    "                city = first\n",
    "            return(city.strip(' ,'))\n",
    "    else:\n",
    "        return(np.nan)"
   ]
  },
  {
   "cell_type": "code",
   "execution_count": 16,
   "metadata": {},
   "outputs": [],
   "source": [
    "# Удалим мусор в обработанных городах\n",
    "def trash(el):\n",
    "    if el is not np.nan:\n",
    "        m1 = re.match(r'\\d', el)\n",
    "        m2 = re.match(':', el)\n",
    "        m3 = re.match(';', el)\n",
    "        m4 = re.match('\\?', el)\n",
    "        if m1 or m2 or m3 or m4:\n",
    "            return(np.nan)\n",
    "        else:\n",
    "            if el == 'Санкт' or el == 'Санкт-':\n",
    "                el = 'Санкт-Петербург'\n",
    "            return(el)\n",
    "    else:\n",
    "        return(np.nan)"
   ]
  },
  {
   "cell_type": "code",
   "execution_count": 17,
   "metadata": {},
   "outputs": [
    {
     "data": {
      "text/plain": [
       "'Санкт-Петербург'"
      ]
     },
     "execution_count": 17,
     "metadata": {},
     "output_type": "execute_result"
    }
   ],
   "source": [
    "trash('Санкт-')"
   ]
  },
  {
   "cell_type": "code",
   "execution_count": 18,
   "metadata": {},
   "outputs": [
    {
     "name": "stdout",
     "output_type": "stream",
     "text": [
      "Wall time: 3.32 s\n"
     ]
    }
   ],
   "source": [
    "%%time\n",
    "df['city_upd'] = df.apply(lambda x: city_der(x['city']), axis=1)\n",
    "df['city_upd'] = df.apply(lambda x: trash(x['city_upd']), axis=1)"
   ]
  },
  {
   "cell_type": "code",
   "execution_count": 19,
   "metadata": {},
   "outputs": [
    {
     "name": "stdout",
     "output_type": "stream",
     "text": [
      "до обработки было 5823 уникальных городов, а после обработки осталось 2672\n"
     ]
    }
   ],
   "source": [
    "print(\"до обработки было\",df.city.nunique(),\"уникальных городов, а после обработки осталось\", df.city_upd.nunique())"
   ]
  },
  {
   "cell_type": "code",
   "execution_count": 20,
   "metadata": {},
   "outputs": [
    {
     "data": {
      "text/html": [
       "<div>\n",
       "<style scoped>\n",
       "    .dataframe tbody tr th:only-of-type {\n",
       "        vertical-align: middle;\n",
       "    }\n",
       "\n",
       "    .dataframe tbody tr th {\n",
       "        vertical-align: top;\n",
       "    }\n",
       "\n",
       "    .dataframe thead th {\n",
       "        text-align: right;\n",
       "    }\n",
       "</style>\n",
       "<table border=\"1\" class=\"dataframe\">\n",
       "  <thead>\n",
       "    <tr style=\"text-align: right;\">\n",
       "      <th></th>\n",
       "      <th>city</th>\n",
       "      <th>bank</th>\n",
       "      <th>title</th>\n",
       "      <th>text</th>\n",
       "      <th>rating</th>\n",
       "      <th>city_upd</th>\n",
       "    </tr>\n",
       "  </thead>\n",
       "  <tbody>\n",
       "    <tr>\n",
       "      <th>0</th>\n",
       "      <td>Москва</td>\n",
       "      <td>Бинбанк</td>\n",
       "      <td>Жалоба</td>\n",
       "      <td>Добрый день! Я не являюсь клиентом банка и пор...</td>\n",
       "      <td>NaN</td>\n",
       "      <td>Москва</td>\n",
       "    </tr>\n",
       "    <tr>\n",
       "      <th>1</th>\n",
       "      <td>Новосибирск</td>\n",
       "      <td>Сбербанк России</td>\n",
       "      <td>Не могу пользоваться услугой Сбербанк он-лайн</td>\n",
       "      <td>Доброго дня! Являюсь держателем зарплатной кар...</td>\n",
       "      <td>NaN</td>\n",
       "      <td>Новосибирск</td>\n",
       "    </tr>\n",
       "    <tr>\n",
       "      <th>2</th>\n",
       "      <td>Москва</td>\n",
       "      <td>Бинбанк</td>\n",
       "      <td>Двойное списание за один товар.</td>\n",
       "      <td>Здравствуйте!  Дублирую свое заявление от 03.0...</td>\n",
       "      <td>NaN</td>\n",
       "      <td>Москва</td>\n",
       "    </tr>\n",
       "  </tbody>\n",
       "</table>\n",
       "</div>"
      ],
      "text/plain": [
       "          city             bank  \\\n",
       "0       Москва          Бинбанк   \n",
       "1  Новосибирск  Сбербанк России   \n",
       "2       Москва          Бинбанк   \n",
       "\n",
       "                                           title  \\\n",
       "0                                         Жалоба   \n",
       "1  Не могу пользоваться услугой Сбербанк он-лайн   \n",
       "2                Двойное списание за один товар.   \n",
       "\n",
       "                                                text  rating     city_upd  \n",
       "0  Добрый день! Я не являюсь клиентом банка и пор...     NaN       Москва  \n",
       "1  Доброго дня! Являюсь держателем зарплатной кар...     NaN  Новосибирск  \n",
       "2  Здравствуйте!  Дублирую свое заявление от 03.0...     NaN       Москва  "
      ]
     },
     "execution_count": 20,
     "metadata": {},
     "output_type": "execute_result"
    }
   ],
   "source": [
    "df.head(3)"
   ]
  },
  {
   "cell_type": "code",
   "execution_count": 21,
   "metadata": {
    "scrolled": true
   },
   "outputs": [
    {
     "name": "stdout",
     "output_type": "stream",
     "text": [
      "Нижний Новгород\n",
      "Нижний Тагил\n",
      "Сергиев Посад\n",
      "Набережные Челны\n",
      "Великий Новгород\n",
      "Минеральные Воды\n",
      "Павловский Посад\n",
      "Старый Оскол\n",
      "Великие Луки\n",
      "Новый Уренгой\n",
      "Верхняя Пышма\n",
      "Белая Калитва\n",
      "Старая Русса\n",
      "Красная Сопка\n",
      "Верхние Киги\n",
      "Старая Купавна\n",
      "Нижний Ломов\n",
      "Новый Оскол\n",
      "Малые Дербеты\n",
      "Вышний Волочек\n",
      "Большой Камень\n",
      "Великий Устюг\n",
      "Белая Глина\n",
      "Верхний Уфалей\n",
      "Большой Машляк\n",
      "Верхние Серги\n",
      "Верхняя Салда\n",
      "Красная Поляна\n",
      "Нижняя Салда\n",
      "Новый Шарап\n",
      "Нижняя Тура\n",
      "Новая Адыгея\n",
      "Большой Луг\n",
      "Вятские Поляны\n",
      "Верхний Баскунчак\n",
      "Нижний Новнород\n",
      "Великий Новгород\\Москва\n",
      "Нижний Ногород\n",
      "Кривой Рог\n",
      "Большая Таволожка\n",
      "Усть Лабинск\n",
      "Нижние Серги\n",
      "Нижний Новгород,Бор\n",
      "Старый Окол\n",
      "Нижний Новогород\n",
      "Нижний Новгрод\n",
      "Нижний Овгород\n",
      "Нижний Новгоро\n",
      "Новая Москва\n",
      "Белая Холуница\n",
      "Павловский -Посд\n",
      "Нижний Новгород-Москва\n",
      "Сергиев Посад-7\n",
      "Нижний Уфалей\n",
      "Малые Вяземы\n",
      "Набережные Челны.П.Нефтебаза\n",
      "Сергиев Посад-6\n",
      "Западная Двина\n",
      "Нижний Новгорд\n",
      "Верхняя Тура\n",
      "Каменск -Шахтинский\n",
      "Большие Кайбицы\n"
     ]
    }
   ],
   "source": [
    "# посмотрим теперь на все многословные города после обработки на предмет качества обработки\n",
    "cupd = df.city_upd.unique().tolist()\n",
    "for cit in cupd:\n",
    "    if cit is not np.nan:\n",
    "        if len(cit.split()) > 1:\n",
    "            print(cit)"
   ]
  },
  {
   "cell_type": "markdown",
   "metadata": {},
   "source": [
    "Здесь остановимся, поскольку в оставшемся списке выше всё уже хорошо, за исключением опечаток и неверного ввода\n",
    "\n",
    "Далее посмотрим на столбец 'bank'"
   ]
  },
  {
   "cell_type": "code",
   "execution_count": 202,
   "metadata": {},
   "outputs": [
    {
     "data": {
      "text/html": [
       "<div>\n",
       "<style scoped>\n",
       "    .dataframe tbody tr th:only-of-type {\n",
       "        vertical-align: middle;\n",
       "    }\n",
       "\n",
       "    .dataframe tbody tr th {\n",
       "        vertical-align: top;\n",
       "    }\n",
       "\n",
       "    .dataframe thead th {\n",
       "        text-align: right;\n",
       "    }\n",
       "</style>\n",
       "<table border=\"1\" class=\"dataframe\">\n",
       "  <thead>\n",
       "    <tr style=\"text-align: right;\">\n",
       "      <th></th>\n",
       "      <th>city</th>\n",
       "      <th>bank</th>\n",
       "      <th>title</th>\n",
       "      <th>text</th>\n",
       "      <th>rating</th>\n",
       "      <th>city_upd</th>\n",
       "    </tr>\n",
       "  </thead>\n",
       "  <tbody>\n",
       "    <tr>\n",
       "      <th>0</th>\n",
       "      <td>Москва</td>\n",
       "      <td>Бинбанк</td>\n",
       "      <td>Жалоба</td>\n",
       "      <td>Добрый день! Я не являюсь клиентом банка и пор...</td>\n",
       "      <td>NaN</td>\n",
       "      <td>Москва</td>\n",
       "    </tr>\n",
       "    <tr>\n",
       "      <th>1</th>\n",
       "      <td>Новосибирск</td>\n",
       "      <td>Сбербанк России</td>\n",
       "      <td>Не могу пользоваться услугой Сбербанк он-лайн</td>\n",
       "      <td>Доброго дня! Являюсь держателем зарплатной кар...</td>\n",
       "      <td>NaN</td>\n",
       "      <td>Новосибирск</td>\n",
       "    </tr>\n",
       "    <tr>\n",
       "      <th>2</th>\n",
       "      <td>Москва</td>\n",
       "      <td>Бинбанк</td>\n",
       "      <td>Двойное списание за один товар.</td>\n",
       "      <td>Здравствуйте!  Дублирую свое заявление от 03.0...</td>\n",
       "      <td>NaN</td>\n",
       "      <td>Москва</td>\n",
       "    </tr>\n",
       "    <tr>\n",
       "      <th>3</th>\n",
       "      <td>Ставрополь</td>\n",
       "      <td>Сбербанк России</td>\n",
       "      <td>Меняют проценты комиссии  не предупредив и не ...</td>\n",
       "      <td>Добрый день!! Я открыл расчетный счет в СберБа...</td>\n",
       "      <td>NaN</td>\n",
       "      <td>Ставрополь</td>\n",
       "    </tr>\n",
       "    <tr>\n",
       "      <th>4</th>\n",
       "      <td>Челябинск</td>\n",
       "      <td>ОТП Банк</td>\n",
       "      <td>Верните денежные средства за страховку</td>\n",
       "      <td>04.03.2015 г. взяла кредит в вашем банке, заяв...</td>\n",
       "      <td>NaN</td>\n",
       "      <td>Челябинск</td>\n",
       "    </tr>\n",
       "  </tbody>\n",
       "</table>\n",
       "</div>"
      ],
      "text/plain": [
       "          city             bank  \\\n",
       "0       Москва          Бинбанк   \n",
       "1  Новосибирск  Сбербанк России   \n",
       "2       Москва          Бинбанк   \n",
       "3   Ставрополь  Сбербанк России   \n",
       "4    Челябинск         ОТП Банк   \n",
       "\n",
       "                                               title  \\\n",
       "0                                             Жалоба   \n",
       "1      Не могу пользоваться услугой Сбербанк он-лайн   \n",
       "2                    Двойное списание за один товар.   \n",
       "3  Меняют проценты комиссии  не предупредив и не ...   \n",
       "4             Верните денежные средства за страховку   \n",
       "\n",
       "                                                text  rating     city_upd  \n",
       "0  Добрый день! Я не являюсь клиентом банка и пор...     NaN       Москва  \n",
       "1  Доброго дня! Являюсь держателем зарплатной кар...     NaN  Новосибирск  \n",
       "2  Здравствуйте!  Дублирую свое заявление от 03.0...     NaN       Москва  \n",
       "3  Добрый день!! Я открыл расчетный счет в СберБа...     NaN   Ставрополь  \n",
       "4  04.03.2015 г. взяла кредит в вашем банке, заяв...     NaN    Челябинск  "
      ]
     },
     "execution_count": 202,
     "metadata": {},
     "output_type": "execute_result"
    }
   ],
   "source": [
    "df.head()"
   ]
  },
  {
   "cell_type": "code",
   "execution_count": 22,
   "metadata": {},
   "outputs": [
    {
     "name": "stdout",
     "output_type": "stream",
     "text": [
      "Wall time: 2.51 s\n"
     ]
    }
   ],
   "source": [
    "%%time\n",
    "# запихнем обработанный фрейм в БД\n",
    "df.to_sql('updated',con,index=False,if_exists='replace')"
   ]
  },
  {
   "cell_type": "code",
   "execution_count": 23,
   "metadata": {},
   "outputs": [
    {
     "name": "stdout",
     "output_type": "stream",
     "text": [
      "Wall time: 456 ms\n"
     ]
    }
   ],
   "source": [
    "%%time\n",
    "# выборка из БД с аггрегацией по городам и банкам, где кол-во обращений, скажем, более 500\n",
    "sql = '''\n",
    "    SELECT u.city_upd, u.bank, COUNT(*) AS cnt\n",
    "    FROM updated AS u\n",
    "    GROUP BY u.city_upd, u.bank\n",
    "    HAVING COUNT(*) > 500\n",
    "    ORDER BY COUNT(*) DESC\n",
    "    '''\n",
    "select(sql)"
   ]
  },
  {
   "cell_type": "markdown",
   "metadata": {},
   "source": [
    "### 1.2 Построим гистограммы длин отзывов в символах и в словах"
   ]
  },
  {
   "cell_type": "code",
   "execution_count": 223,
   "metadata": {},
   "outputs": [
    {
     "data": {
      "text/plain": [
       "Text(0.5, 0, 'Length of input in symbols')"
      ]
     },
     "execution_count": 223,
     "metadata": {},
     "output_type": "execute_result"
    },
    {
     "data": {
      "image/png": "[encoded data removed]",
      "text/plain": [
       "<Figure size 432x288 with 1 Axes>"
      ]
     },
     "metadata": {
      "needs_background": "light"
     },
     "output_type": "display_data"
    }
   ],
   "source": [
    "len_txt_sym = df.text.apply(len)\n",
    "length = len_txt_sym[len_txt_sym < 15000].tolist()\n",
    "# Гистограмма длины отзывов в символах\n",
    "plt.hist(length,  bins=10, density=True)\n",
    "plt.ylabel('Number of inputs')\n",
    "plt.xlabel('Length of input in symbols')"
   ]
  },
  {
   "cell_type": "code",
   "execution_count": 225,
   "metadata": {},
   "outputs": [
    {
     "name": "stdout",
     "output_type": "stream",
     "text": [
      "Wall time: 15.9 s\n"
     ]
    },
    {
     "data": {
      "text/plain": [
       "Text(0.5, 0, 'Length of input in words')"
      ]
     },
     "execution_count": 225,
     "metadata": {},
     "output_type": "execute_result"
    },
    {
     "data": {
      "image/png": "[encoded data removed]",
      "text/plain": [
       "<Figure size 432x288 with 1 Axes>"
      ]
     },
     "metadata": {
      "needs_background": "light"
     },
     "output_type": "display_data"
    }
   ],
   "source": [
    "%%time\n",
    "len_txt_wrd = df.apply(lambda x: len(x['text'].split()), axis=1)\n",
    "length = len_txt_wrd[len_txt_wrd < 2000].tolist()\n",
    "# Гистограмма длины отзывов в словах\n",
    "plt.hist(length,  bins=10, density=True)\n",
    "plt.ylabel('Number of inputs')\n",
    "plt.xlabel('Length of input in words')"
   ]
  },
  {
   "cell_type": "markdown",
   "metadata": {},
   "source": [
    "### 1.3 Найдём 10 самых частых: слов; слов без стоп-слов; лемм; существительных"
   ]
  },
  {
   "cell_type": "code",
   "execution_count": 24,
   "metadata": {},
   "outputs": [
    {
     "name": "stdout",
     "output_type": "stream",
     "text": [
      "Wall time: 7.62 s\n"
     ]
    }
   ],
   "source": [
    "%%time\n",
    "# ТОКЕНИЗАЦИЯ (очистит текст от всякого мусора типо html-разметки и т.д.)\n",
    "\n",
    "df.text = df.text.str.lower()\n",
    "df.text = df.text.apply(words_only)"
   ]
  },
  {
   "cell_type": "code",
   "execution_count": 25,
   "metadata": {},
   "outputs": [
    {
     "data": {
      "text/plain": [
       "'добрый день я не являюсь клиентом банка и поручителем по кредитному договору а также не являюсь каки'"
      ]
     },
     "execution_count": 25,
     "metadata": {},
     "output_type": "execute_result"
    }
   ],
   "source": [
    "df.text.iloc[0][:100]"
   ]
  },
  {
   "cell_type": "code",
   "execution_count": 26,
   "metadata": {},
   "outputs": [
    {
     "name": "stdout",
     "output_type": "stream",
     "text": [
      "('в', 1330550)\n",
      "('и', 1058997)\n",
      "('не', 855335)\n",
      "('на', 707935)\n",
      "('что', 640057)\n",
      "('я', 577500)\n",
      "('с', 464037)\n",
      "('по', 372769)\n",
      "('мне', 320958)\n",
      "('банка', 275906)\n",
      "Wall time: 22.5 s\n"
     ]
    }
   ],
   "source": [
    "%%time\n",
    "# САМЫЕ ЧАСТЫЕ СЛОВА\n",
    "\n",
    "n_types = []\n",
    "n_tokens = []\n",
    "tokens = []\n",
    "# задаем объект частотного распределения слов\n",
    "fd = FreqDist()\n",
    "for index, row in df.iterrows():\n",
    "    tokens = row['text'].split()\n",
    "    # обновляем словарь, докладывая в него текущие токены\n",
    "    fd.update(tokens)\n",
    "    if int(index/1000) == index/1000:\n",
    "        # длина словаря и есть число уникальных токенов, т.е. типов\n",
    "        n_types.append(len(fd))\n",
    "        # сложив все частоты, получим число токенов\n",
    "        n_tokens.append(sum(list(fd.values())))\n",
    "for i in fd.most_common(10):\n",
    "    print(i)"
   ]
  },
  {
   "cell_type": "code",
   "execution_count": 28,
   "metadata": {},
   "outputs": [
    {
     "name": "stdout",
     "output_type": "stream",
     "text": [
      "('банка', 275906)\n",
      "('банк', 215426)\n",
      "('деньги', 131201)\n",
      "('карту', 105829)\n",
      "('карты', 101821)\n",
      "('кредит', 81136)\n",
      "('день', 76552)\n",
      "('банке', 72169)\n",
      "('заявление', 70423)\n",
      "('очень', 66824)\n",
      "Wall time: 39.6 s\n"
     ]
    }
   ],
   "source": [
    "%%time\n",
    "# САМЫЕ ЧАСТЫЕ СЛОВА БЕЗ СТОП_СЛОВ\n",
    "\n",
    "# добавляем в набор русскоязычных стоп-слов дополнительные стоп-слова\n",
    "mystopwords = stopwords.words('russian') + ['это', 'наш', 'также', 'т', 'д']\n",
    "df.text = df.text.apply(remove_stopwords)\n",
    "# задаем объект словаря - частотного распределения слов\n",
    "fd = FreqDist()\n",
    "for row in df.text:\n",
    "    tokens = row.split()\n",
    "    # обновляем словарь, докладывая в него текущие токены\n",
    "    fd.update(tokens)\n",
    "for i in fd.most_common(10):\n",
    "    print(i)"
   ]
  },
  {
   "cell_type": "code",
   "execution_count": 29,
   "metadata": {},
   "outputs": [
    {
     "data": {
      "text/plain": [
       "'добрый день являюсь клиентом банка поручителем кредитному договору являюсь каким либо другим лицом п'"
      ]
     },
     "execution_count": 29,
     "metadata": {},
     "output_type": "execute_result"
    }
   ],
   "source": [
    "df.text.iloc[0][:100]"
   ]
  },
  {
   "cell_type": "code",
   "execution_count": 30,
   "metadata": {},
   "outputs": [],
   "source": [
    "# ВДАЛЬНЕЙШЕМ ИЗ-ЗА МЕДЛЕННОГО КОМПЬЮТЕРА ОПЕРИРУЕМ УКОРОЧЕННЫМ ДАТАФРЕЙМОМ\n",
    "data = df.iloc[:10000]"
   ]
  },
  {
   "cell_type": "code",
   "execution_count": 31,
   "metadata": {},
   "outputs": [
    {
     "name": "stdout",
     "output_type": "stream",
     "text": [
      "Wall time: 1h 43min 30s\n"
     ]
    }
   ],
   "source": [
    "%%time\n",
    "#САМЫЕ ЧАСТЫЕ СЛОВА ОТЛЕМАТИЗИРОВАННЫХ ОТЗЫВОВ\n",
    "\n",
    "m = Mystem()\n",
    "# Лемматизируем обновленный текст без стоп-слов\n",
    "data.text = data.text.apply(lemmatize)\n",
    "# Удаляем из отлемматизированного текста стоп-леммы\n",
    "data.text = data.text.apply(remove_stoplemmas)"
   ]
  },
  {
   "cell_type": "code",
   "execution_count": 32,
   "metadata": {},
   "outputs": [
    {
     "name": "stdout",
     "output_type": "stream",
     "text": [
      "('банк', 39028)\n",
      "('карта', 18950)\n",
      "('мой', 10804)\n",
      "('день', 10043)\n",
      "('кредит', 9776)\n",
      "('деньги', 9575)\n",
      "('сотрудник', 9373)\n",
      "('клиент', 7981)\n",
      "('сумма', 6997)\n",
      "('счет', 6974)\n"
     ]
    }
   ],
   "source": [
    "# Посмотрим теперь на частотность слов в тексте после удаления стоп-слов, лемматизации и удаления стоп-лемм, сделанных выше\n",
    "lemmata = []\n",
    "for index, row in data.iterrows():\n",
    "    lemmata += row['text'].split()\n",
    "fd = FreqDist(lemmata)\n",
    "for i in fd.most_common(10):\n",
    "    print(i)"
   ]
  },
  {
   "cell_type": "code",
   "execution_count": 33,
   "metadata": {},
   "outputs": [
    {
     "name": "stdout",
     "output_type": "stream",
     "text": [
      "Wall time: 168 ms\n"
     ]
    }
   ],
   "source": [
    "%%time\n",
    "# поместим обработанный фрейм с отлематизированными отзывами в БД\n",
    "data.to_sql('lemm_short',con,index=False,if_exists='replace')"
   ]
  },
  {
   "cell_type": "code",
   "execution_count": 4,
   "metadata": {},
   "outputs": [
    {
     "name": "stdout",
     "output_type": "stream",
     "text": [
      "Wall time: 227 ms\n"
     ]
    }
   ],
   "source": [
    "%%time\n",
    "warnings.filterwarnings(\"ignore\")\n",
    "# выборка из БД\n",
    "sql = '''\n",
    "    SELECT *\n",
    "    FROM lemm_short\n",
    "    '''\n",
    "df = select(sql)"
   ]
  },
  {
   "cell_type": "code",
   "execution_count": 35,
   "metadata": {},
   "outputs": [
    {
     "name": "stdout",
     "output_type": "stream",
     "text": [
      "('банк', 39028)\n",
      "('карта', 18950)\n",
      "('день', 10043)\n",
      "('кредит', 9776)\n",
      "('деньги', 9575)\n",
      "('сотрудник', 9373)\n",
      "('клиент', 7981)\n",
      "('сумма', 6997)\n",
      "('счет', 6974)\n",
      "('отделение', 6909)\n",
      "Wall time: 2min\n"
     ]
    }
   ],
   "source": [
    "%%time\n",
    "# САМЫЕ ЧАСТЫЕ СЛОВА-СУЩЕСТВИТЕЛЬНЫЕ\n",
    "\n",
    "m = MorphAnalyzer()\n",
    "nouns = []\n",
    "for index, row in df.iterrows():\n",
    "    #if int(index/1000) == index/1000:\n",
    "    #    print(index)\n",
    "    for token in row['text'].split():\n",
    "        try:\n",
    "            gr = m.parse(token)[0].tag\n",
    "            if 'NOUN' in gr:\n",
    "                # обновляем словарь, докладывая в него текущий токен, если он является существительным\n",
    "                nouns.append(token)\n",
    "        except:\n",
    "            a = 1\n",
    "fd_s = FreqDist(nouns)\n",
    "for i in fd_s.most_common(10):\n",
    "    print(i)"
   ]
  },
  {
   "cell_type": "markdown",
   "metadata": {},
   "source": [
    "### 1.4 Построем кривую Хипса - основной критерий проверки естественной природы отзывов"
   ]
  },
  {
   "cell_type": "code",
   "execution_count": 22,
   "metadata": {},
   "outputs": [
    {
     "data": {
      "image/png": "[encoded data removed]",
      "text/plain": [
       "<Figure size 720x720 with 1 Axes>"
      ]
     },
     "metadata": {
      "needs_background": "light"
     },
     "output_type": "display_data"
    }
   ],
   "source": [
    "# Строим кривую Хипса и убеждаемся, что она монотонно возрастает\n",
    "plt.figure(figsize=(10,10))\n",
    "plt.plot(n_types, n_tokens, label='Кривая Хипса')\n",
    "\n",
    "plt.xlabel('Число уникальных токенов')\n",
    "plt.ylabel('Число всех токенов')\n",
    "plt.legend()\n",
    "plt.show()"
   ]
  },
  {
   "cell_type": "markdown",
   "metadata": {},
   "source": [
    "### 1.5 Примеры простейшего частотного анализа:"
   ]
  },
  {
   "cell_type": "code",
   "execution_count": 32,
   "metadata": {},
   "outputs": [
    {
     "name": "stdout",
     "output_type": "stream",
     "text": [
      "частота встречаемости слова \"сотрудник\": 9373 , а слова \"клиент\": 7981\n",
      "частота встречаемости слова \"мошенничество\": 221 , а слова \"доверие\": 152\n"
     ]
    }
   ],
   "source": [
    "print('частота встречаемости слова \"сотрудник\":',fd_s['сотрудник'], ', а слова \"клиент\":',fd_s['клиент'])\n",
    "print('частота встречаемости слова \"мошенничество\":',fd_s['мошенничество'], ', а слова \"доверие\":',fd_s['доверие'])"
   ]
  },
  {
   "cell_type": "markdown",
   "metadata": {},
   "source": [
    "### 1.6  Найдём ключевые слова и биграмы для отзывов с оценкой 5 и с оценкой 1\n",
    "    * Используем меру $tf-idf$"
   ]
  },
  {
   "cell_type": "code",
   "execution_count": 130,
   "metadata": {},
   "outputs": [
    {
     "name": "stdout",
     "output_type": "stream",
     "text": [
      "Wall time: 9.67 s\n"
     ]
    },
    {
     "data": {
      "text/html": [
       "<div>\n",
       "<style scoped>\n",
       "    .dataframe tbody tr th:only-of-type {\n",
       "        vertical-align: middle;\n",
       "    }\n",
       "\n",
       "    .dataframe tbody tr th {\n",
       "        vertical-align: top;\n",
       "    }\n",
       "\n",
       "    .dataframe thead th {\n",
       "        text-align: right;\n",
       "    }\n",
       "</style>\n",
       "<table border=\"1\" class=\"dataframe\">\n",
       "  <thead>\n",
       "    <tr style=\"text-align: right;\">\n",
       "      <th></th>\n",
       "      <th>words_rating_1</th>\n",
       "      <th>bigrams_rating_1</th>\n",
       "      <th>words_rating_5</th>\n",
       "      <th>bigrams_rating_5</th>\n",
       "    </tr>\n",
       "  </thead>\n",
       "  <tbody>\n",
       "    <tr>\n",
       "      <th>0</th>\n",
       "      <td>банк</td>\n",
       "      <td>сотрудник банк</td>\n",
       "      <td>банк</td>\n",
       "      <td>интернет банк</td>\n",
       "    </tr>\n",
       "    <tr>\n",
       "      <th>1</th>\n",
       "      <td>карта</td>\n",
       "      <td>денежный средство</td>\n",
       "      <td>карта</td>\n",
       "      <td>кредитный карта</td>\n",
       "    </tr>\n",
       "    <tr>\n",
       "      <th>2</th>\n",
       "      <td>сотрудник</td>\n",
       "      <td>горячий линия</td>\n",
       "      <td>сотрудник</td>\n",
       "      <td>сотрудник банк</td>\n",
       "    </tr>\n",
       "    <tr>\n",
       "      <th>3</th>\n",
       "      <td>день</td>\n",
       "      <td>отделение банк</td>\n",
       "      <td>очень</td>\n",
       "      <td>другой банк</td>\n",
       "    </tr>\n",
       "    <tr>\n",
       "      <th>4</th>\n",
       "      <td>мой</td>\n",
       "      <td>кредитный карта</td>\n",
       "      <td>день</td>\n",
       "      <td>дебетовый карта</td>\n",
       "    </tr>\n",
       "    <tr>\n",
       "      <th>5</th>\n",
       "      <td>деньги</td>\n",
       "      <td>написать заявление</td>\n",
       "      <td>мой</td>\n",
       "      <td>клиент банк</td>\n",
       "    </tr>\n",
       "    <tr>\n",
       "      <th>6</th>\n",
       "      <td>отделение</td>\n",
       "      <td>ваш банк</td>\n",
       "      <td>клиент</td>\n",
       "      <td>отделение банк</td>\n",
       "    </tr>\n",
       "    <tr>\n",
       "      <th>7</th>\n",
       "      <td>кредит</td>\n",
       "      <td>колл центр</td>\n",
       "      <td>вклад</td>\n",
       "      <td>открывать вклад</td>\n",
       "    </tr>\n",
       "    <tr>\n",
       "      <th>8</th>\n",
       "      <td>счет</td>\n",
       "      <td>интернет банк</td>\n",
       "      <td>отделение</td>\n",
       "      <td>альфа банк</td>\n",
       "    </tr>\n",
       "    <tr>\n",
       "      <th>9</th>\n",
       "      <td>сказать</td>\n",
       "      <td>рабочий день</td>\n",
       "      <td>деньги</td>\n",
       "      <td>следующий день</td>\n",
       "    </tr>\n",
       "  </tbody>\n",
       "</table>\n",
       "</div>"
      ],
      "text/plain": [
       "  words_rating_1    bigrams_rating_1 words_rating_5 bigrams_rating_5\n",
       "0           банк      сотрудник банк           банк    интернет банк\n",
       "1          карта   денежный средство          карта  кредитный карта\n",
       "2      сотрудник       горячий линия      сотрудник   сотрудник банк\n",
       "3           день      отделение банк          очень      другой банк\n",
       "4            мой     кредитный карта           день  дебетовый карта\n",
       "5         деньги  написать заявление            мой      клиент банк\n",
       "6      отделение            ваш банк         клиент   отделение банк\n",
       "7         кредит          колл центр          вклад  открывать вклад\n",
       "8           счет       интернет банк      отделение       альфа банк\n",
       "9        сказать        рабочий день         деньги   следующий день"
      ]
     },
     "execution_count": 130,
     "metadata": {},
     "output_type": "execute_result"
    }
   ],
   "source": [
    "%%time\n",
    "# пар-ры: ngram_range=(1,1) - диапазон того, что мы считаем словом для векторного пр-ва,\n",
    "# (1,1) - в м-це будут лишь слова, (1,2) - слова и все возможные пары слов, (2,3) - все возм. пары слов и тройки слов\n",
    "# max_df - макс. документная частота в долях (можно выкинуть слова, встреч-ся в док-тах более чем в указ. доле случаев)\n",
    "# min_df - мин. документная частота в абс. знач. (можно выкинуть слова, встреч-ся менее чем в указ. кол-ве док-тов)\n",
    "\n",
    "rankings = pd.DataFrame(columns=['words_rating_1','bigrams_rating_1','words_rating_5','bigrams_rating_5'])\n",
    "\n",
    "def ranking(ng,rating):\n",
    "    tfidf = TfidfVectorizer(analyzer='word', ngram_range=(ng,ng), min_df=0)\n",
    "    # тренируемся на списке отзывов с оценкой 'rating', сведенных в единый текст\n",
    "    # результат - векторное TF-IDF представление этого сводного текста\n",
    "    reviews = ''\n",
    "    for review in df[df['rating'] == rating].text.tolist():\n",
    "        reviews += review\n",
    "    tfidf_matrix = tfidf.fit_transform([reviews])\n",
    "    feature_names = tfidf.get_feature_names()\n",
    "    dense = tfidf_matrix.todense()\n",
    "    tfidf_ranking = []\n",
    "\n",
    "    text = dense[0].tolist()[0]\n",
    "    phrase_scores = [pair for pair in zip(range(0,len(text)),text) if pair[1]>0]\n",
    "    sorted_phrase_scores = sorted(phrase_scores, key=lambda t: t[1] * -1)\n",
    "    phrases = []\n",
    "    for phrase, score in [(feature_names[word_id], score) for (word_id,score) in sorted_phrase_scores]:\n",
    "        tfidf_ranking.append(phrase)\n",
    "    return tfidf_ranking[:10]\n",
    "\n",
    "rankings['words_rating_1'] = ranking(1,1)\n",
    "rankings['bigrams_rating_1'] = ranking(2,1)\n",
    "rankings['words_rating_5'] = ranking(1,5)\n",
    "rankings['bigrams_rating_5'] = ranking(2,5)\n",
    "rankings"
   ]
  },
  {
   "cell_type": "markdown",
   "metadata": {},
   "source": [
    "## 2. Тематическое моделирование"
   ]
  },
  {
   "cell_type": "markdown",
   "metadata": {},
   "source": [
    "### 2.1 Построим несколько тематических моделей коллекции документов с разным числом тем. \n",
    "Выделим в конце понятные (интерпретируемые) темы"
   ]
  },
  {
   "cell_type": "code",
   "execution_count": 135,
   "metadata": {},
   "outputs": [
    {
     "name": "stdout",
     "output_type": "stream",
     "text": [
      "Wall time: 4min 10s\n"
     ]
    }
   ],
   "source": [
    "%%time\n",
    "# разбиваем всю коллекцию отзывов на слова\n",
    "texts = [df.text.iloc[i].split() for i in range(len(df))]\n",
    "# создаем словарь из всех текстов\n",
    "dictionary = corpora.Dictionary(texts)\n",
    "# создаём корпус текстов в векторном виде, на базе созданного выше словаря\n",
    "corpus = [dictionary.doc2bow(text) for text in texts]\n",
    "# создаём из корпуса текстов корпус в виде tf-idf \n",
    "tfidf = models.TfidfModel(corpus)\n",
    "corpus_tfidf = tfidf[corpus]\n",
    "# Cоздаём новый объект 'MatrixSimilarity' для подсчета в нём близости док-тов\n",
    "index = similarities.MatrixSimilarity(corpus_tfidf)\n",
    "# вычисляем косинусные расстояния между док-тами в корпусе (попарно)\n",
    "sims = index[corpus_tfidf]"
   ]
  },
  {
   "cell_type": "code",
   "execution_count": 154,
   "metadata": {},
   "outputs": [
    {
     "name": "stdout",
     "output_type": "stream",
     "text": [
      "[[(0, 3), (1, 3), (2, 1), (3, 1), (4, 1), (5, 1), (6, 1), (7, 1), (8, 1), (9, 1), (10, 1), (11, 2), (12, 1), (13, 1), (14, 1), (15, 3), (16, 1), (17, 2), (18, 1), (19, 1), (20, 1), (21, 1), (22, 1), (23, 4), (24, 1), (25, 1), (26, 1), (27, 1), (28, 2), (29, 1), (30, 1), (31, 1), (32, 1), (33, 1), (34, 1), (35, 2), (36, 1), (37, 1), (38, 1), (39, 1), (40, 2), (41, 1), (42, 1), (43, 1), (44, 1), (45, 2), (46, 1), (47, 2), (48, 1), (49, 1), (50, 1), (51, 1), (52, 1), (53, 4), (54, 1), (55, 1), (56, 1), (57, 2), (58, 2), (59, 1), (60, 1), (61, 1), (62, 1), (63, 1), (64, 1), (65, 1), (66, 1), (67, 3), (68, 2), (69, 1), (70, 1), (71, 1), (72, 1), (73, 3), (74, 1), (75, 1), (76, 1), (77, 1), (78, 1), (79, 1), (80, 1), (81, 1), (82, 1), (83, 1), (84, 1), (85, 1), (86, 1), (87, 1), (88, 1), (89, 1), (90, 1), (91, 1), (92, 1), (93, 1), (94, 1), (95, 1), (96, 1), (97, 1), (98, 1), (99, 1), (100, 2), (101, 1), (102, 1), (103, 1), (104, 1), (105, 1), (106, 1), (107, 1), (108, 1), (109, 1), (110, 1), (111, 2)]]\n",
      "адрес\n"
     ]
    }
   ],
   "source": [
    "# здесь для отзыва №0 вывод пар (id слова, кол-во встречаемости слова в документе)\n",
    "print(corpus[:1])\n",
    "# посмотреть, что за слово с id=0 можно так:\n",
    "print(dictionary[0])"
   ]
  },
  {
   "cell_type": "code",
   "execution_count": 156,
   "metadata": {},
   "outputs": [
    {
     "name": "stdout",
     "output_type": "stream",
     "text": [
      "адрес : 3\n",
      "банк : 3\n",
      "бесконечный : 1\n",
      "бояться : 1\n",
      "быть : 1\n",
      "ваш : 1\n",
      "весь : 1\n",
      "взять : 1\n",
      "владимирович : 1\n",
      "возбуждение : 1\n",
      "возмещение : 1\n",
      "вопрос : 2\n",
      "вред : 1\n",
      "вынужденный : 1\n",
      "вышеуказанный : 1\n",
      "год : 3\n",
      "город : 1\n",
      "гражданин : 2\n",
      "гражданский : 1\n",
      "данные : 1\n",
      "дело : 1\n",
      "день : 1\n",
      "добрый : 1\n",
      "договор : 4\n",
      "документ : 1\n",
      "должный : 1\n",
      "дом : 1\n",
      "доставлять : 1\n",
      "другой : 2\n",
      "жалоба : 1\n",
      "заверять : 1\n",
      "задолженность : 1\n",
      "закон : 1\n",
      "зарегистрировать : 1\n",
      "защита : 1\n",
      "заявление : 2\n",
      "знакомый : 1\n",
      "иметь : 1\n",
      "имущество : 1\n",
      "имя : 1\n",
      "какой : 2\n",
      "квартира : 1\n",
      "клиент : 1\n",
      "коллект : 1\n",
      "кредит : 1\n",
      "кредитный : 2\n",
      "кроме : 1\n",
      "либо : 2\n",
      "лицо : 1\n",
      "марта : 1\n",
      "меньший : 1\n",
      "мера : 1\n",
      "милость : 1\n",
      "мой : 4\n",
      "моральный : 1\n",
      "москва : 1\n",
      "надеяться : 1\n",
      "нарушать : 2\n",
      "начинать : 2\n",
      "неудобство : 1\n",
      "образ : 1\n",
      "обращаться : 1\n",
      "омбудсмен : 1\n",
      "ооо : 1\n",
      "орган : 1\n",
      "ответственность : 1\n",
      "отклонение : 1\n",
      "отношение : 3\n",
      "оформлять : 2\n",
      "переживать : 1\n",
      "переулок : 1\n",
      "персональный : 1\n",
      "письменно : 1\n",
      "письмо : 3\n",
      "повод : 1\n",
      "подавать : 1\n",
      "подлинность : 1\n",
      "полиция : 1\n",
      "понятно : 1\n",
      "поручитель : 1\n",
      "посылать : 1\n",
      "почему : 1\n",
      "право : 1\n",
      "прекращать : 1\n",
      "претензия : 1\n",
      "примо : 1\n",
      "приходить : 1\n",
      "причинять : 1\n",
      "просить : 1\n",
      "разыскивать : 1\n",
      "решение : 1\n",
      "росспотребнадзор : 1\n",
      "серьезный : 1\n",
      "скорый : 1\n",
      "служба : 1\n",
      "случай : 1\n",
      "суд : 1\n",
      "убедительно : 1\n",
      "уваровский : 1\n",
      "уголовный : 1\n",
      "угроза : 2\n",
      "удостоверяться : 1\n",
      "уклоняться : 1\n",
      "уплата : 1\n",
      "урегулирование : 1\n",
      "филиппов : 1\n",
      "финансовый : 1\n",
      "хотеть : 1\n",
      "центральный : 1\n",
      "чей : 1\n",
      "эдуард : 1\n",
      "являться : 2\n"
     ]
    }
   ],
   "source": [
    "# Удобочитаемая форма самого корпуса отзывов (воводим для отзыва №0)\n",
    "for cp in corpus[:1]:\n",
    "    for id,freq in cp:\n",
    "        print(dictionary[id],':',freq)"
   ]
  },
  {
   "cell_type": "code",
   "execution_count": 177,
   "metadata": {},
   "outputs": [
    {
     "name": "stdout",
     "output_type": "stream",
     "text": [
      "[(0, '0.478*\"сбербанк\" + 0.070*\"онлайн\" + 0.043*\"россия\" + 0.027*\"сбер\" + 0.022*\"оплачивать\" + 0.020*\"квитанция\" + 0.016*\"оплата\" + 0.014*\"платеж\" + 0.012*\"реквизит\" + 0.008*\"оао\"'), (5, '0.031*\"сказать\" + 0.016*\"говорить\" + 0.015*\"приходить\" + 0.014*\"позвонить\" + 0.013*\"звонить\" + 0.012*\"девушка\" + 0.010*\"банк\" + 0.010*\"отвечать\" + 0.009*\"день\" + 0.009*\"спрашивать\"'), (6, '0.050*\"банк\" + 0.023*\"клиент\" + 0.015*\"очень\" + 0.009*\"время\" + 0.009*\"вопрос\" + 0.008*\"работа\" + 0.007*\"год\" + 0.006*\"отзыв\" + 0.006*\"проблема\" + 0.006*\"решать\"')]\n",
      "\n",
      "Coherence Score:  0.43910185924348333\n",
      "Wall time: 5min 44s\n"
     ]
    }
   ],
   "source": [
    "%%time\n",
    "# Хорошее руководство: https://webdevblog.ru/tematicheskoe-modelirovanie-s-pomoshhju-gensim-python/\n",
    "## задаем LDA модель, число тем = 'num_topics'\n",
    "# alpha, eta - пар-ры распределений, влияющие на разреженность тем, \n",
    "# passes - общее количество проходов обучения\n",
    "# corpus - векторное представление коллекции док-тов\n",
    "lda = models.LdaModel(corpus=corpus, id2word=dictionary, num_topics=20,\n",
    "                        alpha='auto', eta='auto', iterations = 20, passes = 15)\n",
    "# показываем составляющие для первых 3 тем\n",
    "print(lda.show_topics(3))\n",
    "# Вычисляем согласованность тем (Coherence Score)\n",
    "coherence_model_lda = CoherenceModel(model=lda, texts=texts, dictionary=dictionary, coherence='c_v')\n",
    "coherence_lda = coherence_model_lda.get_coherence()\n",
    "print('\\nCoherence Score: ', coherence_lda)"
   ]
  },
  {
   "cell_type": "code",
   "execution_count": 158,
   "metadata": {},
   "outputs": [],
   "source": [
    "# вывод всех тем по порядку, не по значимомсти\n",
    "# lda.print_topics()"
   ]
  },
  {
   "cell_type": "code",
   "execution_count": 164,
   "metadata": {},
   "outputs": [
    {
     "data": {
      "text/html": [
       "\n",
       "<link rel=\"stylesheet\" type=\"text/css\" href=\"https://cdn.jsdelivr.net/gh/bmabey/pyLDAvis@3.3.1/pyLDAvis/js/ldavis.v1.0.0.css\">\n",
       "\n",
       "\n",
       "<div id=\"ldavis_el77125467921312467012970\"></div>\n",
       "<script type=\"text/javascript\">\n",
       "\n",
       "var ldavis_el77125467921312467012970_data = {\"mdsDat\": {\"x\": [0.047496029136617844, 0.11934860020884856, -0.07793174566140249, 0.05200178502198336, -0.14091466870604716], \"y\": [0.05382223859154604, -0.0064445060345992705, -0.14074505519516822, 0.002079229879769678, 0.09128809275845187], \"topics\": [1, 2, 3, 4, 5], \"cluster\": [1, 1, 1, 1, 1], \"Freq\": [25.92285516692475, 23.141909560006496, 17.663852288027584, 17.549275208379047, 15.722107776662117]}, \"tinfo\": {\"Term\": [\"\\u043a\\u0430\\u0440\\u0442\\u0430\", \"\\u043a\\u0440\\u0435\\u0434\\u0438\\u0442\", \"\\u0432\\u043a\\u043b\\u0430\\u0434\", \"\\u0434\\u0435\\u043d\\u044c\\u0433\\u0438\", \"\\u0437\\u0432\\u043e\\u043d\\u043e\\u043a\", \"\\u0434\\u043e\\u0433\\u043e\\u0432\\u043e\\u0440\", \"\\u0441\\u0440\\u0435\\u0434\\u0441\\u0442\\u0432\\u043e\", \"\\u043d\\u043e\\u043c\\u0435\\u0440\", \"\\u0441\\u0447\\u0435\\u0442\", \"\\u0434\\u0435\\u043d\\u0435\\u0436\\u043d\\u044b\\u0439\", \"\\u0437\\u0432\\u043e\\u043d\\u0438\\u0442\\u044c\", \"\\u0441\\u0443\\u043c\\u043c\\u0430\", \"\\u0442\\u0435\\u043b\\u0435\\u0444\\u043e\\u043d\", \"\\u0431\\u0430\\u043d\\u043a\\u043e\\u043c\\u0430\\u0442\", \"\\u0433\", \"\\u0441\\u0442\\u0440\\u0430\\u0445\\u043e\\u0432\\u043a\\u0430\", \"\\u0432\\u0430\\u0448\", \"\\u0437\\u0430\\u044f\\u0432\\u043a\\u0430\", \"\\u0437\\u0430\\u0434\\u043e\\u043b\\u0436\\u0435\\u043d\\u043d\\u043e\\u0441\\u0442\\u044c\", \"\\u0441\\u043e\\u0442\\u0440\\u0443\\u0434\\u043d\\u0438\\u043a\", \"\\u0440\\u0443\\u0431\\u043b\\u044c\", \"\\u043e\\u043f\\u0435\\u0440\\u0430\\u0446\\u0438\\u044f\", \"\\u0441\\u043a\\u0430\\u0437\\u0430\\u0442\\u044c\", \"\\u0434\\u043e\\u043a\\u0443\\u043c\\u0435\\u043d\\u0442\", \"\\u0443\\u0441\\u043b\\u043e\\u0432\\u0438\\u0435\", \"\\u043f\\u043b\\u0430\\u0442\\u0435\\u0436\", \"\\u0434\\u043e\\u043b\\u0433\", \"\\u0437\\u0430\\u044f\\u0432\\u043b\\u0435\\u043d\\u0438\\u0435\", \"\\u043e\\u0444\\u0438\\u0441\", \"\\u043c\\u043e\\u0439\", \"\\u043a\\u0438\\u0432\\u0438\", \"\\u0430\\u0432\\u0442\\u043e\\u0440\\u0438\\u0437\\u0430\\u0446\\u0438\\u044f\", \"\\u0438\\u0437\\u043b\\u0438\\u0448\\u0435\\u043a\", \"\\u0440\\u043e\\u043a\\u0435\\u0442\\u0431\\u0430\\u043d\\u043a\", \"\\u043a\\u043e\\u0448\\u0435\\u043b\\u0435\\u043a\", \"\\u0437\\u0430\\u0436\\u0435\\u0432\\u0430\\u0442\\u044c\", \"\\u044d\\u043b\\u0435\\u043a\\u0441\\u043d\\u044f\\u0442\\u044c\", \"\\u0440\\u0430\\u0441\\u043f\\u043e\\u0437\\u043d\\u0430\\u0432\\u0430\\u0442\\u044c\", \"\\u0432\\u044b\\u043f\\u043b\\u044e\\u043d\\u0443\\u0442\\u044c\", \"\\u0442\\u0438\\u043a\\u0435\\u0442\", \"\\u044f\\u0434\", \"\\u0447\\u0435\\u043a\\u0430\", \"\\u043a\\u0443\\u043f\\u044e\\u0440\\u043e\\u043f\\u0440\\u0438\\u0435\\u043c\\u043d\\u0438\\u043a\", \"\\u043e\\u0431\\u0440\\u0430\\u0431\\u0430\\u0442\\u044b\\u0432\\u0430\\u0442\\u044c\\u0441\\u044f\", \"\\u043a\\u0430\\u043d\\u0430\\u0434\\u0441\\u043a\\u0438\\u0439\", \"\\u043a\\u0432\\u0430\\u0440\\u0442\\u043f\\u043b\\u0430\\u0442\\u0430\", \"\\u0434\\u0432\\u043e\\u0439\\u043d\\u043e\\u0439\", \"\\u043f\\u0440\\u043e\\u0433\\u043b\\u0430\\u0442\\u044b\\u0432\\u0430\\u0442\\u044c\", \"\\u043a\\u043e\\u0448\\u0435\\u0442\\u044c\", \"\\u0440\\u0430\\u0437\\u0431\\u043b\\u043e\\u043a\\u0438\\u0440\\u043e\\u0432\\u0430\\u0442\\u044c\\u0441\\u044f\", \"\\u043f\\u0435\\u0440\\u0435\\u0432\", \"\\u043a\\u0443\\u0440\\u0441\\u043e\\u0432\\u043e\\u0439\", \"\\u0430\\u0442\\u043c\\u0430\", \"\\u0437\\u0430\\u0441\\u0442\\u0440\\u0435\\u0432\\u0430\\u0442\\u044c\", \"\\u0430\\u043a\", \"\\u0432\\u043e\\u0440\\u043e\\u0432\\u0441\\u0442\\u0432\\u043e\", \"\\u043e\\u0432\\u0435\\u0440\\u0434\\u0440\\u0430\\u0444\\u0442\", \"\\u0431\\u0430\\u043b\\u0430\\u043d\\u0441\", \"\\u0431\\u0430\\u0440\\u0441\", \"\\u0431\\u0435\\u043a\", \"\\u044f\\u043d\\u0434\\u0435\\u043a\\u0441\", \"\\u0431\\u0438\\u043b\\u0430\\u0439\\u043d\", \"\\u0431\\u0430\\u043d\\u043a\\u043e\\u043c\\u0430\\u0442\", \"\\u043a\\u043e\\u043d\\u0432\\u0435\\u0440\\u0442\\u0430\\u0446\\u0438\\u044f\", \"\\u0447\\u0435\\u043a\", \"\\u0437\\u0430\\u043c\\u043e\\u0440\\u0430\\u0436\\u0438\\u0432\\u0430\\u0442\\u044c\", \"\\u0442\\u0435\\u0440\\u043c\\u0438\\u043d\\u0430\\u043b\", \"\\u0438\\u043d\\u043a\\u0430\\u0441\\u0441\\u0430\\u0446\\u0438\\u044f\", \"\\u0437\\u0430\\u0447\\u0438\\u0441\\u043b\\u044f\\u0442\\u044c\\u0441\\u044f\", \"\\u0437\\u0430\\u0431\\u043b\\u043e\\u043a\\u0438\\u0440\\u043e\\u0432\\u0430\\u0442\\u044c\", \"\\u0441\\u043f\\u0438\\u0441\\u044b\\u0432\\u0430\\u0442\\u044c\\u0441\\u044f\", \"\\u0441\\u0431\\u043e\\u0439\", \"\\u0437\\u0430\\u0447\\u0438\\u0441\\u043b\\u044f\\u0442\\u044c\", \"\\u0434\\u0435\\u043d\\u044c\\u0433\\u0438\", \"\\u0441\\u043d\\u0438\\u043c\\u0430\\u0442\\u044c\", \"\\u0443\\u043a\\u0440\\u0430\\u0441\\u0442\\u044c\", \"\\u043c\\u0442\\u0441\", \"\\u0441\\u043f\\u0438\\u0441\\u044b\\u0432\\u0430\\u0442\\u044c\", \"\\u043f\\u0435\\u0440\\u0435\\u0432\\u043e\\u0434\\u0438\\u0442\\u044c\", \"\\u043a\\u043e\\u043c\\u0438\\u0441\\u0441\\u0438\\u044f\", \"\\u043f\\u0435\\u0440\\u0435\\u0432\\u043e\\u0434\", \"\\u043f\\u043e\\u0434\\u0434\\u0435\\u0440\\u0436\\u043a\\u0430\", \"\\u043e\\u043f\\u0435\\u0440\\u0430\\u0446\\u0438\\u044f\", \"\\u0441\\u043c\\u0441\", \"\\u0441\\u043f\\u0438\\u0441\\u0430\\u043d\\u0438\\u0435\", \"\\u0440\\u0443\\u0431\\u043b\\u044c\", \"\\u0442\\u0435\\u0445\\u043d\\u0438\\u0447\\u0435\\u0441\\u043a\\u0438\\u0439\", \"\\u043a\\u0430\\u0440\\u0442\\u0430\", \"\\u0441\\u043d\\u044f\\u0442\\u0438\\u0435\", \"\\u0441\\u0447\\u0435\\u0442\", \"\\u0435\\u0432\\u0440\\u043e\", \"\\u043e\\u043f\\u0435\\u0440\\u0430\\u0442\\u043e\\u0440\", \"\\u0432\\u0435\\u0440\\u043d\\u0443\\u0442\\u044c\", \"\\u0434\\u0435\\u043d\\u044c\", \"\\u0441\\u0431\\u0435\\u0440\\u0431\\u0430\\u043d\\u043a\", \"\\u043f\\u0440\\u0438\\u0445\\u043e\\u0434\\u0438\\u0442\\u044c\", \"\\u0440\\u0443\\u0431\", \"\\u0441\\u043b\\u0443\\u0436\\u0431\\u0430\", \"\\u0441\\u0443\\u043c\\u043c\\u0430\", \"\\u0431\\u0430\\u043d\\u043a\", \"\\u043f\\u0440\\u043e\\u0445\\u043e\\u0434\\u0438\\u0442\\u044c\", \"\\u043d\\u0430\\u043f\\u0438\\u0441\\u0430\\u0442\\u044c\", \"\\u0441\\u0440\\u0435\\u0434\\u0441\\u0442\\u0432\\u043e\", \"\\u043f\\u0440\\u043e\\u0431\\u043b\\u0435\\u043c\\u0430\", \"\\u043f\\u043b\\u0430\\u0442\\u0435\\u0436\", \"\\u043c\\u043e\\u0439\", \"\\u0441\\u043a\\u0430\\u0437\\u0430\\u0442\\u044c\", \"\\u0437\\u0430\\u044f\\u0432\\u043b\\u0435\\u043d\\u0438\\u0435\", \"\\u043e\\u0442\\u0432\\u0435\\u0442\", \"\\u043f\\u043e\\u0437\\u0432\\u043e\\u043d\\u0438\\u0442\\u044c\", \"\\u043f\\u043e\\u0447\\u0435\\u043c\\u0443\", \"\\u043f\\u043e\\u043b\\u0443\\u0447\\u0430\\u0442\\u044c\", \"\\u043c\\u0435\\u0441\\u044f\\u0446\", \"\\u043e\\u0442\\u0434\\u0435\\u043b\\u0435\\u043d\\u0438\\u0435\", \"\\u0432\\u043e\\u043f\\u0440\\u043e\\u0441\", \"\\u043c\\u0438\\u043b\\u044f\", \"\\u043a\\u0430\\u0447\\u0435\\u0441\\u0442\\u0432\\u0435\\u043d\\u043d\\u044b\\u0439\", \"\\u0431\\u043e\\u043d\\u0443\\u0441\\u043d\\u044b\\u0439\", \"\\u0434\\u0438\\u0437\\u0430\\u0439\\u043d\", \"\\u0431\\u043b\\u0430\\u0433\\u043e\\u0434\\u0430\\u0440\\u043d\\u043e\\u0441\\u0442\\u044c\", \"\\u0430\\u0442\\u043c\\u043e\\u0441\\u0444\\u0435\\u0440\\u0430\", \"\\u0431\\u0430\\u043b\\u043b\", \"\\u043f\\u0440\\u043e\\u0444\\u0435\\u0441\\u0441\\u0438\\u043e\\u043d\\u0430\\u043b\\u044c\\u043d\\u043e\", \"\\u043c\\u043e\\u043c\\u0435\\u043d\\u0442\\u0443\\u043c\", \"\\u043f\\u043e\\u0431\\u043b\\u0430\\u0433\\u043e\\u0434\\u0430\\u0440\\u0438\\u0442\\u044c\", \"\\u043f\\u0440\\u043e\\u0446\\u0432\\u0435\\u0442\\u0430\\u043d\\u0438\\u0435\", \"\\u044e\\u0440\\u043b\\u0438\\u0446\\u0430\", \"\\u043e\\u043f\\u0442\\u0438\\u043c\\u0430\\u043b\\u044c\\u043d\\u044b\\u0439\", \"\\u043d\\u043f\\u0444\", \"\\u0443\\u044d\\u043a\", \"\\u043f\\u0440\\u0438\\u0432\\u0435\\u0442\\u043b\\u0438\\u0432\\u044b\\u0439\", \"\\u043f\\u043b\\u0430\\u0441\\u0442\\u0438\\u043a\\u0430\", \"\\u0447\\u0443\\u0442\\u043a\\u0438\\u0439\", \"\\u043f\\u0440\\u0435\\u043c\\u0438\\u0430\\u043b\\u044c\\u043d\\u044b\\u0439\", \"\\u0440\\u0430\\u0441\\u043f\\u043e\\u043b\\u043e\\u0436\\u0435\\u043d\\u0438\\u0435\", \"\\u0438\\u043d\\u0432\\u0435\\u0441\\u0442\\u0438\\u0446\\u0438\\u043e\\u043d\\u043d\\u044b\\u0439\", \"\\u043f\\u0430\\u0439\", \"\\u043a\\u0443\\u0437\\u0438\\u043d\\u0430\", \"\\u0430\\u044d\\u0440\\u043e\\u043f\\u043e\\u0440\\u0442\", \"\\u0434\\u0438\\u0441\\u0442\\u0430\\u043d\\u0446\\u0438\\u043e\\u043d\\u043d\\u044b\\u0439\", \"\\u0444\\u0443\\u043d\\u043a\\u0446\\u0438\\u043e\\u043d\\u0430\\u043b\", \"\\u0432\\u044b\\u043f\\u0443\\u0441\\u043a\\u0430\\u0442\\u044c\\u0441\\u044f\", \"\\u043f\\u0430\\u0440\\u043a\\u043e\\u0432\\u043a\\u0430\", \"\\u043f\\u043e\\u0436\\u0435\\u043b\\u0430\\u043d\\u0438\\u0435\", \"\\u043a\\u0430\\u0440\\u0442\\u0438\\u043d\\u043a\\u0430\", \"\\u0443\\u043b\\u044b\\u0431\\u043a\\u0430\", \"\\u043f\\u0435\\u0440\\u0435\\u0432\\u044b\\u043f\\u0443\\u0449\\u0435\\u043d\\u043d\\u044b\\u0439\", \"\\u0441\\u043a\\u043e\\u0440\\u043e\\u0441\\u0442\\u044c\", \"\\u0434\\u0440\\u0443\\u0436\\u0435\\u043b\\u044e\\u0431\\u043d\\u044b\\u0439\", \"\\u0443\\u0434\\u043e\\u0431\\u043d\\u044b\\u0439\", \"\\u043f\\u0440\\u0438\\u044f\\u0442\\u043d\\u043e\", \"\\u0440\\u0430\\u0434\\u043e\\u0432\\u0430\\u0442\\u044c\", \"\\u0434\\u0438\\u0441\\u0442\\u0430\\u043d\\u0446\\u0438\\u043e\\u043d\\u043d\\u043e\", \"\\u0432\\u044b\\u043f\\u0443\\u0441\\u043a\", \"\\u043d\\u0440\\u0430\\u0432\\u0438\\u0442\\u044c\\u0441\\u044f\", \"\\u0430\\u044d\\u0440\\u043e\\u0444\\u043b\\u043e\\u0442\", \"\\u043e\\u0447\\u0435\\u0440\\u0435\\u0434\\u044c\", \"\\u043f\\u0435\\u0440\\u0435\\u0432\\u044b\\u043f\\u0443\\u0441\\u043a\", \"\\u043e\\u0431\\u0441\\u043b\\u0443\\u0436\\u0438\\u0432\\u0430\\u043d\\u0438\\u0435\", \"\\u0432\\u044b\\u043f\\u0443\\u0441\\u043a\\u0430\\u0442\\u044c\", \"\\u043a\\u043e\\u0434\\u043e\\u0432\\u044b\\u0439\", \"\\u043f\\u0440\\u043e\\u0444\\u0435\\u0441\\u0441\\u0438\\u043e\\u043d\\u0430\\u043b\\u0438\\u0437\\u043c\", \"\\u0443\\u0434\\u043e\\u0431\\u043d\\u043e\", \"\\u0432\\u044b\\u0440\\u0430\\u0436\\u0430\\u0442\\u044c\", \"\\u043e\\u043a\\u043d\\u043e\", \"\\u043e\\u0431\\u0441\\u043b\\u0443\\u0436\\u0438\\u0432\\u0430\\u0442\\u044c\\u0441\\u044f\", \"\\u043e\\u0431\\u0441\\u043b\\u0443\\u0436\\u0438\\u0432\\u0430\\u0442\\u044c\", \"\\u0434\\u043e\\u0432\\u043e\\u043b\\u044c\\u043d\\u044b\\u0439\", \"\\u0432\\u0445\\u043e\\u0434\", \"\\u0445\\u043e\\u0440\\u043e\\u0448\\u0438\\u0439\", \"\\u043e\\u0442\\u043a\\u0440\\u044b\\u0432\\u0430\\u0442\\u044c\", \"\\u0431\\u044b\\u0441\\u0442\\u0440\\u043e\", \"\\u043c\\u0438\\u043d\\u0443\\u0442\\u0430\", \"\\u043a\\u043b\\u0438\\u0435\\u043d\\u0442\", \"\\u043e\\u0447\\u0435\\u043d\\u044c\", \"\\u0440\\u0430\\u0431\\u043e\\u0442\\u0430\\u0442\\u044c\", \"\\u0443\\u0440\\u043e\\u0432\\u0435\\u043d\\u044c\", \"\\u043e\\u0442\\u0434\\u0435\\u043b\\u0435\\u043d\\u0438\\u0435\", \"\\u043a\\u0430\\u0440\\u0442\\u0430\", \"\\u043e\\u0444\\u0438\\u0441\", \"\\u0438\\u043d\\u0442\\u0435\\u0440\\u043d\\u0435\\u0442\", \"\\u0441\\u043f\\u0430\\u0441\\u0438\\u0431\\u043e\", \"\\u0431\\u0435\\u0441\\u043f\\u043b\\u0430\\u0442\\u043d\\u044b\\u0439\", \"\\u043e\\u0442\\u043a\\u0440\\u044b\\u0442\\u0438\\u0435\", \"\\u0431\\u0430\\u043d\\u043a\", \"\\u0441\\u0435\\u0440\\u0432\\u0438\\u0441\", \"\\u0432\\u0440\\u0435\\u043c\\u044f\", \"\\u0434\\u0440\\u0443\\u0433\\u043e\\u0439\", \"\\u0440\\u0430\\u0431\\u043e\\u0442\\u0430\", \"\\u043d\\u043e\\u0432\\u044b\\u0439\", \"\\u0443\\u0441\\u043b\\u0443\\u0433\\u0430\", \"\\u0432\\u043e\\u043f\\u0440\\u043e\\u0441\", \"\\u0440\\u0435\\u0448\\u0430\\u0442\\u044c\", \"\\u0445\\u043e\\u0442\\u0435\\u0442\\u044c\", \"\\u043f\\u0440\\u043e\\u0431\\u043b\\u0435\\u043c\\u0430\", \"\\u043e\\u0442\\u0437\\u044b\\u0432\", \"\\u0441\\u043e\\u0442\\u0440\\u0443\\u0434\\u043d\\u0438\\u043a\", \"\\u043f\\u043e\\u043b\\u044c\\u0437\\u043e\\u0432\\u0430\\u0442\\u044c\\u0441\\u044f\", \"\\u043f\\u043e\\u043b\\u0443\\u0447\\u0430\\u0442\\u044c\", \"\\u0432\\u043a\\u043b\\u0430\\u0434\", \"\\u0441\\u0430\\u0439\\u0442\", \"\\u043e\\u0434\\u0438\\u043d\", \"\\u0433\\u043e\\u0434\", \"\\u043c\\u043e\\u0439\", \"\\u0441\\u0447\\u0435\\u0442\", \"\\u043f\\u0440\\u043e\\u0441\\u0442\\u043e\", \"\\u0434\\u0435\\u043d\\u044c\", \"\\u043a\\u043e\\u043b\\u043b\\u0435\\u043a\\u0442\\u043e\\u0440\\u0441\\u043a\\u0438\\u0439\", \"\\u0443\\u0433\\u0440\\u043e\\u0436\\u0430\\u0442\\u044c\", \"\\u043f\\u0440\\u0435\\u043a\\u0440\\u0430\\u0449\\u0430\\u0442\\u044c\\u0441\\u044f\", \"\\u043a\\u043e\\u043b\\u043b\\u0435\\u043a\\u0442\\u043e\\u0440\", \"\\u043d\\u0430\\u0437\\u0432\\u0430\\u043d\\u0438\\u0432\\u0430\\u0442\\u044c\", \"\\u043e\\u0431\\u0437\\u0432\\u043e\\u043d\", \"\\u043f\\u043e\\u0440\\u0443\\u0447\\u0438\\u0442\\u0435\\u043b\\u044c\", \"\\u0441\\u043e\\u0441\\u0435\\u0434\", \"\\u0430\\u0433\\u0435\\u043d\\u0442\\u0441\\u0442\\u0432\\u043e\", \"\\u043e\\u0441\\u043a\\u043e\\u0440\\u0431\\u043b\\u0435\\u043d\\u0438\\u0435\", \"\\u0445\\u0430\\u043c\\u0438\\u0442\\u044c\", \"\\u0430\\u0433\\u0435\\u043d\\u0441\\u0442\\u0432\\u043e\", \"\\u0442\\u0435\\u0440\\u0440\\u043e\\u0440\\u0438\\u0437\\u0438\\u0440\\u043e\\u0432\\u0430\\u0442\\u044c\", \"\\u0440\\u0430\\u0437\\u0433\\u043b\\u0430\\u0448\\u0430\\u0442\\u044c\", \"\\u043e\\u0441\\u043a\\u043e\\u0440\\u0431\\u043b\\u044f\\u0442\\u044c\", \"\\u0440\\u0430\\u0437\\u044b\\u0441\\u043a\\u0438\\u0432\\u0430\\u0442\\u044c\", \"\\u0440\\u0430\\u0437\\u0433\\u043b\\u0430\\u0448\\u0435\\u043d\\u0438\\u0435\", \"\\u043f\\u043e\\u043a\\u043e\\u0439\", \"\\u0441\\u0435\\u043d\\u0442\\u0438\\u043d\\u0435\\u0442\\u044c\", \"\\u0431\\u043e\\u043b\\u044c\\u043d\\u0438\\u0446\\u0430\", \"\\u0430\\u0432\\u0442\\u043e\\u0434\\u043e\\u0437\\u0432\\u043e\\u043d\", \"\\u0443\\u0433\\u0440\\u043e\\u0437\\u0430\", \"\\u0434\\u043e\\u043b\\u0433\\u043e\\u0432\\u043e\\u0439\", \"\\u0432\\u0438\\u0447\", \"\\u0442\\u0435\\u0440\\u0440\\u043e\\u0440\", \"\\u0432\\u044b\\u0435\\u0437\\u0434\\u043d\\u043e\\u0439\", \"\\u043c\\u0438\\u0445\\u0430\\u0439\\u043b\\u043e\\u0432\\u043d\\u0430\", \"\\u0443\\u0434\\u0430\\u043b\\u044f\\u0442\\u044c\", \"\\u043d\\u0435\\u0437\\u043d\\u0430\\u043a\\u043e\\u043c\\u044b\\u0439\", \"\\u043f\\u043e\\u0440\\u0443\\u0447\\u0438\\u0442\\u0435\\u043b\\u044c\\u0441\\u0442\\u0432\\u043e\", \"\\u0440\\u043e\\u0441\\u043a\\u043e\\u043c\\u043d\\u0430\\u0434\\u0437\\u043e\\u0440\", \"\\u0431\\u0435\\u0441\\u043f\\u043e\\u043a\\u043e\\u0438\\u0442\\u044c\", \"\\u0441\\u043a\\u0440\\u044b\\u0432\\u0430\\u0442\\u044c\\u0441\\u044f\", \"\\u0431\\u0430\\u0437\\u0430\", \"\\u043f\\u0435\\u0440\\u0441\\u043e\\u043d\\u0430\\u043b\\u044c\\u043d\\u044b\\u0439\", \"\\u0434\\u043e\\u043c\\u0430\\u0448\\u043d\\u0438\\u0439\", \"\\u0434\\u043e\\u043b\\u0436\\u043d\\u0438\\u043a\", \"\\u0437\\u0432\\u043e\\u043d\\u043e\\u043a\", \"\\u0440\\u0435\\u0441\\u0442\\u0440\\u0443\\u043a\\u0442\\u0443\\u0440\\u0438\\u0437\\u0430\\u0446\\u0438\\u044f\", \"\\u0434\\u043e\\u043b\\u0433\", \"\\u043c\\u0430\\u043c\\u0430\", \"\\u043f\\u0440\\u0435\\u043a\\u0440\\u0430\\u0449\\u0430\\u0442\\u044c\", \"\\u0432\\u0437\\u044b\\u0441\\u043a\\u0430\\u043d\\u0438\\u0435\", \"\\u043f\\u0440\\u043e\\u0436\\u0438\\u0432\\u0430\\u0442\\u044c\", \"\\u043f\\u0440\\u043e\\u043a\\u0443\\u0440\\u0430\\u0442\\u0443\\u0440\\u0430\", \"\\u0440\\u043e\\u0434\\u0441\\u0442\\u0432\\u0435\\u043d\\u043d\\u0438\\u043a\", \"\\u043d\\u043e\\u043c\\u0435\\u0440\", \"\\u0440\\u0430\\u0437\\u0433\\u043e\\u0432\\u0430\\u0440\\u0438\\u0432\\u0430\\u0442\\u044c\", \"\\u043f\\u0440\\u043e\\u0434\\u043e\\u043b\\u0436\\u0430\\u0442\\u044c\\u0441\\u044f\", \"\\u043f\\u0440\\u0435\\u0434\\u0441\\u0442\\u0430\\u0432\\u043b\\u044f\\u0442\\u044c\\u0441\\u044f\", \"\\u0437\\u0432\\u043e\\u043d\\u0438\\u0442\\u044c\", \"\\u043a\\u043e\\u043d\\u0442\\u0430\\u043a\\u0442\\u043d\\u044b\\u0439\", \"\\u0442\\u0435\\u043b\\u0435\\u0444\\u043e\\u043d\", \"\\u0432\\u0430\\u0448\", \"\\u0434\\u0430\\u043d\\u043d\\u044b\\u0435\", \"\\u0437\\u0430\\u0434\\u043e\\u043b\\u0436\\u0435\\u043d\\u043d\\u043e\\u0441\\u0442\\u044c\", \"\\u043f\\u0440\\u043e\\u0441\\u0440\\u043e\\u0447\\u043a\\u0430\", \"\\u043f\\u0435\\u0440\\u0435\\u0434\\u0430\\u0432\\u0430\\u0442\\u044c\", \"\\u043f\\u043e\\u0441\\u0442\\u0443\\u043f\\u0430\\u0442\\u044c\", \"\\u0440\\u0430\\u0437\\u0433\\u043e\\u0432\\u043e\\u0440\", \"\\u0441\\u043e\\u0442\\u0440\\u0443\\u0434\\u043d\\u0438\\u043a\", \"\\u0442\\u0440\\u0435\\u0431\\u043e\\u0432\\u0430\\u0442\\u044c\", \"\\u0447\\u0435\\u043b\\u043e\\u0432\\u0435\\u043a\", \"\\u043a\\u0440\\u0435\\u0434\\u0438\\u0442\", \"\\u043c\\u043e\\u0439\", \"\\u0431\\u0430\\u043d\\u043a\", \"\\u0434\\u0430\\u043d\\u043d\\u044b\\u0439\", \"\\u043f\\u0440\\u043e\\u0441\\u0438\\u0442\\u044c\", \"\\u044f\\u0432\\u043b\\u044f\\u0442\\u044c\\u0441\\u044f\", \"\\u0431\\u044b\\u0442\\u044c\", \"\\u0438\\u043c\\u0435\\u0442\\u044c\", \"\\u043f\\u043b\\u0430\\u0442\\u0438\\u0442\\u044c\", \"\\u0434\\u0430\\u0432\\u0430\\u0442\\u044c\", \"\\u043a\\u043b\\u0438\\u0435\\u043d\\u0442\", \"\\u0434\\u0435\\u043d\\u044c\", \"\\u043e\\u0431\\u0440\\u0430\\u0449\\u0430\\u0442\\u044c\\u0441\\u044f\", \"\\u0433\\u043e\\u0434\", \"\\u0440\\u0430\\u0431\\u043e\\u0442\\u0430\", \"\\u0438\\u043d\\u0444\\u043e\\u0440\\u043c\\u0430\\u0446\\u0438\\u044f\", \"\\u043a\\u0430\\u043a\\u043e\\u0439\", \"\\u0432\\u043e\\u043f\\u0440\\u043e\\u0441\", \"\\u0432\\u0440\\u0435\\u043c\\u044f\", \"\\u043f\\u043e\\u043b\\u0438\\u0441\", \"\\u0441\\u0442\\u0440\\u0430\\u0445\\u043e\\u0432\\u043a\\u0430\", \"\\u043a\\u0430\\u0441\\u043a\\u043e\", \"\\u043e\\u0441\\u0430\\u0433\\u043e\", \"\\u0434\\u043e\\u0445\\u043e\\u0434\\u043d\\u043e\\u0441\\u0442\\u044c\", \"\\u043c\\u0430\\u0441\\u0442\", \"\\u043f\\u043b\\u0435\\u0434\", \"\\u0441\\u0442\\u0440\\u043e\\u0438\\u0442\\u0435\\u043b\\u044c\\u0441\\u0442\\u0432\\u043e\", \"\\u0440\\u0433\\u0441\", \"\\u043a\\u0430\\u043f\\u0438\\u0442\\u0430\\u043b\\u0438\\u0437\\u0430\\u0446\\u0438\\u044f\", \"\\u043f\\u043e\\u043d\\u0438\\u0436\\u0435\\u043d\\u0438\\u0435\", \"\\u043e\\u0434\\u043e\\u0431\\u0440\\u044f\\u0442\\u044c\", \"\\u043f\\u0440\\u043e\\u043b\\u043e\\u043d\\u0433\\u0430\\u0446\\u0438\\u044f\", \"\\u0440\\u0441\\u0445\\u0431\", \"\\u0434\\u043a\\u0431\\u043e\", \"\\u0437\\u0430\\u043b\\u043e\\u0433\\u043e\\u0432\\u044b\\u0439\", \"\\u043f\\u0440\\u043e\\u043b\\u043e\\u043d\\u0433\\u0438\\u0440\\u043e\\u0432\\u0430\\u0442\\u044c\", \"\\u0442\\u0440\\u0446\", \"\\u0434\\u0435\\u043a\\u0430\\u0431\\u0440\\u044c\\u0441\\u043a\\u0438\\u0439\", \"\\u043f\\u0440\\u0438\\u043e\\u0431\\u0440\\u0435\\u0442\\u0430\\u0442\\u044c\\u0441\\u044f\", \"\\u0441\\u0443\\u043f\\u0435\\u0440\\u0441\\u0442\\u0430\\u0432\\u043a\\u0430\", \"\\u0443\\u0442\\u0432\\u0435\\u0440\\u0434\\u0438\\u0442\\u0435\\u043b\\u044c\\u043d\\u043e\", \"\\u0437\\u0430\\u043b\\u043e\\u0433\", \"\\u043c\\u0438\\u043a\\u0440\\u043e\\u0440\\u0430\\u0439\\u043e\\u043d\", \"\\u0435\\u0433\\u0440\\u043f\", \"\\u0440\\u0430\\u0437\\u0432\\u043e\\u0440\\u0430\\u0447\\u0438\\u0432\\u0430\\u0442\\u044c\\u0441\\u044f\", \"\\u0441\\u043e\\u0432\\u0435\\u0449\\u0430\\u043d\\u0438\\u0435\", \"\\u0441\\u0442\\u0440\\u043e\\u0438\\u0442\\u0435\\u043b\\u044c\", \"\\u0436\\u0435\\u043b\\u0430\\u0435\\u043c\\u044b\\u0439\", \"\\u043f\\u0435\\u0440\\u0435\\u043a\\u0440\\u0435\\u0434\\u0438\\u0442\\u043e\\u0432\\u0430\\u0442\\u044c\\u0441\\u044f\", \"\\u043e\\u0434\\u043e\\u0431\\u0440\\u0435\\u043d\\u0438\\u0435\", \"\\u0441\\u0442\\u0430\\u0432\\u043a\\u0430\", \"\\u043f\\u043e\\u0434\\u0430\\u0440\\u043e\\u043a\", \"\\u043d\\u0430\\u0447\\u0430\\u043b\\u044c\\u043d\\u0438\\u0446\\u0430\", \"\\u043c\\u0430\\u0448\\u0438\\u043d\\u043a\\u0430\", \"\\u0438\\u043f\\u043e\\u0442\\u0435\\u043a\\u0430\", \"\\u043f\\u0440\\u043e\\u0446\\u0435\\u043d\\u0442\\u043d\\u044b\\u0439\", \"\\u0441\\u0442\\u0440\\u0430\\u0445\\u043e\\u0432\\u0430\\u043d\\u0438\\u0435\", \"\\u0432\\u0435\\u0442\\u0445\\u0438\\u0439\", \"\\u0437\\u0430\\u0441\\u0442\\u0440\\u043e\\u0439\\u0449\\u0438\\u043a\", \"\\u0430\\u0432\\u0442\\u043e\\u0441\\u0430\\u043b\\u043e\\u043d\", \"\\u0432\\u043a\\u043b\\u0430\\u0434\", \"\\u0437\\u0430\\u044f\\u0432\\u043a\\u0430\", \"\\u043d\\u0434\\u0444\\u043b\", \"\\u043e\\u0431\\u043c\\u0430\\u043d\\u044b\\u0432\\u0430\\u0442\\u044c\", \"\\u0438\\u043f\\u043e\\u0442\\u0435\\u0447\\u043d\\u044b\\u0439\", \"\\u0434\\u043e\\u0441\\u0440\\u043e\\u0447\\u043d\\u043e\", \"\\u043f\\u0435\\u0440\\u0432\\u043e\\u043d\\u0430\\u0447\\u0430\\u043b\\u044c\\u043d\\u044b\\u0439\", \"\\u0430\\u0432\\u0442\\u043e\\u043a\\u0440\\u0435\\u0434\\u0438\\u0442\", \"\\u0432\\u043a\\u043b\\u0430\\u0434\\u0447\\u0438\\u043a\", \"\\u0434\\u043e\\u0431\\u0440\\u043e\\u0432\\u043e\\u043b\\u044c\\u043d\\u044b\\u0439\", \"\\u0430\\u0432\\u0442\\u043e\\u043c\\u043e\\u0431\\u0438\\u043b\\u044c\", \"\\u0441\\u0442\\u0440\\u0430\\u0445\\u043e\\u0432\\u043e\\u0439\", \"\\u043f\\u043e\\u0434\\u043f\\u0438\\u0441\\u044b\\u0432\\u0430\\u0442\\u044c\", \"\\u043e\\u0444\\u043e\\u0440\\u043c\\u043b\\u044f\\u0442\\u044c\", \"\\u043e\\u0444\\u043e\\u0440\\u043c\\u043b\\u0435\\u043d\\u0438\\u0435\", \"\\u0432\\u0437\\u043d\\u043e\\u0441\", \"\\u043a\\u0440\\u0435\\u0434\\u0438\\u0442\", \"\\u043f\\u0440\\u043e\\u0446\\u0435\\u043d\\u0442\", \"\\u043c\\u0435\\u043d\\u0435\\u0434\\u0436\\u0435\\u0440\", \"\\u0441\\u043f\\u0440\\u0430\\u0432\\u043a\\u0430\", \"\\u043a\\u0430\\u0441\\u0441\\u0438\\u0440\", \"\\u0443\\u0441\\u043b\\u043e\\u0432\\u0438\\u0435\", \"\\u0441\\u043a\\u0430\\u0437\\u0430\\u0442\\u044c\", \"\\u0434\\u043e\\u043a\\u0443\\u043c\\u0435\\u043d\\u0442\", \"\\u043f\\u0440\\u0438\\u0435\\u0437\\u0436\\u0430\\u0442\\u044c\", \"\\u043e\\u0442\\u043a\\u0430\\u0437\", \"\\u043e\\u0442\\u043a\\u0430\\u0437\\u044b\\u0432\\u0430\\u0442\\u044c\\u0441\\u044f\", \"\\u043e\\u0444\\u0438\\u0441\", \"\\u0434\\u043e\\u0433\\u043e\\u0432\\u043e\\u0440\", \"\\u0431\\u0430\\u043d\\u043a\", \"\\u0441\\u0443\\u043c\\u043c\\u0430\", \"\\u0433\\u043e\\u0434\", \"\\u0434\\u0435\\u043d\\u044c\", \"\\u043f\\u043e\\u043b\\u0443\\u0447\\u0430\\u0442\\u044c\", \"\\u043e\\u0442\\u0434\\u0435\\u043b\\u0435\\u043d\\u0438\\u0435\", \"\\u0441\\u043e\\u0442\\u0440\\u0443\\u0434\\u043d\\u0438\\u043a\", \"\\u043f\\u043e\\u0437\\u0432\\u043e\\u043d\\u0438\\u0442\\u044c\", \"\\u0434\\u0435\\u0432\\u0443\\u0448\\u043a\\u0430\", \"\\u0441\\u0440\\u043e\\u043a\", \"\\u0434\\u0435\\u043d\\u044c\\u0433\\u0438\", \"\\u043f\\u0440\\u0438\\u0445\\u043e\\u0434\\u0438\\u0442\\u044c\", \"\\u043c\\u0435\\u0441\\u044f\\u0446\", \"\\u0432\\u043e\\u043f\\u0440\\u043e\\u0441\", \"\\u043e\\u0442\\u0432\\u0435\\u0447\\u0430\\u0442\\u044c\", \"\\u043a\\u043b\\u0438\\u0435\\u043d\\u0442\", \"\\u0432\\u0440\\u0435\\u043c\\u044f\", \"\\u043e\\u0431\\u0440\\u0430\\u0449\\u0430\\u0442\\u044c\\u0441\\u044f\", \"\\u043f\\u043e\\u0442\\u0440\\u0435\\u0431\\u0438\\u0442\\u0435\\u043b\\u044c\", \"\\u043c\\u043f\\u0441\", \"\\u043a\\u043e\\u0441\\u043c\\u0435\\u0442\\u0438\\u0447\\u0435\\u0441\\u043a\\u0438\\u0439\", \"\\u0444\\u0435\\u0434\\u0435\\u0440\\u0430\\u0446\\u0438\\u044f\", \"\\u043a\\u043e\\u0441\\u043c\\u0435\\u0442\\u043e\\u043b\\u043e\\u0433\\u0438\\u0447\\u0435\\u0441\\u043a\\u0438\\u0439\", \"\\u043b\\u0430\\u0439\\u043c\", \"\\u0433\\u043a\", \"\\u043a\\u043e\\u0441\\u043c\\u0435\\u0442\\u0438\\u043a\\u0430\", \"\\u0443\\u0434\\u043e\\u0432\\u043b\\u0435\\u0442\\u0432\\u043e\\u0440\\u0435\\u043d\\u0438\\u0435\", \"\\u0442\\u0441\\u043f\", \"\\u0447\\u0430\\u0440\\u0434\\u0436\\u0431\\u044d\\u043a\", \"\\u0441\\u043e\\u043e\\u0442\\u0432\\u0435\\u0442\\u0441\\u0442\\u0432\\u0438\\u0435\", \"\\u0432\\u043e\\u0437\\u043b\\u0430\\u0433\\u0430\\u0442\\u044c\", \"\\u043f\\u0430\\u0440\\u0430\\u0434\\u0430\\u0439\\u0437\", \"\\u0430\\u043a\\u0446\\u0435\\u043f\\u0442\", \"\\u0437\\u0430\\u043e\", \"\\u0432\\u043e\\u0437\\u0432\\u0440\\u0430\\u0442\\u043d\\u044b\\u0439\", \"\\u043f\\u0440\\u0435\\u0441\\u0442\\u0443\\u043f\\u043d\\u044b\\u0439\", \"\\u0437\\u0430\\u043a\\u043b\\u044e\\u0447\", \"\\u043a\\u043e\\u0441\\u043c\\u0435\\u0442\\u0438\\u043a\\u0441\", \"\\u0432\\u0437\\u044b\\u0441\\u043a\\u0430\\u0442\\u0435\\u043b\\u044c\", \"\\u0431\\u044c\\u044e\\u0442\\u044f\", \"\\u0441\\u0430\\u043c\\u043e\\u0441\\u0442\\u043e\\u044f\\u0442\\u0435\\u043b\\u044c\\u043d\\u044b\\u0439\", \"\\u043a\\u0443\\u043f\\u043b\\u044f\", \"\\u0447\\u0434\\u043f\", \"\\u043d\\u0431\\u043a\\u043e\", \"\\u043e\\u0442\\u043c\\u044b\\u0432\\u0430\\u043d\\u0438\\u0435\", \"\\u043e\\u043a\\u0430\\u0437\\u0430\\u043d\\u0438\\u0435\", \"\\u0441\\u043f\\u0435\\u0446\\u0438\\u0444\\u0438\\u043a\\u0430\\u0446\\u0438\\u044f\", \"\\u043f\\u0435\\u0440\\u0432\\u043e\\u0431\\u0430\\u043d\\u043a\", \"\\u043e\\u0430\\u043e\", \"\\u043e\\u043e\\u043e\", \"\\u043a\\u043e\\u043f\\u0430\", \"\\u043d\\u0435\\u0443\\u0441\\u0442\\u043e\\u0439\\u043a\\u0430\", \"\\u0441\\u043e\\u0433\\u043b\\u0430\\u0441\\u043d\\u043e\", \"\\u0438\\u0441\\u043f\\u043e\\u043b\\u043d\\u0438\\u0442\\u0435\\u043b\\u044c\\u043d\\u044b\\u0439\", \"\\u043a\\u043e\\u0434\\u0435\\u043a\\u0441\", \"\\u0432\\u044b\\u0448\\u0435\\u0438\\u0437\\u043b\\u043e\\u0436\\u0435\\u043d\\u043d\\u044b\\u0439\", \"\\u043e\\u0444\\u0435\\u0440\\u0442\\u0430\", \"\\u044d\\u043a\\u0432\\u0430\\u0439\\u0435\\u0440\", \"\\u0441\\u0442\\u0430\\u0442\\u044c\\u044f\", \"\\u0430\\u043a\\u0442\", \"\\u0441\\u0441\\u0443\\u0434\\u043d\\u044b\\u0439\", \"\\u0434\\u0435\\u043d\\u0435\\u0436\\u043d\\u044b\\u0439\", \"\\u0437\\u0430\\u043a\\u043e\\u043d\\u043e\\u0434\\u0430\\u0442\\u0435\\u043b\\u044c\\u0441\\u0442\\u0432\\u043e\", \"\\u0437\\u0430\\u043a\\u043b\\u044e\\u0447\\u0435\\u043d\\u0438\\u0435\", \"\\u0430\\u043e\", \"\\u0441\\u0442\", \"\\u0437\\u0430\\u043a\\u043b\\u044e\\u0447\\u0430\\u0442\\u044c\", \"\\u0434\\u043e\\u0433\\u043e\\u0432\\u043e\\u0440\", \"\\u043d\\u0430\\u0440\\u0443\\u0448\\u0435\\u043d\\u0438\\u0435\", \"\\u0440\\u0444\", \"\\u043f\\u0440\\u0435\\u0434\\u0443\\u0441\\u043c\\u0430\\u0442\\u0440\\u0438\\u0432\\u0430\\u0442\\u044c\", \"\\u0437\\u0430\\u0449\\u0438\\u0442\\u0430\", \"\\u043f\\u0440\\u0435\\u0434\\u043e\\u0441\\u0442\\u0430\\u0432\\u043b\\u0435\\u043d\\u0438\\u0435\", \"\\u0437\\u0430\\u043a\\u043e\\u043d\", \"\\u0433\", \"\\u0442\\u043e\\u0432\\u0430\\u0440\", \"\\u043f\\u0440\\u0430\\u0432\\u043e\", \"\\u0441\\u0440\\u0435\\u0434\\u0441\\u0442\\u0432\\u043e\", \"\\u043f\\u0440\\u0435\\u0434\\u043e\\u0441\\u0442\\u0430\\u0432\\u043b\\u044f\\u0442\\u044c\", \"\\u043e\\u0441\\u043d\\u043e\\u0432\\u0430\\u043d\\u0438\\u0435\", \"\\u0440\\u0430\\u0437\\u043c\\u0435\\u0440\", \"\\u043f\\u043e\\u0433\\u0430\\u0448\\u0435\\u043d\\u0438\\u0435\", \"\\u0431\\u0430\\u043d\\u043a\\u043e\\u0432\\u0441\\u043a\\u0438\\u0439\", \"\\u043f\\u0438\\u0441\\u044c\\u043c\\u0435\\u043d\\u043d\\u044b\\u0439\", \"\\u043a\\u0440\\u0435\\u0434\\u0438\\u0442\\u043d\\u044b\\u0439\", \"\\u044f\", \"\\u0437\\u0430\\u044f\\u0432\\u043b\\u0435\\u043d\\u0438\\u0435\", \"\\u0431\\u0430\\u043d\\u043a\", \"\\u0432\\u043e\\u0437\\u0432\\u0440\\u0430\\u0442\", \"\\u043f\\u043b\\u0430\\u0442\\u0435\\u0436\", \"\\u0441\\u0447\\u0435\\u0442\", \"\\u0434\\u0430\\u043d\\u043d\\u044b\\u0439\", \"\\u0441\\u0443\\u043c\\u043c\\u0430\", \"\\u0434\\u043e\\u043a\\u0443\\u043c\\u0435\\u043d\\u0442\", \"\\u043c\\u043e\\u0439\", \"\\u0443\\u0441\\u043b\\u0443\\u0433\\u0430\", \"\\u043a\\u0440\\u0435\\u0434\\u0438\\u0442\", \"\\u043e\\u0442\\u0432\\u0435\\u0442\", \"\\u0443\\u0441\\u043b\\u043e\\u0432\\u0438\\u0435\", \"\\u043e\\u0431\\u0440\\u0430\\u0449\\u0435\\u043d\\u0438\\u0435\", \"\\u0441\\u0440\\u043e\\u043a\", \"\\u0438\\u043d\\u0444\\u043e\\u0440\\u043c\\u0430\\u0446\\u0438\\u044f\", \"\\u043f\\u0440\\u0435\\u0442\\u0435\\u043d\\u0437\\u0438\\u044f\", \"\\u0433\\u043e\\u0434\", \"\\u0441\\u043e\\u0442\\u0440\\u0443\\u0434\\u043d\\u0438\\u043a\", \"\\u044f\\u0432\\u043b\\u044f\\u0442\\u044c\\u0441\\u044f\", \"\\u043e\\u0431\\u0440\\u0430\\u0449\\u0430\\u0442\\u044c\\u0441\\u044f\", \"\\u043a\\u043b\\u0438\\u0435\\u043d\\u0442\", \"\\u043f\\u043e\\u043b\\u0443\\u0447\\u0430\\u0442\\u044c\"], \"Freq\": [18440.0, 9427.0, 5919.0, 9721.0, 4487.0, 5499.0, 4858.0, 5128.0, 6997.0, 2532.0, 4058.0, 7038.0, 4700.0, 2690.0, 4448.0, 1479.0, 4950.0, 2278.0, 2371.0, 9328.0, 3763.0, 3272.0, 6017.0, 3154.0, 2427.0, 4530.0, 1515.0, 6033.0, 3975.0, 10657.0, 341.21371395433766, 122.91468487701377, 54.48034516669245, 36.87424763168176, 485.2431433919536, 27.320939140489312, 40.47475444096449, 25.23572773831751, 24.684564296487853, 26.29838822036123, 23.4000440231639, 96.1538790272079, 21.711709922853924, 46.31501947491629, 19.986306766858018, 21.378834921651215, 84.17620879320505, 19.412181933867323, 41.52075493953601, 19.94975907623096, 23.31576773123812, 18.56512486239735, 18.425791235333904, 25.441166900084394, 18.251556957261208, 17.20397932938659, 259.3760075581112, 508.5382271494015, 16.26119252358385, 17.02529804434582, 191.7897676493776, 102.96527653727695, 2470.9999517456426, 150.92862482359936, 626.6784498839075, 60.508628659921214, 768.4907317515213, 118.66159727274453, 105.7785813536896, 995.7042786308583, 404.65155636262386, 497.6625520212932, 458.46416560000483, 7663.270098810066, 1673.8091920681518, 203.51593137897973, 286.37464118904586, 1119.0374111041242, 724.8621452757819, 1623.2811447842173, 1711.083115784125, 1067.2855399190832, 2371.57794798339, 2285.044846825675, 933.9368898712039, 2538.084429921716, 575.902005327196, 10420.420220388498, 663.0754944470432, 3827.700127197783, 349.0228904347147, 1232.9095309206655, 1077.4529548337584, 4663.360575572821, 2223.9117413172817, 2312.227721389051, 1618.2752818698518, 1071.802722624084, 3022.275363831215, 9272.871686138282, 1125.9665233651224, 1721.9764983655057, 2102.290278770393, 1741.0579286758646, 1954.3114805737134, 3192.5050368867005, 2221.4231426595356, 2186.750659958778, 1698.6064517919565, 1451.298775111904, 1341.455081956081, 1578.4150841221938, 1365.8269077918444, 1374.3854849284821, 1306.5291589605224, 122.5572925512906, 88.2656586827329, 70.02556366072548, 81.24632722228789, 251.51520220351728, 43.015744978435414, 136.20799492054567, 50.16883799323572, 49.5907814256415, 93.73227630534092, 36.129489614723646, 38.58136729754148, 33.970448313603136, 33.6134814476561, 31.596757227506718, 68.84931838130453, 33.00461948365902, 28.23028867199227, 40.379267634294315, 39.79762299223411, 25.23317810987019, 25.49362450331618, 27.168624827169147, 61.37579085307999, 90.07107789722875, 53.31615474581221, 38.57216016306272, 23.9644616353821, 91.00373184763208, 24.873774061267014, 64.00144896796458, 47.15601902727523, 82.28219755066684, 38.15411563801599, 358.599236730506, 221.5899503122351, 100.69380930210032, 66.78165238929988, 285.28708994577295, 199.51234194933517, 87.49165009085287, 1384.2087214792562, 305.71836449956885, 1810.5075779852302, 386.73634124687976, 169.91267396608228, 102.2316207834878, 304.25439626768656, 211.5214917879609, 293.23782291553414, 277.6384153014575, 329.752438164567, 287.5730657279576, 215.24494836552182, 668.8934455167422, 1244.7822406875987, 578.4818898174743, 1093.6483468100496, 3704.4845999722597, 1790.2977824053112, 1498.226896085442, 237.17344853952858, 3190.4462200518874, 6983.714947004775, 1868.5821203061669, 1113.8548251135755, 699.9482977193874, 373.29233396920904, 575.3728571424548, 8397.320424086281, 473.60988627388775, 1777.2275780175264, 1319.3773610422363, 1256.190557301967, 928.0380618516396, 1278.544938220255, 1704.4514083185902, 1186.625375752499, 1060.044878544261, 1204.225896500944, 734.5040274085454, 2051.8299576494915, 782.3914847243962, 1452.8755304218625, 1437.4055135119959, 850.5810797630262, 910.7783404779451, 1233.0003581316582, 1315.9340281462157, 1142.048086380318, 838.51012026426, 964.2772754605282, 293.79490190716103, 264.4152541108431, 249.93026582112617, 409.5656728048586, 296.81483193455034, 159.47400334524383, 193.80145939739734, 105.21160250599226, 330.6400170194847, 71.60300885717928, 152.01482733482035, 63.597910295219904, 64.65428767862863, 60.752806219460666, 54.40458822095677, 82.28884306250556, 51.96623255327679, 41.846967879253846, 39.2638798869535, 81.78661085076223, 34.90731871167877, 458.99587943202795, 36.1046723681719, 33.431200146906804, 32.26612334256381, 33.37189457996335, 30.772474384208603, 404.3915067329836, 55.053122354093034, 30.052316902049576, 128.00065555774236, 109.04896948958644, 72.2142473040408, 622.2413331556644, 728.6442854490136, 242.742804451997, 367.3335982211735, 3762.3642345868866, 460.5334383445389, 1245.9858620352388, 414.4934573981635, 393.0841832574293, 461.49819132375524, 227.3297258632327, 433.8446607485268, 300.8967136746271, 3446.3653129139057, 336.4902077753767, 272.5664091428483, 410.05993430706553, 2522.2820200272504, 476.34556914980016, 2759.2369266915634, 2855.241164722537, 1258.3090698811682, 1513.188022415583, 852.2147767235663, 584.4932929666222, 1230.379393621905, 588.9659849253284, 3588.0059323655896, 720.2305233125426, 1422.8573793554733, 3123.031581552554, 3235.8937281495487, 7410.661285647195, 1802.7989089852692, 1201.038397953517, 1140.4395091064569, 1181.9336019187076, 974.4381276570281, 781.234432719383, 1049.4111641328293, 1459.7931047703707, 1532.867949712239, 1098.1592485477788, 1219.1097146319082, 952.3351046613143, 943.6207033800613, 913.072913867184, 996.5208944573561, 909.2373619317094, 172.88568820834777, 1459.738621383518, 75.60197980091165, 29.00183370808187, 28.997790778907962, 28.870300536950165, 24.985834934617163, 27.42811710979089, 19.352666095926846, 77.91076830517171, 17.839577391874723, 643.2574464787242, 98.21744536086746, 15.807131118336027, 14.85507744967514, 14.455344057963956, 72.61026355100404, 13.478310862621433, 15.237419828590632, 13.557435157830913, 17.922370805743224, 12.777123355706902, 89.76373821436012, 12.32073922111484, 16.687981103426946, 12.137237564560213, 14.6391320886684, 11.482064046390448, 11.532769918615012, 11.604470946646847, 165.36703357159027, 995.0837189813947, 263.6696243043298, 22.866853933387127, 35.64902854405595, 356.5540610439409, 330.34083773356105, 873.6352560504745, 30.04652339794535, 27.78168089207085, 53.173108257027415, 4149.387738930105, 1669.6679369284388, 131.34148495007776, 219.83646856414342, 281.0792987477015, 323.83351862098226, 102.16881181500678, 141.36499732133402, 456.8339008366365, 150.21978229393656, 122.94926241375329, 468.2432779899247, 600.1693704985494, 1505.305898541307, 664.3413092859506, 232.69619201111348, 4342.557508712211, 1318.3408314144401, 818.6129151979762, 619.786176238175, 373.27995423439506, 1175.2683703386595, 2335.327112778125, 1372.502220873333, 595.4084684421402, 678.1135539342108, 738.0566144750975, 1455.5236046084567, 1667.7819553902468, 6019.677270016427, 1900.7352776968207, 1642.4492435498564, 2082.7423531787244, 1428.6103769896806, 1534.5413846775753, 1653.0694922671812, 927.0734874097657, 696.2568339195576, 849.2374747902238, 1299.5220870590476, 979.4749833819093, 892.959071354602, 981.2181404253483, 828.8934038483434, 947.3692485566919, 873.1649927967223, 851.7292539697124, 376.9641346045641, 183.95341355739492, 92.34092988851067, 162.8021878608817, 67.28852927415973, 62.802868022251225, 243.75407405577914, 68.32632827022304, 55.588597768588706, 43.47709276912155, 31.045340265456794, 405.95634473862714, 30.163542847452998, 26.432061219633685, 26.440440673834857, 155.264910488602, 25.922653645366097, 27.612894480582767, 25.104106014939806, 24.673473933958316, 26.293051392443164, 23.530913075491025, 24.958475987740606, 96.80085773595641, 57.47647873901892, 21.935338513259968, 25.69578459409164, 131.48016175468, 20.950904998334796, 20.96357766517729, 456.50130446725484, 547.3830882314033, 150.23514526029618, 103.6194395262256, 509.07163720557253, 119.44922024867496, 95.95356412199266, 80.98669183176462, 121.9566174087147, 61.44760988239346, 346.9553745054686, 100.97442959379526, 35.321391554606734, 1876.5392771206898, 274.4947068957387, 273.53939737403454, 163.51653705018134, 421.87587042168053, 347.88416873195786, 3329.910448374149, 382.48639901962076, 853.1527353123093, 235.49468607864466, 349.9082079280117, 396.52798409335117, 726.9903390458004, 2429.831297740909, 378.4191183105101, 854.9347103301908, 2574.380085013723, 1193.937611975558, 565.2341140403066, 682.5187847253966, 817.5213298236444, 802.6005545926171, 387.97948051219015, 1877.309945440936, 1103.2810587416222, 2114.647088086825, 7159.521573288522, 606.1367970125659, 1522.1780173844945, 1962.451409257306, 1717.4351795531502, 1868.4821228869382, 1127.8771341149059, 2124.978164602325, 1141.4295085424021, 1783.876576190854, 1148.3475859308912, 854.4222499324716, 803.0064018865925, 894.8224531124957, 941.8554815371699, 796.0485860504612, 1105.4816672669567, 1093.100013263401, 837.1337255294295, 883.4712391332179, 926.5795439303404, 887.977229544684], \"Total\": [18440.0, 9427.0, 5919.0, 9721.0, 4487.0, 5499.0, 4858.0, 5128.0, 6997.0, 2532.0, 4058.0, 7038.0, 4700.0, 2690.0, 4448.0, 1479.0, 4950.0, 2278.0, 2371.0, 9328.0, 3763.0, 3272.0, 6017.0, 3154.0, 2427.0, 4530.0, 1515.0, 6033.0, 3975.0, 10657.0, 344.66693941130853, 124.76453933741209, 55.357930453678, 37.65797759620577, 498.55458346989167, 28.115817170782705, 41.69316452825747, 26.02493241398219, 25.467842420160967, 27.144491687503482, 24.189264910797956, 99.53297844032949, 22.50117894994518, 48.08716031766984, 20.773443539616856, 22.23019809442805, 87.64901203421927, 20.214949513859143, 43.24256340796241, 20.787578477766118, 24.314388958787724, 19.367644419142856, 19.22451416036641, 26.614382603017532, 19.096011214227673, 18.01595639744349, 271.8542237434502, 533.1177109719284, 17.054371489580095, 17.87171829586172, 203.20089774106594, 108.56510895130033, 2690.655111261303, 160.07026798163804, 674.7051261071516, 63.8489442667107, 845.5038489869651, 126.766509689756, 113.57430327448097, 1126.7859241044225, 448.9857121016441, 555.8851023192101, 512.1013909876862, 9721.627230241378, 1997.10919482824, 225.2310003114912, 321.8941952544556, 1386.893477168822, 896.3609321563401, 2153.9908420517054, 2285.455843078955, 1384.7973693156464, 3272.510746606313, 3264.6427935845613, 1233.1658607707832, 3763.4007137719564, 732.3146028207997, 18440.127815757434, 864.453815569412, 6997.626047188319, 426.4500936176797, 1941.474082607923, 1666.2080700490092, 9999.311398829162, 4094.663105600338, 4531.432472687263, 2893.8577801266815, 1691.2371163964922, 7038.819596851219, 38260.0522391767, 1849.7101080362336, 3462.3122365325107, 4858.1630923310695, 3635.1868350799737, 4530.044072479621, 10657.021519234833, 6017.291130600926, 6033.171991508729, 4626.63528293063, 3338.0119505425096, 3044.4865769100957, 5746.052393514145, 3716.2718659916354, 6872.36192928337, 5448.066575024986, 123.8163253474717, 89.22575534591046, 70.97726580038054, 82.48962195411309, 255.55143309744784, 43.80537355696511, 138.77522951441588, 51.15235966510606, 50.631160862147304, 95.71743363566165, 36.93025952429805, 39.49211728619135, 34.775826005785305, 34.4386046037251, 32.40407119576691, 70.61151977398967, 33.85109244709274, 29.049371974775326, 41.62374597286677, 41.033750845149946, 26.030607382597957, 26.30126964422561, 28.046402075197545, 63.37240441542098, 93.04861776130717, 55.10178777692271, 39.89361427213812, 24.801649189142836, 94.24262459985832, 25.78239827663482, 66.6201265380687, 49.00661031433458, 86.16907153546616, 39.610322540521196, 393.48247710864007, 240.1354957070741, 106.84704210069265, 70.47137341284325, 320.6493770249958, 223.51346303282313, 94.13953024423058, 1732.3064216210303, 354.86710436427717, 2367.1161941439327, 461.55128877798575, 193.1019613068801, 112.04455360991443, 363.42879075980017, 246.17951148017073, 352.706970005632, 332.8286491986046, 415.30902576009, 357.1558143975229, 263.06342790980386, 968.4415826673072, 2026.8347921423192, 847.162384707421, 1802.021659315057, 7799.237024373591, 3314.5730601478735, 2732.620247728536, 298.7253451763097, 6872.36192928337, 18440.127815757434, 3975.6485886511337, 2140.6129891975, 1219.7806305408228, 539.3165349782374, 959.7095413737457, 38260.0522391767, 753.2408141335148, 4885.629418651282, 3252.7878295634364, 3233.3566410781777, 2115.7459928943426, 3466.2093509900187, 5448.066575024986, 3359.073138704258, 2904.544927375803, 3635.1868350799737, 1580.208396185978, 9328.399016259096, 1780.7977073421441, 5746.052393514145, 5919.712609804588, 2255.999893226492, 2737.608819318307, 6444.665644250128, 10657.021519234833, 6997.626047188319, 2470.3860980656245, 9999.311398829162, 294.62747451272367, 265.3464646068195, 251.0975297992018, 411.4976996072933, 298.2502364471853, 160.26771570139144, 195.24472377429242, 106.10682729793193, 333.7844270010358, 72.41371221037053, 153.78925407715192, 64.39665586822984, 65.49841346471447, 61.635108943367435, 55.214464997865946, 83.60203854251588, 52.90307022741317, 42.67093138538948, 40.0528823079144, 83.53459553249745, 35.70608065923199, 469.62075620307394, 36.96523632783829, 34.23091501784306, 33.052668281242845, 34.20905561178703, 31.576514295158972, 415.0878102219923, 56.515235539921754, 30.92093809699629, 132.27100954498573, 112.7291809820814, 74.39533695701334, 672.1994316336095, 790.6228106536619, 261.1103364899737, 402.00682445943204, 4487.131689110799, 520.7570418069163, 1515.970144339147, 476.8011127462046, 452.4056844648879, 538.2837180393173, 253.03081601141133, 512.8835188204754, 347.90904240663, 5128.093225927595, 397.913638658132, 320.14341939772453, 507.2497093961745, 4058.883345834159, 606.019046790546, 4700.767390056395, 4950.616853587162, 1904.001395691816, 2371.6437857663354, 1242.5116000273215, 783.7036757161497, 2076.645313066819, 833.5403604666652, 9328.399016259096, 1094.9701496246034, 2845.4682675995728, 9427.80865760669, 10657.021519234833, 38260.0522391767, 5784.245589952342, 2986.1927161910507, 2921.7938916937437, 3192.824339998309, 2269.747423738987, 1509.2060136065616, 3053.140613803223, 7799.237024373591, 9999.311398829162, 4514.237483627553, 6444.665644250128, 3233.3566410781777, 3397.6267569921897, 3378.9252777358556, 5448.066575024986, 4885.629418651282, 174.01486127486052, 1479.6990350729266, 76.6441619907512, 29.786659579492863, 29.81221556441177, 29.739055265806236, 25.835880198997586, 28.451540118706085, 20.153507873836407, 81.34603589182079, 18.71630883798144, 674.9191131881634, 103.30984434269402, 16.636778307501125, 15.65684295597937, 15.258942632639101, 76.85228875461367, 14.297677668397721, 16.177176057819686, 14.394576452708906, 19.03478102117364, 13.590468373660125, 95.49104090819539, 13.136714392114273, 17.814234935642915, 12.956468316989044, 15.646411259468717, 12.28298779190394, 12.345007668899568, 12.42219261459959, 177.58228796602532, 1089.173631212386, 288.2974011325428, 24.50424663414043, 38.538749363781264, 406.6683821597067, 384.611418010657, 1069.5170251122295, 32.77003262572647, 30.24799395793709, 59.769022320473525, 5919.712609804588, 2278.698102486098, 156.58708444266279, 271.5740335956755, 353.6426342150566, 416.08603892100797, 121.27060915237078, 172.3214042446804, 620.5492579305186, 187.90180696305868, 150.91137992512589, 668.6876748276851, 888.5506961180688, 2610.492446255705, 1050.9477382220293, 321.7835208073858, 9427.80865760669, 2415.9247536879066, 1401.3182989388126, 1046.9594337488509, 572.8240129835314, 2427.079896873771, 6017.291130600926, 3154.3554548674856, 1082.8176794075782, 1293.560403248215, 1534.7981317345643, 3975.6485886511337, 5499.993269970267, 38260.0522391767, 7038.819596851219, 6444.665644250128, 9999.311398829162, 5746.052393514145, 6872.36192928337, 9328.399016259096, 3338.0119505425096, 1701.027553599736, 2936.7294148904684, 9721.627230241378, 4531.432472687263, 3716.2718659916354, 5448.066575024986, 3331.8021658010343, 7799.237024373591, 4885.629418651282, 4514.237483627553, 378.3722291744414, 184.8018945250261, 93.15131041394692, 164.62876093100812, 68.08763510640313, 63.60183061911064, 247.13977049897622, 69.34585872909811, 56.53705843426063, 44.287404680733495, 31.838903791690814, 416.6206743484913, 30.969016792246702, 27.2238322994651, 27.24349365600492, 160.0792703787942, 26.74051081159905, 28.492707780064418, 25.904723784257293, 25.465110748212563, 27.13898308549233, 24.331197404217694, 25.828870155192977, 100.20956624387901, 59.517593174708765, 22.72580599113989, 26.63623887947519, 136.33391834677988, 21.743140424949136, 21.78192988572066, 489.84221853670795, 597.543387844897, 159.81426845419986, 110.65233586105722, 575.3913126663373, 129.6574149433248, 103.95399824247842, 87.32015145763812, 134.93561873191578, 65.96635945812845, 408.41508592103514, 112.05291142456947, 36.94381500513683, 2532.5954056254564, 328.18398631061797, 328.65983903711344, 189.16722185819128, 538.1529625129695, 442.17804808353895, 5499.993269970267, 492.1224874279331, 1215.314790491073, 286.7448331639791, 450.6722616618166, 520.4277762987349, 1050.067658183536, 4448.886812894895, 505.34317900751205, 1322.0782501384497, 4858.1630923310695, 2073.2439895925345, 845.1716600157126, 1098.9400794550604, 1390.0896977329228, 1431.031735441356, 559.0767525057156, 4924.600724747517, 2400.554561185081, 6033.171991508729, 38260.0522391767, 1073.352451189062, 4530.044072479621, 6997.626047188319, 5784.245589952342, 7038.819596851219, 3154.3554548674856, 10657.021519234833, 3466.2093509900187, 9427.80865760669, 4626.63528293063, 2427.079896873771, 2173.8318372495787, 2936.7294148904684, 3397.6267569921897, 2290.578372292557, 6444.665644250128, 9328.399016259096, 2921.7938916937437, 4514.237483627553, 7799.237024373591, 5746.052393514145], \"Category\": [\"Default\", \"Default\", \"Default\", \"Default\", \"Default\", \"Default\", \"Default\", \"Default\", \"Default\", \"Default\", \"Default\", \"Default\", \"Default\", \"Default\", \"Default\", \"Default\", \"Default\", \"Default\", \"Default\", \"Default\", \"Default\", \"Default\", \"Default\", \"Default\", \"Default\", \"Default\", \"Default\", \"Default\", \"Default\", \"Default\", \"Topic1\", \"Topic1\", \"Topic1\", \"Topic1\", \"Topic1\", \"Topic1\", \"Topic1\", \"Topic1\", \"Topic1\", \"Topic1\", \"Topic1\", \"Topic1\", \"Topic1\", \"Topic1\", \"Topic1\", \"Topic1\", \"Topic1\", \"Topic1\", \"Topic1\", \"Topic1\", \"Topic1\", \"Topic1\", \"Topic1\", \"Topic1\", \"Topic1\", \"Topic1\", \"Topic1\", \"Topic1\", \"Topic1\", \"Topic1\", \"Topic1\", \"Topic1\", \"Topic1\", \"Topic1\", \"Topic1\", \"Topic1\", \"Topic1\", \"Topic1\", \"Topic1\", \"Topic1\", \"Topic1\", \"Topic1\", \"Topic1\", \"Topic1\", \"Topic1\", \"Topic1\", \"Topic1\", \"Topic1\", \"Topic1\", \"Topic1\", \"Topic1\", \"Topic1\", \"Topic1\", \"Topic1\", \"Topic1\", \"Topic1\", \"Topic1\", \"Topic1\", \"Topic1\", \"Topic1\", \"Topic1\", \"Topic1\", \"Topic1\", \"Topic1\", \"Topic1\", \"Topic1\", \"Topic1\", \"Topic1\", \"Topic1\", \"Topic1\", \"Topic1\", \"Topic1\", \"Topic1\", \"Topic1\", \"Topic1\", \"Topic1\", \"Topic1\", \"Topic1\", \"Topic1\", \"Topic1\", \"Topic1\", \"Topic1\", \"Topic1\", \"Topic1\", \"Topic1\", \"Topic2\", \"Topic2\", \"Topic2\", \"Topic2\", \"Topic2\", \"Topic2\", \"Topic2\", \"Topic2\", \"Topic2\", \"Topic2\", \"Topic2\", \"Topic2\", \"Topic2\", \"Topic2\", \"Topic2\", \"Topic2\", \"Topic2\", \"Topic2\", \"Topic2\", \"Topic2\", \"Topic2\", \"Topic2\", \"Topic2\", \"Topic2\", \"Topic2\", \"Topic2\", \"Topic2\", \"Topic2\", \"Topic2\", \"Topic2\", \"Topic2\", \"Topic2\", \"Topic2\", \"Topic2\", \"Topic2\", \"Topic2\", \"Topic2\", \"Topic2\", \"Topic2\", \"Topic2\", \"Topic2\", \"Topic2\", \"Topic2\", \"Topic2\", \"Topic2\", \"Topic2\", \"Topic2\", \"Topic2\", \"Topic2\", \"Topic2\", \"Topic2\", \"Topic2\", \"Topic2\", \"Topic2\", \"Topic2\", \"Topic2\", \"Topic2\", \"Topic2\", \"Topic2\", \"Topic2\", \"Topic2\", \"Topic2\", \"Topic2\", \"Topic2\", \"Topic2\", \"Topic2\", \"Topic2\", \"Topic2\", \"Topic2\", \"Topic2\", \"Topic2\", \"Topic2\", \"Topic2\", \"Topic2\", \"Topic2\", \"Topic2\", \"Topic2\", \"Topic2\", \"Topic2\", \"Topic2\", \"Topic2\", \"Topic2\", \"Topic2\", \"Topic2\", \"Topic2\", \"Topic2\", \"Topic2\", \"Topic2\", \"Topic2\", \"Topic2\", \"Topic2\", \"Topic2\", \"Topic3\", \"Topic3\", \"Topic3\", \"Topic3\", \"Topic3\", \"Topic3\", \"Topic3\", \"Topic3\", \"Topic3\", \"Topic3\", \"Topic3\", \"Topic3\", \"Topic3\", \"Topic3\", \"Topic3\", \"Topic3\", \"Topic3\", \"Topic3\", \"Topic3\", \"Topic3\", \"Topic3\", \"Topic3\", \"Topic3\", \"Topic3\", \"Topic3\", \"Topic3\", \"Topic3\", \"Topic3\", \"Topic3\", \"Topic3\", \"Topic3\", \"Topic3\", \"Topic3\", \"Topic3\", \"Topic3\", \"Topic3\", \"Topic3\", \"Topic3\", \"Topic3\", \"Topic3\", \"Topic3\", \"Topic3\", \"Topic3\", \"Topic3\", \"Topic3\", \"Topic3\", \"Topic3\", \"Topic3\", \"Topic3\", \"Topic3\", \"Topic3\", \"Topic3\", \"Topic3\", \"Topic3\", \"Topic3\", \"Topic3\", \"Topic3\", \"Topic3\", \"Topic3\", \"Topic3\", \"Topic3\", \"Topic3\", \"Topic3\", \"Topic3\", \"Topic3\", \"Topic3\", \"Topic3\", \"Topic3\", \"Topic3\", \"Topic3\", \"Topic3\", \"Topic3\", \"Topic3\", \"Topic3\", \"Topic3\", \"Topic3\", \"Topic3\", \"Topic3\", \"Topic3\", \"Topic3\", \"Topic3\", \"Topic3\", \"Topic4\", \"Topic4\", \"Topic4\", \"Topic4\", \"Topic4\", \"Topic4\", \"Topic4\", \"Topic4\", \"Topic4\", \"Topic4\", \"Topic4\", \"Topic4\", \"Topic4\", \"Topic4\", \"Topic4\", \"Topic4\", \"Topic4\", \"Topic4\", \"Topic4\", \"Topic4\", \"Topic4\", \"Topic4\", \"Topic4\", \"Topic4\", \"Topic4\", \"Topic4\", \"Topic4\", \"Topic4\", \"Topic4\", \"Topic4\", \"Topic4\", \"Topic4\", \"Topic4\", \"Topic4\", \"Topic4\", \"Topic4\", \"Topic4\", \"Topic4\", \"Topic4\", \"Topic4\", \"Topic4\", \"Topic4\", \"Topic4\", \"Topic4\", \"Topic4\", \"Topic4\", \"Topic4\", \"Topic4\", \"Topic4\", \"Topic4\", \"Topic4\", \"Topic4\", \"Topic4\", \"Topic4\", \"Topic4\", \"Topic4\", \"Topic4\", \"Topic4\", \"Topic4\", \"Topic4\", \"Topic4\", \"Topic4\", \"Topic4\", \"Topic4\", \"Topic4\", \"Topic4\", \"Topic4\", \"Topic4\", \"Topic4\", \"Topic4\", \"Topic4\", \"Topic4\", \"Topic4\", \"Topic4\", \"Topic4\", \"Topic4\", \"Topic4\", \"Topic4\", \"Topic4\", \"Topic4\", \"Topic4\", \"Topic4\", \"Topic4\", \"Topic4\", \"Topic4\", \"Topic4\", \"Topic4\", \"Topic4\", \"Topic5\", \"Topic5\", \"Topic5\", \"Topic5\", \"Topic5\", \"Topic5\", \"Topic5\", \"Topic5\", \"Topic5\", \"Topic5\", \"Topic5\", \"Topic5\", \"Topic5\", \"Topic5\", \"Topic5\", \"Topic5\", \"Topic5\", \"Topic5\", \"Topic5\", \"Topic5\", \"Topic5\", \"Topic5\", \"Topic5\", \"Topic5\", \"Topic5\", \"Topic5\", \"Topic5\", \"Topic5\", \"Topic5\", \"Topic5\", \"Topic5\", \"Topic5\", \"Topic5\", \"Topic5\", \"Topic5\", \"Topic5\", \"Topic5\", \"Topic5\", \"Topic5\", \"Topic5\", \"Topic5\", \"Topic5\", \"Topic5\", \"Topic5\", \"Topic5\", \"Topic5\", \"Topic5\", \"Topic5\", \"Topic5\", \"Topic5\", \"Topic5\", \"Topic5\", \"Topic5\", \"Topic5\", \"Topic5\", \"Topic5\", \"Topic5\", \"Topic5\", \"Topic5\", \"Topic5\", \"Topic5\", \"Topic5\", \"Topic5\", \"Topic5\", \"Topic5\", \"Topic5\", \"Topic5\", \"Topic5\", \"Topic5\", \"Topic5\", \"Topic5\", \"Topic5\", \"Topic5\", \"Topic5\", \"Topic5\", \"Topic5\", \"Topic5\", \"Topic5\", \"Topic5\", \"Topic5\", \"Topic5\", \"Topic5\", \"Topic5\", \"Topic5\", \"Topic5\", \"Topic5\", \"Topic5\", \"Topic5\", \"Topic5\", \"Topic5\", \"Topic5\"], \"logprob\": [30.0, 29.0, 28.0, 27.0, 26.0, 25.0, 24.0, 23.0, 22.0, 21.0, 20.0, 19.0, 18.0, 17.0, 16.0, 15.0, 14.0, 13.0, 12.0, 11.0, 10.0, 9.0, 8.0, 7.0, 6.0, 5.0, 4.0, 3.0, 2.0, 1.0, -6.8612, -7.8823, -8.6959, -9.0862, -6.5091, -9.3861, -8.9931, -9.4655, -9.4876, -9.4243, -9.541, -8.1278, -9.6159, -8.8583, -9.6987, -9.6314, -8.2608, -9.7279, -8.9676, -9.7005, -9.5446, -9.7725, -9.78, -9.4574, -9.7895, -9.8486, -7.1355, -6.4622, -9.905, -9.8591, -7.4374, -8.0594, -4.8814, -7.677, -6.2533, -8.591, -6.0493, -7.9175, -8.0324, -5.7903, -6.6907, -6.4838, -6.5659, -3.7496, -5.2709, -7.378, -7.0365, -5.6735, -6.1078, -5.3016, -5.2489, -5.7209, -4.9224, -4.9596, -5.8543, -4.8546, -6.3378, -3.4422, -6.1969, -4.4437, -6.8386, -5.5766, -5.7114, -4.2463, -4.9867, -4.9478, -5.3046, -5.7167, -4.68, -3.5589, -5.6674, -5.2425, -5.043, -5.2315, -5.116, -4.6252, -4.9879, -5.0036, -5.2562, -5.4135, -5.4922, -5.3296, -5.4742, -5.468, -5.5186, -7.7717, -8.0999, -8.3314, -8.1828, -7.0528, -8.8187, -7.6661, -8.6649, -8.6765, -8.0398, -8.9932, -8.9275, -9.0548, -9.0654, -9.1272, -8.3484, -9.0836, -9.2399, -8.882, -8.8965, -9.3521, -9.3418, -9.2782, -8.4633, -8.0797, -8.604, -8.9277, -9.4037, -8.0694, -9.3665, -8.4214, -8.7268, -8.1701, -8.9386, -6.6981, -7.1794, -7.9682, -8.3788, -6.9268, -7.2844, -8.1087, -5.3474, -6.8576, -5.0789, -6.6225, -7.445, -7.953, -6.8624, -7.226, -6.8993, -6.954, -6.7819, -6.9188, -7.2085, -6.0747, -5.4536, -6.2199, -5.583, -4.363, -5.0901, -5.2682, -7.1115, -4.5124, -3.7289, -5.0473, -5.5647, -6.0293, -6.6579, -6.2253, -3.5446, -6.4199, -5.0975, -5.3954, -5.4444, -5.7472, -5.4268, -5.1393, -5.5014, -5.6142, -5.4867, -5.9811, -4.9538, -5.9179, -5.299, -5.3097, -5.8344, -5.766, -5.4631, -5.398, -5.5397, -5.8487, -5.7089, -6.6273, -6.7326, -6.789, -6.2951, -6.617, -7.2383, -7.0433, -7.6542, -6.5091, -8.039, -7.2862, -8.1576, -8.1411, -8.2033, -8.3137, -7.8999, -8.3596, -8.5761, -8.6398, -7.906, -8.7575, -6.1811, -8.7237, -8.8007, -8.8361, -8.8024, -8.8835, -6.3078, -8.3019, -8.9072, -7.4581, -7.6184, -8.0305, -5.8768, -5.719, -6.8182, -6.4039, -4.0774, -6.1778, -5.1825, -6.2831, -6.3361, -6.1757, -6.8838, -6.2375, -6.6034, -4.1651, -6.4916, -6.7023, -6.2939, -4.4772, -6.144, -4.3874, -4.3532, -5.1726, -4.9882, -5.5623, -5.9394, -5.1951, -5.9318, -4.1248, -5.7306, -5.0497, -4.2636, -4.2281, -3.3995, -4.8131, -5.2192, -5.271, -5.2352, -5.4283, -5.6493, -5.3542, -5.0241, -4.9753, -5.3088, -5.2043, -5.4512, -5.4604, -5.4933, -5.4059, -5.4975, -7.151, -5.0176, -7.9782, -8.9363, -8.9364, -8.9408, -9.0853, -8.9921, -9.3408, -7.9481, -9.4222, -5.8371, -7.7165, -9.5432, -9.6053, -9.6326, -8.0185, -9.7026, -9.5799, -9.6967, -9.4176, -9.756, -7.8065, -9.7924, -9.489, -9.8074, -9.6199, -9.8629, -9.8585, -9.8523, -7.1955, -5.4008, -6.7289, -9.174, -8.7299, -6.4272, -6.5035, -5.531, -8.9009, -8.9793, -8.3301, -3.9729, -4.8833, -7.4258, -6.9108, -6.665, -6.5234, -7.677, -7.3523, -6.1793, -7.2915, -7.4919, -6.1547, -5.9064, -4.9869, -5.8048, -6.8539, -3.9274, -5.1195, -5.596, -5.8743, -6.3813, -5.2344, -4.5477, -5.0793, -5.9144, -5.7843, -5.6996, -5.0205, -4.8844, -3.6009, -4.7536, -4.8997, -4.6622, -5.0392, -4.9677, -4.8933, -5.4716, -5.7579, -5.5593, -5.1339, -5.4166, -5.5091, -5.4149, -5.5836, -5.45, -5.5315, -5.5564, -6.2616, -6.979, -7.6682, -7.1012, -7.9847, -8.0537, -6.6975, -7.9694, -8.1757, -8.4215, -8.7583, -6.1875, -8.7871, -8.9191, -8.9188, -7.1486, -8.9386, -8.8754, -8.9707, -8.988, -8.9244, -9.0354, -8.9765, -7.621, -8.1423, -9.1056, -8.9474, -7.3148, -9.1515, -9.1509, -6.0701, -5.8886, -7.1815, -7.553, -5.9611, -7.4108, -7.6298, -7.7994, -7.39, -8.0755, -6.3445, -7.5788, -8.6292, -4.6565, -6.5788, -6.5823, -7.0968, -6.149, -6.3418, -4.083, -6.247, -5.4448, -6.732, -6.336, -6.211, -5.6048, -4.3981, -6.2577, -5.4427, -4.3403, -5.1087, -5.8565, -5.6679, -5.4874, -5.5058, -6.2327, -4.6561, -5.1877, -4.5371, -3.3175, -5.7866, -4.8658, -4.6118, -4.7451, -4.6608, -5.1656, -4.5322, -5.1537, -4.7072, -5.1476, -5.4433, -5.5053, -5.3971, -5.3458, -5.514, -5.1857, -5.1969, -5.4637, -5.4098, -5.3622, -5.4048], \"loglift\": [30.0, 29.0, 28.0, 27.0, 26.0, 25.0, 24.0, 23.0, 22.0, 21.0, 20.0, 19.0, 18.0, 17.0, 16.0, 15.0, 14.0, 13.0, 12.0, 11.0, 10.0, 9.0, 8.0, 7.0, 6.0, 5.0, 4.0, 3.0, 2.0, 1.0, 1.34, 1.3351, 1.3341, 1.329, 1.323, 1.3214, 1.3204, 1.3193, 1.3188, 1.3184, 1.3169, 1.3155, 1.3143, 1.3125, 1.3114, 1.311, 1.3096, 1.3095, 1.3094, 1.3089, 1.3081, 1.3077, 1.3076, 1.305, 1.3048, 1.3039, 1.3031, 1.3028, 1.3024, 1.3015, 1.2922, 1.2971, 1.2649, 1.2912, 1.2762, 1.2963, 1.2545, 1.284, 1.2789, 1.2264, 1.2461, 1.2394, 1.2394, 1.1121, 1.1734, 1.2487, 1.2331, 1.1354, 1.1377, 1.0672, 1.0606, 1.0896, 1.028, 0.9933, 1.0721, 0.9561, 1.1098, 0.7793, 1.0848, 0.7467, 1.1497, 0.896, 0.9141, 0.5873, 0.7396, 0.6772, 0.7688, 0.8939, 0.5046, -0.0673, 0.8537, 0.6516, 0.5124, 0.6139, 0.5094, 0.1446, 0.3536, 0.3352, 0.348, 0.5171, 0.5305, 0.058, 0.3491, -0.2595, -0.0778, 1.4533, 1.4527, 1.45, 1.4483, 1.4476, 1.4453, 1.4449, 1.4441, 1.4428, 1.4426, 1.4416, 1.4402, 1.4401, 1.4393, 1.4383, 1.4383, 1.4382, 1.4349, 1.4332, 1.4329, 1.4324, 1.4323, 1.4317, 1.4315, 1.431, 1.4306, 1.4298, 1.4292, 1.4286, 1.4276, 1.4234, 1.425, 1.4174, 1.4261, 1.3707, 1.3832, 1.4042, 1.4097, 1.3467, 1.3499, 1.3903, 1.2392, 1.3144, 1.1955, 1.2867, 1.3356, 1.3719, 1.2858, 1.3118, 1.2789, 1.2822, 1.2328, 1.2468, 1.2629, 1.0935, 0.976, 1.082, 0.9641, 0.719, 0.8476, 0.8625, 1.2328, 0.6962, 0.4926, 0.7085, 0.8103, 0.9081, 1.0956, 0.9519, -0.053, 0.9995, 0.4523, 0.5612, 0.5181, 0.6394, 0.4662, 0.3015, 0.423, 0.4556, 0.3587, 0.6974, -0.0508, 0.6411, 0.0886, 0.0481, 0.4881, 0.363, -0.1903, -0.6281, -0.3492, 0.383, -0.8754, 1.7308, 1.7301, 1.729, 1.7289, 1.7288, 1.7287, 1.7262, 1.7252, 1.7242, 1.7224, 1.722, 1.7212, 1.7207, 1.7192, 1.7189, 1.7178, 1.7158, 1.7142, 1.7138, 1.7125, 1.711, 1.7108, 1.7101, 1.71, 1.7096, 1.7089, 1.7079, 1.7075, 1.7074, 1.7052, 1.7008, 1.7005, 1.7039, 1.6564, 1.652, 1.6607, 1.6435, 1.5575, 1.6108, 1.5375, 1.5936, 1.5931, 1.5797, 1.6265, 1.5663, 1.5885, 1.3362, 1.566, 1.5728, 1.5209, 1.2579, 1.4929, 1.2009, 1.1833, 1.3195, 1.2843, 1.3566, 1.4404, 1.2102, 1.3863, 0.7782, 1.3147, 1.0406, 0.6288, 0.5417, 0.0922, 0.5679, 0.8228, 0.7929, 0.7399, 0.8881, 1.0752, 0.6657, 0.0579, -0.1417, 0.32, 0.0685, 0.5113, 0.4525, 0.4252, 0.0349, 0.0522, 1.7336, 1.7266, 1.7265, 1.7135, 1.7125, 1.7105, 1.7067, 1.7035, 1.6996, 1.697, 1.6922, 1.6921, 1.6896, 1.689, 1.6876, 1.6861, 1.6834, 1.6811, 1.6803, 1.6802, 1.6799, 1.6784, 1.6783, 1.676, 1.6748, 1.6748, 1.6736, 1.6727, 1.6721, 1.6721, 1.6689, 1.6498, 1.6509, 1.671, 1.6622, 1.6086, 1.588, 1.5379, 1.6534, 1.6551, 1.6232, 1.3848, 1.4292, 1.5643, 1.5288, 1.5105, 1.4895, 1.5688, 1.5421, 1.4339, 1.5163, 1.5352, 1.3838, 1.3478, 1.1896, 1.2815, 1.416, 0.965, 1.1344, 1.2026, 1.2159, 1.3119, 1.015, 0.7937, 0.908, 1.1421, 1.0943, 1.008, 0.7353, 0.5469, -0.1092, 0.431, 0.3731, 0.1713, 0.3483, 0.2409, 0.0097, 0.4591, 0.8469, 0.4994, -0.2722, 0.2084, 0.3142, 0.0259, 0.349, -0.3679, 0.0182, 0.0724, 1.8464, 1.8455, 1.8414, 1.8389, 1.8383, 1.8375, 1.8363, 1.8353, 1.8332, 1.8316, 1.8249, 1.8242, 1.8237, 1.8206, 1.8202, 1.8196, 1.819, 1.8187, 1.8187, 1.8185, 1.8184, 1.8167, 1.8158, 1.8155, 1.8152, 1.8147, 1.8142, 1.8139, 1.813, 1.8118, 1.7796, 1.7624, 1.7883, 1.7844, 1.7276, 1.7681, 1.77, 1.7748, 1.749, 1.7791, 1.687, 1.746, 1.8052, 1.5503, 1.6715, 1.6665, 1.7044, 1.6067, 1.6103, 1.3483, 1.5981, 1.4963, 1.6532, 1.597, 1.5782, 1.4824, 1.2453, 1.5609, 1.4142, 1.2151, 1.2982, 1.4478, 1.3738, 1.3193, 1.2718, 1.4848, 0.8857, 1.0727, 0.8017, 0.1741, 1.2787, 0.7595, 0.5787, 0.6358, 0.5238, 0.8217, 0.2376, 0.7393, 0.1852, 0.4566, 0.8061, 0.8542, 0.6617, 0.5671, 0.7932, 0.0871, -0.2939, 0.6001, 0.219, -0.2802, -0.0172]}, \"token.table\": {\"Topic\": [3, 1, 3, 4, 5, 1, 4, 5, 1, 2, 4, 5, 3, 3, 5, 1, 2, 3, 4, 5, 5, 3, 5, 1, 2, 1, 2, 4, 1, 2, 4, 1, 2, 3, 4, 5, 1, 2, 4, 5, 2, 4, 1, 2, 3, 4, 5, 1, 2, 3, 4, 5, 1, 2, 4, 5, 1, 1, 1, 2, 3, 4, 5, 2, 3, 1, 3, 5, 2, 3, 4, 1, 3, 2, 1, 2, 3, 4, 5, 1, 2, 3, 4, 5, 5, 1, 2, 3, 4, 5, 1, 2, 3, 4, 5, 2, 4, 1, 2, 3, 4, 5, 3, 5, 5, 3, 1, 2, 4, 5, 1, 2, 4, 5, 1, 2, 3, 4, 5, 5, 5, 1, 2, 3, 4, 5, 1, 1, 2, 3, 4, 5, 1, 2, 4, 3, 1, 1, 2, 4, 5, 1, 2, 4, 5, 2, 4, 2, 3, 4, 5, 2, 3, 5, 1, 2, 3, 4, 5, 3, 4, 5, 1, 2, 3, 4, 5, 1, 2, 3, 4, 5, 1, 2, 3, 4, 5, 1, 2, 3, 4, 5, 1, 5, 1, 2, 3, 4, 5, 4, 1, 2, 3, 4, 5, 1, 2, 3, 4, 5, 1, 2, 3, 4, 5, 1, 2, 1, 2, 4, 1, 2, 5, 4, 3, 4, 5, 1, 2, 3, 4, 5, 1, 2, 3, 4, 5, 1, 2, 3, 4, 5, 1, 2, 3, 4, 5, 3, 3, 5, 2, 3, 5, 1, 3, 4, 5, 4, 1, 2, 3, 4, 5, 1, 2, 1, 2, 4, 5, 4, 4, 1, 2, 3, 5, 1, 2, 3, 4, 5, 1, 5, 1, 2, 3, 4, 5, 2, 3, 4, 5, 1, 2, 3, 4, 5, 2, 3, 4, 5, 1, 2, 3, 4, 5, 4, 1, 5, 3, 5, 1, 2, 3, 4, 1, 5, 1, 5, 1, 2, 3, 4, 5, 1, 2, 3, 4, 5, 1, 2, 3, 4, 5, 1, 2, 3, 4, 5, 1, 2, 3, 4, 5, 1, 1, 2, 3, 4, 5, 2, 1, 4, 5, 1, 2, 3, 4, 5, 1, 2, 3, 4, 5, 1, 2, 3, 4, 5, 1, 2, 3, 4, 5, 3, 5, 1, 2, 3, 4, 5, 1, 2, 4, 1, 2, 3, 4, 5, 2, 4, 1, 2, 4, 5, 2, 1, 1, 2, 5, 1, 2, 3, 4, 5, 3, 5, 1, 2, 1, 3, 3, 1, 2, 4, 5, 1, 2, 5, 1, 2, 3, 4, 5, 1, 4, 5, 5, 5, 5, 5, 1, 2, 5, 1, 2, 1, 2, 3, 4, 5, 1, 2, 3, 4, 5, 2, 4, 5, 1, 1, 5, 1, 2, 3, 4, 5, 4, 2, 4, 1, 2, 3, 4, 5, 1, 2, 3, 4, 5, 4, 2, 1, 2, 3, 4, 5, 3, 1, 2, 3, 4, 5, 2, 5, 1, 2, 3, 4, 5, 1, 3, 1, 2, 3, 4, 5, 2, 3, 4, 5, 3, 4, 5, 2, 3, 4, 5, 2, 3, 1, 3, 4, 5, 1, 2, 3, 4, 5, 1, 2, 3, 4, 5, 2, 1, 2, 3, 4, 1, 2, 3, 4, 5, 3, 1, 2, 3, 4, 5, 1, 2, 5, 1, 2, 3, 4, 5, 1, 2, 3, 4, 5, 1, 2, 3, 4, 5, 1, 2, 3, 4, 5, 1, 2, 3, 4, 5, 1, 2, 5, 1, 2, 3, 4, 5, 2, 3, 4, 5, 1, 2, 3, 4, 5, 2, 3, 5, 1, 2, 3, 4, 5, 3, 5, 1, 2, 3, 4, 5, 1, 2, 3, 4, 5, 2, 4, 3, 3, 1, 2, 3, 4, 5, 1, 2, 3, 4, 5, 1, 2, 3, 4, 5, 1, 2, 3, 4, 5, 1, 2, 3, 4, 5, 1, 2, 3, 4, 5, 1, 2, 3, 4, 5, 1, 2, 3, 4, 5, 1, 2, 3, 4, 5, 5, 2, 4, 5, 1, 2, 3, 4, 5, 1, 2, 3, 4, 5, 1, 2, 3, 4, 5, 1, 2, 3, 4, 5, 1, 2, 3, 4, 5, 2, 5, 2, 5, 2, 3, 4, 5, 1, 1, 2, 4, 5, 1, 2, 3, 4, 5, 1, 2, 4, 5, 2, 5, 1, 2, 3, 4, 5, 4, 1, 2, 3, 4, 5, 1, 2, 3, 4, 5, 2, 1, 2, 3, 4, 5, 1, 2, 3, 4, 5, 4, 2, 4, 1, 2, 3, 4, 5, 1, 2, 4, 1, 2, 3, 4, 5, 1, 2, 3, 4, 5, 1, 2, 3, 4, 1, 2, 3, 4, 5, 3, 4, 1, 2, 3, 4, 5, 1, 2, 3, 4, 5, 4, 3, 4, 3, 1, 2, 3, 4, 5, 4, 5, 1, 2, 3, 4, 5, 1, 2, 3, 4, 5, 1, 2, 3, 4, 5, 1, 2, 3, 4, 5, 1, 2, 3, 4, 5, 1, 2, 3, 4, 5, 1, 2, 3, 4, 5, 3, 1, 2, 5, 1, 2, 3, 4, 5, 2, 4, 1, 2, 3, 4, 5, 4, 1, 2, 3, 4, 5, 1, 2, 4, 1, 2, 3, 4, 5, 1, 1, 2, 3, 4, 1, 2, 3, 4, 5, 1, 3, 5, 2, 4, 2, 4, 1, 2, 3, 4, 5, 1, 2, 3, 4, 5, 1, 2, 3, 4, 5, 2, 3, 4, 5, 2, 1, 2, 3, 4, 5, 2, 1, 2, 3, 4, 5, 2, 4, 5, 1, 2, 3, 4, 5, 1, 2, 3, 4, 5, 1, 2, 4, 1, 4, 3, 3, 1, 2, 3, 4, 1, 2, 3, 4, 5, 1, 2, 3, 4, 5, 1, 3, 1, 2, 4, 4, 3, 4, 5, 1, 2, 3, 4, 5, 1, 2, 3, 4, 5, 1, 3, 5, 4, 1, 2, 3, 4, 5, 1, 2, 3, 4, 5, 1, 2, 3, 4, 5, 1, 2, 3, 4, 5, 5, 1, 2, 3, 4, 5, 1, 2, 4, 5, 3, 1, 2, 4, 5, 1, 2, 3, 4, 5, 1, 2, 3, 4, 2, 3, 4, 5, 1, 2, 3, 4, 5, 1, 2, 3, 4, 5, 1, 2, 3, 4, 5, 1, 2, 4, 5, 4, 1, 2, 3, 4, 5, 2, 3, 4, 5, 3, 1, 2, 3, 4, 5, 1, 2, 3, 4, 5, 5, 1, 2, 4, 5, 1, 2, 4, 5, 1, 2, 4, 5, 1, 2, 3, 4, 5, 1, 2, 3, 4, 5, 1, 2, 3, 4, 5, 4, 5, 2, 3, 4, 5, 1, 2, 4, 5, 2, 3, 5, 2, 4, 5, 3, 4, 5, 2, 3, 4, 5, 4, 4, 1, 2, 3, 4, 5, 4, 1, 2, 3, 4, 5, 1, 2, 3, 4, 5, 1, 2, 4, 5, 3, 3, 1, 2, 4, 5, 1, 1, 2, 4, 5, 1, 2, 3, 4, 5, 4, 5, 3, 3, 5, 1, 2, 3, 1, 2, 4, 1, 2, 4, 5, 5, 1, 2, 3, 5, 2, 4, 1, 2, 3, 4, 5, 1, 2, 3, 4, 5, 1, 2, 3, 4, 5, 4, 2, 3, 5, 1, 2, 4, 2, 3, 1, 2, 3, 4, 5, 1, 2, 3, 4, 5, 5, 4, 5, 1, 2, 4, 5, 1, 5, 1, 2, 3, 4, 5, 2, 1, 5, 1, 5, 2, 1, 2, 3, 4, 5, 1, 2, 3, 4, 5, 1, 1, 2, 5], \"Freq\": [0.9802251984481127, 0.00580310962751959, 0.05222798664767631, 0.8182384574802622, 0.1218653021779114, 0.03313202756797222, 0.8150478781721165, 0.14578092129907777, 0.9858570444231747, 0.008015097922139633, 0.8867469793268672, 0.10038645048983402, 0.9938404275364626, 0.9916580080561184, 0.005991891287348147, 0.94260522776552, 0.08031919818574745, 0.008924355353971939, 0.008924355353971939, 0.9013598907511658, 0.954356307171682, 0.13215820243287807, 0.8669578079596801, 0.9363045458443423, 0.9816147314457258, 0.01577973897668085, 0.9625640775775318, 0.01577973897668085, 0.04249012067112097, 0.9241601245968811, 0.021245060335560485, 0.014876537422380062, 0.05206788097833022, 0.9253206276720399, 0.0029753074844760126, 0.0029753074844760126, 0.9547610021659957, 0.020633341893567685, 0.0018757583539606988, 0.022509100247528384, 0.9800019821683841, 0.014411793855417413, 0.24236767744150736, 0.2194717337944934, 0.19370072873061694, 0.15734427026829229, 0.1871403613157762, 0.13486772880021095, 0.22780766626356874, 0.04961455308194288, 0.026554267846673654, 0.5611336073915512, 0.9183637061688167, 0.07507465343832496, 0.002229940201138365, 0.00445988040227673, 0.938175881167811, 0.9512235879376204, 0.09827252932665724, 0.6916161026196821, 0.0018541986665407025, 0.0704595493285467, 0.1390648999905527, 0.02661245272842759, 0.9669191157995358, 0.9487394338286281, 0.018422124928711224, 0.027633187393066836, 0.9861028636998737, 0.003913106601983626, 0.011739319805950877, 0.011971088069864062, 0.9816292217288531, 0.9862312842096645, 0.14637099361160266, 0.6822776960282769, 0.023608224776064946, 0.14164934865638967, 0.005902056194016236, 0.24273180027198443, 0.10742839676553632, 0.3702051457051427, 0.2010758913220826, 0.07861378305582979, 0.9863879529348489, 0.18058355684549038, 0.09493766411340099, 0.5766958107314039, 0.0698902803898654, 0.07797008159100591, 0.6463778560190995, 0.00720198168266406, 0.08462328477130271, 0.13443699140972915, 0.12663484458684307, 0.06103137042438823, 0.9154705563658234, 0.02175375538945042, 0.00310767934135006, 0.02175375538945042, 0.724089286534564, 0.22996827125990443, 0.8564256813844919, 0.14118948326512232, 0.9580314751697091, 0.9640408380202096, 0.010135627175654499, 0.24274827085692524, 0.7008786191965086, 0.04611710364922797, 0.008057378098677605, 0.16759346445249415, 0.736444358219133, 0.08701968346571812, 0.372664169683387, 0.00372664169683387, 0.0027949812726254025, 0.05683128587671652, 0.5645862170703313, 0.9723075293207247, 0.9687101208686321, 0.2399016205109435, 0.3127715083019493, 0.1830007005733823, 0.1800638788991856, 0.08425007177851804, 0.9436079675688127, 0.20202105305655157, 0.36371976826898905, 0.18605586345329828, 0.1786873144056429, 0.0693871701987548, 0.1710614065875743, 0.8172933870295217, 0.007602729181669969, 0.9646568550296244, 0.9816300724481234, 0.031186712704015216, 0.8888213120644336, 0.009356013811204565, 0.06861076794883347, 0.10833032257884319, 0.8384766967602463, 0.0043332129031537275, 0.047665341934691, 0.9776000673681194, 0.025066668394054345, 0.8611602107963244, 0.036558688194183585, 0.05280699405826518, 0.04874491759224478, 0.011452110232368676, 0.05726055116184338, 0.9276209288218628, 0.10339665164479146, 0.06226276631653747, 0.1276723872483512, 0.16048958537908936, 0.5462040510800941, 0.008092586619959999, 0.004046293309979999, 0.9872955676351199, 0.19318302433746545, 0.19132101928361037, 0.18914868005411276, 0.25478435820250467, 0.17145963204248943, 0.20372464903448706, 0.12118668833241192, 0.34358063800189215, 0.23189236578202063, 0.09956960338663033, 0.09191169733172071, 0.14863434482786836, 0.6607138013903123, 0.016281500670190525, 0.08245792274902944, 0.14625934996079074, 0.12689641001326288, 0.31170875647672064, 0.1182522403938308, 0.2968407847312975, 0.9583679045601261, 0.03422742516286165, 0.18224278574675296, 0.31216425558556715, 0.08994563296533291, 0.40916444799916146, 0.005878799540217837, 0.927232289887167, 0.2452030034566995, 0.010266148292873086, 0.0007897037148363912, 0.002763963001927369, 0.7411369363739532, 0.46633211168381045, 0.09640663857241975, 0.15331055698290402, 0.20831434455015596, 0.07560520618334993, 0.7882425255066826, 0.03476784204897021, 0.012240749123749867, 0.1337224694191162, 0.030961894842426136, 0.012122737094810241, 0.9819417046796295, 0.014190159089729792, 0.9507406590118961, 0.028380318179459584, 0.010747069908821736, 0.9672362917939562, 0.021494139817643473, 0.9580475477830274, 0.005321928597507309, 0.7982892896260964, 0.19158942951026314, 0.0783971557266469, 0.8063707446169396, 0.008399695256426453, 0.10359624149592626, 0.0055997968376176365, 0.010727285853627774, 0.01090910425792655, 0.06963644884643114, 0.30327309837035804, 0.6054552863149235, 0.01965536252559229, 0.10747044993831914, 0.08020655998346532, 0.43527117334900345, 0.357600789175292, 0.1114797680093309, 0.0006596435976883486, 0.8219159227196823, 0.01385251555145532, 0.051452200619691184, 0.9738879979211339, 0.9129198254121561, 0.08457567864853763, 0.015319194382615316, 0.9306410587438805, 0.04978738174349978, 0.00961339633113569, 0.06969712340073375, 0.7786851028219909, 0.1393942468014675, 0.972755612119572, 0.2428685919259688, 0.4054983199371555, 0.11774515279448867, 0.17000801434817817, 0.06363771965655132, 0.025245944386769487, 0.9593458866972405, 0.8183841561373529, 0.11021219294686416, 0.056278566611164677, 0.016414581928256365, 0.9542930168719295, 0.972052859086614, 0.8839301048170511, 0.060348641694336826, 0.001774960049833436, 0.054136281519919796, 0.12565124737048528, 0.001686593924436044, 0.6379541519179336, 0.003794836329981099, 0.23106336764773802, 0.9603135429425741, 0.965074949580929, 0.0022615324400072296, 0.013569194640043379, 0.013569194640043379, 0.18318412764058561, 0.7870132891225159, 0.006085319112488681, 0.009127978668733022, 0.15213297781221702, 0.8336887184109494, 0.004761597941840502, 0.0009523195883681003, 0.2571262888593871, 0.044759020653300716, 0.692336340743609, 0.0030470712823066418, 0.1401652789861055, 0.021329498976146492, 0.8348975313520198, 0.020944373220549456, 0.010472186610274728, 0.020944373220549456, 0.9424967949247255, 0.010472186610274728, 0.9174947659907834, 0.9553799315019204, 0.046985898270586246, 0.02498762013679119, 0.9682702803006588, 0.9393417225904578, 0.03757366890361831, 0.06612008726202483, 0.9256812216683475, 0.8943541416996716, 0.10349512993467816, 0.9333097095372379, 0.06163366006377986, 0.03550251781860576, 0.019970166272965738, 0.06434831354622293, 0.10206973872849155, 0.7766175772820009, 0.1641288065285874, 0.06626590851822646, 0.022820047966541565, 0.7328746173870079, 0.014043106440948656, 0.3624958816155168, 0.06464261263376843, 0.12166071198252829, 0.10077617559315694, 0.35056186082159035, 0.26608303515509, 0.05937593654849694, 0.621353161723275, 0.05099924840472559, 0.0019709854455932595, 0.0927095589838678, 0.036548960753255574, 0.8383975021569968, 0.019388777960568506, 0.012702992456924194, 0.9754699924193466, 0.1149907682547563, 0.2083932313582365, 0.4291226370886308, 0.07710108982598603, 0.17050355292946623, 0.9604078626575981, 0.9387337419893985, 0.04733111304148228, 0.007888518840247046, 0.4190388475295007, 0.5204116790946085, 0.0018686236233199586, 0.005605870869959876, 0.05278861735878883, 0.17394494518379452, 0.19042703812845188, 0.27784099535279533, 0.08064452619350203, 0.2772523491762004, 0.014754036121853411, 0.014754036121853411, 0.06639316254834035, 0.8778651492502779, 0.024590060203089018, 0.002827713355940793, 0.036760273627230305, 0.0395879869831711, 0.7945874530193628, 0.12441938766139489, 0.07712632558940921, 0.9178032745139697, 0.22551549305363736, 0.1796429190072938, 0.2702042587374946, 0.1506396141263798, 0.17372387719486238, 0.962767677966254, 0.03687948610046092, 0.958866638611984, 0.5650720051460769, 0.37873924030136286, 0.004229905604740306, 0.014045455790099224, 0.03790646176555736, 0.9696537820787656, 0.9915954200030404, 0.0768124223194271, 0.2601147937635145, 0.6511598528442343, 0.010474421225376422, 0.986262314718901, 0.9446609477251399, 0.9893609192179219, 0.002901351669260768, 0.005802703338521536, 0.09757364696338626, 0.4749182501345371, 0.1871977983791642, 0.12142213360621129, 0.118857780203757, 0.06733747732984849, 0.9234854033807792, 0.11392944872805988, 0.8803639219895536, 0.0024301472425103106, 0.9963603694292273, 0.9978702783446743, 0.7534850976683218, 0.09285090544279997, 0.012534872234777996, 0.14113337627305597, 0.9433357106475357, 0.04997805089523368, 0.00624725636190421, 0.12705871277113995, 0.05610384719764621, 0.7854538607670469, 0.0016501131528719472, 0.02970203675169505, 0.0062572635702211, 0.0500581085617688, 0.938589535533165, 0.9805920821551039, 0.9817353730438729, 0.9876404270768634, 0.9840259526608107, 0.972812237778353, 0.012034790570453853, 0.014040588998862827, 0.9712652694466857, 0.02312536355825442, 0.016652862367261434, 0.0022274529281050325, 0.3312540711653341, 0.46065847936953125, 0.18922742970187514, 0.18336511942220382, 0.11148111911715382, 0.1654956504198185, 0.15838847524841526, 0.38114765133496853, 0.9626903275367746, 0.02993726160533347, 0.9679714585724488, 0.9777265470818185, 0.9810175976393144, 0.9905375267778879, 0.00838924216632261, 0.03355696866529044, 0.8682865642143901, 0.07760049003848414, 0.010486552707903262, 0.9751486636276574, 0.05189581999979483, 0.934124759996307, 0.01284504741972684, 0.35966132775235155, 0.02426286734837292, 0.5844496575975712, 0.01855395738404988, 0.36757267747296574, 0.09310406032624169, 0.18728446817070582, 0.24029458344316135, 0.1116710550155789, 0.9134704189963495, 0.9934069651543864, 0.14816692053606387, 0.6070959215972055, 0.08157504613783292, 0.16204022770236198, 0.0016647968599557738, 0.9817423072803397, 0.29961467134479947, 0.12348666066074415, 0.3036495698314347, 0.07394186063880426, 0.19939905311860284, 0.9875341419908235, 0.9956607883967471, 0.8884907035180257, 0.009319832554384885, 0.07145204958361745, 0.0031066108514616283, 0.024852886811693026, 0.003352889211127522, 0.995808095704874, 0.4973554903079957, 0.08549200065689125, 0.126216230699532, 0.1715616499668696, 0.11928444686248676, 0.00203201443857296, 0.20116942941872304, 0.0203201443857296, 0.7762295155348707, 0.04080925298094064, 0.9386128185616348, 0.9680624752572974, 0.00638622274346112, 0.04470355920422784, 0.8365951793934068, 0.10217956389537793, 0.017694343665852916, 0.9731889016219103, 0.00903731486749335, 0.0361492594699734, 0.0180746297349867, 0.9398807462193084, 0.17109804353441485, 0.43861597900535076, 0.08365843565080505, 0.20749182627516055, 0.09925577111112463, 0.24512034875743266, 0.03939085954574494, 0.6719846633397876, 0.0031200680828312828, 0.04056088507680668, 0.9872641586739068, 0.05368804114603956, 0.894800685767326, 0.02684402057301978, 0.02684402057301978, 0.0040829473743086995, 0.0040829473743086995, 0.05920273692747614, 0.0020414736871543497, 0.9329534750295378, 0.9920900120411436, 0.1251960636657179, 0.04050460883302638, 0.014728948666555048, 0.8100921766605276, 0.011046711499916286, 0.9565963075406866, 0.020795571903058405, 0.020795571903058405, 0.25585716395936364, 0.11652023224469721, 0.2432304467769535, 0.1887361936739202, 0.1956033556503187, 0.366173678368393, 0.07728288689182163, 0.16376611746124106, 0.023460876377874425, 0.3693937986555522, 0.09125027344849726, 0.7650659500705025, 0.0008449099393379376, 0.055764055996303886, 0.08744817872147655, 0.004815691150317866, 0.7945890398024479, 0.004815691150317866, 0.17818057256176104, 0.01685491902611253, 0.05408188280468335, 0.8352646344278873, 0.018027294268227783, 0.08412737325172966, 0.012018196178818523, 0.9527164832444143, 0.01839221010124352, 0.025749094141740925, 0.2564281627989514, 0.33277215998553383, 0.15487968807230115, 0.1567060994882481, 0.09935678102751394, 0.005631192228986924, 0.005631192228986924, 0.9291467177828425, 0.05631192228986925, 0.0014816590321116096, 0.005926636128446438, 0.03259649870645541, 0.952706757647765, 0.007408295160558048, 0.022004795551824306, 0.007334931850608102, 0.9608760724296613, 0.031187362131869276, 0.830717918603427, 0.0028352147392608435, 0.1247494485274771, 0.011340858957043374, 0.08200241354309626, 0.9154146981239522, 0.6350844500297159, 0.1730643756771975, 0.12104204846470659, 0.03708522335939947, 0.033994788079449514, 0.7248257327985345, 0.13842582502434067, 0.00030557577268066374, 0.0015278788634033188, 0.1350644915248534, 0.9776906519587417, 0.9735902047897156, 0.9942868249984388, 0.978004586335974, 0.039045322460748974, 0.017747873845794987, 0.2425542758925315, 0.03312936451215064, 0.6685032481916112, 0.36722151112023893, 0.10223412287220307, 0.14330068385680894, 0.13897788796369254, 0.24812848426488185, 0.30644076364435957, 0.15607169157205383, 0.23410753735808076, 0.24881429291006274, 0.05432495418181105, 0.19993126295420194, 0.464178114136757, 0.036959636674212, 0.22335843423195048, 0.07551988753510248, 0.16706657212883794, 0.4651285246768783, 0.17402767930087285, 0.1341595200428547, 0.06011865284939244, 0.06029869173804091, 0.05566033083511468, 0.03401464662145897, 0.5241347820306632, 0.3254583233553234, 0.09056565624230208, 0.06580669985951446, 0.18113131248460415, 0.4808449950130858, 0.18243441545211928, 0.06956659740923736, 0.6142582537198618, 0.001973520493879074, 0.2787597697604192, 0.03552336888982333, 0.0448052229828298, 0.5991396096541195, 0.0010419819298332512, 0.18234683772081897, 0.17192701842248645, 0.9761137868467815, 0.007410941672759929, 0.08893130007311915, 0.9041348840767114, 0.09734260746906259, 0.47011197250562786, 0.01760718998148419, 0.36622955161487114, 0.04879706937725618, 0.0019030442021632367, 0.19411050862065016, 0.051382193458407395, 0.6318106751181946, 0.12084330683736554, 0.057077353437170235, 0.16663522647764464, 0.07240013288339044, 0.5765195766640349, 0.12756213888978313, 0.1433065409572866, 0.5400393859232484, 0.1224893802708597, 0.18494086233014037, 0.009352637409843967, 0.012699831695718814, 0.798934866676129, 0.005195385693703152, 0.1650978120443446, 0.018472482466500094, 0.9505244552134653, 0.9550455539836268, 0.9676775853480838, 0.9641019005284164, 0.024738063253484956, 0.03298408433797994, 0.8410941506184885, 0.09895225301393983, 0.9459419292413401, 0.748647148524624, 0.1422035787670969, 0.0008750989462590578, 0.10807471986299365, 0.8088259695298144, 0.09929036039745308, 0.00223124405387535, 0.0044624881077507, 0.08590289607420097, 0.1296259907843704, 0.8622946343482031, 0.0028179563213993563, 0.0028179563213993563, 0.9590542928502108, 0.0204054104861747, 0.05997164675417826, 0.047211721912863734, 0.7451796107327681, 0.03445179707154921, 0.11356333108769925, 0.9660130358868052, 0.0025296512737173157, 0.055652328021780946, 0.9220578892699617, 0.00632412818429329, 0.013913082005445237, 0.07512385340968121, 0.008943315882104905, 0.189598296700624, 0.03040727399915668, 0.6940013124513407, 0.9748577553760504, 0.4313423818259751, 0.005518710105245332, 0.13862999784376273, 0.08829936168392531, 0.3359790712073358, 0.23323522224697663, 0.012589401200831124, 0.5174906493604794, 0.19745481883408816, 0.03909340372889665, 0.9676465368100748, 0.9820572536221679, 0.01044741759172519, 0.06402464542047094, 0.0014387560768645154, 0.1323655590715354, 0.21365527741438053, 0.5884512354375868, 0.003468640355659178, 0.08324736853582028, 0.915721053894023, 0.7705098403871905, 0.18342033688692258, 0.002166381931735306, 0.002888509242313741, 0.04043912939239238, 0.009003425505095745, 0.07315283222890294, 0.07315283222890294, 0.6752569128821809, 0.16768880003240827, 0.010610909917310424, 0.9655928024752486, 0.010610909917310424, 0.010610909917310424, 0.43468987574001244, 0.10275577352089887, 0.16716536916810953, 0.27771021006960134, 0.01767519136365316, 0.9842766172753565, 0.9941679620497612, 0.274623322575542, 0.25286925709902563, 0.06926494447722795, 0.24869247652753454, 0.15454088114517192, 0.4475522383671132, 0.43912904692984006, 0.038746680611456474, 0.03144658136581975, 0.04267750328218395, 0.9617280926393019, 0.9936248019909037, 0.005121777329850019, 0.9702163597330913, 0.3019292683515788, 0.003370821177768822, 0.5923014355222359, 0.006260096472999241, 0.09630917650768063, 0.0026429000938622505, 0.9963733353860684, 0.4404683568554292, 0.14912202387200957, 0.1464943230108288, 0.19379293851208293, 0.070290998036586, 0.01512769762145741, 0.01890962202682176, 0.26019639908906744, 0.0589980207236839, 0.6467090733173043, 0.00576448863151752, 0.04419441284163431, 0.055723390104669354, 0.13450473473540878, 0.7628339955708184, 0.05257461280349465, 0.07524439997564372, 0.2122277948030977, 0.08344411022939976, 0.5759090613520423, 0.01182849371593006, 0.049285390483041924, 0.8082804039218875, 0.021685571812538447, 0.11039927468201391, 0.01046226349363515, 0.0767232656199911, 0.0278993693163604, 0.0627735809618109, 0.8195439736680867, 0.04641851488855431, 0.011052027354417692, 0.8686893500572306, 0.011052027354417692, 0.06410175865562262, 0.9956290697081749, 0.02402474781226728, 0.9609899124906912, 0.9827075831518844, 0.44442923774798443, 0.028377112429881127, 0.14319527503078475, 0.0362353897181559, 0.34751048452592886, 0.9771776647897149, 0.014161995141879925, 0.09050461759510327, 0.2142558294088159, 0.14314505844123476, 0.5494923211131271, 0.002770549518217447, 0.9725885333267551, 0.5102139365278726, 0.1542558571076916, 0.08805162658936902, 0.21604647225812598, 0.03111598834361161, 0.0416431563795065, 0.9244780716250444, 0.033314525103605205, 0.4789299914929127, 0.3312071853862532, 0.1105857878116892, 0.04593986707600024, 0.033285771953269636, 0.9398984641032031, 0.10307880156362993, 0.0374832005685927, 0.8527428129354839, 0.00624720009476545, 0.04347296575727723, 0.007904175592232224, 0.8971239297183574, 0.0316167023689289, 0.01976043898058056, 0.03704544853321865, 0.8461960349166786, 0.11698562694700626, 0.03871847862563232, 0.9486027263279917, 0.05204789687880139, 0.9498741180381254, 0.17647889807734818, 0.05357993110507725, 0.40218435785748613, 0.1091691096265949, 0.25885804215140445, 0.12152804045988759, 0.0008048214599992556, 0.6857078839193658, 0.048289287599955336, 0.1432582198798675, 0.2898332372258111, 0.3396230251849937, 0.14451182358884715, 0.20685025729384005, 0.019430161154802977, 0.9103521475494046, 0.017850042108811855, 0.008925021054405928, 0.05355012632643557, 0.9774720135561575, 0.6087440378403031, 0.18381258691447872, 0.0491968982624046, 0.12975006135139674, 0.028112513292802628, 0.97481037132474, 0.1808831170477971, 0.09106243878836467, 0.007864483349904222, 0.5455467923775665, 0.17467431440313588, 0.03640037540334302, 0.8580088487930855, 0.10400107258098006, 0.11226723194969175, 0.3884508080683549, 0.2944308672620015, 0.10886519461788291, 0.09587559753279461, 0.17858317503343, 0.5481917954919634, 0.1390606690834086, 0.11893346697923105, 0.015003914295841456, 0.04679586726685424, 0.9452765187904557, 0.009359173453370848, 0.9621130244386814, 0.926178315449212, 0.9896956628412713, 0.982929719890903, 0.022617973162091992, 0.05026216258242665, 0.8444043313847677, 0.08293256826100397, 0.08997764662290685, 0.14036512873173468, 0.7066244514785618, 0.05158718406379993, 0.010797317594748822, 0.3066591220943645, 0.007279741770786101, 0.012739548098875677, 0.05186816011685097, 0.6215079536808634, 0.011961430814769537, 0.980837326811102, 0.9606172881574312, 0.9748073031624372, 0.024370182579060932, 0.9427639157878858, 0.8852496711334482, 0.08833293898511631, 0.02688393795199192, 0.33134140104771076, 0.3533712875504336, 0.10002759276912022, 0.1875517364421004, 0.02768620871288149, 0.0229945158788076, 0.08622943454552849, 0.8651686599401359, 0.025868830363658547, 0.00287431448485095, 0.9825275376372824, 0.9677101614353888, 0.0302409425448559, 0.9617246623275604, 0.5591152444019452, 0.0017277974178057638, 0.005183392253417292, 0.21182796342298663, 0.22219474792982122, 0.6743900511875681, 0.013817290252857975, 0.004782908164450837, 0.11266405898484196, 0.19423921490075347, 0.0016456641650776413, 0.0008228320825388206, 0.29292822138382013, 0.0024684962476164618, 0.701875766405614, 0.22429079075723163, 0.3772163299098895, 0.0625000029580428, 0.22074469129861926, 0.11569149483722817, 0.967909159393628, 0.5431460275591901, 0.19342250621712165, 0.010257254117574633, 0.09451327008336625, 0.15874321848627407, 0.8958685849329161, 0.057565852847095006, 0.014391463211773751, 0.03238079222649094, 0.9737126956352314, 0.2031222912104178, 0.6292808237499219, 0.013275966745778942, 0.15400121425103572, 0.3691029654033369, 0.11815948149562025, 0.11267528615194167, 0.38804836749968113, 0.011799329375793302, 0.02321018393678321, 0.9516175414081116, 0.011605091968391604, 0.011605091968391604, 0.013441702677922057, 0.967802592810388, 0.013441702677922057, 0.013441702677922057, 0.6338555307277689, 0.07391039304195067, 0.21759219711550276, 0.0035476988660136316, 0.07154526046460824, 0.6999234355716698, 0.08546111095163934, 0.15652554729852222, 0.03583853039907456, 0.022360792471217462, 0.8382115531464323, 0.06609553465670792, 0.01001447494798605, 0.05107382223472885, 0.03454993857055187, 0.7669582666637718, 0.14344317506230422, 0.030076794771128304, 0.058996789743367056, 0.9586862924188108, 0.00868973842658525, 0.034758953706341, 0.04171074444760921, 0.029545110650389853, 0.8846153718263785, 0.004800529889995467, 0.019202119559981867, 0.0024002649449977333, 0.9745075676690796, 0.9895687457054566, 0.10098195825008392, 0.21997343771674333, 0.38463191741114766, 0.17720082482737656, 0.11716908743879165, 0.15986481103044034, 0.5738736806220935, 0.15248643513672772, 0.09755852570575589, 0.01639639087491696, 0.9658218449393621, 0.7574001435753409, 0.003243683698395464, 0.000810920924598866, 0.23841075183206661, 0.8068391829805885, 0.0050472513680644504, 0.002163107729170479, 0.18602726470866118, 0.9020331584812518, 0.008908969466481498, 0.006681727099861124, 0.08240796756495386, 0.01623749636519158, 0.04489190171552966, 0.11366247455634106, 0.592191043906987, 0.23305583018274972, 0.4326738234288893, 0.031081706630714693, 0.0008233564670387998, 0.005557656152511899, 0.5298298865394677, 0.2965884414082071, 0.07457275392468123, 0.03507303038466743, 0.2890971145299286, 0.30476079800269273, 0.027068130344983475, 0.9473845620744217, 0.0018582077395437548, 0.2136938900475318, 0.0018582077395437548, 0.7841636660874646, 0.0009181272584490274, 0.04407010840555332, 0.9135366221567823, 0.04131572663020623, 0.004896978757505273, 0.14201238396765292, 0.8496258144271649, 0.0009350014787235998, 0.8171912924044262, 0.18232528835110196, 0.0006758131054337785, 0.9866871339333165, 0.012164635897808012, 0.001495466475074019, 0.001495466475074019, 0.6998783103346409, 0.29610236206465573, 0.8955475806342824, 0.9489820195093152, 0.4293333503463957, 0.00497242464001451, 0.030260755666374015, 0.2700736925905024, 0.26538540650134584, 0.9456373561627747, 0.5470426647817384, 0.16319820354773906, 0.00285811214619508, 0.006573657936248684, 0.28038080154173733, 0.24655548846166062, 0.10870565539595219, 0.586925446648595, 0.03084602746069093, 0.026804134207221084, 0.9083341263557513, 0.08397359761882597, 0.0023654534540514358, 0.0047309069081028715, 0.9681517911871512, 0.9923904498086358, 0.7865471994977403, 0.1447465332409036, 0.021848533319381677, 0.04642813330368606, 0.9578370558314646, 0.1701813808368859, 0.013851972858816293, 0.06728101102853627, 0.7480065343760798, 0.10137262649402355, 0.045663345267578176, 0.6575521718531258, 0.020091871917734396, 0.1753472458275002, 0.9092385701724142, 0.970930681307375, 0.9949256357765511, 0.9773843978086836, 0.021293777730036677, 0.009636515217974645, 0.014454772826961967, 0.9732880370154391, 0.08254711999366006, 0.8364774826024219, 0.07979554932720473, 0.0457453661780985, 0.9123659143298534, 0.040662547713865335, 0.0025414092321165834, 0.990500771544648, 0.9057367756564193, 0.017759544620714104, 0.008879772310357052, 0.06659829232767789, 0.9606706460310986, 0.030020957688471833, 0.010042669791642152, 0.79337091353973, 0.033475565972140506, 0.04686579236099671, 0.11381692430527772, 0.012772550273243958, 0.14915042577142945, 0.0016480710029992205, 0.484120857131021, 0.35186315914033356, 0.16934926329026867, 0.36899098423893295, 0.005192992741439244, 0.12722832216526148, 0.32917803988789873, 0.9565527576073449, 0.9875302336757088, 0.00607427277193124, 0.990106461824792, 0.018148231488394864, 0.9618562688849278, 0.018148231488394864, 0.00650240490469072, 0.9883655455129895, 0.06918331595744458, 0.6908005727691108, 0.06918331595744458, 0.167279062464269, 0.004130347221339975, 0.18866983080034735, 0.3649452931539566, 0.1525195894973611, 0.25339597713331324, 0.04062598546430837, 0.9736516119656812, 0.0168017546856202, 0.9577000170803516, 0.9292948515414489, 0.014821289498268723, 0.004446386849480617, 0.051874513243940525, 0.9645044436960406, 0.03014076386550127, 0.06501566090422979, 0.29590911611546744, 0.5000934349552377, 0.13565429788666322, 0.0035143600488772857, 0.9638762595044555, 0.06063696758252915, 0.9247137556335695, 0.9593898772756879, 0.0239847469318922, 0.9875388477496642, 0.090395779170657, 0.09289520163620511, 0.23869484545984543, 0.118305996702611, 0.4594771632499293, 0.05407636741563879, 0.16565165714664032, 0.390171258568533, 0.1037034134616364, 0.2864678451068966, 0.9508350123418974, 0.9448777152779169, 0.004921238100405817, 0.04921238100405817], \"Term\": [\"\\u0430\\u0432\\u0442\\u043e\\u0434\\u043e\\u0437\\u0432\\u043e\\u043d\", \"\\u0430\\u0432\\u0442\\u043e\\u043a\\u0440\\u0435\\u0434\\u0438\\u0442\", \"\\u0430\\u0432\\u0442\\u043e\\u043a\\u0440\\u0435\\u0434\\u0438\\u0442\", \"\\u0430\\u0432\\u0442\\u043e\\u043a\\u0440\\u0435\\u0434\\u0438\\u0442\", \"\\u0430\\u0432\\u0442\\u043e\\u043a\\u0440\\u0435\\u0434\\u0438\\u0442\", \"\\u0430\\u0432\\u0442\\u043e\\u043c\\u043e\\u0431\\u0438\\u043b\\u044c\", \"\\u0430\\u0432\\u0442\\u043e\\u043c\\u043e\\u0431\\u0438\\u043b\\u044c\", \"\\u0430\\u0432\\u0442\\u043e\\u043c\\u043e\\u0431\\u0438\\u043b\\u044c\", \"\\u0430\\u0432\\u0442\\u043e\\u0440\\u0438\\u0437\\u0430\\u0446\\u0438\\u044f\", \"\\u0430\\u0432\\u0442\\u043e\\u0440\\u0438\\u0437\\u0430\\u0446\\u0438\\u044f\", \"\\u0430\\u0432\\u0442\\u043e\\u0441\\u0430\\u043b\\u043e\\u043d\", \"\\u0430\\u0432\\u0442\\u043e\\u0441\\u0430\\u043b\\u043e\\u043d\", \"\\u0430\\u0433\\u0435\\u043d\\u0441\\u0442\\u0432\\u043e\", \"\\u0430\\u0433\\u0435\\u043d\\u0442\\u0441\\u0442\\u0432\\u043e\", \"\\u0430\\u0433\\u0435\\u043d\\u0442\\u0441\\u0442\\u0432\\u043e\", \"\\u0430\\u043a\", \"\\u0430\\u043a\\u0442\", \"\\u0430\\u043a\\u0442\", \"\\u0430\\u043a\\u0442\", \"\\u0430\\u043a\\u0442\", \"\\u0430\\u043a\\u0446\\u0435\\u043f\\u0442\", \"\\u0430\\u043e\", \"\\u0430\\u043e\", \"\\u0430\\u0442\\u043c\\u0430\", \"\\u0430\\u0442\\u043c\\u043e\\u0441\\u0444\\u0435\\u0440\\u0430\", \"\\u0430\\u044d\\u0440\\u043e\\u043f\\u043e\\u0440\\u0442\", \"\\u0430\\u044d\\u0440\\u043e\\u043f\\u043e\\u0440\\u0442\", \"\\u0430\\u044d\\u0440\\u043e\\u043f\\u043e\\u0440\\u0442\", \"\\u0430\\u044d\\u0440\\u043e\\u0444\\u043b\\u043e\\u0442\", \"\\u0430\\u044d\\u0440\\u043e\\u0444\\u043b\\u043e\\u0442\", \"\\u0430\\u044d\\u0440\\u043e\\u0444\\u043b\\u043e\\u0442\", \"\\u0431\\u0430\\u0437\\u0430\", \"\\u0431\\u0430\\u0437\\u0430\", \"\\u0431\\u0430\\u0437\\u0430\", \"\\u0431\\u0430\\u0437\\u0430\", \"\\u0431\\u0430\\u0437\\u0430\", \"\\u0431\\u0430\\u043b\\u0430\\u043d\\u0441\", \"\\u0431\\u0430\\u043b\\u0430\\u043d\\u0441\", \"\\u0431\\u0430\\u043b\\u0430\\u043d\\u0441\", \"\\u0431\\u0430\\u043b\\u0430\\u043d\\u0441\", \"\\u0431\\u0430\\u043b\\u043b\", \"\\u0431\\u0430\\u043b\\u043b\", \"\\u0431\\u0430\\u043d\\u043a\", \"\\u0431\\u0430\\u043d\\u043a\", \"\\u0431\\u0430\\u043d\\u043a\", \"\\u0431\\u0430\\u043d\\u043a\", \"\\u0431\\u0430\\u043d\\u043a\", \"\\u0431\\u0430\\u043d\\u043a\\u043e\\u0432\\u0441\\u043a\\u0438\\u0439\", \"\\u0431\\u0430\\u043d\\u043a\\u043e\\u0432\\u0441\\u043a\\u0438\\u0439\", \"\\u0431\\u0430\\u043d\\u043a\\u043e\\u0432\\u0441\\u043a\\u0438\\u0439\", \"\\u0431\\u0430\\u043d\\u043a\\u043e\\u0432\\u0441\\u043a\\u0438\\u0439\", \"\\u0431\\u0430\\u043d\\u043a\\u043e\\u0432\\u0441\\u043a\\u0438\\u0439\", \"\\u0431\\u0430\\u043d\\u043a\\u043e\\u043c\\u0430\\u0442\", \"\\u0431\\u0430\\u043d\\u043a\\u043e\\u043c\\u0430\\u0442\", \"\\u0431\\u0430\\u043d\\u043a\\u043e\\u043c\\u0430\\u0442\", \"\\u0431\\u0430\\u043d\\u043a\\u043e\\u043c\\u0430\\u0442\", \"\\u0431\\u0430\\u0440\\u0441\", \"\\u0431\\u0435\\u043a\", \"\\u0431\\u0435\\u0441\\u043f\\u043b\\u0430\\u0442\\u043d\\u044b\\u0439\", \"\\u0431\\u0435\\u0441\\u043f\\u043b\\u0430\\u0442\\u043d\\u044b\\u0439\", \"\\u0431\\u0435\\u0441\\u043f\\u043b\\u0430\\u0442\\u043d\\u044b\\u0439\", \"\\u0431\\u0435\\u0441\\u043f\\u043b\\u0430\\u0442\\u043d\\u044b\\u0439\", \"\\u0431\\u0435\\u0441\\u043f\\u043b\\u0430\\u0442\\u043d\\u044b\\u0439\", \"\\u0431\\u0435\\u0441\\u043f\\u043e\\u043a\\u043e\\u0438\\u0442\\u044c\", \"\\u0431\\u0435\\u0441\\u043f\\u043e\\u043a\\u043e\\u0438\\u0442\\u044c\", \"\\u0431\\u0438\\u043b\\u0430\\u0439\\u043d\", \"\\u0431\\u0438\\u043b\\u0430\\u0439\\u043d\", \"\\u0431\\u0438\\u043b\\u0430\\u0439\\u043d\", \"\\u0431\\u043b\\u0430\\u0433\\u043e\\u0434\\u0430\\u0440\\u043d\\u043e\\u0441\\u0442\\u044c\", \"\\u0431\\u043b\\u0430\\u0433\\u043e\\u0434\\u0430\\u0440\\u043d\\u043e\\u0441\\u0442\\u044c\", \"\\u0431\\u043b\\u0430\\u0433\\u043e\\u0434\\u0430\\u0440\\u043d\\u043e\\u0441\\u0442\\u044c\", \"\\u0431\\u043e\\u043b\\u044c\\u043d\\u0438\\u0446\\u0430\", \"\\u0431\\u043e\\u043b\\u044c\\u043d\\u0438\\u0446\\u0430\", \"\\u0431\\u043e\\u043d\\u0443\\u0441\\u043d\\u044b\\u0439\", \"\\u0431\\u044b\\u0441\\u0442\\u0440\\u043e\", \"\\u0431\\u044b\\u0441\\u0442\\u0440\\u043e\", \"\\u0431\\u044b\\u0441\\u0442\\u0440\\u043e\", \"\\u0431\\u044b\\u0441\\u0442\\u0440\\u043e\", \"\\u0431\\u044b\\u0441\\u0442\\u0440\\u043e\", \"\\u0431\\u044b\\u0442\\u044c\", \"\\u0431\\u044b\\u0442\\u044c\", \"\\u0431\\u044b\\u0442\\u044c\", \"\\u0431\\u044b\\u0442\\u044c\", \"\\u0431\\u044b\\u0442\\u044c\", \"\\u0431\\u044c\\u044e\\u0442\\u044f\", \"\\u0432\\u0430\\u0448\", \"\\u0432\\u0430\\u0448\", \"\\u0432\\u0430\\u0448\", \"\\u0432\\u0430\\u0448\", \"\\u0432\\u0430\\u0448\", \"\\u0432\\u0435\\u0440\\u043d\\u0443\\u0442\\u044c\", \"\\u0432\\u0435\\u0440\\u043d\\u0443\\u0442\\u044c\", \"\\u0432\\u0435\\u0440\\u043d\\u0443\\u0442\\u044c\", \"\\u0432\\u0435\\u0440\\u043d\\u0443\\u0442\\u044c\", \"\\u0432\\u0435\\u0440\\u043d\\u0443\\u0442\\u044c\", \"\\u0432\\u0435\\u0442\\u0445\\u0438\\u0439\", \"\\u0432\\u0435\\u0442\\u0445\\u0438\\u0439\", \"\\u0432\\u0437\\u043d\\u043e\\u0441\", \"\\u0432\\u0437\\u043d\\u043e\\u0441\", \"\\u0432\\u0437\\u043d\\u043e\\u0441\", \"\\u0432\\u0437\\u043d\\u043e\\u0441\", \"\\u0432\\u0437\\u043d\\u043e\\u0441\", \"\\u0432\\u0437\\u044b\\u0441\\u043a\\u0430\\u043d\\u0438\\u0435\", \"\\u0432\\u0437\\u044b\\u0441\\u043a\\u0430\\u043d\\u0438\\u0435\", \"\\u0432\\u0437\\u044b\\u0441\\u043a\\u0430\\u0442\\u0435\\u043b\\u044c\", \"\\u0432\\u0438\\u0447\", \"\\u0432\\u043a\\u043b\\u0430\\u0434\", \"\\u0432\\u043a\\u043b\\u0430\\u0434\", \"\\u0432\\u043a\\u043b\\u0430\\u0434\", \"\\u0432\\u043a\\u043b\\u0430\\u0434\", \"\\u0432\\u043a\\u043b\\u0430\\u0434\\u0447\\u0438\\u043a\", \"\\u0432\\u043a\\u043b\\u0430\\u0434\\u0447\\u0438\\u043a\", \"\\u0432\\u043a\\u043b\\u0430\\u0434\\u0447\\u0438\\u043a\", \"\\u0432\\u043a\\u043b\\u0430\\u0434\\u0447\\u0438\\u043a\", \"\\u0432\\u043e\\u0437\\u0432\\u0440\\u0430\\u0442\", \"\\u0432\\u043e\\u0437\\u0432\\u0440\\u0430\\u0442\", \"\\u0432\\u043e\\u0437\\u0432\\u0440\\u0430\\u0442\", \"\\u0432\\u043e\\u0437\\u0432\\u0440\\u0430\\u0442\", \"\\u0432\\u043e\\u0437\\u0432\\u0440\\u0430\\u0442\", \"\\u0432\\u043e\\u0437\\u0432\\u0440\\u0430\\u0442\\u043d\\u044b\\u0439\", \"\\u0432\\u043e\\u0437\\u043b\\u0430\\u0433\\u0430\\u0442\\u044c\", \"\\u0432\\u043e\\u043f\\u0440\\u043e\\u0441\", \"\\u0432\\u043e\\u043f\\u0440\\u043e\\u0441\", \"\\u0432\\u043e\\u043f\\u0440\\u043e\\u0441\", \"\\u0432\\u043e\\u043f\\u0440\\u043e\\u0441\", \"\\u0432\\u043e\\u043f\\u0440\\u043e\\u0441\", \"\\u0432\\u043e\\u0440\\u043e\\u0432\\u0441\\u0442\\u0432\\u043e\", \"\\u0432\\u0440\\u0435\\u043c\\u044f\", \"\\u0432\\u0440\\u0435\\u043c\\u044f\", \"\\u0432\\u0440\\u0435\\u043c\\u044f\", \"\\u0432\\u0440\\u0435\\u043c\\u044f\", \"\\u0432\\u0440\\u0435\\u043c\\u044f\", \"\\u0432\\u0445\\u043e\\u0434\", \"\\u0432\\u0445\\u043e\\u0434\", \"\\u0432\\u0445\\u043e\\u0434\", \"\\u0432\\u044b\\u0435\\u0437\\u0434\\u043d\\u043e\\u0439\", \"\\u0432\\u044b\\u043f\\u043b\\u044e\\u043d\\u0443\\u0442\\u044c\", \"\\u0432\\u044b\\u043f\\u0443\\u0441\\u043a\", \"\\u0432\\u044b\\u043f\\u0443\\u0441\\u043a\", \"\\u0432\\u044b\\u043f\\u0443\\u0441\\u043a\", \"\\u0432\\u044b\\u043f\\u0443\\u0441\\u043a\", \"\\u0432\\u044b\\u043f\\u0443\\u0441\\u043a\\u0430\\u0442\\u044c\", \"\\u0432\\u044b\\u043f\\u0443\\u0441\\u043a\\u0430\\u0442\\u044c\", \"\\u0432\\u044b\\u043f\\u0443\\u0441\\u043a\\u0430\\u0442\\u044c\", \"\\u0432\\u044b\\u043f\\u0443\\u0441\\u043a\\u0430\\u0442\\u044c\", \"\\u0432\\u044b\\u043f\\u0443\\u0441\\u043a\\u0430\\u0442\\u044c\\u0441\\u044f\", \"\\u0432\\u044b\\u043f\\u0443\\u0441\\u043a\\u0430\\u0442\\u044c\\u0441\\u044f\", \"\\u0432\\u044b\\u0440\\u0430\\u0436\\u0430\\u0442\\u044c\", \"\\u0432\\u044b\\u0440\\u0430\\u0436\\u0430\\u0442\\u044c\", \"\\u0432\\u044b\\u0440\\u0430\\u0436\\u0430\\u0442\\u044c\", \"\\u0432\\u044b\\u0440\\u0430\\u0436\\u0430\\u0442\\u044c\", \"\\u0432\\u044b\\u0448\\u0435\\u0438\\u0437\\u043b\\u043e\\u0436\\u0435\\u043d\\u043d\\u044b\\u0439\", \"\\u0432\\u044b\\u0448\\u0435\\u0438\\u0437\\u043b\\u043e\\u0436\\u0435\\u043d\\u043d\\u044b\\u0439\", \"\\u0432\\u044b\\u0448\\u0435\\u0438\\u0437\\u043b\\u043e\\u0436\\u0435\\u043d\\u043d\\u044b\\u0439\", \"\\u0433\", \"\\u0433\", \"\\u0433\", \"\\u0433\", \"\\u0433\", \"\\u0433\\u043a\", \"\\u0433\\u043a\", \"\\u0433\\u043a\", \"\\u0433\\u043e\\u0434\", \"\\u0433\\u043e\\u0434\", \"\\u0433\\u043e\\u0434\", \"\\u0433\\u043e\\u0434\", \"\\u0433\\u043e\\u0434\", \"\\u0434\\u0430\\u0432\\u0430\\u0442\\u044c\", \"\\u0434\\u0430\\u0432\\u0430\\u0442\\u044c\", \"\\u0434\\u0430\\u0432\\u0430\\u0442\\u044c\", \"\\u0434\\u0430\\u0432\\u0430\\u0442\\u044c\", \"\\u0434\\u0430\\u0432\\u0430\\u0442\\u044c\", \"\\u0434\\u0430\\u043d\\u043d\\u044b\\u0435\", \"\\u0434\\u0430\\u043d\\u043d\\u044b\\u0435\", \"\\u0434\\u0430\\u043d\\u043d\\u044b\\u0435\", \"\\u0434\\u0430\\u043d\\u043d\\u044b\\u0435\", \"\\u0434\\u0430\\u043d\\u043d\\u044b\\u0435\", \"\\u0434\\u0430\\u043d\\u043d\\u044b\\u0439\", \"\\u0434\\u0430\\u043d\\u043d\\u044b\\u0439\", \"\\u0434\\u0430\\u043d\\u043d\\u044b\\u0439\", \"\\u0434\\u0430\\u043d\\u043d\\u044b\\u0439\", \"\\u0434\\u0430\\u043d\\u043d\\u044b\\u0439\", \"\\u0434\\u0432\\u043e\\u0439\\u043d\\u043e\\u0439\", \"\\u0434\\u0432\\u043e\\u0439\\u043d\\u043e\\u0439\", \"\\u0434\\u0435\\u0432\\u0443\\u0448\\u043a\\u0430\", \"\\u0434\\u0435\\u0432\\u0443\\u0448\\u043a\\u0430\", \"\\u0434\\u0435\\u0432\\u0443\\u0448\\u043a\\u0430\", \"\\u0434\\u0435\\u0432\\u0443\\u0448\\u043a\\u0430\", \"\\u0434\\u0435\\u0432\\u0443\\u0448\\u043a\\u0430\", \"\\u0434\\u0435\\u043a\\u0430\\u0431\\u0440\\u044c\\u0441\\u043a\\u0438\\u0439\", \"\\u0434\\u0435\\u043d\\u0435\\u0436\\u043d\\u044b\\u0439\", \"\\u0434\\u0435\\u043d\\u0435\\u0436\\u043d\\u044b\\u0439\", \"\\u0434\\u0435\\u043d\\u0435\\u0436\\u043d\\u044b\\u0439\", \"\\u0434\\u0435\\u043d\\u0435\\u0436\\u043d\\u044b\\u0439\", \"\\u0434\\u0435\\u043d\\u0435\\u0436\\u043d\\u044b\\u0439\", \"\\u0434\\u0435\\u043d\\u044c\", \"\\u0434\\u0435\\u043d\\u044c\", \"\\u0434\\u0435\\u043d\\u044c\", \"\\u0434\\u0435\\u043d\\u044c\", \"\\u0434\\u0435\\u043d\\u044c\", \"\\u0434\\u0435\\u043d\\u044c\\u0433\\u0438\", \"\\u0434\\u0435\\u043d\\u044c\\u0433\\u0438\", \"\\u0434\\u0435\\u043d\\u044c\\u0433\\u0438\", \"\\u0434\\u0435\\u043d\\u044c\\u0433\\u0438\", \"\\u0434\\u0435\\u043d\\u044c\\u0433\\u0438\", \"\\u0434\\u0438\\u0437\\u0430\\u0439\\u043d\", \"\\u0434\\u0438\\u0437\\u0430\\u0439\\u043d\", \"\\u0434\\u0438\\u0441\\u0442\\u0430\\u043d\\u0446\\u0438\\u043e\\u043d\\u043d\\u043e\", \"\\u0434\\u0438\\u0441\\u0442\\u0430\\u043d\\u0446\\u0438\\u043e\\u043d\\u043d\\u043e\", \"\\u0434\\u0438\\u0441\\u0442\\u0430\\u043d\\u0446\\u0438\\u043e\\u043d\\u043d\\u043e\", \"\\u0434\\u0438\\u0441\\u0442\\u0430\\u043d\\u0446\\u0438\\u043e\\u043d\\u043d\\u044b\\u0439\", \"\\u0434\\u0438\\u0441\\u0442\\u0430\\u043d\\u0446\\u0438\\u043e\\u043d\\u043d\\u044b\\u0439\", \"\\u0434\\u0438\\u0441\\u0442\\u0430\\u043d\\u0446\\u0438\\u043e\\u043d\\u043d\\u044b\\u0439\", \"\\u0434\\u043a\\u0431\\u043e\", \"\\u0434\\u043e\\u0431\\u0440\\u043e\\u0432\\u043e\\u043b\\u044c\\u043d\\u044b\\u0439\", \"\\u0434\\u043e\\u0431\\u0440\\u043e\\u0432\\u043e\\u043b\\u044c\\u043d\\u044b\\u0439\", \"\\u0434\\u043e\\u0431\\u0440\\u043e\\u0432\\u043e\\u043b\\u044c\\u043d\\u044b\\u0439\", \"\\u0434\\u043e\\u0432\\u043e\\u043b\\u044c\\u043d\\u044b\\u0439\", \"\\u0434\\u043e\\u0432\\u043e\\u043b\\u044c\\u043d\\u044b\\u0439\", \"\\u0434\\u043e\\u0432\\u043e\\u043b\\u044c\\u043d\\u044b\\u0439\", \"\\u0434\\u043e\\u0432\\u043e\\u043b\\u044c\\u043d\\u044b\\u0439\", \"\\u0434\\u043e\\u0432\\u043e\\u043b\\u044c\\u043d\\u044b\\u0439\", \"\\u0434\\u043e\\u0433\\u043e\\u0432\\u043e\\u0440\", \"\\u0434\\u043e\\u0433\\u043e\\u0432\\u043e\\u0440\", \"\\u0434\\u043e\\u0433\\u043e\\u0432\\u043e\\u0440\", \"\\u0434\\u043e\\u0433\\u043e\\u0432\\u043e\\u0440\", \"\\u0434\\u043e\\u0433\\u043e\\u0432\\u043e\\u0440\", \"\\u0434\\u043e\\u043a\\u0443\\u043c\\u0435\\u043d\\u0442\", \"\\u0434\\u043e\\u043a\\u0443\\u043c\\u0435\\u043d\\u0442\", \"\\u0434\\u043e\\u043a\\u0443\\u043c\\u0435\\u043d\\u0442\", \"\\u0434\\u043e\\u043a\\u0443\\u043c\\u0435\\u043d\\u0442\", \"\\u0434\\u043e\\u043a\\u0443\\u043c\\u0435\\u043d\\u0442\", \"\\u0434\\u043e\\u043b\\u0433\", \"\\u0434\\u043e\\u043b\\u0433\", \"\\u0434\\u043e\\u043b\\u0433\", \"\\u0434\\u043e\\u043b\\u0433\", \"\\u0434\\u043e\\u043b\\u0433\", \"\\u0434\\u043e\\u043b\\u0433\\u043e\\u0432\\u043e\\u0439\", \"\\u0434\\u043e\\u043b\\u0436\\u043d\\u0438\\u043a\", \"\\u0434\\u043e\\u043b\\u0436\\u043d\\u0438\\u043a\", \"\\u0434\\u043e\\u043c\\u0430\\u0448\\u043d\\u0438\\u0439\", \"\\u0434\\u043e\\u043c\\u0430\\u0448\\u043d\\u0438\\u0439\", \"\\u0434\\u043e\\u043c\\u0430\\u0448\\u043d\\u0438\\u0439\", \"\\u0434\\u043e\\u0441\\u0440\\u043e\\u0447\\u043d\\u043e\", \"\\u0434\\u043e\\u0441\\u0440\\u043e\\u0447\\u043d\\u043e\", \"\\u0434\\u043e\\u0441\\u0440\\u043e\\u0447\\u043d\\u043e\", \"\\u0434\\u043e\\u0441\\u0440\\u043e\\u0447\\u043d\\u043e\", \"\\u0434\\u043e\\u0445\\u043e\\u0434\\u043d\\u043e\\u0441\\u0442\\u044c\", \"\\u0434\\u0440\\u0443\\u0433\\u043e\\u0439\", \"\\u0434\\u0440\\u0443\\u0433\\u043e\\u0439\", \"\\u0434\\u0440\\u0443\\u0433\\u043e\\u0439\", \"\\u0434\\u0440\\u0443\\u0433\\u043e\\u0439\", \"\\u0434\\u0440\\u0443\\u0433\\u043e\\u0439\", \"\\u0434\\u0440\\u0443\\u0436\\u0435\\u043b\\u044e\\u0431\\u043d\\u044b\\u0439\", \"\\u0434\\u0440\\u0443\\u0436\\u0435\\u043b\\u044e\\u0431\\u043d\\u044b\\u0439\", \"\\u0435\\u0432\\u0440\\u043e\", \"\\u0435\\u0432\\u0440\\u043e\", \"\\u0435\\u0432\\u0440\\u043e\", \"\\u0435\\u0432\\u0440\\u043e\", \"\\u0435\\u0433\\u0440\\u043f\", \"\\u0436\\u0435\\u043b\\u0430\\u0435\\u043c\\u044b\\u0439\", \"\\u0437\\u0430\\u0431\\u043b\\u043e\\u043a\\u0438\\u0440\\u043e\\u0432\\u0430\\u0442\\u044c\", \"\\u0437\\u0430\\u0431\\u043b\\u043e\\u043a\\u0438\\u0440\\u043e\\u0432\\u0430\\u0442\\u044c\", \"\\u0437\\u0430\\u0431\\u043b\\u043e\\u043a\\u0438\\u0440\\u043e\\u0432\\u0430\\u0442\\u044c\", \"\\u0437\\u0430\\u0431\\u043b\\u043e\\u043a\\u0438\\u0440\\u043e\\u0432\\u0430\\u0442\\u044c\", \"\\u0437\\u0430\\u0434\\u043e\\u043b\\u0436\\u0435\\u043d\\u043d\\u043e\\u0441\\u0442\\u044c\", \"\\u0437\\u0430\\u0434\\u043e\\u043b\\u0436\\u0435\\u043d\\u043d\\u043e\\u0441\\u0442\\u044c\", \"\\u0437\\u0430\\u0434\\u043e\\u043b\\u0436\\u0435\\u043d\\u043d\\u043e\\u0441\\u0442\\u044c\", \"\\u0437\\u0430\\u0434\\u043e\\u043b\\u0436\\u0435\\u043d\\u043d\\u043e\\u0441\\u0442\\u044c\", \"\\u0437\\u0430\\u0434\\u043e\\u043b\\u0436\\u0435\\u043d\\u043d\\u043e\\u0441\\u0442\\u044c\", \"\\u0437\\u0430\\u0436\\u0435\\u0432\\u0430\\u0442\\u044c\", \"\\u0437\\u0430\\u043a\\u043b\\u044e\\u0447\", \"\\u0437\\u0430\\u043a\\u043b\\u044e\\u0447\\u0430\\u0442\\u044c\", \"\\u0437\\u0430\\u043a\\u043b\\u044e\\u0447\\u0430\\u0442\\u044c\", \"\\u0437\\u0430\\u043a\\u043b\\u044e\\u0447\\u0430\\u0442\\u044c\", \"\\u0437\\u0430\\u043a\\u043b\\u044e\\u0447\\u0430\\u0442\\u044c\", \"\\u0437\\u0430\\u043a\\u043b\\u044e\\u0447\\u0430\\u0442\\u044c\", \"\\u0437\\u0430\\u043a\\u043b\\u044e\\u0447\\u0435\\u043d\\u0438\\u0435\", \"\\u0437\\u0430\\u043a\\u043b\\u044e\\u0447\\u0435\\u043d\\u0438\\u0435\", \"\\u0437\\u0430\\u043a\\u043b\\u044e\\u0447\\u0435\\u043d\\u0438\\u0435\", \"\\u0437\\u0430\\u043a\\u043b\\u044e\\u0447\\u0435\\u043d\\u0438\\u0435\", \"\\u0437\\u0430\\u043a\\u043e\\u043d\", \"\\u0437\\u0430\\u043a\\u043e\\u043d\", \"\\u0437\\u0430\\u043a\\u043e\\u043d\", \"\\u0437\\u0430\\u043a\\u043e\\u043d\", \"\\u0437\\u0430\\u043a\\u043e\\u043d\", \"\\u0437\\u0430\\u043a\\u043e\\u043d\\u043e\\u0434\\u0430\\u0442\\u0435\\u043b\\u044c\\u0441\\u0442\\u0432\\u043e\", \"\\u0437\\u0430\\u043a\\u043e\\u043d\\u043e\\u0434\\u0430\\u0442\\u0435\\u043b\\u044c\\u0441\\u0442\\u0432\\u043e\", \"\\u0437\\u0430\\u043a\\u043e\\u043d\\u043e\\u0434\\u0430\\u0442\\u0435\\u043b\\u044c\\u0441\\u0442\\u0432\\u043e\", \"\\u0437\\u0430\\u043a\\u043e\\u043d\\u043e\\u0434\\u0430\\u0442\\u0435\\u043b\\u044c\\u0441\\u0442\\u0432\\u043e\", \"\\u0437\\u0430\\u043b\\u043e\\u0433\", \"\\u0437\\u0430\\u043b\\u043e\\u0433\", \"\\u0437\\u0430\\u043b\\u043e\\u0433\", \"\\u0437\\u0430\\u043b\\u043e\\u0433\", \"\\u0437\\u0430\\u043b\\u043e\\u0433\", \"\\u0437\\u0430\\u043b\\u043e\\u0433\\u043e\\u0432\\u044b\\u0439\", \"\\u0437\\u0430\\u043c\\u043e\\u0440\\u0430\\u0436\\u0438\\u0432\\u0430\\u0442\\u044c\", \"\\u0437\\u0430\\u043c\\u043e\\u0440\\u0430\\u0436\\u0438\\u0432\\u0430\\u0442\\u044c\", \"\\u0437\\u0430\\u043e\", \"\\u0437\\u0430\\u043e\", \"\\u0437\\u0430\\u0441\\u0442\\u0440\\u0435\\u0432\\u0430\\u0442\\u044c\", \"\\u0437\\u0430\\u0441\\u0442\\u0440\\u0435\\u0432\\u0430\\u0442\\u044c\", \"\\u0437\\u0430\\u0441\\u0442\\u0440\\u043e\\u0439\\u0449\\u0438\\u043a\", \"\\u0437\\u0430\\u0441\\u0442\\u0440\\u043e\\u0439\\u0449\\u0438\\u043a\", \"\\u0437\\u0430\\u0447\\u0438\\u0441\\u043b\\u044f\\u0442\\u044c\", \"\\u0437\\u0430\\u0447\\u0438\\u0441\\u043b\\u044f\\u0442\\u044c\", \"\\u0437\\u0430\\u0447\\u0438\\u0441\\u043b\\u044f\\u0442\\u044c\\u0441\\u044f\", \"\\u0437\\u0430\\u0447\\u0438\\u0441\\u043b\\u044f\\u0442\\u044c\\u0441\\u044f\", \"\\u0437\\u0430\\u0449\\u0438\\u0442\\u0430\", \"\\u0437\\u0430\\u0449\\u0438\\u0442\\u0430\", \"\\u0437\\u0430\\u0449\\u0438\\u0442\\u0430\", \"\\u0437\\u0430\\u0449\\u0438\\u0442\\u0430\", \"\\u0437\\u0430\\u0449\\u0438\\u0442\\u0430\", \"\\u0437\\u0430\\u044f\\u0432\\u043a\\u0430\", \"\\u0437\\u0430\\u044f\\u0432\\u043a\\u0430\", \"\\u0437\\u0430\\u044f\\u0432\\u043a\\u0430\", \"\\u0437\\u0430\\u044f\\u0432\\u043a\\u0430\", \"\\u0437\\u0430\\u044f\\u0432\\u043a\\u0430\", \"\\u0437\\u0430\\u044f\\u0432\\u043b\\u0435\\u043d\\u0438\\u0435\", \"\\u0437\\u0430\\u044f\\u0432\\u043b\\u0435\\u043d\\u0438\\u0435\", \"\\u0437\\u0430\\u044f\\u0432\\u043b\\u0435\\u043d\\u0438\\u0435\", \"\\u0437\\u0430\\u044f\\u0432\\u043b\\u0435\\u043d\\u0438\\u0435\", \"\\u0437\\u0430\\u044f\\u0432\\u043b\\u0435\\u043d\\u0438\\u0435\", \"\\u0437\\u0432\\u043e\\u043d\\u0438\\u0442\\u044c\", \"\\u0437\\u0432\\u043e\\u043d\\u0438\\u0442\\u044c\", \"\\u0437\\u0432\\u043e\\u043d\\u0438\\u0442\\u044c\", \"\\u0437\\u0432\\u043e\\u043d\\u0438\\u0442\\u044c\", \"\\u0437\\u0432\\u043e\\u043d\\u0438\\u0442\\u044c\", \"\\u0437\\u0432\\u043e\\u043d\\u043e\\u043a\", \"\\u0437\\u0432\\u043e\\u043d\\u043e\\u043a\", \"\\u0437\\u0432\\u043e\\u043d\\u043e\\u043a\", \"\\u0437\\u0432\\u043e\\u043d\\u043e\\u043a\", \"\\u0437\\u0432\\u043e\\u043d\\u043e\\u043a\", \"\\u0438\\u0437\\u043b\\u0438\\u0448\\u0435\\u043a\", \"\\u0438\\u043c\\u0435\\u0442\\u044c\", \"\\u0438\\u043c\\u0435\\u0442\\u044c\", \"\\u0438\\u043c\\u0435\\u0442\\u044c\", \"\\u0438\\u043c\\u0435\\u0442\\u044c\", \"\\u0438\\u043c\\u0435\\u0442\\u044c\", \"\\u0438\\u043d\\u0432\\u0435\\u0441\\u0442\\u0438\\u0446\\u0438\\u043e\\u043d\\u043d\\u044b\\u0439\", \"\\u0438\\u043d\\u043a\\u0430\\u0441\\u0441\\u0430\\u0446\\u0438\\u044f\", \"\\u0438\\u043d\\u043a\\u0430\\u0441\\u0441\\u0430\\u0446\\u0438\\u044f\", \"\\u0438\\u043d\\u043a\\u0430\\u0441\\u0441\\u0430\\u0446\\u0438\\u044f\", \"\\u0438\\u043d\\u0442\\u0435\\u0440\\u043d\\u0435\\u0442\", \"\\u0438\\u043d\\u0442\\u0435\\u0440\\u043d\\u0435\\u0442\", \"\\u0438\\u043d\\u0442\\u0435\\u0440\\u043d\\u0435\\u0442\", \"\\u0438\\u043d\\u0442\\u0435\\u0440\\u043d\\u0435\\u0442\", \"\\u0438\\u043d\\u0442\\u0435\\u0440\\u043d\\u0435\\u0442\", \"\\u0438\\u043d\\u0444\\u043e\\u0440\\u043c\\u0430\\u0446\\u0438\\u044f\", \"\\u0438\\u043d\\u0444\\u043e\\u0440\\u043c\\u0430\\u0446\\u0438\\u044f\", \"\\u0438\\u043d\\u0444\\u043e\\u0440\\u043c\\u0430\\u0446\\u0438\\u044f\", \"\\u0438\\u043d\\u0444\\u043e\\u0440\\u043c\\u0430\\u0446\\u0438\\u044f\", \"\\u0438\\u043d\\u0444\\u043e\\u0440\\u043c\\u0430\\u0446\\u0438\\u044f\", \"\\u0438\\u043f\\u043e\\u0442\\u0435\\u043a\\u0430\", \"\\u0438\\u043f\\u043e\\u0442\\u0435\\u043a\\u0430\", \"\\u0438\\u043f\\u043e\\u0442\\u0435\\u043a\\u0430\", \"\\u0438\\u043f\\u043e\\u0442\\u0435\\u043a\\u0430\", \"\\u0438\\u043f\\u043e\\u0442\\u0435\\u043a\\u0430\", \"\\u0438\\u043f\\u043e\\u0442\\u0435\\u0447\\u043d\\u044b\\u0439\", \"\\u0438\\u043f\\u043e\\u0442\\u0435\\u0447\\u043d\\u044b\\u0439\", \"\\u0438\\u043f\\u043e\\u0442\\u0435\\u0447\\u043d\\u044b\\u0439\", \"\\u0438\\u043f\\u043e\\u0442\\u0435\\u0447\\u043d\\u044b\\u0439\", \"\\u0438\\u043f\\u043e\\u0442\\u0435\\u0447\\u043d\\u044b\\u0439\", \"\\u0438\\u0441\\u043f\\u043e\\u043b\\u043d\\u0438\\u0442\\u0435\\u043b\\u044c\\u043d\\u044b\\u0439\", \"\\u0438\\u0441\\u043f\\u043e\\u043b\\u043d\\u0438\\u0442\\u0435\\u043b\\u044c\\u043d\\u044b\\u0439\", \"\\u043a\\u0430\\u043a\\u043e\\u0439\", \"\\u043a\\u0430\\u043a\\u043e\\u0439\", \"\\u043a\\u0430\\u043a\\u043e\\u0439\", \"\\u043a\\u0430\\u043a\\u043e\\u0439\", \"\\u043a\\u0430\\u043a\\u043e\\u0439\", \"\\u043a\\u0430\\u043d\\u0430\\u0434\\u0441\\u043a\\u0438\\u0439\", \"\\u043a\\u0430\\u043f\\u0438\\u0442\\u0430\\u043b\\u0438\\u0437\\u0430\\u0446\\u0438\\u044f\", \"\\u043a\\u0430\\u043f\\u0438\\u0442\\u0430\\u043b\\u0438\\u0437\\u0430\\u0446\\u0438\\u044f\", \"\\u043a\\u0430\\u0440\\u0442\\u0430\", \"\\u043a\\u0430\\u0440\\u0442\\u0430\", \"\\u043a\\u0430\\u0440\\u0442\\u0430\", \"\\u043a\\u0430\\u0440\\u0442\\u0430\", \"\\u043a\\u0430\\u0440\\u0442\\u0430\", \"\\u043a\\u0430\\u0440\\u0442\\u0438\\u043d\\u043a\\u0430\", \"\\u043a\\u0430\\u0441\\u043a\\u043e\", \"\\u043a\\u0430\\u0441\\u0441\\u0438\\u0440\", \"\\u043a\\u0430\\u0441\\u0441\\u0438\\u0440\", \"\\u043a\\u0430\\u0441\\u0441\\u0438\\u0440\", \"\\u043a\\u0430\\u0441\\u0441\\u0438\\u0440\", \"\\u043a\\u0430\\u0447\\u0435\\u0441\\u0442\\u0432\\u0435\\u043d\\u043d\\u044b\\u0439\", \"\\u043a\\u0432\\u0430\\u0440\\u0442\\u043f\\u043b\\u0430\\u0442\\u0430\", \"\\u043a\\u0438\\u0432\\u0438\", \"\\u043a\\u0438\\u0432\\u0438\", \"\\u043a\\u0438\\u0432\\u0438\", \"\\u043a\\u043b\\u0438\\u0435\\u043d\\u0442\", \"\\u043a\\u043b\\u0438\\u0435\\u043d\\u0442\", \"\\u043a\\u043b\\u0438\\u0435\\u043d\\u0442\", \"\\u043a\\u043b\\u0438\\u0435\\u043d\\u0442\", \"\\u043a\\u043b\\u0438\\u0435\\u043d\\u0442\", \"\\u043a\\u043e\\u0434\\u0435\\u043a\\u0441\", \"\\u043a\\u043e\\u0434\\u0435\\u043a\\u0441\", \"\\u043a\\u043e\\u0434\\u043e\\u0432\\u044b\\u0439\", \"\\u043a\\u043e\\u0434\\u043e\\u0432\\u044b\\u0439\", \"\\u043a\\u043e\\u043b\\u043b\\u0435\\u043a\\u0442\\u043e\\u0440\", \"\\u043a\\u043e\\u043b\\u043b\\u0435\\u043a\\u0442\\u043e\\u0440\", \"\\u043a\\u043e\\u043b\\u043b\\u0435\\u043a\\u0442\\u043e\\u0440\\u0441\\u043a\\u0438\\u0439\", \"\\u043a\\u043e\\u043c\\u0438\\u0441\\u0441\\u0438\\u044f\", \"\\u043a\\u043e\\u043c\\u0438\\u0441\\u0441\\u0438\\u044f\", \"\\u043a\\u043e\\u043c\\u0438\\u0441\\u0441\\u0438\\u044f\", \"\\u043a\\u043e\\u043c\\u0438\\u0441\\u0441\\u0438\\u044f\", \"\\u043a\\u043e\\u043d\\u0432\\u0435\\u0440\\u0442\\u0430\\u0446\\u0438\\u044f\", \"\\u043a\\u043e\\u043d\\u0432\\u0435\\u0440\\u0442\\u0430\\u0446\\u0438\\u044f\", \"\\u043a\\u043e\\u043d\\u0432\\u0435\\u0440\\u0442\\u0430\\u0446\\u0438\\u044f\", \"\\u043a\\u043e\\u043d\\u0442\\u0430\\u043a\\u0442\\u043d\\u044b\\u0439\", \"\\u043a\\u043e\\u043d\\u0442\\u0430\\u043a\\u0442\\u043d\\u044b\\u0439\", \"\\u043a\\u043e\\u043d\\u0442\\u0430\\u043a\\u0442\\u043d\\u044b\\u0439\", \"\\u043a\\u043e\\u043d\\u0442\\u0430\\u043a\\u0442\\u043d\\u044b\\u0439\", \"\\u043a\\u043e\\u043d\\u0442\\u0430\\u043a\\u0442\\u043d\\u044b\\u0439\", \"\\u043a\\u043e\\u043f\\u0430\", \"\\u043a\\u043e\\u043f\\u0430\", \"\\u043a\\u043e\\u043f\\u0430\", \"\\u043a\\u043e\\u0441\\u043c\\u0435\\u0442\\u0438\\u043a\\u0430\", \"\\u043a\\u043e\\u0441\\u043c\\u0435\\u0442\\u0438\\u043a\\u0441\", \"\\u043a\\u043e\\u0441\\u043c\\u0435\\u0442\\u0438\\u0447\\u0435\\u0441\\u043a\\u0438\\u0439\", \"\\u043a\\u043e\\u0441\\u043c\\u0435\\u0442\\u043e\\u043b\\u043e\\u0433\\u0438\\u0447\\u0435\\u0441\\u043a\\u0438\\u0439\", \"\\u043a\\u043e\\u0448\\u0435\\u043b\\u0435\\u043a\", \"\\u043a\\u043e\\u0448\\u0435\\u043b\\u0435\\u043a\", \"\\u043a\\u043e\\u0448\\u0435\\u043b\\u0435\\u043a\", \"\\u043a\\u043e\\u0448\\u0435\\u0442\\u044c\", \"\\u043a\\u043e\\u0448\\u0435\\u0442\\u044c\", \"\\u043a\\u0440\\u0435\\u0434\\u0438\\u0442\", \"\\u043a\\u0440\\u0435\\u0434\\u0438\\u0442\", \"\\u043a\\u0440\\u0435\\u0434\\u0438\\u0442\", \"\\u043a\\u0440\\u0435\\u0434\\u0438\\u0442\", \"\\u043a\\u0440\\u0435\\u0434\\u0438\\u0442\", \"\\u043a\\u0440\\u0435\\u0434\\u0438\\u0442\\u043d\\u044b\\u0439\", \"\\u043a\\u0440\\u0435\\u0434\\u0438\\u0442\\u043d\\u044b\\u0439\", \"\\u043a\\u0440\\u0435\\u0434\\u0438\\u0442\\u043d\\u044b\\u0439\", \"\\u043a\\u0440\\u0435\\u0434\\u0438\\u0442\\u043d\\u044b\\u0439\", \"\\u043a\\u0440\\u0435\\u0434\\u0438\\u0442\\u043d\\u044b\\u0439\", \"\\u043a\\u0443\\u0437\\u0438\\u043d\\u0430\", \"\\u043a\\u0443\\u043f\\u043b\\u044f\", \"\\u043a\\u0443\\u043f\\u043b\\u044f\", \"\\u043a\\u0443\\u043f\\u044e\\u0440\\u043e\\u043f\\u0440\\u0438\\u0435\\u043c\\u043d\\u0438\\u043a\", \"\\u043a\\u0443\\u0440\\u0441\\u043e\\u0432\\u043e\\u0439\", \"\\u043b\\u0430\\u0439\\u043c\", \"\\u043c\\u0430\\u043c\\u0430\", \"\\u043c\\u0430\\u043c\\u0430\", \"\\u043c\\u0430\\u043c\\u0430\", \"\\u043c\\u0430\\u043c\\u0430\", \"\\u043c\\u0430\\u043c\\u0430\", \"\\u043c\\u0430\\u0441\\u0442\", \"\\u043c\\u0430\\u0448\\u0438\\u043d\\u043a\\u0430\", \"\\u043c\\u0430\\u0448\\u0438\\u043d\\u043a\\u0430\", \"\\u043c\\u0435\\u043d\\u0435\\u0434\\u0436\\u0435\\u0440\", \"\\u043c\\u0435\\u043d\\u0435\\u0434\\u0436\\u0435\\u0440\", \"\\u043c\\u0435\\u043d\\u0435\\u0434\\u0436\\u0435\\u0440\", \"\\u043c\\u0435\\u043d\\u0435\\u0434\\u0436\\u0435\\u0440\", \"\\u043c\\u0435\\u043d\\u0435\\u0434\\u0436\\u0435\\u0440\", \"\\u043c\\u0435\\u0441\\u044f\\u0446\", \"\\u043c\\u0435\\u0441\\u044f\\u0446\", \"\\u043c\\u0435\\u0441\\u044f\\u0446\", \"\\u043c\\u0435\\u0441\\u044f\\u0446\", \"\\u043c\\u0435\\u0441\\u044f\\u0446\", \"\\u043c\\u0438\\u043a\\u0440\\u043e\\u0440\\u0430\\u0439\\u043e\\u043d\", \"\\u043c\\u0438\\u043b\\u044f\", \"\\u043c\\u0438\\u043d\\u0443\\u0442\\u0430\", \"\\u043c\\u0438\\u043d\\u0443\\u0442\\u0430\", \"\\u043c\\u0438\\u043d\\u0443\\u0442\\u0430\", \"\\u043c\\u0438\\u043d\\u0443\\u0442\\u0430\", \"\\u043c\\u0438\\u043d\\u0443\\u0442\\u0430\", \"\\u043c\\u0438\\u0445\\u0430\\u0439\\u043b\\u043e\\u0432\\u043d\\u0430\", \"\\u043c\\u043e\\u0439\", \"\\u043c\\u043e\\u0439\", \"\\u043c\\u043e\\u0439\", \"\\u043c\\u043e\\u0439\", \"\\u043c\\u043e\\u0439\", \"\\u043c\\u043e\\u043c\\u0435\\u043d\\u0442\\u0443\\u043c\", \"\\u043c\\u043f\\u0441\", \"\\u043c\\u0442\\u0441\", \"\\u043c\\u0442\\u0441\", \"\\u043c\\u0442\\u0441\", \"\\u043c\\u0442\\u0441\", \"\\u043c\\u0442\\u0441\", \"\\u043d\\u0430\\u0437\\u0432\\u0430\\u043d\\u0438\\u0432\\u0430\\u0442\\u044c\", \"\\u043d\\u0430\\u0437\\u0432\\u0430\\u043d\\u0438\\u0432\\u0430\\u0442\\u044c\", \"\\u043d\\u0430\\u043f\\u0438\\u0441\\u0430\\u0442\\u044c\", \"\\u043d\\u0430\\u043f\\u0438\\u0441\\u0430\\u0442\\u044c\", \"\\u043d\\u0430\\u043f\\u0438\\u0441\\u0430\\u0442\\u044c\", \"\\u043d\\u0430\\u043f\\u0438\\u0441\\u0430\\u0442\\u044c\", \"\\u043d\\u0430\\u043f\\u0438\\u0441\\u0430\\u0442\\u044c\", \"\\u043d\\u0430\\u0440\\u0443\\u0448\\u0435\\u043d\\u0438\\u0435\", \"\\u043d\\u0430\\u0440\\u0443\\u0448\\u0435\\u043d\\u0438\\u0435\", \"\\u043d\\u0430\\u0440\\u0443\\u0448\\u0435\\u043d\\u0438\\u0435\", \"\\u043d\\u0430\\u0440\\u0443\\u0448\\u0435\\u043d\\u0438\\u0435\", \"\\u043d\\u0430\\u0447\\u0430\\u043b\\u044c\\u043d\\u0438\\u0446\\u0430\", \"\\u043d\\u0430\\u0447\\u0430\\u043b\\u044c\\u043d\\u0438\\u0446\\u0430\", \"\\u043d\\u0431\\u043a\\u043e\", \"\\u043d\\u0434\\u0444\\u043b\", \"\\u043d\\u0434\\u0444\\u043b\", \"\\u043d\\u0434\\u0444\\u043b\", \"\\u043d\\u0434\\u0444\\u043b\", \"\\u043d\\u0435\\u0437\\u043d\\u0430\\u043a\\u043e\\u043c\\u044b\\u0439\", \"\\u043d\\u0435\\u0437\\u043d\\u0430\\u043a\\u043e\\u043c\\u044b\\u0439\", \"\\u043d\\u0435\\u0443\\u0441\\u0442\\u043e\\u0439\\u043a\\u0430\", \"\\u043d\\u0435\\u0443\\u0441\\u0442\\u043e\\u0439\\u043a\\u0430\", \"\\u043d\\u0435\\u0443\\u0441\\u0442\\u043e\\u0439\\u043a\\u0430\", \"\\u043d\\u0435\\u0443\\u0441\\u0442\\u043e\\u0439\\u043a\\u0430\", \"\\u043d\\u043e\\u0432\\u044b\\u0439\", \"\\u043d\\u043e\\u0432\\u044b\\u0439\", \"\\u043d\\u043e\\u0432\\u044b\\u0439\", \"\\u043d\\u043e\\u0432\\u044b\\u0439\", \"\\u043d\\u043e\\u0432\\u044b\\u0439\", \"\\u043d\\u043e\\u043c\\u0435\\u0440\", \"\\u043d\\u043e\\u043c\\u0435\\u0440\", \"\\u043d\\u043e\\u043c\\u0435\\u0440\", \"\\u043d\\u043e\\u043c\\u0435\\u0440\", \"\\u043d\\u043e\\u043c\\u0435\\u0440\", \"\\u043d\\u043f\\u0444\", \"\\u043d\\u0440\\u0430\\u0432\\u0438\\u0442\\u044c\\u0441\\u044f\", \"\\u043d\\u0440\\u0430\\u0432\\u0438\\u0442\\u044c\\u0441\\u044f\", \"\\u043d\\u0440\\u0430\\u0432\\u0438\\u0442\\u044c\\u0441\\u044f\", \"\\u043d\\u0440\\u0430\\u0432\\u0438\\u0442\\u044c\\u0441\\u044f\", \"\\u043e\\u0430\\u043e\", \"\\u043e\\u0430\\u043e\", \"\\u043e\\u0430\\u043e\", \"\\u043e\\u0430\\u043e\", \"\\u043e\\u0430\\u043e\", \"\\u043e\\u0431\\u0437\\u0432\\u043e\\u043d\", \"\\u043e\\u0431\\u043c\\u0430\\u043d\\u044b\\u0432\\u0430\\u0442\\u044c\", \"\\u043e\\u0431\\u043c\\u0430\\u043d\\u044b\\u0432\\u0430\\u0442\\u044c\", \"\\u043e\\u0431\\u043c\\u0430\\u043d\\u044b\\u0432\\u0430\\u0442\\u044c\", \"\\u043e\\u0431\\u043c\\u0430\\u043d\\u044b\\u0432\\u0430\\u0442\\u044c\", \"\\u043e\\u0431\\u043c\\u0430\\u043d\\u044b\\u0432\\u0430\\u0442\\u044c\", \"\\u043e\\u0431\\u0440\\u0430\\u0431\\u0430\\u0442\\u044b\\u0432\\u0430\\u0442\\u044c\\u0441\\u044f\", \"\\u043e\\u0431\\u0440\\u0430\\u0431\\u0430\\u0442\\u044b\\u0432\\u0430\\u0442\\u044c\\u0441\\u044f\", \"\\u043e\\u0431\\u0440\\u0430\\u0431\\u0430\\u0442\\u044b\\u0432\\u0430\\u0442\\u044c\\u0441\\u044f\", \"\\u043e\\u0431\\u0440\\u0430\\u0449\\u0430\\u0442\\u044c\\u0441\\u044f\", \"\\u043e\\u0431\\u0440\\u0430\\u0449\\u0430\\u0442\\u044c\\u0441\\u044f\", \"\\u043e\\u0431\\u0440\\u0430\\u0449\\u0430\\u0442\\u044c\\u0441\\u044f\", \"\\u043e\\u0431\\u0440\\u0430\\u0449\\u0430\\u0442\\u044c\\u0441\\u044f\", \"\\u043e\\u0431\\u0440\\u0430\\u0449\\u0430\\u0442\\u044c\\u0441\\u044f\", \"\\u043e\\u0431\\u0440\\u0430\\u0449\\u0435\\u043d\\u0438\\u0435\", \"\\u043e\\u0431\\u0440\\u0430\\u0449\\u0435\\u043d\\u0438\\u0435\", \"\\u043e\\u0431\\u0440\\u0430\\u0449\\u0435\\u043d\\u0438\\u0435\", \"\\u043e\\u0431\\u0440\\u0430\\u0449\\u0435\\u043d\\u0438\\u0435\", \"\\u043e\\u0431\\u0440\\u0430\\u0449\\u0435\\u043d\\u0438\\u0435\", \"\\u043e\\u0431\\u0441\\u043b\\u0443\\u0436\\u0438\\u0432\\u0430\\u043d\\u0438\\u0435\", \"\\u043e\\u0431\\u0441\\u043b\\u0443\\u0436\\u0438\\u0432\\u0430\\u043d\\u0438\\u0435\", \"\\u043e\\u0431\\u0441\\u043b\\u0443\\u0436\\u0438\\u0432\\u0430\\u043d\\u0438\\u0435\", \"\\u043e\\u0431\\u0441\\u043b\\u0443\\u0436\\u0438\\u0432\\u0430\\u043d\\u0438\\u0435\", \"\\u043e\\u0431\\u0441\\u043b\\u0443\\u0436\\u0438\\u0432\\u0430\\u043d\\u0438\\u0435\", \"\\u043e\\u0431\\u0441\\u043b\\u0443\\u0436\\u0438\\u0432\\u0430\\u0442\\u044c\", \"\\u043e\\u0431\\u0441\\u043b\\u0443\\u0436\\u0438\\u0432\\u0430\\u0442\\u044c\", \"\\u043e\\u0431\\u0441\\u043b\\u0443\\u0436\\u0438\\u0432\\u0430\\u0442\\u044c\", \"\\u043e\\u0431\\u0441\\u043b\\u0443\\u0436\\u0438\\u0432\\u0430\\u0442\\u044c\", \"\\u043e\\u0431\\u0441\\u043b\\u0443\\u0436\\u0438\\u0432\\u0430\\u0442\\u044c\", \"\\u043e\\u0431\\u0441\\u043b\\u0443\\u0436\\u0438\\u0432\\u0430\\u0442\\u044c\\u0441\\u044f\", \"\\u043e\\u0431\\u0441\\u043b\\u0443\\u0436\\u0438\\u0432\\u0430\\u0442\\u044c\\u0441\\u044f\", \"\\u043e\\u0431\\u0441\\u043b\\u0443\\u0436\\u0438\\u0432\\u0430\\u0442\\u044c\\u0441\\u044f\", \"\\u043e\\u0431\\u0441\\u043b\\u0443\\u0436\\u0438\\u0432\\u0430\\u0442\\u044c\\u0441\\u044f\", \"\\u043e\\u0431\\u0441\\u043b\\u0443\\u0436\\u0438\\u0432\\u0430\\u0442\\u044c\\u0441\\u044f\", \"\\u043e\\u0432\\u0435\\u0440\\u0434\\u0440\\u0430\\u0444\\u0442\", \"\\u043e\\u0432\\u0435\\u0440\\u0434\\u0440\\u0430\\u0444\\u0442\", \"\\u043e\\u0432\\u0435\\u0440\\u0434\\u0440\\u0430\\u0444\\u0442\", \"\\u043e\\u0434\\u0438\\u043d\", \"\\u043e\\u0434\\u0438\\u043d\", \"\\u043e\\u0434\\u0438\\u043d\", \"\\u043e\\u0434\\u0438\\u043d\", \"\\u043e\\u0434\\u0438\\u043d\", \"\\u043e\\u0434\\u043e\\u0431\\u0440\\u0435\\u043d\\u0438\\u0435\", \"\\u043e\\u0434\\u043e\\u0431\\u0440\\u0435\\u043d\\u0438\\u0435\", \"\\u043e\\u0434\\u043e\\u0431\\u0440\\u0435\\u043d\\u0438\\u0435\", \"\\u043e\\u0434\\u043e\\u0431\\u0440\\u0435\\u043d\\u0438\\u0435\", \"\\u043e\\u0434\\u043e\\u0431\\u0440\\u044f\\u0442\\u044c\", \"\\u043e\\u0434\\u043e\\u0431\\u0440\\u044f\\u0442\\u044c\", \"\\u043e\\u0434\\u043e\\u0431\\u0440\\u044f\\u0442\\u044c\", \"\\u043e\\u0434\\u043e\\u0431\\u0440\\u044f\\u0442\\u044c\", \"\\u043e\\u0434\\u043e\\u0431\\u0440\\u044f\\u0442\\u044c\", \"\\u043e\\u043a\\u0430\\u0437\\u0430\\u043d\\u0438\\u0435\", \"\\u043e\\u043a\\u0430\\u0437\\u0430\\u043d\\u0438\\u0435\", \"\\u043e\\u043a\\u0430\\u0437\\u0430\\u043d\\u0438\\u0435\", \"\\u043e\\u043a\\u043d\\u043e\", \"\\u043e\\u043a\\u043d\\u043e\", \"\\u043e\\u043a\\u043d\\u043e\", \"\\u043e\\u043a\\u043d\\u043e\", \"\\u043e\\u043a\\u043d\\u043e\", \"\\u043e\\u043e\\u043e\", \"\\u043e\\u043e\\u043e\", \"\\u043e\\u043f\\u0435\\u0440\\u0430\\u0442\\u043e\\u0440\", \"\\u043e\\u043f\\u0435\\u0440\\u0430\\u0442\\u043e\\u0440\", \"\\u043e\\u043f\\u0435\\u0440\\u0430\\u0442\\u043e\\u0440\", \"\\u043e\\u043f\\u0435\\u0440\\u0430\\u0442\\u043e\\u0440\", \"\\u043e\\u043f\\u0435\\u0440\\u0430\\u0442\\u043e\\u0440\", \"\\u043e\\u043f\\u0435\\u0440\\u0430\\u0446\\u0438\\u044f\", \"\\u043e\\u043f\\u0435\\u0440\\u0430\\u0446\\u0438\\u044f\", \"\\u043e\\u043f\\u0435\\u0440\\u0430\\u0446\\u0438\\u044f\", \"\\u043e\\u043f\\u0435\\u0440\\u0430\\u0446\\u0438\\u044f\", \"\\u043e\\u043f\\u0435\\u0440\\u0430\\u0446\\u0438\\u044f\", \"\\u043e\\u043f\\u0442\\u0438\\u043c\\u0430\\u043b\\u044c\\u043d\\u044b\\u0439\", \"\\u043e\\u0441\\u0430\\u0433\\u043e\", \"\\u043e\\u0441\\u043a\\u043e\\u0440\\u0431\\u043b\\u0435\\u043d\\u0438\\u0435\", \"\\u043e\\u0441\\u043a\\u043e\\u0440\\u0431\\u043b\\u044f\\u0442\\u044c\", \"\\u043e\\u0441\\u043d\\u043e\\u0432\\u0430\\u043d\\u0438\\u0435\", \"\\u043e\\u0441\\u043d\\u043e\\u0432\\u0430\\u043d\\u0438\\u0435\", \"\\u043e\\u0441\\u043d\\u043e\\u0432\\u0430\\u043d\\u0438\\u0435\", \"\\u043e\\u0441\\u043d\\u043e\\u0432\\u0430\\u043d\\u0438\\u0435\", \"\\u043e\\u0441\\u043d\\u043e\\u0432\\u0430\\u043d\\u0438\\u0435\", \"\\u043e\\u0442\\u0432\\u0435\\u0442\", \"\\u043e\\u0442\\u0432\\u0435\\u0442\", \"\\u043e\\u0442\\u0432\\u0435\\u0442\", \"\\u043e\\u0442\\u0432\\u0435\\u0442\", \"\\u043e\\u0442\\u0432\\u0435\\u0442\", \"\\u043e\\u0442\\u0432\\u0435\\u0447\\u0430\\u0442\\u044c\", \"\\u043e\\u0442\\u0432\\u0435\\u0447\\u0430\\u0442\\u044c\", \"\\u043e\\u0442\\u0432\\u0435\\u0447\\u0430\\u0442\\u044c\", \"\\u043e\\u0442\\u0432\\u0435\\u0447\\u0430\\u0442\\u044c\", \"\\u043e\\u0442\\u0432\\u0435\\u0447\\u0430\\u0442\\u044c\", \"\\u043e\\u0442\\u0434\\u0435\\u043b\\u0435\\u043d\\u0438\\u0435\", \"\\u043e\\u0442\\u0434\\u0435\\u043b\\u0435\\u043d\\u0438\\u0435\", \"\\u043e\\u0442\\u0434\\u0435\\u043b\\u0435\\u043d\\u0438\\u0435\", \"\\u043e\\u0442\\u0434\\u0435\\u043b\\u0435\\u043d\\u0438\\u0435\", \"\\u043e\\u0442\\u0434\\u0435\\u043b\\u0435\\u043d\\u0438\\u0435\", \"\\u043e\\u0442\\u0437\\u044b\\u0432\", \"\\u043e\\u0442\\u0437\\u044b\\u0432\", \"\\u043e\\u0442\\u0437\\u044b\\u0432\", \"\\u043e\\u0442\\u0437\\u044b\\u0432\", \"\\u043e\\u0442\\u0437\\u044b\\u0432\", \"\\u043e\\u0442\\u043a\\u0430\\u0437\", \"\\u043e\\u0442\\u043a\\u0430\\u0437\", \"\\u043e\\u0442\\u043a\\u0430\\u0437\", \"\\u043e\\u0442\\u043a\\u0430\\u0437\", \"\\u043e\\u0442\\u043a\\u0430\\u0437\", \"\\u043e\\u0442\\u043a\\u0430\\u0437\\u044b\\u0432\\u0430\\u0442\\u044c\\u0441\\u044f\", \"\\u043e\\u0442\\u043a\\u0430\\u0437\\u044b\\u0432\\u0430\\u0442\\u044c\\u0441\\u044f\", \"\\u043e\\u0442\\u043a\\u0430\\u0437\\u044b\\u0432\\u0430\\u0442\\u044c\\u0441\\u044f\", \"\\u043e\\u0442\\u043a\\u0430\\u0437\\u044b\\u0432\\u0430\\u0442\\u044c\\u0441\\u044f\", \"\\u043e\\u0442\\u043a\\u0430\\u0437\\u044b\\u0432\\u0430\\u0442\\u044c\\u0441\\u044f\", \"\\u043e\\u0442\\u043a\\u0440\\u044b\\u0432\\u0430\\u0442\\u044c\", \"\\u043e\\u0442\\u043a\\u0440\\u044b\\u0432\\u0430\\u0442\\u044c\", \"\\u043e\\u0442\\u043a\\u0440\\u044b\\u0432\\u0430\\u0442\\u044c\", \"\\u043e\\u0442\\u043a\\u0440\\u044b\\u0432\\u0430\\u0442\\u044c\", \"\\u043e\\u0442\\u043a\\u0440\\u044b\\u0432\\u0430\\u0442\\u044c\", \"\\u043e\\u0442\\u043a\\u0440\\u044b\\u0442\\u0438\\u0435\", \"\\u043e\\u0442\\u043a\\u0440\\u044b\\u0442\\u0438\\u0435\", \"\\u043e\\u0442\\u043a\\u0440\\u044b\\u0442\\u0438\\u0435\", \"\\u043e\\u0442\\u043a\\u0440\\u044b\\u0442\\u0438\\u0435\", \"\\u043e\\u0442\\u043a\\u0440\\u044b\\u0442\\u0438\\u0435\", \"\\u043e\\u0442\\u043c\\u044b\\u0432\\u0430\\u043d\\u0438\\u0435\", \"\\u043e\\u0444\\u0435\\u0440\\u0442\\u0430\", \"\\u043e\\u0444\\u0435\\u0440\\u0442\\u0430\", \"\\u043e\\u0444\\u0435\\u0440\\u0442\\u0430\", \"\\u043e\\u0444\\u0438\\u0441\", \"\\u043e\\u0444\\u0438\\u0441\", \"\\u043e\\u0444\\u0438\\u0441\", \"\\u043e\\u0444\\u0438\\u0441\", \"\\u043e\\u0444\\u0438\\u0441\", \"\\u043e\\u0444\\u043e\\u0440\\u043c\\u043b\\u0435\\u043d\\u0438\\u0435\", \"\\u043e\\u0444\\u043e\\u0440\\u043c\\u043b\\u0435\\u043d\\u0438\\u0435\", \"\\u043e\\u0444\\u043e\\u0440\\u043c\\u043b\\u0435\\u043d\\u0438\\u0435\", \"\\u043e\\u0444\\u043e\\u0440\\u043c\\u043b\\u0435\\u043d\\u0438\\u0435\", \"\\u043e\\u0444\\u043e\\u0440\\u043c\\u043b\\u0435\\u043d\\u0438\\u0435\", \"\\u043e\\u0444\\u043e\\u0440\\u043c\\u043b\\u044f\\u0442\\u044c\", \"\\u043e\\u0444\\u043e\\u0440\\u043c\\u043b\\u044f\\u0442\\u044c\", \"\\u043e\\u0444\\u043e\\u0440\\u043c\\u043b\\u044f\\u0442\\u044c\", \"\\u043e\\u0444\\u043e\\u0440\\u043c\\u043b\\u044f\\u0442\\u044c\", \"\\u043e\\u0444\\u043e\\u0440\\u043c\\u043b\\u044f\\u0442\\u044c\", \"\\u043e\\u0447\\u0435\\u043d\\u044c\", \"\\u043e\\u0447\\u0435\\u043d\\u044c\", \"\\u043e\\u0447\\u0435\\u043d\\u044c\", \"\\u043e\\u0447\\u0435\\u043d\\u044c\", \"\\u043e\\u0447\\u0435\\u043d\\u044c\", \"\\u043e\\u0447\\u0435\\u0440\\u0435\\u0434\\u044c\", \"\\u043e\\u0447\\u0435\\u0440\\u0435\\u0434\\u044c\", \"\\u043e\\u0447\\u0435\\u0440\\u0435\\u0434\\u044c\", \"\\u043e\\u0447\\u0435\\u0440\\u0435\\u0434\\u044c\", \"\\u043e\\u0447\\u0435\\u0440\\u0435\\u0434\\u044c\", \"\\u043f\\u0430\\u0439\", \"\\u043f\\u0430\\u0440\\u0430\\u0434\\u0430\\u0439\\u0437\", \"\\u043f\\u0430\\u0440\\u043a\\u043e\\u0432\\u043a\\u0430\", \"\\u043f\\u0435\\u0440\\u0432\\u043e\\u0431\\u0430\\u043d\\u043a\", \"\\u043f\\u0435\\u0440\\u0432\\u043e\\u043d\\u0430\\u0447\\u0430\\u043b\\u044c\\u043d\\u044b\\u0439\", \"\\u043f\\u0435\\u0440\\u0432\\u043e\\u043d\\u0430\\u0447\\u0430\\u043b\\u044c\\u043d\\u044b\\u0439\", \"\\u043f\\u0435\\u0440\\u0432\\u043e\\u043d\\u0430\\u0447\\u0430\\u043b\\u044c\\u043d\\u044b\\u0439\", \"\\u043f\\u0435\\u0440\\u0432\\u043e\\u043d\\u0430\\u0447\\u0430\\u043b\\u044c\\u043d\\u044b\\u0439\", \"\\u043f\\u0435\\u0440\\u0435\\u0432\", \"\\u043f\\u0435\\u0440\\u0435\\u0432\\u043e\\u0434\", \"\\u043f\\u0435\\u0440\\u0435\\u0432\\u043e\\u0434\", \"\\u043f\\u0435\\u0440\\u0435\\u0432\\u043e\\u0434\", \"\\u043f\\u0435\\u0440\\u0435\\u0432\\u043e\\u0434\", \"\\u043f\\u0435\\u0440\\u0435\\u0432\\u043e\\u0434\\u0438\\u0442\\u044c\", \"\\u043f\\u0435\\u0440\\u0435\\u0432\\u043e\\u0434\\u0438\\u0442\\u044c\", \"\\u043f\\u0435\\u0440\\u0435\\u0432\\u043e\\u0434\\u0438\\u0442\\u044c\", \"\\u043f\\u0435\\u0440\\u0435\\u0432\\u043e\\u0434\\u0438\\u0442\\u044c\", \"\\u043f\\u0435\\u0440\\u0435\\u0432\\u043e\\u0434\\u0438\\u0442\\u044c\", \"\\u043f\\u0435\\u0440\\u0435\\u0432\\u044b\\u043f\\u0443\\u0441\\u043a\", \"\\u043f\\u0435\\u0440\\u0435\\u0432\\u044b\\u043f\\u0443\\u0441\\u043a\", \"\\u043f\\u0435\\u0440\\u0435\\u0432\\u044b\\u043f\\u0443\\u0441\\u043a\", \"\\u043f\\u0435\\u0440\\u0435\\u0432\\u044b\\u043f\\u0443\\u0441\\u043a\", \"\\u043f\\u0435\\u0440\\u0435\\u0432\\u044b\\u043f\\u0443\\u0449\\u0435\\u043d\\u043d\\u044b\\u0439\", \"\\u043f\\u0435\\u0440\\u0435\\u0432\\u044b\\u043f\\u0443\\u0449\\u0435\\u043d\\u043d\\u044b\\u0439\", \"\\u043f\\u0435\\u0440\\u0435\\u0434\\u0430\\u0432\\u0430\\u0442\\u044c\", \"\\u043f\\u0435\\u0440\\u0435\\u0434\\u0430\\u0432\\u0430\\u0442\\u044c\", \"\\u043f\\u0435\\u0440\\u0435\\u0434\\u0430\\u0432\\u0430\\u0442\\u044c\", \"\\u043f\\u0435\\u0440\\u0435\\u0434\\u0430\\u0432\\u0430\\u0442\\u044c\", \"\\u043f\\u0435\\u0440\\u0435\\u0434\\u0430\\u0432\\u0430\\u0442\\u044c\", \"\\u043f\\u0435\\u0440\\u0435\\u043a\\u0440\\u0435\\u0434\\u0438\\u0442\\u043e\\u0432\\u0430\\u0442\\u044c\\u0441\\u044f\", \"\\u043f\\u0435\\u0440\\u0441\\u043e\\u043d\\u0430\\u043b\\u044c\\u043d\\u044b\\u0439\", \"\\u043f\\u0435\\u0440\\u0441\\u043e\\u043d\\u0430\\u043b\\u044c\\u043d\\u044b\\u0439\", \"\\u043f\\u0435\\u0440\\u0441\\u043e\\u043d\\u0430\\u043b\\u044c\\u043d\\u044b\\u0439\", \"\\u043f\\u0435\\u0440\\u0441\\u043e\\u043d\\u0430\\u043b\\u044c\\u043d\\u044b\\u0439\", \"\\u043f\\u0435\\u0440\\u0441\\u043e\\u043d\\u0430\\u043b\\u044c\\u043d\\u044b\\u0439\", \"\\u043f\\u0438\\u0441\\u044c\\u043c\\u0435\\u043d\\u043d\\u044b\\u0439\", \"\\u043f\\u0438\\u0441\\u044c\\u043c\\u0435\\u043d\\u043d\\u044b\\u0439\", \"\\u043f\\u0438\\u0441\\u044c\\u043c\\u0435\\u043d\\u043d\\u044b\\u0439\", \"\\u043f\\u0438\\u0441\\u044c\\u043c\\u0435\\u043d\\u043d\\u044b\\u0439\", \"\\u043f\\u0438\\u0441\\u044c\\u043c\\u0435\\u043d\\u043d\\u044b\\u0439\", \"\\u043f\\u043b\\u0430\\u0441\\u0442\\u0438\\u043a\\u0430\", \"\\u043f\\u043b\\u0430\\u0442\\u0435\\u0436\", \"\\u043f\\u043b\\u0430\\u0442\\u0435\\u0436\", \"\\u043f\\u043b\\u0430\\u0442\\u0435\\u0436\", \"\\u043f\\u043b\\u0430\\u0442\\u0435\\u0436\", \"\\u043f\\u043b\\u0430\\u0442\\u0435\\u0436\", \"\\u043f\\u043b\\u0430\\u0442\\u0438\\u0442\\u044c\", \"\\u043f\\u043b\\u0430\\u0442\\u0438\\u0442\\u044c\", \"\\u043f\\u043b\\u0430\\u0442\\u0438\\u0442\\u044c\", \"\\u043f\\u043b\\u0430\\u0442\\u0438\\u0442\\u044c\", \"\\u043f\\u043b\\u0430\\u0442\\u0438\\u0442\\u044c\", \"\\u043f\\u043b\\u0435\\u0434\", \"\\u043f\\u043e\\u0431\\u043b\\u0430\\u0433\\u043e\\u0434\\u0430\\u0440\\u0438\\u0442\\u044c\", \"\\u043f\\u043e\\u0431\\u043b\\u0430\\u0433\\u043e\\u0434\\u0430\\u0440\\u0438\\u0442\\u044c\", \"\\u043f\\u043e\\u0433\\u0430\\u0448\\u0435\\u043d\\u0438\\u0435\", \"\\u043f\\u043e\\u0433\\u0430\\u0448\\u0435\\u043d\\u0438\\u0435\", \"\\u043f\\u043e\\u0433\\u0430\\u0448\\u0435\\u043d\\u0438\\u0435\", \"\\u043f\\u043e\\u0433\\u0430\\u0448\\u0435\\u043d\\u0438\\u0435\", \"\\u043f\\u043e\\u0433\\u0430\\u0448\\u0435\\u043d\\u0438\\u0435\", \"\\u043f\\u043e\\u0434\\u0430\\u0440\\u043e\\u043a\", \"\\u043f\\u043e\\u0434\\u0430\\u0440\\u043e\\u043a\", \"\\u043f\\u043e\\u0434\\u0430\\u0440\\u043e\\u043a\", \"\\u043f\\u043e\\u0434\\u0434\\u0435\\u0440\\u0436\\u043a\\u0430\", \"\\u043f\\u043e\\u0434\\u0434\\u0435\\u0440\\u0436\\u043a\\u0430\", \"\\u043f\\u043e\\u0434\\u0434\\u0435\\u0440\\u0436\\u043a\\u0430\", \"\\u043f\\u043e\\u0434\\u0434\\u0435\\u0440\\u0436\\u043a\\u0430\", \"\\u043f\\u043e\\u0434\\u0434\\u0435\\u0440\\u0436\\u043a\\u0430\", \"\\u043f\\u043e\\u0434\\u043f\\u0438\\u0441\\u044b\\u0432\\u0430\\u0442\\u044c\", \"\\u043f\\u043e\\u0434\\u043f\\u0438\\u0441\\u044b\\u0432\\u0430\\u0442\\u044c\", \"\\u043f\\u043e\\u0434\\u043f\\u0438\\u0441\\u044b\\u0432\\u0430\\u0442\\u044c\", \"\\u043f\\u043e\\u0434\\u043f\\u0438\\u0441\\u044b\\u0432\\u0430\\u0442\\u044c\", \"\\u043f\\u043e\\u0434\\u043f\\u0438\\u0441\\u044b\\u0432\\u0430\\u0442\\u044c\", \"\\u043f\\u043e\\u0436\\u0435\\u043b\\u0430\\u043d\\u0438\\u0435\", \"\\u043f\\u043e\\u0436\\u0435\\u043b\\u0430\\u043d\\u0438\\u0435\", \"\\u043f\\u043e\\u0436\\u0435\\u043b\\u0430\\u043d\\u0438\\u0435\", \"\\u043f\\u043e\\u0436\\u0435\\u043b\\u0430\\u043d\\u0438\\u0435\", \"\\u043f\\u043e\\u0437\\u0432\\u043e\\u043d\\u0438\\u0442\\u044c\", \"\\u043f\\u043e\\u0437\\u0432\\u043e\\u043d\\u0438\\u0442\\u044c\", \"\\u043f\\u043e\\u0437\\u0432\\u043e\\u043d\\u0438\\u0442\\u044c\", \"\\u043f\\u043e\\u0437\\u0432\\u043e\\u043d\\u0438\\u0442\\u044c\", \"\\u043f\\u043e\\u0437\\u0432\\u043e\\u043d\\u0438\\u0442\\u044c\", \"\\u043f\\u043e\\u043a\\u043e\\u0439\", \"\\u043f\\u043e\\u043b\\u0438\\u0441\", \"\\u043f\\u043e\\u043b\\u0443\\u0447\\u0430\\u0442\\u044c\", \"\\u043f\\u043e\\u043b\\u0443\\u0447\\u0430\\u0442\\u044c\", \"\\u043f\\u043e\\u043b\\u0443\\u0447\\u0430\\u0442\\u044c\", \"\\u043f\\u043e\\u043b\\u0443\\u0447\\u0430\\u0442\\u044c\", \"\\u043f\\u043e\\u043b\\u0443\\u0447\\u0430\\u0442\\u044c\", \"\\u043f\\u043e\\u043b\\u044c\\u0437\\u043e\\u0432\\u0430\\u0442\\u044c\\u0441\\u044f\", \"\\u043f\\u043e\\u043b\\u044c\\u0437\\u043e\\u0432\\u0430\\u0442\\u044c\\u0441\\u044f\", \"\\u043f\\u043e\\u043b\\u044c\\u0437\\u043e\\u0432\\u0430\\u0442\\u044c\\u0441\\u044f\", \"\\u043f\\u043e\\u043b\\u044c\\u0437\\u043e\\u0432\\u0430\\u0442\\u044c\\u0441\\u044f\", \"\\u043f\\u043e\\u043b\\u044c\\u0437\\u043e\\u0432\\u0430\\u0442\\u044c\\u0441\\u044f\", \"\\u043f\\u043e\\u043d\\u0438\\u0436\\u0435\\u043d\\u0438\\u0435\", \"\\u043f\\u043e\\u0440\\u0443\\u0447\\u0438\\u0442\\u0435\\u043b\\u044c\", \"\\u043f\\u043e\\u0440\\u0443\\u0447\\u0438\\u0442\\u0435\\u043b\\u044c\", \"\\u043f\\u043e\\u0440\\u0443\\u0447\\u0438\\u0442\\u0435\\u043b\\u044c\\u0441\\u0442\\u0432\\u043e\", \"\\u043f\\u043e\\u0441\\u0442\\u0443\\u043f\\u0430\\u0442\\u044c\", \"\\u043f\\u043e\\u0441\\u0442\\u0443\\u043f\\u0430\\u0442\\u044c\", \"\\u043f\\u043e\\u0441\\u0442\\u0443\\u043f\\u0430\\u0442\\u044c\", \"\\u043f\\u043e\\u0441\\u0442\\u0443\\u043f\\u0430\\u0442\\u044c\", \"\\u043f\\u043e\\u0441\\u0442\\u0443\\u043f\\u0430\\u0442\\u044c\", \"\\u043f\\u043e\\u0442\\u0440\\u0435\\u0431\\u0438\\u0442\\u0435\\u043b\\u044c\", \"\\u043f\\u043e\\u0442\\u0440\\u0435\\u0431\\u0438\\u0442\\u0435\\u043b\\u044c\", \"\\u043f\\u043e\\u0447\\u0435\\u043c\\u0443\", \"\\u043f\\u043e\\u0447\\u0435\\u043c\\u0443\", \"\\u043f\\u043e\\u0447\\u0435\\u043c\\u0443\", \"\\u043f\\u043e\\u0447\\u0435\\u043c\\u0443\", \"\\u043f\\u043e\\u0447\\u0435\\u043c\\u0443\", \"\\u043f\\u0440\\u0430\\u0432\\u043e\", \"\\u043f\\u0440\\u0430\\u0432\\u043e\", \"\\u043f\\u0440\\u0430\\u0432\\u043e\", \"\\u043f\\u0440\\u0430\\u0432\\u043e\", \"\\u043f\\u0440\\u0430\\u0432\\u043e\", \"\\u043f\\u0440\\u0435\\u0434\\u043e\\u0441\\u0442\\u0430\\u0432\\u043b\\u0435\\u043d\\u0438\\u0435\", \"\\u043f\\u0440\\u0435\\u0434\\u043e\\u0441\\u0442\\u0430\\u0432\\u043b\\u0435\\u043d\\u0438\\u0435\", \"\\u043f\\u0440\\u0435\\u0434\\u043e\\u0441\\u0442\\u0430\\u0432\\u043b\\u0435\\u043d\\u0438\\u0435\", \"\\u043f\\u0440\\u0435\\u0434\\u043e\\u0441\\u0442\\u0430\\u0432\\u043b\\u0435\\u043d\\u0438\\u0435\", \"\\u043f\\u0440\\u0435\\u0434\\u043e\\u0441\\u0442\\u0430\\u0432\\u043b\\u0435\\u043d\\u0438\\u0435\", \"\\u043f\\u0440\\u0435\\u0434\\u043e\\u0441\\u0442\\u0430\\u0432\\u043b\\u044f\\u0442\\u044c\", \"\\u043f\\u0440\\u0435\\u0434\\u043e\\u0441\\u0442\\u0430\\u0432\\u043b\\u044f\\u0442\\u044c\", \"\\u043f\\u0440\\u0435\\u0434\\u043e\\u0441\\u0442\\u0430\\u0432\\u043b\\u044f\\u0442\\u044c\", \"\\u043f\\u0440\\u0435\\u0434\\u043e\\u0441\\u0442\\u0430\\u0432\\u043b\\u044f\\u0442\\u044c\", \"\\u043f\\u0440\\u0435\\u0434\\u043e\\u0441\\u0442\\u0430\\u0432\\u043b\\u044f\\u0442\\u044c\", \"\\u043f\\u0440\\u0435\\u0434\\u0441\\u0442\\u0430\\u0432\\u043b\\u044f\\u0442\\u044c\\u0441\\u044f\", \"\\u043f\\u0440\\u0435\\u0434\\u0441\\u0442\\u0430\\u0432\\u043b\\u044f\\u0442\\u044c\\u0441\\u044f\", \"\\u043f\\u0440\\u0435\\u0434\\u0441\\u0442\\u0430\\u0432\\u043b\\u044f\\u0442\\u044c\\u0441\\u044f\", \"\\u043f\\u0440\\u0435\\u0434\\u0441\\u0442\\u0430\\u0432\\u043b\\u044f\\u0442\\u044c\\u0441\\u044f\", \"\\u043f\\u0440\\u0435\\u0434\\u0441\\u0442\\u0430\\u0432\\u043b\\u044f\\u0442\\u044c\\u0441\\u044f\", \"\\u043f\\u0440\\u0435\\u0434\\u0443\\u0441\\u043c\\u0430\\u0442\\u0440\\u0438\\u0432\\u0430\\u0442\\u044c\", \"\\u043f\\u0440\\u0435\\u0434\\u0443\\u0441\\u043c\\u0430\\u0442\\u0440\\u0438\\u0432\\u0430\\u0442\\u044c\", \"\\u043f\\u0440\\u0435\\u0434\\u0443\\u0441\\u043c\\u0430\\u0442\\u0440\\u0438\\u0432\\u0430\\u0442\\u044c\", \"\\u043f\\u0440\\u0435\\u0434\\u0443\\u0441\\u043c\\u0430\\u0442\\u0440\\u0438\\u0432\\u0430\\u0442\\u044c\", \"\\u043f\\u0440\\u0435\\u0434\\u0443\\u0441\\u043c\\u0430\\u0442\\u0440\\u0438\\u0432\\u0430\\u0442\\u044c\", \"\\u043f\\u0440\\u0435\\u043a\\u0440\\u0430\\u0449\\u0430\\u0442\\u044c\", \"\\u043f\\u0440\\u0435\\u043a\\u0440\\u0430\\u0449\\u0430\\u0442\\u044c\", \"\\u043f\\u0440\\u0435\\u043a\\u0440\\u0430\\u0449\\u0430\\u0442\\u044c\", \"\\u043f\\u0440\\u0435\\u043a\\u0440\\u0430\\u0449\\u0430\\u0442\\u044c\", \"\\u043f\\u0440\\u0435\\u043a\\u0440\\u0430\\u0449\\u0430\\u0442\\u044c\", \"\\u043f\\u0440\\u0435\\u043a\\u0440\\u0430\\u0449\\u0430\\u0442\\u044c\\u0441\\u044f\", \"\\u043f\\u0440\\u0435\\u043c\\u0438\\u0430\\u043b\\u044c\\u043d\\u044b\\u0439\", \"\\u043f\\u0440\\u0435\\u043c\\u0438\\u0430\\u043b\\u044c\\u043d\\u044b\\u0439\", \"\\u043f\\u0440\\u0435\\u0441\\u0442\\u0443\\u043f\\u043d\\u044b\\u0439\", \"\\u043f\\u0440\\u0435\\u0442\\u0435\\u043d\\u0437\\u0438\\u044f\", \"\\u043f\\u0440\\u0435\\u0442\\u0435\\u043d\\u0437\\u0438\\u044f\", \"\\u043f\\u0440\\u0435\\u0442\\u0435\\u043d\\u0437\\u0438\\u044f\", \"\\u043f\\u0440\\u0435\\u0442\\u0435\\u043d\\u0437\\u0438\\u044f\", \"\\u043f\\u0440\\u0435\\u0442\\u0435\\u043d\\u0437\\u0438\\u044f\", \"\\u043f\\u0440\\u0438\\u0432\\u0435\\u0442\\u043b\\u0438\\u0432\\u044b\\u0439\", \"\\u043f\\u0440\\u0438\\u0432\\u0435\\u0442\\u043b\\u0438\\u0432\\u044b\\u0439\", \"\\u043f\\u0440\\u0438\\u0435\\u0437\\u0436\\u0430\\u0442\\u044c\", \"\\u043f\\u0440\\u0438\\u0435\\u0437\\u0436\\u0430\\u0442\\u044c\", \"\\u043f\\u0440\\u0438\\u0435\\u0437\\u0436\\u0430\\u0442\\u044c\", \"\\u043f\\u0440\\u0438\\u0435\\u0437\\u0436\\u0430\\u0442\\u044c\", \"\\u043f\\u0440\\u0438\\u0435\\u0437\\u0436\\u0430\\u0442\\u044c\", \"\\u043f\\u0440\\u0438\\u043e\\u0431\\u0440\\u0435\\u0442\\u0430\\u0442\\u044c\\u0441\\u044f\", \"\\u043f\\u0440\\u0438\\u0445\\u043e\\u0434\\u0438\\u0442\\u044c\", \"\\u043f\\u0440\\u0438\\u0445\\u043e\\u0434\\u0438\\u0442\\u044c\", \"\\u043f\\u0440\\u0438\\u0445\\u043e\\u0434\\u0438\\u0442\\u044c\", \"\\u043f\\u0440\\u0438\\u0445\\u043e\\u0434\\u0438\\u0442\\u044c\", \"\\u043f\\u0440\\u0438\\u0445\\u043e\\u0434\\u0438\\u0442\\u044c\", \"\\u043f\\u0440\\u0438\\u044f\\u0442\\u043d\\u043e\", \"\\u043f\\u0440\\u0438\\u044f\\u0442\\u043d\\u043e\", \"\\u043f\\u0440\\u0438\\u044f\\u0442\\u043d\\u043e\", \"\\u043f\\u0440\\u043e\\u0431\\u043b\\u0435\\u043c\\u0430\", \"\\u043f\\u0440\\u043e\\u0431\\u043b\\u0435\\u043c\\u0430\", \"\\u043f\\u0440\\u043e\\u0431\\u043b\\u0435\\u043c\\u0430\", \"\\u043f\\u0440\\u043e\\u0431\\u043b\\u0435\\u043c\\u0430\", \"\\u043f\\u0440\\u043e\\u0431\\u043b\\u0435\\u043c\\u0430\", \"\\u043f\\u0440\\u043e\\u0433\\u043b\\u0430\\u0442\\u044b\\u0432\\u0430\\u0442\\u044c\", \"\\u043f\\u0440\\u043e\\u0434\\u043e\\u043b\\u0436\\u0430\\u0442\\u044c\\u0441\\u044f\", \"\\u043f\\u0440\\u043e\\u0434\\u043e\\u043b\\u0436\\u0430\\u0442\\u044c\\u0441\\u044f\", \"\\u043f\\u0440\\u043e\\u0434\\u043e\\u043b\\u0436\\u0430\\u0442\\u044c\\u0441\\u044f\", \"\\u043f\\u0440\\u043e\\u0434\\u043e\\u043b\\u0436\\u0430\\u0442\\u044c\\u0441\\u044f\", \"\\u043f\\u0440\\u043e\\u0436\\u0438\\u0432\\u0430\\u0442\\u044c\", \"\\u043f\\u0440\\u043e\\u0436\\u0438\\u0432\\u0430\\u0442\\u044c\", \"\\u043f\\u0440\\u043e\\u0436\\u0438\\u0432\\u0430\\u0442\\u044c\", \"\\u043f\\u0440\\u043e\\u0436\\u0438\\u0432\\u0430\\u0442\\u044c\", \"\\u043f\\u0440\\u043e\\u0436\\u0438\\u0432\\u0430\\u0442\\u044c\", \"\\u043f\\u0440\\u043e\\u043a\\u0443\\u0440\\u0430\\u0442\\u0443\\u0440\\u0430\", \"\\u043f\\u0440\\u043e\\u043a\\u0443\\u0440\\u0430\\u0442\\u0443\\u0440\\u0430\", \"\\u043f\\u0440\\u043e\\u043a\\u0443\\u0440\\u0430\\u0442\\u0443\\u0440\\u0430\", \"\\u043f\\u0440\\u043e\\u043b\\u043e\\u043d\\u0433\\u0430\\u0446\\u0438\\u044f\", \"\\u043f\\u0440\\u043e\\u043b\\u043e\\u043d\\u0433\\u0430\\u0446\\u0438\\u044f\", \"\\u043f\\u0440\\u043e\\u043b\\u043e\\u043d\\u0433\\u0438\\u0440\\u043e\\u0432\\u0430\\u0442\\u044c\", \"\\u043f\\u0440\\u043e\\u043b\\u043e\\u043d\\u0433\\u0438\\u0440\\u043e\\u0432\\u0430\\u0442\\u044c\", \"\\u043f\\u0440\\u043e\\u0441\\u0438\\u0442\\u044c\", \"\\u043f\\u0440\\u043e\\u0441\\u0438\\u0442\\u044c\", \"\\u043f\\u0440\\u043e\\u0441\\u0438\\u0442\\u044c\", \"\\u043f\\u0440\\u043e\\u0441\\u0438\\u0442\\u044c\", \"\\u043f\\u0440\\u043e\\u0441\\u0438\\u0442\\u044c\", \"\\u043f\\u0440\\u043e\\u0441\\u0440\\u043e\\u0447\\u043a\\u0430\", \"\\u043f\\u0440\\u043e\\u0441\\u0440\\u043e\\u0447\\u043a\\u0430\", \"\\u043f\\u0440\\u043e\\u0441\\u0440\\u043e\\u0447\\u043a\\u0430\", \"\\u043f\\u0440\\u043e\\u0441\\u0440\\u043e\\u0447\\u043a\\u0430\", \"\\u043f\\u0440\\u043e\\u0441\\u0440\\u043e\\u0447\\u043a\\u0430\", \"\\u043f\\u0440\\u043e\\u0441\\u0442\\u043e\", \"\\u043f\\u0440\\u043e\\u0441\\u0442\\u043e\", \"\\u043f\\u0440\\u043e\\u0441\\u0442\\u043e\", \"\\u043f\\u0440\\u043e\\u0441\\u0442\\u043e\", \"\\u043f\\u0440\\u043e\\u0441\\u0442\\u043e\", \"\\u043f\\u0440\\u043e\\u0444\\u0435\\u0441\\u0441\\u0438\\u043e\\u043d\\u0430\\u043b\\u0438\\u0437\\u043c\", \"\\u043f\\u0440\\u043e\\u0444\\u0435\\u0441\\u0441\\u0438\\u043e\\u043d\\u0430\\u043b\\u0438\\u0437\\u043c\", \"\\u043f\\u0440\\u043e\\u0444\\u0435\\u0441\\u0441\\u0438\\u043e\\u043d\\u0430\\u043b\\u0438\\u0437\\u043c\", \"\\u043f\\u0440\\u043e\\u0444\\u0435\\u0441\\u0441\\u0438\\u043e\\u043d\\u0430\\u043b\\u0438\\u0437\\u043c\", \"\\u043f\\u0440\\u043e\\u0444\\u0435\\u0441\\u0441\\u0438\\u043e\\u043d\\u0430\\u043b\\u044c\\u043d\\u043e\", \"\\u043f\\u0440\\u043e\\u0445\\u043e\\u0434\\u0438\\u0442\\u044c\", \"\\u043f\\u0440\\u043e\\u0445\\u043e\\u0434\\u0438\\u0442\\u044c\", \"\\u043f\\u0440\\u043e\\u0445\\u043e\\u0434\\u0438\\u0442\\u044c\", \"\\u043f\\u0440\\u043e\\u0445\\u043e\\u0434\\u0438\\u0442\\u044c\", \"\\u043f\\u0440\\u043e\\u0445\\u043e\\u0434\\u0438\\u0442\\u044c\", \"\\u043f\\u0440\\u043e\\u0446\\u0432\\u0435\\u0442\\u0430\\u043d\\u0438\\u0435\", \"\\u043f\\u0440\\u043e\\u0446\\u0435\\u043d\\u0442\", \"\\u043f\\u0440\\u043e\\u0446\\u0435\\u043d\\u0442\", \"\\u043f\\u0440\\u043e\\u0446\\u0435\\u043d\\u0442\", \"\\u043f\\u0440\\u043e\\u0446\\u0435\\u043d\\u0442\", \"\\u043f\\u0440\\u043e\\u0446\\u0435\\u043d\\u0442\", \"\\u043f\\u0440\\u043e\\u0446\\u0435\\u043d\\u0442\\u043d\\u044b\\u0439\", \"\\u043f\\u0440\\u043e\\u0446\\u0435\\u043d\\u0442\\u043d\\u044b\\u0439\", \"\\u043f\\u0440\\u043e\\u0446\\u0435\\u043d\\u0442\\u043d\\u044b\\u0439\", \"\\u0440\\u0430\\u0431\\u043e\\u0442\\u0430\", \"\\u0440\\u0430\\u0431\\u043e\\u0442\\u0430\", \"\\u0440\\u0430\\u0431\\u043e\\u0442\\u0430\", \"\\u0440\\u0430\\u0431\\u043e\\u0442\\u0430\", \"\\u0440\\u0430\\u0431\\u043e\\u0442\\u0430\", \"\\u0440\\u0430\\u0431\\u043e\\u0442\\u0430\\u0442\\u044c\", \"\\u0440\\u0430\\u0431\\u043e\\u0442\\u0430\\u0442\\u044c\", \"\\u0440\\u0430\\u0431\\u043e\\u0442\\u0430\\u0442\\u044c\", \"\\u0440\\u0430\\u0431\\u043e\\u0442\\u0430\\u0442\\u044c\", \"\\u0440\\u0430\\u0431\\u043e\\u0442\\u0430\\u0442\\u044c\", \"\\u0440\\u0430\\u0434\\u043e\\u0432\\u0430\\u0442\\u044c\", \"\\u0440\\u0430\\u0434\\u043e\\u0432\\u0430\\u0442\\u044c\", \"\\u0440\\u0430\\u0434\\u043e\\u0432\\u0430\\u0442\\u044c\", \"\\u0440\\u0430\\u0437\\u0431\\u043b\\u043e\\u043a\\u0438\\u0440\\u043e\\u0432\\u0430\\u0442\\u044c\\u0441\\u044f\", \"\\u0440\\u0430\\u0437\\u0432\\u043e\\u0440\\u0430\\u0447\\u0438\\u0432\\u0430\\u0442\\u044c\\u0441\\u044f\", \"\\u0440\\u0430\\u0437\\u0433\\u043b\\u0430\\u0448\\u0430\\u0442\\u044c\", \"\\u0440\\u0430\\u0437\\u0433\\u043b\\u0430\\u0448\\u0435\\u043d\\u0438\\u0435\", \"\\u0440\\u0430\\u0437\\u0433\\u043e\\u0432\\u0430\\u0440\\u0438\\u0432\\u0430\\u0442\\u044c\", \"\\u0440\\u0430\\u0437\\u0433\\u043e\\u0432\\u0430\\u0440\\u0438\\u0432\\u0430\\u0442\\u044c\", \"\\u0440\\u0430\\u0437\\u0433\\u043e\\u0432\\u0430\\u0440\\u0438\\u0432\\u0430\\u0442\\u044c\", \"\\u0440\\u0430\\u0437\\u0433\\u043e\\u0432\\u0430\\u0440\\u0438\\u0432\\u0430\\u0442\\u044c\", \"\\u0440\\u0430\\u0437\\u0433\\u043e\\u0432\\u043e\\u0440\", \"\\u0440\\u0430\\u0437\\u0433\\u043e\\u0432\\u043e\\u0440\", \"\\u0440\\u0430\\u0437\\u0433\\u043e\\u0432\\u043e\\u0440\", \"\\u0440\\u0430\\u0437\\u0433\\u043e\\u0432\\u043e\\u0440\", \"\\u0440\\u0430\\u0437\\u0433\\u043e\\u0432\\u043e\\u0440\", \"\\u0440\\u0430\\u0437\\u043c\\u0435\\u0440\", \"\\u0440\\u0430\\u0437\\u043c\\u0435\\u0440\", \"\\u0440\\u0430\\u0437\\u043c\\u0435\\u0440\", \"\\u0440\\u0430\\u0437\\u043c\\u0435\\u0440\", \"\\u0440\\u0430\\u0437\\u043c\\u0435\\u0440\", \"\\u0440\\u0430\\u0437\\u044b\\u0441\\u043a\\u0438\\u0432\\u0430\\u0442\\u044c\", \"\\u0440\\u0430\\u0437\\u044b\\u0441\\u043a\\u0438\\u0432\\u0430\\u0442\\u044c\", \"\\u0440\\u0430\\u0441\\u043f\\u043e\\u0437\\u043d\\u0430\\u0432\\u0430\\u0442\\u044c\", \"\\u0440\\u0430\\u0441\\u043f\\u043e\\u043b\\u043e\\u0436\\u0435\\u043d\\u0438\\u0435\", \"\\u0440\\u0430\\u0441\\u043f\\u043e\\u043b\\u043e\\u0436\\u0435\\u043d\\u0438\\u0435\", \"\\u0440\\u0433\\u0441\", \"\\u0440\\u0435\\u0441\\u0442\\u0440\\u0443\\u043a\\u0442\\u0443\\u0440\\u0438\\u0437\\u0430\\u0446\\u0438\\u044f\", \"\\u0440\\u0435\\u0441\\u0442\\u0440\\u0443\\u043a\\u0442\\u0443\\u0440\\u0438\\u0437\\u0430\\u0446\\u0438\\u044f\", \"\\u0440\\u0435\\u0441\\u0442\\u0440\\u0443\\u043a\\u0442\\u0443\\u0440\\u0438\\u0437\\u0430\\u0446\\u0438\\u044f\", \"\\u0440\\u0435\\u0448\\u0430\\u0442\\u044c\", \"\\u0440\\u0435\\u0448\\u0430\\u0442\\u044c\", \"\\u0440\\u0435\\u0448\\u0430\\u0442\\u044c\", \"\\u0440\\u0435\\u0448\\u0430\\u0442\\u044c\", \"\\u0440\\u0435\\u0448\\u0430\\u0442\\u044c\", \"\\u0440\\u043e\\u0434\\u0441\\u0442\\u0432\\u0435\\u043d\\u043d\\u0438\\u043a\", \"\\u0440\\u043e\\u0434\\u0441\\u0442\\u0432\\u0435\\u043d\\u043d\\u0438\\u043a\", \"\\u0440\\u043e\\u0434\\u0441\\u0442\\u0432\\u0435\\u043d\\u043d\\u0438\\u043a\", \"\\u0440\\u043e\\u0434\\u0441\\u0442\\u0432\\u0435\\u043d\\u043d\\u0438\\u043a\", \"\\u0440\\u043e\\u0434\\u0441\\u0442\\u0432\\u0435\\u043d\\u043d\\u0438\\u043a\", \"\\u0440\\u043e\\u043a\\u0435\\u0442\\u0431\\u0430\\u043d\\u043a\", \"\\u0440\\u043e\\u0441\\u043a\\u043e\\u043c\\u043d\\u0430\\u0434\\u0437\\u043e\\u0440\", \"\\u0440\\u043e\\u0441\\u043a\\u043e\\u043c\\u043d\\u0430\\u0434\\u0437\\u043e\\u0440\", \"\\u0440\\u0441\\u0445\\u0431\", \"\\u0440\\u0443\\u0431\", \"\\u0440\\u0443\\u0431\", \"\\u0440\\u0443\\u0431\", \"\\u0440\\u0443\\u0431\", \"\\u0440\\u0443\\u0431\", \"\\u0440\\u0443\\u0431\\u043b\\u044c\", \"\\u0440\\u0443\\u0431\\u043b\\u044c\", \"\\u0440\\u0443\\u0431\\u043b\\u044c\", \"\\u0440\\u0443\\u0431\\u043b\\u044c\", \"\\u0440\\u0443\\u0431\\u043b\\u044c\", \"\\u0440\\u0444\", \"\\u0440\\u0444\", \"\\u0440\\u0444\", \"\\u0440\\u0444\", \"\\u0440\\u0444\", \"\\u0441\\u0430\\u0439\\u0442\", \"\\u0441\\u0430\\u0439\\u0442\", \"\\u0441\\u0430\\u0439\\u0442\", \"\\u0441\\u0430\\u0439\\u0442\", \"\\u0441\\u0430\\u0439\\u0442\", \"\\u0441\\u0430\\u043c\\u043e\\u0441\\u0442\\u043e\\u044f\\u0442\\u0435\\u043b\\u044c\\u043d\\u044b\\u0439\", \"\\u0441\\u0431\\u0435\\u0440\\u0431\\u0430\\u043d\\u043a\", \"\\u0441\\u0431\\u0435\\u0440\\u0431\\u0430\\u043d\\u043a\", \"\\u0441\\u0431\\u0435\\u0440\\u0431\\u0430\\u043d\\u043a\", \"\\u0441\\u0431\\u0435\\u0440\\u0431\\u0430\\u043d\\u043a\", \"\\u0441\\u0431\\u0435\\u0440\\u0431\\u0430\\u043d\\u043a\", \"\\u0441\\u0431\\u043e\\u0439\", \"\\u0441\\u0431\\u043e\\u0439\", \"\\u0441\\u0431\\u043e\\u0439\", \"\\u0441\\u0431\\u043e\\u0439\", \"\\u0441\\u0435\\u043d\\u0442\\u0438\\u043d\\u0435\\u0442\\u044c\", \"\\u0441\\u0435\\u0440\\u0432\\u0438\\u0441\", \"\\u0441\\u0435\\u0440\\u0432\\u0438\\u0441\", \"\\u0441\\u0435\\u0440\\u0432\\u0438\\u0441\", \"\\u0441\\u0435\\u0440\\u0432\\u0438\\u0441\", \"\\u0441\\u043a\\u0430\\u0437\\u0430\\u0442\\u044c\", \"\\u0441\\u043a\\u0430\\u0437\\u0430\\u0442\\u044c\", \"\\u0441\\u043a\\u0430\\u0437\\u0430\\u0442\\u044c\", \"\\u0441\\u043a\\u0430\\u0437\\u0430\\u0442\\u044c\", \"\\u0441\\u043a\\u0430\\u0437\\u0430\\u0442\\u044c\", \"\\u0441\\u043a\\u043e\\u0440\\u043e\\u0441\\u0442\\u044c\", \"\\u0441\\u043a\\u043e\\u0440\\u043e\\u0441\\u0442\\u044c\", \"\\u0441\\u043a\\u043e\\u0440\\u043e\\u0441\\u0442\\u044c\", \"\\u0441\\u043a\\u043e\\u0440\\u043e\\u0441\\u0442\\u044c\", \"\\u0441\\u043a\\u0440\\u044b\\u0432\\u0430\\u0442\\u044c\\u0441\\u044f\", \"\\u0441\\u043a\\u0440\\u044b\\u0432\\u0430\\u0442\\u044c\\u0441\\u044f\", \"\\u0441\\u043a\\u0440\\u044b\\u0432\\u0430\\u0442\\u044c\\u0441\\u044f\", \"\\u0441\\u043a\\u0440\\u044b\\u0432\\u0430\\u0442\\u044c\\u0441\\u044f\", \"\\u0441\\u043b\\u0443\\u0436\\u0431\\u0430\", \"\\u0441\\u043b\\u0443\\u0436\\u0431\\u0430\", \"\\u0441\\u043b\\u0443\\u0436\\u0431\\u0430\", \"\\u0441\\u043b\\u0443\\u0436\\u0431\\u0430\", \"\\u0441\\u043b\\u0443\\u0436\\u0431\\u0430\", \"\\u0441\\u043c\\u0441\", \"\\u0441\\u043c\\u0441\", \"\\u0441\\u043c\\u0441\", \"\\u0441\\u043c\\u0441\", \"\\u0441\\u043c\\u0441\", \"\\u0441\\u043d\\u0438\\u043c\\u0430\\u0442\\u044c\", \"\\u0441\\u043d\\u0438\\u043c\\u0430\\u0442\\u044c\", \"\\u0441\\u043d\\u0438\\u043c\\u0430\\u0442\\u044c\", \"\\u0441\\u043d\\u0438\\u043c\\u0430\\u0442\\u044c\", \"\\u0441\\u043d\\u0438\\u043c\\u0430\\u0442\\u044c\", \"\\u0441\\u043d\\u044f\\u0442\\u0438\\u0435\", \"\\u0441\\u043d\\u044f\\u0442\\u0438\\u0435\", \"\\u0441\\u043d\\u044f\\u0442\\u0438\\u0435\", \"\\u0441\\u043d\\u044f\\u0442\\u0438\\u0435\", \"\\u0441\\u043e\\u0432\\u0435\\u0449\\u0430\\u043d\\u0438\\u0435\", \"\\u0441\\u043e\\u0433\\u043b\\u0430\\u0441\\u043d\\u043e\", \"\\u0441\\u043e\\u0433\\u043b\\u0430\\u0441\\u043d\\u043e\", \"\\u0441\\u043e\\u0433\\u043b\\u0430\\u0441\\u043d\\u043e\", \"\\u0441\\u043e\\u0433\\u043b\\u0430\\u0441\\u043d\\u043e\", \"\\u0441\\u043e\\u0433\\u043b\\u0430\\u0441\\u043d\\u043e\", \"\\u0441\\u043e\\u043e\\u0442\\u0432\\u0435\\u0442\\u0441\\u0442\\u0432\\u0438\\u0435\", \"\\u0441\\u043e\\u043e\\u0442\\u0432\\u0435\\u0442\\u0441\\u0442\\u0432\\u0438\\u0435\", \"\\u0441\\u043e\\u043e\\u0442\\u0432\\u0435\\u0442\\u0441\\u0442\\u0432\\u0438\\u0435\", \"\\u0441\\u043e\\u043e\\u0442\\u0432\\u0435\\u0442\\u0441\\u0442\\u0432\\u0438\\u0435\", \"\\u0441\\u043e\\u0441\\u0435\\u0434\", \"\\u0441\\u043e\\u0442\\u0440\\u0443\\u0434\\u043d\\u0438\\u043a\", \"\\u0441\\u043e\\u0442\\u0440\\u0443\\u0434\\u043d\\u0438\\u043a\", \"\\u0441\\u043e\\u0442\\u0440\\u0443\\u0434\\u043d\\u0438\\u043a\", \"\\u0441\\u043e\\u0442\\u0440\\u0443\\u0434\\u043d\\u0438\\u043a\", \"\\u0441\\u043e\\u0442\\u0440\\u0443\\u0434\\u043d\\u0438\\u043a\", \"\\u0441\\u043f\\u0430\\u0441\\u0438\\u0431\\u043e\", \"\\u0441\\u043f\\u0430\\u0441\\u0438\\u0431\\u043e\", \"\\u0441\\u043f\\u0430\\u0441\\u0438\\u0431\\u043e\", \"\\u0441\\u043f\\u0430\\u0441\\u0438\\u0431\\u043e\", \"\\u0441\\u043f\\u0430\\u0441\\u0438\\u0431\\u043e\", \"\\u0441\\u043f\\u0435\\u0446\\u0438\\u0444\\u0438\\u043a\\u0430\\u0446\\u0438\\u044f\", \"\\u0441\\u043f\\u0438\\u0441\\u0430\\u043d\\u0438\\u0435\", \"\\u0441\\u043f\\u0438\\u0441\\u0430\\u043d\\u0438\\u0435\", \"\\u0441\\u043f\\u0438\\u0441\\u0430\\u043d\\u0438\\u0435\", \"\\u0441\\u043f\\u0438\\u0441\\u0430\\u043d\\u0438\\u0435\", \"\\u0441\\u043f\\u0438\\u0441\\u044b\\u0432\\u0430\\u0442\\u044c\", \"\\u0441\\u043f\\u0438\\u0441\\u044b\\u0432\\u0430\\u0442\\u044c\", \"\\u0441\\u043f\\u0438\\u0441\\u044b\\u0432\\u0430\\u0442\\u044c\", \"\\u0441\\u043f\\u0438\\u0441\\u044b\\u0432\\u0430\\u0442\\u044c\", \"\\u0441\\u043f\\u0438\\u0441\\u044b\\u0432\\u0430\\u0442\\u044c\\u0441\\u044f\", \"\\u0441\\u043f\\u0438\\u0441\\u044b\\u0432\\u0430\\u0442\\u044c\\u0441\\u044f\", \"\\u0441\\u043f\\u0438\\u0441\\u044b\\u0432\\u0430\\u0442\\u044c\\u0441\\u044f\", \"\\u0441\\u043f\\u0438\\u0441\\u044b\\u0432\\u0430\\u0442\\u044c\\u0441\\u044f\", \"\\u0441\\u043f\\u0440\\u0430\\u0432\\u043a\\u0430\", \"\\u0441\\u043f\\u0440\\u0430\\u0432\\u043a\\u0430\", \"\\u0441\\u043f\\u0440\\u0430\\u0432\\u043a\\u0430\", \"\\u0441\\u043f\\u0440\\u0430\\u0432\\u043a\\u0430\", \"\\u0441\\u043f\\u0440\\u0430\\u0432\\u043a\\u0430\", \"\\u0441\\u0440\\u0435\\u0434\\u0441\\u0442\\u0432\\u043e\", \"\\u0441\\u0440\\u0435\\u0434\\u0441\\u0442\\u0432\\u043e\", \"\\u0441\\u0440\\u0435\\u0434\\u0441\\u0442\\u0432\\u043e\", \"\\u0441\\u0440\\u0435\\u0434\\u0441\\u0442\\u0432\\u043e\", \"\\u0441\\u0440\\u0435\\u0434\\u0441\\u0442\\u0432\\u043e\", \"\\u0441\\u0440\\u043e\\u043a\", \"\\u0441\\u0440\\u043e\\u043a\", \"\\u0441\\u0440\\u043e\\u043a\", \"\\u0441\\u0440\\u043e\\u043a\", \"\\u0441\\u0440\\u043e\\u043a\", \"\\u0441\\u0441\\u0443\\u0434\\u043d\\u044b\\u0439\", \"\\u0441\\u0441\\u0443\\u0434\\u043d\\u044b\\u0439\", \"\\u0441\\u0442\", \"\\u0441\\u0442\", \"\\u0441\\u0442\", \"\\u0441\\u0442\", \"\\u0441\\u0442\\u0430\\u0432\\u043a\\u0430\", \"\\u0441\\u0442\\u0430\\u0432\\u043a\\u0430\", \"\\u0441\\u0442\\u0430\\u0432\\u043a\\u0430\", \"\\u0441\\u0442\\u0430\\u0432\\u043a\\u0430\", \"\\u0441\\u0442\\u0430\\u0442\\u044c\\u044f\", \"\\u0441\\u0442\\u0430\\u0442\\u044c\\u044f\", \"\\u0441\\u0442\\u0430\\u0442\\u044c\\u044f\", \"\\u0441\\u0442\\u0440\\u0430\\u0445\\u043e\\u0432\\u0430\\u043d\\u0438\\u0435\", \"\\u0441\\u0442\\u0440\\u0430\\u0445\\u043e\\u0432\\u0430\\u043d\\u0438\\u0435\", \"\\u0441\\u0442\\u0440\\u0430\\u0445\\u043e\\u0432\\u0430\\u043d\\u0438\\u0435\", \"\\u0441\\u0442\\u0440\\u0430\\u0445\\u043e\\u0432\\u043a\\u0430\", \"\\u0441\\u0442\\u0440\\u0430\\u0445\\u043e\\u0432\\u043a\\u0430\", \"\\u0441\\u0442\\u0440\\u0430\\u0445\\u043e\\u0432\\u043a\\u0430\", \"\\u0441\\u0442\\u0440\\u0430\\u0445\\u043e\\u0432\\u043e\\u0439\", \"\\u0441\\u0442\\u0440\\u0430\\u0445\\u043e\\u0432\\u043e\\u0439\", \"\\u0441\\u0442\\u0440\\u0430\\u0445\\u043e\\u0432\\u043e\\u0439\", \"\\u0441\\u0442\\u0440\\u0430\\u0445\\u043e\\u0432\\u043e\\u0439\", \"\\u0441\\u0442\\u0440\\u043e\\u0438\\u0442\\u0435\\u043b\\u044c\", \"\\u0441\\u0442\\u0440\\u043e\\u0438\\u0442\\u0435\\u043b\\u044c\\u0441\\u0442\\u0432\\u043e\", \"\\u0441\\u0443\\u043c\\u043c\\u0430\", \"\\u0441\\u0443\\u043c\\u043c\\u0430\", \"\\u0441\\u0443\\u043c\\u043c\\u0430\", \"\\u0441\\u0443\\u043c\\u043c\\u0430\", \"\\u0441\\u0443\\u043c\\u043c\\u0430\", \"\\u0441\\u0443\\u043f\\u0435\\u0440\\u0441\\u0442\\u0430\\u0432\\u043a\\u0430\", \"\\u0441\\u0447\\u0435\\u0442\", \"\\u0441\\u0447\\u0435\\u0442\", \"\\u0441\\u0447\\u0435\\u0442\", \"\\u0441\\u0447\\u0435\\u0442\", \"\\u0441\\u0447\\u0435\\u0442\", \"\\u0442\\u0435\\u043b\\u0435\\u0444\\u043e\\u043d\", \"\\u0442\\u0435\\u043b\\u0435\\u0444\\u043e\\u043d\", \"\\u0442\\u0435\\u043b\\u0435\\u0444\\u043e\\u043d\", \"\\u0442\\u0435\\u043b\\u0435\\u0444\\u043e\\u043d\", \"\\u0442\\u0435\\u043b\\u0435\\u0444\\u043e\\u043d\", \"\\u0442\\u0435\\u0440\\u043c\\u0438\\u043d\\u0430\\u043b\", \"\\u0442\\u0435\\u0440\\u043c\\u0438\\u043d\\u0430\\u043b\", \"\\u0442\\u0435\\u0440\\u043c\\u0438\\u043d\\u0430\\u043b\", \"\\u0442\\u0435\\u0440\\u043c\\u0438\\u043d\\u0430\\u043b\", \"\\u0442\\u0435\\u0440\\u0440\\u043e\\u0440\", \"\\u0442\\u0435\\u0440\\u0440\\u043e\\u0440\\u0438\\u0437\\u0438\\u0440\\u043e\\u0432\\u0430\\u0442\\u044c\", \"\\u0442\\u0435\\u0445\\u043d\\u0438\\u0447\\u0435\\u0441\\u043a\\u0438\\u0439\", \"\\u0442\\u0435\\u0445\\u043d\\u0438\\u0447\\u0435\\u0441\\u043a\\u0438\\u0439\", \"\\u0442\\u0435\\u0445\\u043d\\u0438\\u0447\\u0435\\u0441\\u043a\\u0438\\u0439\", \"\\u0442\\u0435\\u0445\\u043d\\u0438\\u0447\\u0435\\u0441\\u043a\\u0438\\u0439\", \"\\u0442\\u0438\\u043a\\u0435\\u0442\", \"\\u0442\\u043e\\u0432\\u0430\\u0440\", \"\\u0442\\u043e\\u0432\\u0430\\u0440\", \"\\u0442\\u043e\\u0432\\u0430\\u0440\", \"\\u0442\\u043e\\u0432\\u0430\\u0440\", \"\\u0442\\u0440\\u0435\\u0431\\u043e\\u0432\\u0430\\u0442\\u044c\", \"\\u0442\\u0440\\u0435\\u0431\\u043e\\u0432\\u0430\\u0442\\u044c\", \"\\u0442\\u0440\\u0435\\u0431\\u043e\\u0432\\u0430\\u0442\\u044c\", \"\\u0442\\u0440\\u0435\\u0431\\u043e\\u0432\\u0430\\u0442\\u044c\", \"\\u0442\\u0440\\u0435\\u0431\\u043e\\u0432\\u0430\\u0442\\u044c\", \"\\u0442\\u0440\\u0446\", \"\\u0442\\u0441\\u043f\", \"\\u0443\\u0433\\u0440\\u043e\\u0436\\u0430\\u0442\\u044c\", \"\\u0443\\u0433\\u0440\\u043e\\u0437\\u0430\", \"\\u0443\\u0433\\u0440\\u043e\\u0437\\u0430\", \"\\u0443\\u0434\\u0430\\u043b\\u044f\\u0442\\u044c\", \"\\u0443\\u0434\\u0430\\u043b\\u044f\\u0442\\u044c\", \"\\u0443\\u0434\\u0430\\u043b\\u044f\\u0442\\u044c\", \"\\u0443\\u0434\\u043e\\u0431\\u043d\\u043e\", \"\\u0443\\u0434\\u043e\\u0431\\u043d\\u043e\", \"\\u0443\\u0434\\u043e\\u0431\\u043d\\u043e\", \"\\u0443\\u0434\\u043e\\u0431\\u043d\\u044b\\u0439\", \"\\u0443\\u0434\\u043e\\u0431\\u043d\\u044b\\u0439\", \"\\u0443\\u0434\\u043e\\u0431\\u043d\\u044b\\u0439\", \"\\u0443\\u0434\\u043e\\u0431\\u043d\\u044b\\u0439\", \"\\u0443\\u0434\\u043e\\u0432\\u043b\\u0435\\u0442\\u0432\\u043e\\u0440\\u0435\\u043d\\u0438\\u0435\", \"\\u0443\\u043a\\u0440\\u0430\\u0441\\u0442\\u044c\", \"\\u0443\\u043a\\u0440\\u0430\\u0441\\u0442\\u044c\", \"\\u0443\\u043a\\u0440\\u0430\\u0441\\u0442\\u044c\", \"\\u0443\\u043a\\u0440\\u0430\\u0441\\u0442\\u044c\", \"\\u0443\\u043b\\u044b\\u0431\\u043a\\u0430\", \"\\u0443\\u043b\\u044b\\u0431\\u043a\\u0430\", \"\\u0443\\u0440\\u043e\\u0432\\u0435\\u043d\\u044c\", \"\\u0443\\u0440\\u043e\\u0432\\u0435\\u043d\\u044c\", \"\\u0443\\u0440\\u043e\\u0432\\u0435\\u043d\\u044c\", \"\\u0443\\u0440\\u043e\\u0432\\u0435\\u043d\\u044c\", \"\\u0443\\u0440\\u043e\\u0432\\u0435\\u043d\\u044c\", \"\\u0443\\u0441\\u043b\\u043e\\u0432\\u0438\\u0435\", \"\\u0443\\u0441\\u043b\\u043e\\u0432\\u0438\\u0435\", \"\\u0443\\u0441\\u043b\\u043e\\u0432\\u0438\\u0435\", \"\\u0443\\u0441\\u043b\\u043e\\u0432\\u0438\\u0435\", \"\\u0443\\u0441\\u043b\\u043e\\u0432\\u0438\\u0435\", \"\\u0443\\u0441\\u043b\\u0443\\u0433\\u0430\", \"\\u0443\\u0441\\u043b\\u0443\\u0433\\u0430\", \"\\u0443\\u0441\\u043b\\u0443\\u0433\\u0430\", \"\\u0443\\u0441\\u043b\\u0443\\u0433\\u0430\", \"\\u0443\\u0441\\u043b\\u0443\\u0433\\u0430\", \"\\u0443\\u0442\\u0432\\u0435\\u0440\\u0434\\u0438\\u0442\\u0435\\u043b\\u044c\\u043d\\u043e\", \"\\u0443\\u044d\\u043a\", \"\\u0444\\u0435\\u0434\\u0435\\u0440\\u0430\\u0446\\u0438\\u044f\", \"\\u0444\\u0435\\u0434\\u0435\\u0440\\u0430\\u0446\\u0438\\u044f\", \"\\u0444\\u0443\\u043d\\u043a\\u0446\\u0438\\u043e\\u043d\\u0430\\u043b\", \"\\u0444\\u0443\\u043d\\u043a\\u0446\\u0438\\u043e\\u043d\\u0430\\u043b\", \"\\u0444\\u0443\\u043d\\u043a\\u0446\\u0438\\u043e\\u043d\\u0430\\u043b\", \"\\u0445\\u0430\\u043c\\u0438\\u0442\\u044c\", \"\\u0445\\u0430\\u043c\\u0438\\u0442\\u044c\", \"\\u0445\\u043e\\u0440\\u043e\\u0448\\u0438\\u0439\", \"\\u0445\\u043e\\u0440\\u043e\\u0448\\u0438\\u0439\", \"\\u0445\\u043e\\u0440\\u043e\\u0448\\u0438\\u0439\", \"\\u0445\\u043e\\u0440\\u043e\\u0448\\u0438\\u0439\", \"\\u0445\\u043e\\u0440\\u043e\\u0448\\u0438\\u0439\", \"\\u0445\\u043e\\u0442\\u0435\\u0442\\u044c\", \"\\u0445\\u043e\\u0442\\u0435\\u0442\\u044c\", \"\\u0445\\u043e\\u0442\\u0435\\u0442\\u044c\", \"\\u0445\\u043e\\u0442\\u0435\\u0442\\u044c\", \"\\u0445\\u043e\\u0442\\u0435\\u0442\\u044c\", \"\\u0447\\u0430\\u0440\\u0434\\u0436\\u0431\\u044d\\u043a\", \"\\u0447\\u0434\\u043f\", \"\\u0447\\u0434\\u043f\", \"\\u0447\\u0435\\u043a\", \"\\u0447\\u0435\\u043a\", \"\\u0447\\u0435\\u043a\", \"\\u0447\\u0435\\u043a\", \"\\u0447\\u0435\\u043a\\u0430\", \"\\u0447\\u0435\\u043a\\u0430\", \"\\u0447\\u0435\\u043b\\u043e\\u0432\\u0435\\u043a\", \"\\u0447\\u0435\\u043b\\u043e\\u0432\\u0435\\u043a\", \"\\u0447\\u0435\\u043b\\u043e\\u0432\\u0435\\u043a\", \"\\u0447\\u0435\\u043b\\u043e\\u0432\\u0435\\u043a\", \"\\u0447\\u0435\\u043b\\u043e\\u0432\\u0435\\u043a\", \"\\u0447\\u0443\\u0442\\u043a\\u0438\\u0439\", \"\\u044d\\u043a\\u0432\\u0430\\u0439\\u0435\\u0440\", \"\\u044d\\u043a\\u0432\\u0430\\u0439\\u0435\\u0440\", \"\\u044d\\u043b\\u0435\\u043a\\u0441\\u043d\\u044f\\u0442\\u044c\", \"\\u044d\\u043b\\u0435\\u043a\\u0441\\u043d\\u044f\\u0442\\u044c\", \"\\u044e\\u0440\\u043b\\u0438\\u0446\\u0430\", \"\\u044f\", \"\\u044f\", \"\\u044f\", \"\\u044f\", \"\\u044f\", \"\\u044f\\u0432\\u043b\\u044f\\u0442\\u044c\\u0441\\u044f\", \"\\u044f\\u0432\\u043b\\u044f\\u0442\\u044c\\u0441\\u044f\", \"\\u044f\\u0432\\u043b\\u044f\\u0442\\u044c\\u0441\\u044f\", \"\\u044f\\u0432\\u043b\\u044f\\u0442\\u044c\\u0441\\u044f\", \"\\u044f\\u0432\\u043b\\u044f\\u0442\\u044c\\u0441\\u044f\", \"\\u044f\\u0434\", \"\\u044f\\u043d\\u0434\\u0435\\u043a\\u0441\", \"\\u044f\\u043d\\u0434\\u0435\\u043a\\u0441\", \"\\u044f\\u043d\\u0434\\u0435\\u043a\\u0441\"]}, \"R\": 30, \"lambda.step\": 0.01, \"plot.opts\": {\"xlab\": \"PC1\", \"ylab\": \"PC2\"}, \"topic.order\": [1, 3, 5, 4, 2]};\n",
       "\n",
       "function LDAvis_load_lib(url, callback){\n",
       "  var s = document.createElement('script');\n",
       "  s.src = url;\n",
       "  s.async = true;\n",
       "  s.onreadystatechange = s.onload = callback;\n",
       "  s.onerror = function(){console.warn(\"failed to load library \" + url);};\n",
       "  document.getElementsByTagName(\"head\")[0].appendChild(s);\n",
       "}\n",
       "\n",
       "if(typeof(LDAvis) !== \"undefined\"){\n",
       "   // already loaded: just create the visualization\n",
       "   !function(LDAvis){\n",
       "       new LDAvis(\"#\" + \"ldavis_el77125467921312467012970\", ldavis_el77125467921312467012970_data);\n",
       "   }(LDAvis);\n",
       "}else if(typeof define === \"function\" && define.amd){\n",
       "   // require.js is available: use it to load d3/LDAvis\n",
       "   require.config({paths: {d3: \"https://d3js.org/d3.v5\"}});\n",
       "   require([\"d3\"], function(d3){\n",
       "      window.d3 = d3;\n",
       "      LDAvis_load_lib(\"https://cdn.jsdelivr.net/gh/bmabey/pyLDAvis@3.3.1/pyLDAvis/js/ldavis.v3.0.0.js\", function(){\n",
       "        new LDAvis(\"#\" + \"ldavis_el77125467921312467012970\", ldavis_el77125467921312467012970_data);\n",
       "      });\n",
       "    });\n",
       "}else{\n",
       "    // require.js not available: dynamically load d3 & LDAvis\n",
       "    LDAvis_load_lib(\"https://d3js.org/d3.v5.js\", function(){\n",
       "         LDAvis_load_lib(\"https://cdn.jsdelivr.net/gh/bmabey/pyLDAvis@3.3.1/pyLDAvis/js/ldavis.v3.0.0.js\", function(){\n",
       "                 new LDAvis(\"#\" + \"ldavis_el77125467921312467012970\", ldavis_el77125467921312467012970_data);\n",
       "            })\n",
       "         });\n",
       "}\n",
       "</script>"
      ],
      "text/plain": [
       "<IPython.core.display.HTML object>"
      ]
     },
     "execution_count": 164,
     "metadata": {},
     "output_type": "execute_result"
    }
   ],
   "source": [
    "# инструмент для рисования тем в итерактивном формате\n",
    "\n",
    "# векторное представления слов в новых темовых координатах\n",
    "# один кружок - одна тема (чем он больше,тем больше распространена эта тема), \n",
    "# при нажатии на которую видим справа, какие слова в эту тему входят\n",
    "# синим - скока раз это слово встречается, красным - доля вхождения слова в тему\n",
    "# при нажатии на слово - увидим какая тема содержит больше всего это слово\n",
    "# Хорошая тематическая модель будет иметь довольно большие непересекающиеся пузыри, разбросанные по всей диаграмме, \n",
    "# а не сгруппированные в одном квадранте\n",
    "vis_data = newpyLDAgensim.prepare(lda, corpus, dictionary)\n",
    "pyLDAvis.display(vis_data)"
   ]
  },
  {
   "cell_type": "markdown",
   "metadata": {},
   "source": [
    "#### Ищем оптимальное число тем"
   ]
  },
  {
   "cell_type": "code",
   "execution_count": 174,
   "metadata": {},
   "outputs": [],
   "source": [
    "def compute_coherence_values(dictionary, corpus, texts, limit, start=2, step=3):\n",
    "    \"\"\"\n",
    "    Compute c_v coherence for various number of topics\n",
    "    Parameters:\n",
    "    ----------\n",
    "    dictionary : Gensim dictionary\n",
    "    corpus : Gensim corpus\n",
    "    texts : List of input texts\n",
    "    limit : Max num of topics\n",
    "    Returns:\n",
    "    -------\n",
    "    model_list : List of LDA topic models\n",
    "    coherence_values : Coherence values corresponding to the LDA model with respective number of topics\n",
    "    \"\"\"\n",
    "    coherence_values = []\n",
    "    model_list = []\n",
    "    for num_topics in range(start, limit, step):\n",
    "        model = models.LdaModel(corpus=corpus, id2word=dictionary, num_topics=num_topics,\n",
    "                        alpha='auto', eta='auto', iterations = 20, passes = 15)\n",
    "        model_list.append(model)\n",
    "        coherencemodel = CoherenceModel(model=model, texts=texts, dictionary=dictionary, coherence='c_v')\n",
    "        coherence_values.append(coherencemodel.get_coherence())\n",
    "    return model_list, coherence_values"
   ]
  },
  {
   "cell_type": "code",
   "execution_count": 175,
   "metadata": {},
   "outputs": [
    {
     "name": "stdout",
     "output_type": "stream",
     "text": [
      "Wall time: 46min 6s\n"
     ]
    }
   ],
   "source": [
    "%%time\n",
    "model_list, coherence_values = compute_coherence_values(dictionary=dictionary, corpus=corpus, texts=texts, start=2, limit=40, step=6)"
   ]
  },
  {
   "cell_type": "code",
   "execution_count": 176,
   "metadata": {},
   "outputs": [
    {
     "data": {
      "image/png": "[encoded data removed]",
      "text/plain": [
       "<Figure size 432x288 with 1 Axes>"
      ]
     },
     "metadata": {
      "needs_background": "light"
     },
     "output_type": "display_data"
    }
   ],
   "source": [
    "# Show graph\n",
    "limit=40; start=2; step=6;\n",
    "x = range(start, limit, step)\n",
    "plt.plot(x, coherence_values)\n",
    "plt.xlabel(\"Num Topics\")\n",
    "plt.ylabel(\"Coherence score\")\n",
    "plt.legend((\"coherence_values\"), loc='best')\n",
    "plt.show()"
   ]
  },
  {
   "cell_type": "markdown",
   "metadata": {},
   "source": [
    "### 2.2 Поиск доминирующей темы в каждом отзыве"
   ]
  },
  {
   "cell_type": "code",
   "execution_count": 186,
   "metadata": {},
   "outputs": [
    {
     "name": "stdout",
     "output_type": "stream",
     "text": [
      "Wall time: 1min 58s\n"
     ]
    },
    {
     "data": {
      "text/html": [
       "<div>\n",
       "<style scoped>\n",
       "    .dataframe tbody tr th:only-of-type {\n",
       "        vertical-align: middle;\n",
       "    }\n",
       "\n",
       "    .dataframe tbody tr th {\n",
       "        vertical-align: top;\n",
       "    }\n",
       "\n",
       "    .dataframe thead th {\n",
       "        text-align: right;\n",
       "    }\n",
       "</style>\n",
       "<table border=\"1\" class=\"dataframe\">\n",
       "  <thead>\n",
       "    <tr style=\"text-align: right;\">\n",
       "      <th></th>\n",
       "      <th>Document_No</th>\n",
       "      <th>Dominant_Topic</th>\n",
       "      <th>Topic_Perc_Contrib</th>\n",
       "      <th>Keywords</th>\n",
       "      <th>Text</th>\n",
       "    </tr>\n",
       "  </thead>\n",
       "  <tbody>\n",
       "    <tr>\n",
       "      <th>0</th>\n",
       "      <td>0</td>\n",
       "      <td>19.0</td>\n",
       "      <td>0.4651</td>\n",
       "      <td>банк, звонок, номер, ваш, телефон, мой, сотруд...</td>\n",
       "      <td>добрый день являться клиент банк поручитель кр...</td>\n",
       "    </tr>\n",
       "    <tr>\n",
       "      <th>1</th>\n",
       "      <td>1</td>\n",
       "      <td>12.0</td>\n",
       "      <td>0.2552</td>\n",
       "      <td>карта, банк, дебетовый, получать, обслуживание...</td>\n",
       "      <td>добрый день являться держатель зарплатной карт...</td>\n",
       "    </tr>\n",
       "    <tr>\n",
       "      <th>2</th>\n",
       "      <td>2</td>\n",
       "      <td>4.0</td>\n",
       "      <td>0.5348</td>\n",
       "      <td>банк, счет, сумма, средство, платеж, руб, задо...</td>\n",
       "      <td>здравствовать дублировать заявление можайский ...</td>\n",
       "    </tr>\n",
       "    <tr>\n",
       "      <th>3</th>\n",
       "      <td>3</td>\n",
       "      <td>2.0</td>\n",
       "      <td>0.2909</td>\n",
       "      <td>вклад, банк, деньги, счет, открывать, день, за...</td>\n",
       "      <td>добрый день открывать расчетный счет сбербанк ...</td>\n",
       "    </tr>\n",
       "    <tr>\n",
       "      <th>4</th>\n",
       "      <td>4</td>\n",
       "      <td>10.0</td>\n",
       "      <td>0.3360</td>\n",
       "      <td>кредит, банк, сумма, платеж, страховка, год, д...</td>\n",
       "      <td>г взять кредит ваш банк заявлять я сумма рубль...</td>\n",
       "    </tr>\n",
       "    <tr>\n",
       "      <th>5</th>\n",
       "      <td>5</td>\n",
       "      <td>2.0</td>\n",
       "      <td>0.2132</td>\n",
       "      <td>вклад, банк, деньги, счет, открывать, день, за...</td>\n",
       "      <td>многий вкладчик открывать руб счастливый мысль...</td>\n",
       "    </tr>\n",
       "    <tr>\n",
       "      <th>6</th>\n",
       "      <td>6</td>\n",
       "      <td>12.0</td>\n",
       "      <td>0.3807</td>\n",
       "      <td>карта, банк, дебетовый, получать, обслуживание...</td>\n",
       "      <td>здравствовать подавать заявление получение уэк...</td>\n",
       "    </tr>\n",
       "    <tr>\n",
       "      <th>7</th>\n",
       "      <td>7</td>\n",
       "      <td>17.0</td>\n",
       "      <td>0.3421</td>\n",
       "      <td>вклад, банк, условие, ставка, договор, процент...</td>\n",
       "      <td>крайне удивл н новость май унификация удивл н ...</td>\n",
       "    </tr>\n",
       "    <tr>\n",
       "      <th>8</th>\n",
       "      <td>8</td>\n",
       "      <td>19.0</td>\n",
       "      <td>0.5297</td>\n",
       "      <td>банк, звонок, номер, ваш, телефон, мой, сотруд...</td>\n",
       "      <td>сотрудник банк восточный систематически сообща...</td>\n",
       "    </tr>\n",
       "    <tr>\n",
       "      <th>9</th>\n",
       "      <td>9</td>\n",
       "      <td>10.0</td>\n",
       "      <td>0.4672</td>\n",
       "      <td>кредит, банк, сумма, платеж, страховка, год, д...</td>\n",
       "      <td>добрый день являться заемщик банк втб год наза...</td>\n",
       "    </tr>\n",
       "  </tbody>\n",
       "</table>\n",
       "</div>"
      ],
      "text/plain": [
       "   Document_No  Dominant_Topic  Topic_Perc_Contrib  \\\n",
       "0            0            19.0              0.4651   \n",
       "1            1            12.0              0.2552   \n",
       "2            2             4.0              0.5348   \n",
       "3            3             2.0              0.2909   \n",
       "4            4            10.0              0.3360   \n",
       "5            5             2.0              0.2132   \n",
       "6            6            12.0              0.3807   \n",
       "7            7            17.0              0.3421   \n",
       "8            8            19.0              0.5297   \n",
       "9            9            10.0              0.4672   \n",
       "\n",
       "                                            Keywords  \\\n",
       "0  банк, звонок, номер, ваш, телефон, мой, сотруд...   \n",
       "1  карта, банк, дебетовый, получать, обслуживание...   \n",
       "2  банк, счет, сумма, средство, платеж, руб, задо...   \n",
       "3  вклад, банк, деньги, счет, открывать, день, за...   \n",
       "4  кредит, банк, сумма, платеж, страховка, год, д...   \n",
       "5  вклад, банк, деньги, счет, открывать, день, за...   \n",
       "6  карта, банк, дебетовый, получать, обслуживание...   \n",
       "7  вклад, банк, условие, ставка, договор, процент...   \n",
       "8  банк, звонок, номер, ваш, телефон, мой, сотруд...   \n",
       "9  кредит, банк, сумма, платеж, страховка, год, д...   \n",
       "\n",
       "                                                Text  \n",
       "0  добрый день являться клиент банк поручитель кр...  \n",
       "1  добрый день являться держатель зарплатной карт...  \n",
       "2  здравствовать дублировать заявление можайский ...  \n",
       "3  добрый день открывать расчетный счет сбербанк ...  \n",
       "4  г взять кредит ваш банк заявлять я сумма рубль...  \n",
       "5  многий вкладчик открывать руб счастливый мысль...  \n",
       "6  здравствовать подавать заявление получение уэк...  \n",
       "7  крайне удивл н новость май унификация удивл н ...  \n",
       "8  сотрудник банк восточный систематически сообща...  \n",
       "9  добрый день являться заемщик банк втб год наза...  "
      ]
     },
     "execution_count": 186,
     "metadata": {},
     "output_type": "execute_result"
    }
   ],
   "source": [
    "%%time\n",
    "def format_topics_sentences(ldamodel=lda, corpus=corpus, texts=df.text.tolist()):\n",
    "    # Init output\n",
    "    sent_topics_df = pd.DataFrame()\n",
    "    # Get main topic in each document\n",
    "    for i, row in enumerate(ldamodel[corpus]):\n",
    "        row = sorted(row, key=lambda x: (x[1]), reverse=True)\n",
    "        # Get the Dominant topic, Perc Contribution and Keywords for each document\n",
    "        for j, (topic_num, prop_topic) in enumerate(row):\n",
    "            if j == 0:  # => dominant topic\n",
    "                wp = ldamodel.show_topic(topic_num)\n",
    "                topic_keywords = \", \".join([word for word, prop in wp])\n",
    "                sent_topics_df = sent_topics_df.append(pd.Series([int(topic_num), round(prop_topic,4), topic_keywords]), ignore_index=True)\n",
    "            else:\n",
    "                break\n",
    "    sent_topics_df.columns = ['Dominant_Topic', 'Perc_Contribution', 'Topic_Keywords']\n",
    "    # Add original text to the end of the output\n",
    "    contents = pd.Series(texts)\n",
    "    sent_topics_df = pd.concat([sent_topics_df, contents], axis=1)\n",
    "    return(sent_topics_df)\n",
    "df_topic_sents_keywords = format_topics_sentences(ldamodel=lda, corpus=corpus, texts=df.text.tolist())\n",
    "# Format\n",
    "df_dominant_topic = df_topic_sents_keywords.reset_index()\n",
    "df_dominant_topic.columns = ['Document_No', 'Dominant_Topic', 'Topic_Perc_Contrib', 'Keywords', 'Text']\n",
    "# Show\n",
    "df_dominant_topic.head(10)"
   ]
  },
  {
   "cell_type": "markdown",
   "metadata": {},
   "source": [
    "### 2.3 Распределение тем по документам"
   ]
  },
  {
   "cell_type": "code",
   "execution_count": 188,
   "metadata": {},
   "outputs": [
    {
     "data": {
      "text/html": [
       "<div>\n",
       "<style scoped>\n",
       "    .dataframe tbody tr th:only-of-type {\n",
       "        vertical-align: middle;\n",
       "    }\n",
       "\n",
       "    .dataframe tbody tr th {\n",
       "        vertical-align: top;\n",
       "    }\n",
       "\n",
       "    .dataframe thead th {\n",
       "        text-align: right;\n",
       "    }\n",
       "</style>\n",
       "<table border=\"1\" class=\"dataframe\">\n",
       "  <thead>\n",
       "    <tr style=\"text-align: right;\">\n",
       "      <th></th>\n",
       "      <th>Dominant_Topic</th>\n",
       "      <th>Topic_Keywords</th>\n",
       "      <th>Num_Documents</th>\n",
       "      <th>Perc_Documents</th>\n",
       "    </tr>\n",
       "  </thead>\n",
       "  <tbody>\n",
       "    <tr>\n",
       "      <th>0.0</th>\n",
       "      <td>19.0</td>\n",
       "      <td>банк, звонок, номер, ваш, телефон, мой, сотруд...</td>\n",
       "      <td>4.0</td>\n",
       "      <td>0.0004</td>\n",
       "    </tr>\n",
       "    <tr>\n",
       "      <th>1.0</th>\n",
       "      <td>12.0</td>\n",
       "      <td>карта, банк, дебетовый, получать, обслуживание...</td>\n",
       "      <td>571.0</td>\n",
       "      <td>0.0571</td>\n",
       "    </tr>\n",
       "    <tr>\n",
       "      <th>2.0</th>\n",
       "      <td>4.0</td>\n",
       "      <td>банк, счет, сумма, средство, платеж, руб, задо...</td>\n",
       "      <td>680.0</td>\n",
       "      <td>0.0680</td>\n",
       "    </tr>\n",
       "    <tr>\n",
       "      <th>3.0</th>\n",
       "      <td>2.0</td>\n",
       "      <td>вклад, банк, деньги, счет, открывать, день, за...</td>\n",
       "      <td>122.0</td>\n",
       "      <td>0.0122</td>\n",
       "    </tr>\n",
       "    <tr>\n",
       "      <th>4.0</th>\n",
       "      <td>10.0</td>\n",
       "      <td>кредит, банк, сумма, платеж, страховка, год, д...</td>\n",
       "      <td>680.0</td>\n",
       "      <td>0.0680</td>\n",
       "    </tr>\n",
       "    <tr>\n",
       "      <th>5.0</th>\n",
       "      <td>2.0</td>\n",
       "      <td>вклад, банк, деньги, счет, открывать, день, за...</td>\n",
       "      <td>827.0</td>\n",
       "      <td>0.0827</td>\n",
       "    </tr>\n",
       "    <tr>\n",
       "      <th>6.0</th>\n",
       "      <td>12.0</td>\n",
       "      <td>карта, банк, дебетовый, получать, обслуживание...</td>\n",
       "      <td>1637.0</td>\n",
       "      <td>0.1637</td>\n",
       "    </tr>\n",
       "    <tr>\n",
       "      <th>7.0</th>\n",
       "      <td>17.0</td>\n",
       "      <td>вклад, банк, условие, ставка, договор, процент...</td>\n",
       "      <td>125.0</td>\n",
       "      <td>0.0125</td>\n",
       "    </tr>\n",
       "    <tr>\n",
       "      <th>8.0</th>\n",
       "      <td>19.0</td>\n",
       "      <td>банк, звонок, номер, ваш, телефон, мой, сотруд...</td>\n",
       "      <td>233.0</td>\n",
       "      <td>0.0233</td>\n",
       "    </tr>\n",
       "    <tr>\n",
       "      <th>9.0</th>\n",
       "      <td>10.0</td>\n",
       "      <td>кредит, банк, сумма, платеж, страховка, год, д...</td>\n",
       "      <td>382.0</td>\n",
       "      <td>0.0382</td>\n",
       "    </tr>\n",
       "  </tbody>\n",
       "</table>\n",
       "</div>"
      ],
      "text/plain": [
       "     Dominant_Topic                                     Topic_Keywords  \\\n",
       "0.0            19.0  банк, звонок, номер, ваш, телефон, мой, сотруд...   \n",
       "1.0            12.0  карта, банк, дебетовый, получать, обслуживание...   \n",
       "2.0             4.0  банк, счет, сумма, средство, платеж, руб, задо...   \n",
       "3.0             2.0  вклад, банк, деньги, счет, открывать, день, за...   \n",
       "4.0            10.0  кредит, банк, сумма, платеж, страховка, год, д...   \n",
       "5.0             2.0  вклад, банк, деньги, счет, открывать, день, за...   \n",
       "6.0            12.0  карта, банк, дебетовый, получать, обслуживание...   \n",
       "7.0            17.0  вклад, банк, условие, ставка, договор, процент...   \n",
       "8.0            19.0  банк, звонок, номер, ваш, телефон, мой, сотруд...   \n",
       "9.0            10.0  кредит, банк, сумма, платеж, страховка, год, д...   \n",
       "\n",
       "     Num_Documents  Perc_Documents  \n",
       "0.0            4.0          0.0004  \n",
       "1.0          571.0          0.0571  \n",
       "2.0          680.0          0.0680  \n",
       "3.0          122.0          0.0122  \n",
       "4.0          680.0          0.0680  \n",
       "5.0          827.0          0.0827  \n",
       "6.0         1637.0          0.1637  \n",
       "7.0          125.0          0.0125  \n",
       "8.0          233.0          0.0233  \n",
       "9.0          382.0          0.0382  "
      ]
     },
     "execution_count": 188,
     "metadata": {},
     "output_type": "execute_result"
    }
   ],
   "source": [
    "# Number of Documents for Each Topic\n",
    "topic_counts = df_topic_sents_keywords['Dominant_Topic'].value_counts()\n",
    "# Percentage of Documents for Each Topic\n",
    "topic_contribution = round(topic_counts/topic_counts.sum(), 4)\n",
    "# Topic Number and Keywords\n",
    "topic_num_keywords = df_topic_sents_keywords[['Dominant_Topic', 'Topic_Keywords']]\n",
    "# Concatenate Column wise\n",
    "df_dominant_topics = pd.concat([topic_num_keywords, topic_counts, topic_contribution], axis=1)\n",
    "# Change Column names\n",
    "df_dominant_topics.columns = ['Dominant_Topic', 'Topic_Keywords', 'Num_Documents', 'Perc_Documents']\n",
    "# Show\n",
    "df_dominant_topics.head(10)"
   ]
  },
  {
   "cell_type": "markdown",
   "metadata": {},
   "source": [
    "## Часть 3. Классификация текстов\n",
    "\n",
    "Задача бинарной классификации: классифицировать на два класса, то есть, различать резко отрицательные отзывы (с оценкой 1) и положительные отзывы (с оценкой 5). \n",
    "\n",
    "Будем использовать accuracy и F-measure для оценки качества классификации. "
   ]
  },
  {
   "cell_type": "markdown",
   "metadata": {},
   "source": [
    "### 3.1 Составим обучающее и тестовое множество "
   ]
  },
  {
   "cell_type": "code",
   "execution_count": 7,
   "metadata": {},
   "outputs": [
    {
     "data": {
      "text/plain": [
       "<matplotlib.axes._subplots.AxesSubplot at 0x27867d9ca58>"
      ]
     },
     "execution_count": 7,
     "metadata": {},
     "output_type": "execute_result"
    },
    {
     "data": {
      "image/png": "[encoded data removed]",
      "text/plain": [
       "<Figure size 432x288 with 1 Axes>"
      ]
     },
     "metadata": {
      "needs_background": "light"
     },
     "output_type": "display_data"
    }
   ],
   "source": [
    "# оставляем только отзывы с оценками 1 или 5\n",
    "data = df[(df.rating == 1) | (df.rating == 5)]\n",
    "# итоговая выборка получилась несбалансированной:\n",
    "warnings.filterwarnings(\"ignore\")\n",
    "sns.countplot(data.rating)"
   ]
  },
  {
   "cell_type": "code",
   "execution_count": 8,
   "metadata": {},
   "outputs": [],
   "source": [
    "def get_train_test(data=data,nlow=4,ntop=6,SVD_comp=20,tfidf_flag=False,SVD_flag = False):\n",
    "    # Cначала разобьём на тренировочную и тестовую выборки\n",
    "    X_train, X_test, y_train, y_test = train_test_split(data.text, data.rating, test_size = 0.2, random_state = 1)\n",
    "    # Инициализируем модуль CountVectorizer\n",
    "    CV = CountVectorizer(analyzer = 'char', ngram_range=(nlow,ntop))\n",
    "    # Составляем словарь из X_train\n",
    "    CV.fit(X_train)\n",
    "    # Размер полученного словаря\n",
    "    # print(\"Размер словаря из X_train\",len(CV.vocabulary_))\n",
    "    # переводит текстовые данные в числовые, по кол-ву встречающихся слов из словаря\n",
    "    X_train = CV.transform(X_train)\n",
    "    X_test = CV.transform(X_test)\n",
    "    if tfidf_flag == True:\n",
    "        # Осуществляем трансформацию TfidfTransformer - подсчет значения TF-IDF каждого слова в векторизаторе, т.е.\n",
    "        # получим матрицу частот слов X_train и X_test в значения TF-IDF\n",
    "        tfidf = TfidfTransformer()\n",
    "        tfidf.fit(X_train)\n",
    "        X_train = tfidf.transform(X_train)\n",
    "        X_test = tfidf.transform(X_test)\n",
    "    if SVD_flag == True:\n",
    "        # снижаем размерность сингулярным разложением SVD\n",
    "        SVD = TruncatedSVD(n_components=SVD_comp, random_state=0)\n",
    "        SVD.fit(X_train)\n",
    "        X_train = SVD.transform(X_train)\n",
    "        X_test = SVD.transform(X_test)\n",
    "    # Устраняем разбалансированность классов методом ADASYN\n",
    "    SM = ADASYN(random_state=1)\n",
    "    X_train_sm, y_train_sm = SM.fit_resample(X_train, y_train)\n",
    "    # Посмотрим теперь на распределение рейтингов в тренировочной выборке\n",
    "    # warnings.filterwarnings(\"ignore\")\n",
    "    # sns.countplot(y_train_sm)\n",
    "    return X_train_sm,y_train_sm,X_test,y_test"
   ]
  },
  {
   "cell_type": "markdown",
   "metadata": {},
   "source": [
    "### 3.2 Осуществляем классификацию"
   ]
  },
  {
   "cell_type": "code",
   "execution_count": null,
   "metadata": {},
   "outputs": [],
   "source": [
    "# Сравним разные варианты векторизации текста: использование только униграм, пар или троек слов или с использованием \n",
    "# символьных n-грам.\n",
    "# а также использования 𝑓−𝑖𝑑𝑓  преобразования и сингулярного разложения (оно же – латентый семантический анализ)"
   ]
  },
  {
   "cell_type": "code",
   "execution_count": 79,
   "metadata": {},
   "outputs": [
    {
     "name": "stdout",
     "output_type": "stream",
     "text": [
      "Точность предсказания: 0.8562091503267973 F1-мера: 0.9143968871595332\n",
      "Wall time: 7.55 s\n"
     ]
    }
   ],
   "source": [
    "%%time\n",
    "X_train_sm,y_train_sm,X_test,y_test = get_train_test(data=data,nlow=1,ntop=3,SVD_comp=15,tfidf_flag=True,SVD_flag=True)\n",
    "model = RandomForestClassifier()\n",
    "model.fit(X_train_sm,y_train_sm)\n",
    "preds = model.predict(X_test)\n",
    "accuracy = accuracy_score(y_test, preds)\n",
    "f1 = f1_score(y_test, preds)\n",
    "print(\"Точность предсказания:\",accuracy,\"F1-мера:\",f1)\n",
    "# Confusion Matrix For predictions\n",
    "cm = confusion_matrix(y_test, preds, labels=[1, 5])"
   ]
  },
  {
   "cell_type": "code",
   "execution_count": 65,
   "metadata": {},
   "outputs": [
    {
     "name": "stdout",
     "output_type": "stream",
     "text": [
      "Confusion Matrix For predictions\n"
     ]
    },
    {
     "data": {
      "text/plain": [
       "<matplotlib.axes._subplots.AxesSubplot at 0x2786cfc4f28>"
      ]
     },
     "execution_count": 65,
     "metadata": {},
     "output_type": "execute_result"
    },
    {
     "data": {
      "image/png": "[encoded data removed]",
      "text/plain": [
       "<Figure size 504x360 with 2 Axes>"
      ]
     },
     "metadata": {
      "needs_background": "light"
     },
     "output_type": "display_data"
    }
   ],
   "source": [
    "print(\"Confusion Matrix For predictions\")\n",
    "cm = confusion_matrix(y_test, preds, labels=[1, 5])\n",
    "\n",
    "df_cm = pd.DataFrame(cm, index = [i for i in [1, 5]],\n",
    "                  columns = [i for i in [\"Predict 1\",\"Predict 5\"]])\n",
    "plt.figure(figsize = (7,5))\n",
    "sns.heatmap(df_cm, annot=True)"
   ]
  },
  {
   "cell_type": "code",
   "execution_count": 42,
   "metadata": {},
   "outputs": [],
   "source": [
    "res = []"
   ]
  },
  {
   "cell_type": "code",
   "execution_count": 62,
   "metadata": {},
   "outputs": [],
   "source": [
    "res.append([1,3,True,True,15,cm[1][0],cm[1][1],round(accuracy,3),round(f1,3)])"
   ]
  },
  {
   "cell_type": "code",
   "execution_count": 69,
   "metadata": {},
   "outputs": [],
   "source": [
    "# Определяем датафрейм для записи результатов\n",
    "results = pd.DataFrame(res,columns=\n",
    "                       ['ngram_bttm','ngram_top','tfidf','SVD','SVD_components','False5','True5','accuracy','F1-score'])"
   ]
  },
  {
   "cell_type": "code",
   "execution_count": 78,
   "metadata": {},
   "outputs": [
    {
     "data": {
      "text/html": [
       "<div>\n",
       "<style scoped>\n",
       "    .dataframe tbody tr th:only-of-type {\n",
       "        vertical-align: middle;\n",
       "    }\n",
       "\n",
       "    .dataframe tbody tr th {\n",
       "        vertical-align: top;\n",
       "    }\n",
       "\n",
       "    .dataframe thead th {\n",
       "        text-align: right;\n",
       "    }\n",
       "</style>\n",
       "<table border=\"1\" class=\"dataframe\">\n",
       "  <thead>\n",
       "    <tr style=\"text-align: right;\">\n",
       "      <th></th>\n",
       "      <th>ngram_bttm</th>\n",
       "      <th>ngram_top</th>\n",
       "      <th>tfidf</th>\n",
       "      <th>SVD</th>\n",
       "      <th>SVD_components</th>\n",
       "      <th>False5</th>\n",
       "      <th>True5</th>\n",
       "      <th>accuracy</th>\n",
       "      <th>F1-score</th>\n",
       "    </tr>\n",
       "  </thead>\n",
       "  <tbody>\n",
       "    <tr>\n",
       "      <th>0</th>\n",
       "      <td>1</td>\n",
       "      <td>1</td>\n",
       "      <td>True</td>\n",
       "      <td>True</td>\n",
       "      <td>20.0</td>\n",
       "      <td>78</td>\n",
       "      <td>21</td>\n",
       "      <td>0.812</td>\n",
       "      <td>0.892</td>\n",
       "    </tr>\n",
       "    <tr>\n",
       "      <th>1</th>\n",
       "      <td>1</td>\n",
       "      <td>1</td>\n",
       "      <td>False</td>\n",
       "      <td>False</td>\n",
       "      <td>NaN</td>\n",
       "      <td>78</td>\n",
       "      <td>21</td>\n",
       "      <td>0.837</td>\n",
       "      <td>0.908</td>\n",
       "    </tr>\n",
       "    <tr>\n",
       "      <th>2</th>\n",
       "      <td>1</td>\n",
       "      <td>3</td>\n",
       "      <td>False</td>\n",
       "      <td>False</td>\n",
       "      <td>NaN</td>\n",
       "      <td>62</td>\n",
       "      <td>37</td>\n",
       "      <td>0.895</td>\n",
       "      <td>0.941</td>\n",
       "    </tr>\n",
       "    <tr>\n",
       "      <th>3</th>\n",
       "      <td>2</td>\n",
       "      <td>2</td>\n",
       "      <td>False</td>\n",
       "      <td>False</td>\n",
       "      <td>NaN</td>\n",
       "      <td>76</td>\n",
       "      <td>23</td>\n",
       "      <td>0.866</td>\n",
       "      <td>0.925</td>\n",
       "    </tr>\n",
       "    <tr>\n",
       "      <th>4</th>\n",
       "      <td>3</td>\n",
       "      <td>3</td>\n",
       "      <td>False</td>\n",
       "      <td>False</td>\n",
       "      <td>NaN</td>\n",
       "      <td>64</td>\n",
       "      <td>35</td>\n",
       "      <td>0.884</td>\n",
       "      <td>0.934</td>\n",
       "    </tr>\n",
       "    <tr>\n",
       "      <th>5</th>\n",
       "      <td>1</td>\n",
       "      <td>2</td>\n",
       "      <td>False</td>\n",
       "      <td>False</td>\n",
       "      <td>NaN</td>\n",
       "      <td>72</td>\n",
       "      <td>27</td>\n",
       "      <td>0.871</td>\n",
       "      <td>0.928</td>\n",
       "    </tr>\n",
       "    <tr>\n",
       "      <th>6</th>\n",
       "      <td>1</td>\n",
       "      <td>2</td>\n",
       "      <td>False</td>\n",
       "      <td>False</td>\n",
       "      <td>NaN</td>\n",
       "      <td>65</td>\n",
       "      <td>34</td>\n",
       "      <td>0.884</td>\n",
       "      <td>0.935</td>\n",
       "    </tr>\n",
       "    <tr>\n",
       "      <th>7</th>\n",
       "      <td>1</td>\n",
       "      <td>3</td>\n",
       "      <td>True</td>\n",
       "      <td>True</td>\n",
       "      <td>20.0</td>\n",
       "      <td>49</td>\n",
       "      <td>50</td>\n",
       "      <td>0.851</td>\n",
       "      <td>0.912</td>\n",
       "    </tr>\n",
       "  </tbody>\n",
       "</table>\n",
       "</div>"
      ],
      "text/plain": [
       "   ngram_bttm  ngram_top  tfidf    SVD  SVD_components  False5  True5  \\\n",
       "0           1          1   True   True            20.0      78     21   \n",
       "1           1          1  False  False             NaN      78     21   \n",
       "2           1          3  False  False             NaN      62     37   \n",
       "3           2          2  False  False             NaN      76     23   \n",
       "4           3          3  False  False             NaN      64     35   \n",
       "5           1          2  False  False             NaN      72     27   \n",
       "6           1          2  False  False             NaN      65     34   \n",
       "7           1          3   True   True            20.0      49     50   \n",
       "\n",
       "   accuracy  F1-score  \n",
       "0     0.812     0.892  \n",
       "1     0.837     0.908  \n",
       "2     0.895     0.941  \n",
       "3     0.866     0.925  \n",
       "4     0.884     0.934  \n",
       "5     0.871     0.928  \n",
       "6     0.884     0.935  \n",
       "7     0.851     0.912  "
      ]
     },
     "execution_count": 78,
     "metadata": {},
     "output_type": "execute_result"
    }
   ],
   "source": [
    "results"
   ]
  },
  {
   "cell_type": "code",
   "execution_count": null,
   "metadata": {},
   "outputs": [],
   "source": [
    "# Максимальный результат показывает модель с использованием от 1 до 3 n-грамм в CV-векторизации без tf-idf преобразования и\n",
    "# сингулярного разложения\n",
    "# Тем не менее, с той же векторизацией и с сипользованием tf-idf и SVD, определение положительных отзывов заметно улучшается"
   ]
  }
 ],
 "metadata": {
  "kernelspec": {
   "display_name": "Python 3",
   "language": "python",
   "name": "python3"
  },
  "language_info": {
   "codemirror_mode": {
    "name": "ipython",
    "version": 3
   },
   "file_extension": ".py",
   "mimetype": "text/x-python",
   "name": "python",
   "nbconvert_exporter": "python",
   "pygments_lexer": "ipython3",
   "version": "3.7.1"
  }
 },
 "nbformat": 4,
 "nbformat_minor": 2
}
