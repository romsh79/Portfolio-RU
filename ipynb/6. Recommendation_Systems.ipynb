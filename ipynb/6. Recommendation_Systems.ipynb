{
 "cells": [
  {
   "cell_type": "markdown",
   "metadata": {},
   "source": [
    "# Рекомендательные системы в продажах"
   ]
  },
  {
   "cell_type": "code",
   "execution_count": null,
   "metadata": {},
   "outputs": [],
   "source": [
    "# В интернет-магазине есть данные по пользовательским сессиям, каждая из которых содержит список \n",
    "# просмотренных товаров (id) и список купленных товаров.\n",
    "# Необходимо на основе этих данных создать рекомендательную систему, предлагающую пользователю\n",
    "# k - товаров на основе его просмотров"
   ]
  },
  {
   "cell_type": "code",
   "execution_count": 1,
   "metadata": {},
   "outputs": [],
   "source": [
    "import pandas as pd\n",
    "import numpy as np"
   ]
  },
  {
   "cell_type": "code",
   "execution_count": 2,
   "metadata": {},
   "outputs": [],
   "source": [
    "with open('Data/Coursera/coursera_sessions_train.txt', 'r') as f:\n",
    "    sess_train = f.read().splitlines()\n",
    "with open('Data/Coursera/coursera_sessions_test.txt', 'r') as f:\n",
    "    sess_test = f.read().splitlines()"
   ]
  },
  {
   "cell_type": "code",
   "execution_count": 5,
   "metadata": {},
   "outputs": [
    {
     "data": {
      "text/plain": [
       "['71,72,73,74;',\n",
       " '76,77,78;',\n",
       " '84,85,86,87,88,89,84,90,91,92,93,86;86',\n",
       " '114,77,115,116,117,118,119,120,121,120,122,123,124;']"
      ]
     },
     "execution_count": 5,
     "metadata": {},
     "output_type": "execute_result"
    }
   ],
   "source": [
    "# представленные данные: каждая строка - список просмотренных товаров (id) пользователем за одну сессию, а через \";\" - купленный\n",
    "sess_train[8:12]"
   ]
  },
  {
   "cell_type": "code",
   "execution_count": null,
   "metadata": {},
   "outputs": [],
   "source": [
    "# Проект построен следующим образом\n",
    "\n",
    "# 1. Создаём матрицы частот просматриваемых и покупаемых товаров \n",
    "# (товар - кол-во просмотров и товар - кол-во покупок), сортируем м-цы по убыванию частот.\n",
    "# Т.о., получили м-цу популярности просмотров и м-цу популярности покупок\n",
    "\n",
    "# 2. Для текущей сессии просмотров [id_1,id_2,...,id_n] делаем рекомендации\n",
    "# на k товаров из этого списка (k<=n), стоящие в м-це популярности ПРОСМОТРОВ выше оставшихся n-k просмотров \n",
    "\n",
    "# 3. Для текущей сессии просмотров [id_1,id_2,...,id_n] делаем рекомендации\n",
    "# на k товаров из этого списка (k<=n), стоящие в м-це популярности ПОКУПОК выше оставшихся n-k просмотров\n",
    "\n",
    "# 4. - 6. Проверяем все то же самое на тестовой выборке (используя, разумеется, м-цы популярности тренировочной выборки)"
   ]
  },
  {
   "cell_type": "code",
   "execution_count": null,
   "metadata": {},
   "outputs": [],
   "source": [
    "# В итоге, значения метрик для рекомендаций по покупкам ведут себя на тестовой выборке немного лучше,\n",
    "# при этом значения метрик для тестовой выборке очень близки к значениям метрик по тренировочной выборке\n",
    "# для рекомендаций по просмотрам."
   ]
  },
  {
   "cell_type": "markdown",
   "metadata": {},
   "source": [
    "### 1. На обучении постройте частоты появления id в просмотренных и в купленных"
   ]
  },
  {
   "cell_type": "code",
   "execution_count": null,
   "metadata": {},
   "outputs": [],
   "source": [
    "#(id может несколько раз появляться в просмотренных, все появления надо учитывать)"
   ]
  },
  {
   "cell_type": "code",
   "execution_count": 3,
   "metadata": {},
   "outputs": [],
   "source": [
    "# разделяем м-цу сессий на просмотренные id и купленные id\n",
    "# для обучающей выборки\n",
    "sess_train_lp = []\n",
    "for sess in sess_train:\n",
    "    look_items, pur_items = sess.split(';')\n",
    "    # применяем ф-цию int() ко всем id сессии\n",
    "    look_items = list(map(int, look_items.split(',')))\n",
    "    if len(pur_items) > 0:\n",
    "        pur_items = list(map(int, pur_items.split(',')))\n",
    "    else:\n",
    "        pur_items = []\n",
    "    sess_train_lp.append([look_items, pur_items])\n",
    "\n",
    "# для тестовой выборки\n",
    "sess_test_lp = []\n",
    "for sess in sess_test:\n",
    "    look_items, pur_items = sess.split(';')\n",
    "    look_items = list(map(int, look_items.split(',')))\n",
    "    if len(pur_items) > 0:\n",
    "        pur_items = list(map(int, pur_items.split(',')))\n",
    "    else:\n",
    "        pur_items = []\n",
    "    sess_test_lp.append([look_items, pur_items])"
   ]
  },
  {
   "cell_type": "code",
   "execution_count": 10,
   "metadata": {},
   "outputs": [
    {
     "data": {
      "text/plain": [
       "[[[71, 72, 73, 74], []],\n",
       " [[76, 77, 78], []],\n",
       " [[84, 85, 86, 87, 88, 89, 84, 90, 91, 92, 93, 86], [86]],\n",
       " [[114, 77, 115, 116, 117, 118, 119, 120, 121, 120, 122, 123, 124], []]]"
      ]
     },
     "execution_count": 10,
     "metadata": {},
     "output_type": "execute_result"
    }
   ],
   "source": [
    "sess_train_lp[8:12]"
   ]
  },
  {
   "cell_type": "code",
   "execution_count": 4,
   "metadata": {},
   "outputs": [],
   "source": [
    "# ДЛЯ ПРОСМОТРЕННЫХ\n",
    "\n",
    "# сначала все просмотренные id загоняем в список\n",
    "sess_train_lid = []\n",
    "for i in range(len(sess_train_lp)):\n",
    "    for id in sess_train_lp[i][0]:\n",
    "        sess_train_lid.append(id)\n",
    "\n",
    "# теперь столбец уникальных id со счетчиком\n",
    "sess_train_l_cnt = np.transpose(np.unique(sess_train_lid, return_counts=True))"
   ]
  },
  {
   "cell_type": "code",
   "execution_count": 22,
   "metadata": {},
   "outputs": [
    {
     "data": {
      "text/plain": [
       "array([[     0,      6],\n",
       "       [     1,      6],\n",
       "       [     2,      9],\n",
       "       ...,\n",
       "       [102804,      1],\n",
       "       [102805,      1],\n",
       "       [102806,      1]], dtype=int64)"
      ]
     },
     "execution_count": 22,
     "metadata": {},
     "output_type": "execute_result"
    }
   ],
   "source": [
    "# структура столбца: i-й элемент является двумерной строкой [id, кол-во раз которое он встречается]\n",
    "sess_train_l_cnt"
   ]
  },
  {
   "cell_type": "code",
   "execution_count": 5,
   "metadata": {},
   "outputs": [],
   "source": [
    "# ДЛЯ КУПЛЕННЫХ\n",
    "\n",
    "# сначала все просмотренные id загоняем в список\n",
    "sess_train_pid = []\n",
    "for i in range(len(sess_train_lp)):\n",
    "    for id in sess_train_lp[i][1]:\n",
    "        sess_train_pid.append(id)\n",
    "\n",
    "# теперь столбец уникальных id со счетчиком\n",
    "sess_train_p_cnt = np.transpose(np.unique(sess_train_pid, return_counts=True))"
   ]
  },
  {
   "cell_type": "code",
   "execution_count": 24,
   "metadata": {},
   "outputs": [
    {
     "data": {
      "text/plain": [
       "array([[     5,      1],\n",
       "       [     6,      2],\n",
       "       [     7,      2],\n",
       "       ...,\n",
       "       [102417,      1],\n",
       "       [102462,      1],\n",
       "       [102646,      1]], dtype=int64)"
      ]
     },
     "execution_count": 24,
     "metadata": {},
     "output_type": "execute_result"
    }
   ],
   "source": [
    "sess_train_p_cnt"
   ]
  },
  {
   "cell_type": "code",
   "execution_count": 6,
   "metadata": {},
   "outputs": [],
   "source": [
    "# Сортируем полученные столбцы по счетчику (запись по убыванию)\n",
    "# sess_train_l_cnt[:,1].argsort() - список индексов строк нашего двумерного массива по возрастанию значения счетчика\n",
    "# sess_train_l_cnt[sess_train_l_cnt[:,1].argsort()] - отсортированный в порядке возрастания счетчика массив\n",
    "# операция среза - list[<start>:<stop>:<step>], [::-1] - просто вернет список с конца до начала\n",
    "sess_train_l_cnt = sess_train_l_cnt[sess_train_l_cnt[:,1].argsort()][::-1]\n",
    "sess_train_p_cnt = sess_train_p_cnt[sess_train_p_cnt[:,1].argsort()][::-1]"
   ]
  },
  {
   "cell_type": "code",
   "execution_count": 40,
   "metadata": {},
   "outputs": [
    {
     "data": {
      "text/plain": [
       "array([[  158,    14],\n",
       "       [  204,    12],\n",
       "       [   73,    11],\n",
       "       ...,\n",
       "       [38189,     1],\n",
       "       [38177,     1],\n",
       "       [    5,     1]], dtype=int64)"
      ]
     },
     "execution_count": 40,
     "metadata": {},
     "output_type": "execute_result"
    }
   ],
   "source": [
    "# итоговая м-ца купленных товаров: id товара - сколько раз он был куплен\n",
    "sess_train_p_cnt"
   ]
  },
  {
   "cell_type": "markdown",
   "metadata": {},
   "source": [
    "### 2. Алгоритм рекомендаций - сортировка просмотренных id по популярности (частота появления в просмотренных)"
   ]
  },
  {
   "cell_type": "code",
   "execution_count": 7,
   "metadata": {},
   "outputs": [],
   "source": [
    "# ф-ция расчета метрик 'Precision@k' и 'Recall@k' для k-рекомендаций\n",
    "# 'reccomendations' - список 'k' рекомендуемых товаров для текущей сессии, в которой был совершен список покупок 'session' \n",
    "def prec_rec_metrics(session, reccomendations, k):\n",
    "    purchase = 0\n",
    "    for ind in reccomendations:\n",
    "        if ind in session:\n",
    "            purchase += 1 \n",
    "    precision = purchase / k\n",
    "    recall = purchase / len(session)\n",
    "    return(precision, recall)"
   ]
  },
  {
   "cell_type": "code",
   "execution_count": 8,
   "metadata": {},
   "outputs": [],
   "source": [
    "# столбцы купленных и просмотренных товаров\n",
    "sess_train_p = [row[1] for row in sess_train_lp]\n",
    "sess_train_l = [row[0] for row in sess_train_lp]"
   ]
  },
  {
   "cell_type": "code",
   "execution_count": 9,
   "metadata": {},
   "outputs": [
    {
     "name": "stdout",
     "output_type": "stream",
     "text": [
      "Wall time: 8.23 s\n"
     ]
    }
   ],
   "source": [
    "%%time\n",
    "# Считаем метрики 'Precision@k' и 'Recall@k' на обучающей выборке для k=1 и k=5\n",
    "prec_at_1_tr_l, rec_at_1_tr_l = [], []\n",
    "prec_at_5_tr_l, rec_at_5_tr_l = [], []\n",
    "k1, k5 = 1, 5\n",
    "for i, sess_p in enumerate(sess_train_p):\n",
    "    # не обрабатываем сессии без покупок\n",
    "    if sess_p == []: continue\n",
    "    \n",
    "    # просмотренные id для сессии i\n",
    "    sess_l = sess_train_l[i]\n",
    "\n",
    "    l_ind_sess = []\n",
    "    for j in range(len(sess_l)):\n",
    "        # выбираем индекс (!) столбца-счетчика встречаемости просмотренных id,\n",
    "        # элемент в котором соответствует значению текущего id сессии.\n",
    "        l_ind_sess.append(np.where(sess_train_l_cnt[:,0] == sess_l[j])[0][0])\n",
    "    # список индексов м-цы-счетчика купленных товаров для купленных товаров из текущей сессии \n",
    "    l_ind_sess_sorted = np.unique(l_ind_sess)\n",
    "    \n",
    "    # k1 рекомендаций\n",
    "    num_of_recs_k1 = min(k1, len(sess_l))\n",
    "    if num_of_recs_k1 == 0: continue\n",
    "    # берем первые Min(k1,кол-во id в текущей сессии) кол-во id из текущей сессии, \n",
    "    # согласно сортировке по частоте просмотров по всей обучающей выборке\n",
    "    recs_k1 = sess_train_l_cnt[l_ind_sess_sorted[:num_of_recs_k1],0]\n",
    "    \n",
    "    # расчет k1-метрик\n",
    "    prec_1, rec_1 = prec_rec_metrics(sess_p, recs_k1, k1)\n",
    "    prec_at_1_tr_l.append(prec_1)\n",
    "    rec_at_1_tr_l.append(rec_1)\n",
    "    \n",
    "    # k5 рекомендаций\n",
    "    num_of_recs_k5 = min(k5, len(sess_l))\n",
    "    if num_of_recs_k5 == 0: continue\n",
    "    recs_k5 = sess_train_l_cnt[l_ind_sess_sorted[:num_of_recs_k5],0]\n",
    "    \n",
    "    # расчет k5-метрик\n",
    "    prec_5, rec_5 = prec_rec_metrics(sess_p, recs_k5, k5)\n",
    "    prec_at_5_tr_l.append(prec_5)\n",
    "    rec_at_5_tr_l.append(rec_5)"
   ]
  },
  {
   "cell_type": "code",
   "execution_count": 10,
   "metadata": {},
   "outputs": [],
   "source": [
    "avg_prec_at_1_tr_l = np.mean(prec_at_1_tr_l)\n",
    "avg_rec_at_1_tr_l = np.mean(rec_at_1_tr_l)\n",
    "avg_prec_at_5_tr_l = np.mean(prec_at_5_tr_l)\n",
    "avg_rec_at_5_tr_l = np.mean(rec_at_5_tr_l)"
   ]
  },
  {
   "cell_type": "code",
   "execution_count": 13,
   "metadata": {},
   "outputs": [],
   "source": [
    "r1 = round(avg_rec_at_1_tr_l, 2)\n",
    "p1 = round(avg_prec_at_1_tr_l, 2)\n",
    "r5 = round(avg_rec_at_5_tr_l, 2)\n",
    "p5 = round(avg_prec_at_5_tr_l, 2)"
   ]
  },
  {
   "cell_type": "code",
   "execution_count": 24,
   "metadata": {},
   "outputs": [],
   "source": [
    "# будем заносить все результаты этого проекта в единый датафрейм 'metrics'\n",
    "metrics = pd.DataFrame({'precision':p1, 'recall': r1},index={'Train_look_k=1'})\n",
    "metrics.loc['Train_look_k=5'] = [p5,r5]"
   ]
  },
  {
   "cell_type": "markdown",
   "metadata": {},
   "source": [
    "### 3. Алгоритм рекомендаций - сортировка просмотренных id по покупаемости (частота появления в покупках)"
   ]
  },
  {
   "cell_type": "code",
   "execution_count": 25,
   "metadata": {},
   "outputs": [
    {
     "name": "stdout",
     "output_type": "stream",
     "text": [
      "Wall time: 1.74 s\n"
     ]
    }
   ],
   "source": [
    "%%time\n",
    "# Считаем метрики 'Precision@k' и 'Recall@k' на обучающей выборке для k=1 и k=5\n",
    "prec_at_1_tr_p, rec_at_1_tr_p = [], []\n",
    "prec_at_5_tr_p, rec_at_5_tr_p = [], []\n",
    "k1, k5 = 1, 5\n",
    "\n",
    "for i, sess_p in enumerate(sess_train_p):\n",
    "    # не обрабатываем сессии без покупок\n",
    "    if sess_p == []: continue\n",
    "    \n",
    "    # просмотренные id для сессии i\n",
    "    sess_l = sess_train_l[i]\n",
    "\n",
    "    l_ind_sess = []\n",
    "    for j in range(len(sess_l)):\n",
    "        # выбираем индекс столбца-счетчика встречаемости просмотренных id,\n",
    "        # элемент в котором соответствует значению текущего id сессии\n",
    "        # здесь первый [0] выбирает первую строку в найденном однострочном элементе,\n",
    "        # второй [0] выбирает первый элемент строки, являющимся как раз индексом\n",
    "        if sess_l[j] not in sess_train_p_cnt[:,0]: continue\n",
    "        l_ind_sess.append(np.where(sess_train_p_cnt[:,0] == sess_l[j])[0][0])\n",
    "    l_ind_sess_sorted = np.unique(l_ind_sess)\n",
    "    \n",
    "    # k1 рекомендаций\n",
    "    num_of_recs_k1 = min(k1, len(sess_l), len(l_ind_sess_sorted))\n",
    "    if num_of_recs_k1 == 0: continue\n",
    "    # берем первые Min(k1,кол-во id в текущей сессии) кол-во id из текущей сессии, \n",
    "    # согласно сортировке по частоте просмотров по всей обучающей выборке\n",
    "    recs_k1 = sess_train_p_cnt[l_ind_sess_sorted[:num_of_recs_k1],0]\n",
    " \n",
    "    # расчет k1-метрик\n",
    "    prec_1, rec_1 = prec_rec_metrics(sess_p, recs_k1, k1)\n",
    "    prec_at_1_tr_p.append(prec_1)\n",
    "    rec_at_1_tr_p.append(rec_1)\n",
    "    \n",
    "    # k5 рекомендаций\n",
    "    num_of_recs_k5 = min(k5, len(sess_l), len(l_ind_sess_sorted))\n",
    "    if num_of_recs_k5 == 0: continue\n",
    "    recs_k5 = sess_train_p_cnt[l_ind_sess_sorted[:num_of_recs_k5],0]\n",
    "    \n",
    "    # расчет k5-метрик\n",
    "    prec_5, rec_5 = prec_rec_metrics(sess_p, recs_k5, k5)\n",
    "    prec_at_5_tr_p.append(prec_5)\n",
    "    rec_at_5_tr_p.append(rec_5)"
   ]
  },
  {
   "cell_type": "code",
   "execution_count": 26,
   "metadata": {},
   "outputs": [],
   "source": [
    "avg_prec_at_1_tr_p = np.mean(prec_at_1_tr_p)\n",
    "avg_rec_at_1_tr_p = np.mean(rec_at_1_tr_p)\n",
    "avg_prec_at_5_tr_p = np.mean(prec_at_5_tr_p)\n",
    "avg_rec_at_5_tr_p = np.mean(rec_at_5_tr_p)\n",
    "\n",
    "r1 = round(avg_rec_at_1_tr_p, 2)\n",
    "p1 = round(avg_prec_at_1_tr_p, 2)\n",
    "r5 = round(avg_rec_at_5_tr_p, 2)\n",
    "p5 = round(avg_prec_at_5_tr_p, 2)"
   ]
  },
  {
   "cell_type": "code",
   "execution_count": 27,
   "metadata": {},
   "outputs": [],
   "source": [
    "metrics.loc['Train_purch_k=1'] = [p1,r1]\n",
    "metrics.loc['Train_purch_k=5'] = [p5,r5]"
   ]
  },
  {
   "cell_type": "markdown",
   "metadata": {},
   "source": [
    "### 4. На тестовой выборке построим частоты появления id в просмотренных и в купленных"
   ]
  },
  {
   "cell_type": "code",
   "execution_count": 53,
   "metadata": {},
   "outputs": [],
   "source": [
    "# Формируем столбец просмотренных товаров за все тренировочные сессии\n",
    "sess_test_l = [row[0] for row in sess_test_lp]\n",
    "sess_test_l_np = []\n",
    "for sess in sess_test_l:\n",
    "    for idd in sess:\n",
    "        sess_test_l_np.append(idd)\n",
    "sess_test_l_np = np.array(sess_test_l_np)\n",
    "\n",
    "# Формируем столбец купленных товаров за все тренировочные сессии\n",
    "sess_test_p = [row[1] for row in sess_test_lp]\n",
    "sess_test_p_np = []\n",
    "for sess in sess_test_p:\n",
    "    for idd in sess:\n",
    "        sess_test_p_np.append(idd)\n",
    "sess_test_p_np = np.array(sess_test_p_np)"
   ]
  },
  {
   "cell_type": "markdown",
   "metadata": {},
   "source": [
    "### 5. Алгоритм рекомендаций на тестовой выборке - сортировка просмотренных id по популярности (частота появления в просмотренных)"
   ]
  },
  {
   "cell_type": "code",
   "execution_count": 57,
   "metadata": {},
   "outputs": [
    {
     "name": "stdout",
     "output_type": "stream",
     "text": [
      "Wall time: 12.9 s\n"
     ]
    }
   ],
   "source": [
    "%%time\n",
    "# метрики по тестовым данным\n",
    "prec_at_1_tst_l, rec_at_1_tst_l = [], []\n",
    "prec_at_5_tst_l, rec_at_5_tst_l = [], []\n",
    "k1, k5 = 1, 5\n",
    "\n",
    "for i, sess_p in enumerate(sess_test_p):\n",
    "    # пропускаем сессии без покупок\n",
    "    if sess_p == []: continue\n",
    "    \n",
    "    # проходимся по id из просмотренных товаров\n",
    "    sess_l = sess_test_l[i]\n",
    "\n",
    "    # выбираем индекс столбца-счетчика встречаемости просмотренных id в тренировочной приоритетной матрице\n",
    "    l_ind_sess = []\n",
    "    new_ids = []\n",
    "    for j in range(len(sess_l)):\n",
    "        if sess_l[j] not in sess_train_l_cnt[:,0]:\n",
    "            new_ids.append(sess_l[j])\n",
    "            continue\n",
    "        l_ind_sess.append(np.where(sess_train_l_cnt[:,0] == sess_l[j])[0][0])\n",
    "    l_ind_sess_sorted = np.unique(l_ind_sess)\n",
    "    \n",
    "    # k1 рекомендации\n",
    "    num_of_recs_k1 = min(k1, len(sess_l))\n",
    "    if num_of_recs_k1 == 0: continue\n",
    "    # добавляем это условие, поскольку все просмотренные в сессии товары могут не быть в тренировочной м-це\n",
    "    if l_ind_sess != []:\n",
    "        recs_k1 = sess_train_l_cnt[l_ind_sess_sorted[:num_of_recs_k1],0]\n",
    "    else:\n",
    "        recs_k1 = []\n",
    "    # здесь объединяем отсортированные 'в порядке убывания приоритета приоритетной м-цы тренировочных данных' \n",
    "    # рекомендуемые товары и новые товары, не присутствующие ранее в приоритетной м-це тренировочных данных\n",
    "    recs_k1 = np.concatenate((np.array(recs_k1, dtype='int64'), np.unique(np.array(new_ids, dtype='int64'))))[:num_of_recs_k1]\n",
    "    \n",
    "    # k1 метрики\n",
    "    prec_1, rec_1 = prec_rec_metrics(sess_p, recs_k1, k1)\n",
    "    prec_at_1_tst_l.append(prec_1)\n",
    "    rec_at_1_tst_l.append(rec_1)\n",
    "    \n",
    "    # k5 рекомендации\n",
    "    num_of_recs_k5 = min(k5, len(sess_l))\n",
    "    if num_of_recs_k5 == 0: continue\n",
    "    if l_ind_sess != []:\n",
    "        recs_k5 = sess_train_l_cnt[l_ind_sess_sorted[:num_of_recs_k5],0]\n",
    "    else:\n",
    "        recs_k5 = []\n",
    "    recs_k5 = np.concatenate((np.array(recs_k5, dtype='int64'), np.unique(np.array(new_ids, dtype='int64'))))[:num_of_recs_k5]\n",
    "    \n",
    "    # k5 метрики\n",
    "    prec_5, rec_5 = prec_rec_metrics(sess_p, recs_k5, k5)\n",
    "    prec_at_5_tst_l.append(prec_5)\n",
    "    rec_at_5_tst_l.append(rec_5)"
   ]
  },
  {
   "cell_type": "code",
   "execution_count": 59,
   "metadata": {},
   "outputs": [],
   "source": [
    "avg_prec_at_1_tst_l = np.mean(prec_at_1_tst_l)\n",
    "avg_rec_at_1_tst_l = np.mean(rec_at_1_tst_l)\n",
    "avg_prec_at_5_tst_l = np.mean(prec_at_5_tst_l)\n",
    "avg_rec_at_5_tst_l = np.mean(rec_at_5_tst_l)\n",
    "\n",
    "r1 = round(avg_rec_at_1_tst_l, 2)\n",
    "p1 = round(avg_prec_at_1_tst_l, 2)\n",
    "r5 = round(avg_rec_at_5_tst_l, 2)\n",
    "p5 = round(avg_prec_at_5_tst_l, 2)"
   ]
  },
  {
   "cell_type": "code",
   "execution_count": 60,
   "metadata": {},
   "outputs": [],
   "source": [
    "metrics.loc['Test_look_k=1'] = [p1,r1]\n",
    "metrics.loc['Test_look_k=5'] = [p5,r5]"
   ]
  },
  {
   "cell_type": "markdown",
   "metadata": {},
   "source": [
    "### 6. Алгоритм рекомендаций на тестовой выборке - сортировка просмотренных id по покупаемости (частота появления в покупках)"
   ]
  },
  {
   "cell_type": "code",
   "execution_count": 84,
   "metadata": {},
   "outputs": [],
   "source": [
    "prec_at_1_tst_p, rec_at_1_tst_p = [], []\n",
    "prec_at_5_tst_p, rec_at_5_tst_p = [], []\n",
    "k1, k5 = 1, 5\n",
    "for i, sess_p in enumerate(sess_test_p):\n",
    "\n",
    "    if sess_p == []: continue\n",
    "    \n",
    "\n",
    "    sess_l = sess_test_l[i]\n",
    "\n",
    "\n",
    "    l_ind_sess = []\n",
    "    new_ids = []\n",
    "    for j in range(len(sess_l)):\n",
    "        if sess_l[j] not in sess_train_p_cnt[:,0]:\n",
    "            new_ids.append(sess_l[j])\n",
    "            continue\n",
    "        l_ind_sess.append(np.where(sess_train_p_cnt[:,0] == sess_l[j])[0][0])\n",
    "    l_ind_sess_sorted = np.unique(l_ind_sess)\n",
    "    \n",
    "    # k1 recommendations\n",
    "    num_of_recs_k1 = min(k1, len(sess_l))\n",
    "    if num_of_recs_k1 == 0: continue\n",
    "    if l_ind_sess != []:\n",
    "        recs_k1 = sess_train_p_cnt[l_ind_sess_sorted[:num_of_recs_k1],0]\n",
    "    else:\n",
    "        recs_k1 = []\n",
    "    # химичим тут\n",
    "    recs_k1 = np.concatenate((np.array(recs_k1, dtype='int64'), np.unique(np.array(new_ids, dtype='int64'))))[:num_of_recs_k1]\n",
    "    \n",
    "    # k1 метрики\n",
    "    prec_1, rec_1 = prec_rec_metrics(sess_p, recs_k1, k1)\n",
    "    prec_at_1_tst_p.append(prec_1)\n",
    "    rec_at_1_tst_p.append(rec_1)\n",
    "    \n",
    "    # k5 рекомендации\n",
    "    num_of_recs_k5 = min(k5, len(sess_l))\n",
    "    if num_of_recs_k5 == 0: continue\n",
    "    if l_ind_sess != []:\n",
    "        recs_k5 = sess_train_p_cnt[l_ind_sess_sorted[:num_of_recs_k5],0]\n",
    "    else:\n",
    "        recs_k5 = []\n",
    "    recs_k5 = np.concatenate((np.array(recs_k5, dtype='int64'), np.unique(np.array(new_ids, dtype='int64'))))[:num_of_recs_k5]\n",
    "    \n",
    "    # k5 метрики\n",
    "    prec_5, rec_5 = prec_rec_metrics(sess_p, recs_k5, k5)\n",
    "    prec_at_5_tst_p.append(prec_5)\n",
    "    rec_at_5_tst_p.append(rec_5)"
   ]
  },
  {
   "cell_type": "code",
   "execution_count": 85,
   "metadata": {},
   "outputs": [
    {
     "name": "stdout",
     "output_type": "stream",
     "text": [
      "Answer 4: 0.42 0.49 0.80 0.20\n"
     ]
    }
   ],
   "source": [
    "avg_prec_at_1_tst_p = np.mean(prec_at_1_tst_p)\n",
    "avg_rec_at_1_tst_p = np.mean(rec_at_1_tst_p)\n",
    "avg_prec_at_5_tst_p = np.mean(prec_at_5_tst_p)\n",
    "avg_rec_at_5_tst_p = np.mean(rec_at_5_tst_p)\n",
    "\n",
    "r1 = round(avg_rec_at_1_tst_p, 2)\n",
    "p1 = round(avg_prec_at_1_tst_p, 2)\n",
    "r5 = round(avg_rec_at_5_tst_p, 2)\n",
    "p5 = round(avg_prec_at_5_tst_p, 2)"
   ]
  },
  {
   "cell_type": "code",
   "execution_count": 86,
   "metadata": {},
   "outputs": [],
   "source": [
    "metrics.loc['Test_purch_k=1'] = [p1,r1]\n",
    "metrics.loc['Test_purch_k=5'] = [p5,r5]"
   ]
  },
  {
   "cell_type": "markdown",
   "metadata": {},
   "source": [
    "### 7. Анализ результатов"
   ]
  },
  {
   "cell_type": "code",
   "execution_count": 87,
   "metadata": {},
   "outputs": [
    {
     "data": {
      "text/html": [
       "<div>\n",
       "<style scoped>\n",
       "    .dataframe tbody tr th:only-of-type {\n",
       "        vertical-align: middle;\n",
       "    }\n",
       "\n",
       "    .dataframe tbody tr th {\n",
       "        vertical-align: top;\n",
       "    }\n",
       "\n",
       "    .dataframe thead th {\n",
       "        text-align: right;\n",
       "    }\n",
       "</style>\n",
       "<table border=\"1\" class=\"dataframe\">\n",
       "  <thead>\n",
       "    <tr style=\"text-align: right;\">\n",
       "      <th></th>\n",
       "      <th>precision</th>\n",
       "      <th>recall</th>\n",
       "    </tr>\n",
       "  </thead>\n",
       "  <tbody>\n",
       "    <tr>\n",
       "      <th>Train_look_k=1</th>\n",
       "      <td>0.51</td>\n",
       "      <td>0.44</td>\n",
       "    </tr>\n",
       "    <tr>\n",
       "      <th>Train_look_k=5</th>\n",
       "      <td>0.21</td>\n",
       "      <td>0.83</td>\n",
       "    </tr>\n",
       "    <tr>\n",
       "      <th>Train_purch_k=1</th>\n",
       "      <td>0.79</td>\n",
       "      <td>0.68</td>\n",
       "    </tr>\n",
       "    <tr>\n",
       "      <th>Train_purch_k=5</th>\n",
       "      <td>0.25</td>\n",
       "      <td>0.93</td>\n",
       "    </tr>\n",
       "    <tr>\n",
       "      <th>Test_look_k=1</th>\n",
       "      <td>0.48</td>\n",
       "      <td>0.42</td>\n",
       "    </tr>\n",
       "    <tr>\n",
       "      <th>Test_look_k=5</th>\n",
       "      <td>0.2</td>\n",
       "      <td>0.8</td>\n",
       "    </tr>\n",
       "    <tr>\n",
       "      <th>Test_purch_k=1</th>\n",
       "      <td>0.49</td>\n",
       "      <td>0.42</td>\n",
       "    </tr>\n",
       "    <tr>\n",
       "      <th>Test_purch_k=5</th>\n",
       "      <td>0.20</td>\n",
       "      <td>0.80</td>\n",
       "    </tr>\n",
       "  </tbody>\n",
       "</table>\n",
       "</div>"
      ],
      "text/plain": [
       "                precision recall\n",
       "Train_look_k=1       0.51   0.44\n",
       "Train_look_k=5       0.21   0.83\n",
       "Train_purch_k=1      0.79   0.68\n",
       "Train_purch_k=5      0.25   0.93\n",
       "Test_look_k=1        0.48   0.42\n",
       "Test_look_k=5         0.2    0.8\n",
       "Test_purch_k=1       0.49   0.42\n",
       "Test_purch_k=5       0.20   0.80"
      ]
     },
     "execution_count": 87,
     "metadata": {},
     "output_type": "execute_result"
    }
   ],
   "source": [
    "metrics"
   ]
  },
  {
   "cell_type": "code",
   "execution_count": 93,
   "metadata": {},
   "outputs": [
    {
     "data": {
      "text/html": [
       "<div>\n",
       "<style scoped>\n",
       "    .dataframe tbody tr th:only-of-type {\n",
       "        vertical-align: middle;\n",
       "    }\n",
       "\n",
       "    .dataframe tbody tr th {\n",
       "        vertical-align: top;\n",
       "    }\n",
       "\n",
       "    .dataframe thead th {\n",
       "        text-align: right;\n",
       "    }\n",
       "</style>\n",
       "<table border=\"1\" class=\"dataframe\">\n",
       "  <thead>\n",
       "    <tr style=\"text-align: right;\">\n",
       "      <th></th>\n",
       "      <th>precision</th>\n",
       "      <th>recall</th>\n",
       "    </tr>\n",
       "  </thead>\n",
       "  <tbody>\n",
       "    <tr>\n",
       "      <th>Train_look_k=1</th>\n",
       "      <td>0.51</td>\n",
       "      <td>0.44</td>\n",
       "    </tr>\n",
       "    <tr>\n",
       "      <th>Test_purch_k=1</th>\n",
       "      <td>0.49</td>\n",
       "      <td>0.42</td>\n",
       "    </tr>\n",
       "  </tbody>\n",
       "</table>\n",
       "</div>"
      ],
      "text/plain": [
       "               precision recall\n",
       "Train_look_k=1      0.51   0.44\n",
       "Test_purch_k=1      0.49   0.42"
      ]
     },
     "execution_count": 93,
     "metadata": {},
     "output_type": "execute_result"
    }
   ],
   "source": [
    "metrics.loc[['Train_look_k=1','Test_purch_k=1']]"
   ]
  },
  {
   "cell_type": "code",
   "execution_count": 94,
   "metadata": {},
   "outputs": [
    {
     "data": {
      "text/html": [
       "<div>\n",
       "<style scoped>\n",
       "    .dataframe tbody tr th:only-of-type {\n",
       "        vertical-align: middle;\n",
       "    }\n",
       "\n",
       "    .dataframe tbody tr th {\n",
       "        vertical-align: top;\n",
       "    }\n",
       "\n",
       "    .dataframe thead th {\n",
       "        text-align: right;\n",
       "    }\n",
       "</style>\n",
       "<table border=\"1\" class=\"dataframe\">\n",
       "  <thead>\n",
       "    <tr style=\"text-align: right;\">\n",
       "      <th></th>\n",
       "      <th>precision</th>\n",
       "      <th>recall</th>\n",
       "    </tr>\n",
       "  </thead>\n",
       "  <tbody>\n",
       "    <tr>\n",
       "      <th>Train_look_k=5</th>\n",
       "      <td>0.21</td>\n",
       "      <td>0.83</td>\n",
       "    </tr>\n",
       "    <tr>\n",
       "      <th>Test_purch_k=5</th>\n",
       "      <td>0.20</td>\n",
       "      <td>0.80</td>\n",
       "    </tr>\n",
       "  </tbody>\n",
       "</table>\n",
       "</div>"
      ],
      "text/plain": [
       "               precision recall\n",
       "Train_look_k=5      0.21   0.83\n",
       "Test_purch_k=5      0.20   0.80"
      ]
     },
     "execution_count": 94,
     "metadata": {},
     "output_type": "execute_result"
    }
   ],
   "source": [
    "metrics.loc[['Train_look_k=5','Test_purch_k=5']]"
   ]
  },
  {
   "cell_type": "code",
   "execution_count": 95,
   "metadata": {},
   "outputs": [
    {
     "data": {
      "text/html": [
       "<div>\n",
       "<style scoped>\n",
       "    .dataframe tbody tr th:only-of-type {\n",
       "        vertical-align: middle;\n",
       "    }\n",
       "\n",
       "    .dataframe tbody tr th {\n",
       "        vertical-align: top;\n",
       "    }\n",
       "\n",
       "    .dataframe thead th {\n",
       "        text-align: right;\n",
       "    }\n",
       "</style>\n",
       "<table border=\"1\" class=\"dataframe\">\n",
       "  <thead>\n",
       "    <tr style=\"text-align: right;\">\n",
       "      <th></th>\n",
       "      <th>precision</th>\n",
       "      <th>recall</th>\n",
       "    </tr>\n",
       "  </thead>\n",
       "  <tbody>\n",
       "    <tr>\n",
       "      <th>Train_look_k=1</th>\n",
       "      <td>0.51</td>\n",
       "      <td>0.44</td>\n",
       "    </tr>\n",
       "    <tr>\n",
       "      <th>Test_look_k=1</th>\n",
       "      <td>0.48</td>\n",
       "      <td>0.42</td>\n",
       "    </tr>\n",
       "  </tbody>\n",
       "</table>\n",
       "</div>"
      ],
      "text/plain": [
       "               precision recall\n",
       "Train_look_k=1      0.51   0.44\n",
       "Test_look_k=1       0.48   0.42"
      ]
     },
     "execution_count": 95,
     "metadata": {},
     "output_type": "execute_result"
    }
   ],
   "source": [
    "metrics.loc[['Train_look_k=1','Test_look_k=1']]"
   ]
  },
  {
   "cell_type": "code",
   "execution_count": 96,
   "metadata": {},
   "outputs": [
    {
     "data": {
      "text/html": [
       "<div>\n",
       "<style scoped>\n",
       "    .dataframe tbody tr th:only-of-type {\n",
       "        vertical-align: middle;\n",
       "    }\n",
       "\n",
       "    .dataframe tbody tr th {\n",
       "        vertical-align: top;\n",
       "    }\n",
       "\n",
       "    .dataframe thead th {\n",
       "        text-align: right;\n",
       "    }\n",
       "</style>\n",
       "<table border=\"1\" class=\"dataframe\">\n",
       "  <thead>\n",
       "    <tr style=\"text-align: right;\">\n",
       "      <th></th>\n",
       "      <th>precision</th>\n",
       "      <th>recall</th>\n",
       "    </tr>\n",
       "  </thead>\n",
       "  <tbody>\n",
       "    <tr>\n",
       "      <th>Train_look_k=5</th>\n",
       "      <td>0.21</td>\n",
       "      <td>0.83</td>\n",
       "    </tr>\n",
       "    <tr>\n",
       "      <th>Test_look_k=5</th>\n",
       "      <td>0.2</td>\n",
       "      <td>0.8</td>\n",
       "    </tr>\n",
       "  </tbody>\n",
       "</table>\n",
       "</div>"
      ],
      "text/plain": [
       "               precision recall\n",
       "Train_look_k=5      0.21   0.83\n",
       "Test_look_k=5        0.2    0.8"
      ]
     },
     "execution_count": 96,
     "metadata": {},
     "output_type": "execute_result"
    }
   ],
   "source": [
    "metrics.loc[['Train_look_k=5','Test_look_k=5']]"
   ]
  },
  {
   "cell_type": "code",
   "execution_count": 97,
   "metadata": {},
   "outputs": [
    {
     "data": {
      "text/html": [
       "<div>\n",
       "<style scoped>\n",
       "    .dataframe tbody tr th:only-of-type {\n",
       "        vertical-align: middle;\n",
       "    }\n",
       "\n",
       "    .dataframe tbody tr th {\n",
       "        vertical-align: top;\n",
       "    }\n",
       "\n",
       "    .dataframe thead th {\n",
       "        text-align: right;\n",
       "    }\n",
       "</style>\n",
       "<table border=\"1\" class=\"dataframe\">\n",
       "  <thead>\n",
       "    <tr style=\"text-align: right;\">\n",
       "      <th></th>\n",
       "      <th>precision</th>\n",
       "      <th>recall</th>\n",
       "    </tr>\n",
       "  </thead>\n",
       "  <tbody>\n",
       "    <tr>\n",
       "      <th>Train_purch_k=1</th>\n",
       "      <td>0.79</td>\n",
       "      <td>0.68</td>\n",
       "    </tr>\n",
       "    <tr>\n",
       "      <th>Test_purch_k=1</th>\n",
       "      <td>0.49</td>\n",
       "      <td>0.42</td>\n",
       "    </tr>\n",
       "  </tbody>\n",
       "</table>\n",
       "</div>"
      ],
      "text/plain": [
       "                precision recall\n",
       "Train_purch_k=1      0.79   0.68\n",
       "Test_purch_k=1       0.49   0.42"
      ]
     },
     "execution_count": 97,
     "metadata": {},
     "output_type": "execute_result"
    }
   ],
   "source": [
    "metrics.loc[['Train_purch_k=1','Test_purch_k=1']]"
   ]
  },
  {
   "cell_type": "code",
   "execution_count": 98,
   "metadata": {},
   "outputs": [
    {
     "data": {
      "text/html": [
       "<div>\n",
       "<style scoped>\n",
       "    .dataframe tbody tr th:only-of-type {\n",
       "        vertical-align: middle;\n",
       "    }\n",
       "\n",
       "    .dataframe tbody tr th {\n",
       "        vertical-align: top;\n",
       "    }\n",
       "\n",
       "    .dataframe thead th {\n",
       "        text-align: right;\n",
       "    }\n",
       "</style>\n",
       "<table border=\"1\" class=\"dataframe\">\n",
       "  <thead>\n",
       "    <tr style=\"text-align: right;\">\n",
       "      <th></th>\n",
       "      <th>precision</th>\n",
       "      <th>recall</th>\n",
       "    </tr>\n",
       "  </thead>\n",
       "  <tbody>\n",
       "    <tr>\n",
       "      <th>Train_purch_k=5</th>\n",
       "      <td>0.25</td>\n",
       "      <td>0.93</td>\n",
       "    </tr>\n",
       "    <tr>\n",
       "      <th>Test_purch_k=5</th>\n",
       "      <td>0.20</td>\n",
       "      <td>0.80</td>\n",
       "    </tr>\n",
       "  </tbody>\n",
       "</table>\n",
       "</div>"
      ],
      "text/plain": [
       "                precision recall\n",
       "Train_purch_k=5      0.25   0.93\n",
       "Test_purch_k=5       0.20   0.80"
      ]
     },
     "execution_count": 98,
     "metadata": {},
     "output_type": "execute_result"
    }
   ],
   "source": [
    "metrics.loc[['Train_purch_k=5','Test_purch_k=5']]"
   ]
  },
  {
   "cell_type": "code",
   "execution_count": null,
   "metadata": {},
   "outputs": [],
   "source": []
  }
 ],
 "metadata": {
  "kernelspec": {
   "display_name": "Python 3",
   "language": "python",
   "name": "python3"
  },
  "language_info": {
   "codemirror_mode": {
    "name": "ipython",
    "version": 3
   },
   "file_extension": ".py",
   "mimetype": "text/x-python",
   "name": "python",
   "nbconvert_exporter": "python",
   "pygments_lexer": "ipython3",
   "version": "3.8.5"
  }
 },
 "nbformat": 4,
 "nbformat_minor": 4
}
