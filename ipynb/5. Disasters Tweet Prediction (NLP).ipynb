{
 "cells": [
  {
   "cell_type": "markdown",
   "metadata": {},
   "source": [
    "# Disaster Tweet Prediction"
   ]
  },
  {
   "cell_type": "code",
   "execution_count": null,
   "metadata": {},
   "outputs": [],
   "source": [
    "# Predict whether a given tweet is about a real disaster or not. If so, predict a 1. If not, predict a 0."
   ]
  },
  {
   "cell_type": "code",
   "execution_count": null,
   "metadata": {},
   "outputs": [],
   "source": [
    "# Структура проекта следующая.\n",
    "#\n",
    "# 1. Первичная предобработка текстовых данных (очистка текста от мусорных слов и пунктуации, лемматизация)\n",
    "# 2. Трансформация текста - текстовые данные были переведены в численные тремя способами\n",
    "#  : Bag-of-Words (BOW)\n",
    "#  : TF-IDF\n",
    "#  : Word Embedding\n",
    "# 3. Построение моделей классификации\n",
    "# 3.1 Определение ф-ций для проведения классификации (подбор гиперпараметров по сетке, визуализация, предсказание)\n",
    "# 3.2 Модель Logistic Regression, реализованная для трех представлений текста\n",
    "#     3.2.1 BOW\n",
    "#     3.2.2 TF-IDF\n",
    "#     3.2.3 Word Embedding\n",
    "# 3.3 Модель SVC для представления word embedding\n",
    "# 3.4 Модель DecisionTreeClassifier для представления word embedding\n",
    "# 3.5 Модель SGDClassifier для представления word embedding\n",
    "# 3.6 Модель RandomForestClassifier для представления word embedding\n",
    "# 3.7 Модель XGBClassifier для представления word embedding\n",
    "# \n",
    "# Наиболее хорошо ведет себя представление Word Embedding, а наивысший результат классификации показывают две модели:\n",
    "# Logistic Regression и градиентный бустинг XGB Classifier.\n",
    "# \n",
    "# Таким образом, в п. 3.2.3 было произведено предсказание на данных KAGGLE, в результате чего была достигнута точность ~79%.\n",
    "# Само по себе значение точности невелико, но, учитывая, разнородность представленных текстовых данных из реального твиттера\n",
    "# и, зачастую, противоречивых, подобный результат кажется разумным.\n",
    "# Данное предсказание было загружено также на KAGGLE, результат показан на скриншоте в том же п. 3.2.3."
   ]
  },
  {
   "cell_type": "markdown",
   "metadata": {},
   "source": [
    "# 1. Первичная предобработка текстовых данных"
   ]
  },
  {
   "cell_type": "code",
   "execution_count": 163,
   "metadata": {},
   "outputs": [],
   "source": [
    "import pandas as pd\n",
    "import numpy as np\n",
    "import seaborn as sns\n",
    "\n",
    "import time\n",
    "import warnings\n",
    "\n",
    "from wordcloud import WordCloud,STOPWORDS\n",
    "from nltk.stem import WordNetLemmatizer\n",
    "import string\n",
    "from nltk.corpus import wordnet\n",
    "#nltk.download('wordnet')\n",
    "from nltk import pos_tag\n",
    "#nltk.download('averaged_perceptron_tagger')\n",
    "import spacy\n",
    "#!python -m spacy download en_core_web_lg\n",
    "\n",
    "from sklearn.model_selection import train_test_split,GridSearchCV\n",
    "from sklearn.feature_extraction.text import CountVectorizer, TfidfVectorizer\n",
    "from sklearn.metrics import classification_report,confusion_matrix,accuracy_score,f1_score\n",
    "from sklearn.linear_model import LogisticRegression,SGDClassifier\n",
    "from sklearn.naive_bayes import MultinomialNB\n",
    "from sklearn.svm import SVC\n",
    "from sklearn.tree import DecisionTreeClassifier\n",
    "from sklearn.linear_model import ElasticNet\n",
    "from sklearn.ensemble import RandomForestClassifier\n",
    "\n",
    "import xgboost as xgb\n",
    "\n",
    "from IPython.display import Image"
   ]
  },
  {
   "cell_type": "code",
   "execution_count": 164,
   "metadata": {},
   "outputs": [],
   "source": [
    "data = pd.read_csv('Data/DisasterTweets/train.csv', sep=',', skipinitialspace=True)"
   ]
  },
  {
   "cell_type": "code",
   "execution_count": 247,
   "metadata": {},
   "outputs": [
    {
     "data": {
      "text/html": [
       "<div>\n",
       "<style scoped>\n",
       "    .dataframe tbody tr th:only-of-type {\n",
       "        vertical-align: middle;\n",
       "    }\n",
       "\n",
       "    .dataframe tbody tr th {\n",
       "        vertical-align: top;\n",
       "    }\n",
       "\n",
       "    .dataframe thead th {\n",
       "        text-align: right;\n",
       "    }\n",
       "</style>\n",
       "<table border=\"1\" class=\"dataframe\">\n",
       "  <thead>\n",
       "    <tr style=\"text-align: right;\">\n",
       "      <th></th>\n",
       "      <th>id</th>\n",
       "      <th>keyword</th>\n",
       "      <th>location</th>\n",
       "      <th>text</th>\n",
       "      <th>target</th>\n",
       "    </tr>\n",
       "  </thead>\n",
       "  <tbody>\n",
       "    <tr>\n",
       "      <th>0</th>\n",
       "      <td>1</td>\n",
       "      <td>NaN</td>\n",
       "      <td>NaN</td>\n",
       "      <td>Our Deeds are the Reason of this #earthquake M...</td>\n",
       "      <td>1</td>\n",
       "    </tr>\n",
       "    <tr>\n",
       "      <th>1</th>\n",
       "      <td>4</td>\n",
       "      <td>NaN</td>\n",
       "      <td>NaN</td>\n",
       "      <td>Forest fire near La Ronge Sask. Canada</td>\n",
       "      <td>1</td>\n",
       "    </tr>\n",
       "    <tr>\n",
       "      <th>2</th>\n",
       "      <td>5</td>\n",
       "      <td>NaN</td>\n",
       "      <td>NaN</td>\n",
       "      <td>All residents asked to 'shelter in place' are ...</td>\n",
       "      <td>1</td>\n",
       "    </tr>\n",
       "    <tr>\n",
       "      <th>3</th>\n",
       "      <td>6</td>\n",
       "      <td>NaN</td>\n",
       "      <td>NaN</td>\n",
       "      <td>13,000 people receive #wildfires evacuation or...</td>\n",
       "      <td>1</td>\n",
       "    </tr>\n",
       "    <tr>\n",
       "      <th>4</th>\n",
       "      <td>7</td>\n",
       "      <td>NaN</td>\n",
       "      <td>NaN</td>\n",
       "      <td>Just got sent this photo from Ruby #Alaska as ...</td>\n",
       "      <td>1</td>\n",
       "    </tr>\n",
       "  </tbody>\n",
       "</table>\n",
       "</div>"
      ],
      "text/plain": [
       "   id keyword location                                               text  \\\n",
       "0   1     NaN      NaN  Our Deeds are the Reason of this #earthquake M...   \n",
       "1   4     NaN      NaN             Forest fire near La Ronge Sask. Canada   \n",
       "2   5     NaN      NaN  All residents asked to 'shelter in place' are ...   \n",
       "3   6     NaN      NaN  13,000 people receive #wildfires evacuation or...   \n",
       "4   7     NaN      NaN  Just got sent this photo from Ruby #Alaska as ...   \n",
       "\n",
       "   target  \n",
       "0       1  \n",
       "1       1  \n",
       "2       1  \n",
       "3       1  \n",
       "4       1  "
      ]
     },
     "execution_count": 247,
     "metadata": {},
     "output_type": "execute_result"
    }
   ],
   "source": [
    "data.head()"
   ]
  },
  {
   "cell_type": "code",
   "execution_count": 21,
   "metadata": {},
   "outputs": [
    {
     "data": {
      "text/plain": [
       "(7613, 5)"
      ]
     },
     "execution_count": 21,
     "metadata": {},
     "output_type": "execute_result"
    }
   ],
   "source": [
    "data.shape"
   ]
  },
  {
   "cell_type": "code",
   "execution_count": 18,
   "metadata": {},
   "outputs": [
    {
     "name": "stdout",
     "output_type": "stream",
     "text": [
      "<class 'pandas.core.frame.DataFrame'>\n",
      "RangeIndex: 7613 entries, 0 to 7612\n",
      "Data columns (total 5 columns):\n",
      " #   Column    Non-Null Count  Dtype \n",
      "---  ------    --------------  ----- \n",
      " 0   id        7613 non-null   int64 \n",
      " 1   keyword   7552 non-null   object\n",
      " 2   location  5079 non-null   object\n",
      " 3   text      7613 non-null   object\n",
      " 4   target    7613 non-null   int64 \n",
      "dtypes: int64(2), object(3)\n",
      "memory usage: 297.5+ KB\n"
     ]
    }
   ],
   "source": [
    "data.info()"
   ]
  },
  {
   "cell_type": "code",
   "execution_count": 20,
   "metadata": {},
   "outputs": [
    {
     "data": {
      "text/plain": [
       "[819,\n",
       " 'battle',\n",
       " 'West Richland, WA',\n",
       " '@DetroitPls interested to see who will win this battle',\n",
       " 0]"
      ]
     },
     "execution_count": 20,
     "metadata": {},
     "output_type": "execute_result"
    }
   ],
   "source": [
    "# просто посмотрим на к-либо запись\n",
    "list(data.iloc[567])"
   ]
  },
  {
   "cell_type": "code",
   "execution_count": 165,
   "metadata": {},
   "outputs": [],
   "source": [
    "# Для последующего анализа есть смысл рассматривать лишь поля 'text' и 'target'\n",
    "X = data.text\n",
    "y = data.target"
   ]
  },
  {
   "cell_type": "code",
   "execution_count": 24,
   "metadata": {},
   "outputs": [
    {
     "data": {
      "application/javascript": [
       "\n",
       "        if (window._pyforest_update_imports_cell) { window._pyforest_update_imports_cell('import seaborn as sns'); }\n",
       "    "
      ],
      "text/plain": [
       "<IPython.core.display.Javascript object>"
      ]
     },
     "metadata": {},
     "output_type": "display_data"
    },
    {
     "data": {
      "text/plain": [
       "<AxesSubplot:xlabel='target', ylabel='count'>"
      ]
     },
     "execution_count": 24,
     "metadata": {},
     "output_type": "execute_result"
    },
    {
     "data": {
      "image/png": "[encoded data removed]",
      "text/plain": [
       "<Figure size 432x288 with 1 Axes>"
      ]
     },
     "metadata": {
      "needs_background": "light"
     },
     "output_type": "display_data"
    }
   ],
   "source": [
    "# Посмотрим теперь на распределение целевого признака 'target'\n",
    "warnings.filterwarnings(\"ignore\")\n",
    "sns.countplot(y)"
   ]
  },
  {
   "cell_type": "code",
   "execution_count": null,
   "metadata": {},
   "outputs": [],
   "source": [
    "# Данные не выглядят несбалансированными, так что технологии балансировки опускаем"
   ]
  },
  {
   "cell_type": "code",
   "execution_count": 166,
   "metadata": {},
   "outputs": [],
   "source": [
    "# создаём список незначимых слов и пунктуации\n",
    "stop = set(STOPWORDS)\n",
    "punctuation = list(string.punctuation)\n",
    "stop.update(punctuation)"
   ]
  },
  {
   "cell_type": "code",
   "execution_count": 167,
   "metadata": {},
   "outputs": [],
   "source": [
    "def get_simple_pos(tag):\n",
    "    if tag.startswith('J'):\n",
    "        return wordnet.ADJ\n",
    "    elif tag.startswith('V'):\n",
    "        return wordnet.VERB\n",
    "    elif tag.startswith('N'):\n",
    "        return wordnet.NOUN\n",
    "    elif tag.startswith('R'):\n",
    "        return wordnet.ADV\n",
    "    else:\n",
    "        return wordnet.NOUN"
   ]
  },
  {
   "cell_type": "code",
   "execution_count": 263,
   "metadata": {},
   "outputs": [],
   "source": [
    "# определяем ф-цию для грамотной лемматизации текста\n",
    "lemmatizer = WordNetLemmatizer()\n",
    "def lemmatize_words(text):\n",
    "    final_text = []\n",
    "    for i in text.split():\n",
    "        if i.strip().lower() not in stop:\n",
    "            # определяем синтаксическую и семантическую информацию, банк лингвистических деревьев\n",
    "            # расшифровка всех возможных значений тут: www.ling.upenn.edu/courses/Fall_2003/ling001/penn_treebank_pos.html\n",
    "            pos = pos_tag([i.strip()])\n",
    "            # 2-й пар-р лемматизатора - POS тэг, помогающий улучшить качество лемматизации\n",
    "            word = lemmatizer.lemmatize(i.strip(),get_simple_pos(pos[0][1]))\n",
    "            final_text.append(word.lower())\n",
    "    return \" \".join(final_text)"
   ]
  },
  {
   "cell_type": "code",
   "execution_count": 50,
   "metadata": {},
   "outputs": [
    {
     "data": {
      "text/plain": [
       "[('Deeds', 'NNS')]"
      ]
     },
     "execution_count": 50,
     "metadata": {},
     "output_type": "execute_result"
    }
   ],
   "source": [
    "# пример, как выглядит применение ф-ции 'pos_tag'\n",
    "pos_tag([X.iloc[0].split()[1].strip()])"
   ]
  },
  {
   "cell_type": "code",
   "execution_count": 169,
   "metadata": {},
   "outputs": [],
   "source": [
    "# применяем лемматизацию ко всему набору данных\n",
    "X = X.apply(lemmatize_words)"
   ]
  },
  {
   "cell_type": "markdown",
   "metadata": {},
   "source": [
    "# 2. Трансформация текста"
   ]
  },
  {
   "cell_type": "markdown",
   "metadata": {},
   "source": [
    "### 2.1 Трансформация BOW и TF-IDF"
   ]
  },
  {
   "cell_type": "code",
   "execution_count": null,
   "metadata": {},
   "outputs": [],
   "source": [
    "X_train, X_test, y_train, y_test = train_test_split(X, y, test_size = 0.2 , random_state = 1)"
   ]
  },
  {
   "cell_type": "code",
   "execution_count": 171,
   "metadata": {},
   "outputs": [
    {
     "name": "stdout",
     "output_type": "stream",
     "text": [
      "Словарь состоит из 17747 слов\n",
      "Размер тренировочной выборки: (6090, 17747)\n",
      "Размер тестовой выборки: (1523, 17747)\n"
     ]
    }
   ],
   "source": [
    "# Подход №1. Bag-of-words (м-ца, где элемент i,j: сколько раз каждый токен j встречался в документе i)\n",
    "\n",
    "# Инициализируем модуль CountVectorizer\n",
    "CV = CountVectorizer()\n",
    "# Составляем словарь из X_train\n",
    "CV.fit(X_train)\n",
    "# Размер полученного словаря\n",
    "print(\"Словарь состоит из\",len(CV.vocabulary_),\"слов\")\n",
    "# переводим текстовые данные в числовые\n",
    "X_train_cv = CV.transform(X_train)\n",
    "X_test_cv = CV.transform(X_test)\n",
    "\n",
    "print('Размер тренировочной выборки:',X_train_cv.shape)\n",
    "print('Размер тестовой выборки:',X_test_cv.shape)"
   ]
  },
  {
   "cell_type": "code",
   "execution_count": 74,
   "metadata": {},
   "outputs": [
    {
     "data": {
      "text/plain": [
       "array([ 0,  1,  2,  3,  4,  6,  7,  9, 13], dtype=int64)"
      ]
     },
     "execution_count": 74,
     "metadata": {},
     "output_type": "execute_result"
    }
   ],
   "source": [
    "np.unique(X_train_cv.toarray())"
   ]
  },
  {
   "cell_type": "code",
   "execution_count": 172,
   "metadata": {},
   "outputs": [
    {
     "name": "stdout",
     "output_type": "stream",
     "text": [
      "Словарь состоит из 17747 слов\n",
      "Размер тренировочной выборки: (6090, 17747)\n",
      "Размер тестовой выборки: (1523, 17747)\n"
     ]
    }
   ],
   "source": [
    "# Подход №2. TF-IDF (м-ца, где элемент i,j: отношение числа вхождений токена j в документе i к общему числу слов документа i)\n",
    "\n",
    "# Инициализируем модуль TfidfVectorizer\n",
    "TF = TfidfVectorizer()\n",
    "# Составляем словарь из X_train\n",
    "TF.fit(X_train)\n",
    "# Размер полученного словаря\n",
    "print(\"Словарь состоит из\",len(TF.vocabulary_),\"слов\")\n",
    "# переводим текстовые данные в числовые\n",
    "X_train_tf = TF.transform(X_train)\n",
    "X_test_tf = TF.transform(X_test)\n",
    "\n",
    "print('Размер тренировочной выборки:',X_train_tf.shape)\n",
    "print('Размер тестовой выборки:',X_test_tf.shape)"
   ]
  },
  {
   "cell_type": "markdown",
   "metadata": {},
   "source": [
    "### 2.2 Word Embedding"
   ]
  },
  {
   "cell_type": "code",
   "execution_count": 185,
   "metadata": {},
   "outputs": [],
   "source": [
    "# Need to load the large model (lg) to get the vectors\n",
    "# Есть также малая модель 'en_core_web_sm' и средняя 'en_core_web_md'\n",
    "# gensim - альтернативный питоновский модуль\n",
    "nlp = spacy.load('en_core_web_lg')"
   ]
  },
  {
   "cell_type": "code",
   "execution_count": 186,
   "metadata": {},
   "outputs": [],
   "source": [
    "%%time\n",
    "# combine all the word vectors into a single document vector\n",
    "# by AVERAGING the vectors for each word in the document.\n",
    "# So, the average document vector:\n",
    "with nlp.disable_pipes():\n",
    "    vectors = np.array([nlp(text).vector for text in X])"
   ]
  },
  {
   "cell_type": "code",
   "execution_count": 189,
   "metadata": {},
   "outputs": [
    {
     "data": {
      "text/plain": [
       "(7613, 300)"
      ]
     },
     "execution_count": 189,
     "metadata": {},
     "output_type": "execute_result"
    }
   ],
   "source": [
    "# embedding size (здесь 300) - это просто веса в скрытом слое нейронки, которые\n",
    "# возникают в ходе вычисления вероятностей принадлежности слова к словам словаря\n",
    "# если в документе более одного слова - берутся средние значения для каждого веса \n",
    "vectors.shape"
   ]
  },
  {
   "cell_type": "code",
   "execution_count": 201,
   "metadata": {},
   "outputs": [],
   "source": [
    "X_train_emb, X_test_emb, y_train_emb, y_test_emb = train_test_split(vectors, y, test_size = 0.2 , random_state = 1)"
   ]
  },
  {
   "cell_type": "markdown",
   "metadata": {},
   "source": [
    "# 3. Построение моделей"
   ]
  },
  {
   "cell_type": "markdown",
   "metadata": {},
   "source": [
    "### 3.1 Определение функций"
   ]
  },
  {
   "cell_type": "code",
   "execution_count": 205,
   "metadata": {},
   "outputs": [],
   "source": [
    "# Ф-ЦИЯ ПОДБОРА ГИПЕРПАРАМЕТРОВ МОДЕЛИ\n",
    "\n",
    "# model - модель, которую будем тюнить\n",
    "# tuned_parameters - сетка гиперпараметров, по которым будем осуществлять подбор\n",
    "def best_model(model,tuned_parameters,X_train,y_train,X_test,y_test,score = \"f1\",cv = 0):\n",
    "    print(\"# Tuning hyper-parameters for %s\" % score)\n",
    "    print()\n",
    "    if cv > 0:\n",
    "        clf = GridSearchCV(model, tuned_parameters,n_jobs=-1, scoring='%s' % score, cv=cv)\n",
    "    else:\n",
    "        clf = GridSearchCV(model, tuned_parameters,n_jobs=-1, scoring='%s' % score)\n",
    "    clf.fit(X_train, y_train)\n",
    "\n",
    "    print(\"Best parameters set found on development set:\")\n",
    "    print()\n",
    "    print(clf.best_params_)\n",
    "    print()\n",
    "    print(\"Grid scores on development set:\")\n",
    "    print()\n",
    "    means = clf.cv_results_['mean_test_score']\n",
    "    stds = clf.cv_results_['std_test_score']\n",
    "    for mean, std, params in zip(means, stds, clf.cv_results_['params']):\n",
    "        print(\"%0.3f (+/-%0.03f) for %r\"\n",
    "                  % (mean, std * 2, params))\n",
    "    print()\n",
    "\n",
    "    print(\"Detailed classification report:\")\n",
    "    print()\n",
    "    print(\"The model is trained on the full development set.\")\n",
    "    print(\"The scores are computed on the full evaluation set.\")\n",
    "    print()\n",
    "    y_true, y_pred = y_test, clf.predict(X_test)\n",
    "    print(classification_report(y_true, y_pred))\n",
    "    print()\n",
    "    return clf.best_params_"
   ]
  },
  {
   "cell_type": "code",
   "execution_count": 174,
   "metadata": {},
   "outputs": [],
   "source": [
    "# Ф-ЦИЯ ВИЗУАЛИЗАЦИИ КЛАССИФИКАТОРА\n",
    "\n",
    "# Визуализируем результат работы классификатора - слова, вносящие максимальный вклад\n",
    "def visualize_coefficients(classifier, feature_names,coef = None, n_top_features=30):\n",
    "    # get coefficients with large absolute values\n",
    "    # здесь на вход ф-ции поступит ужи обученный классификатор\n",
    "    if coef is None:\n",
    "        # ravel() преобразует неодномерный np-array в одномерный\n",
    "        coef = classifier.coef_.ravel()\n",
    "    # список индексов отсортированных коэффициентов\n",
    "    positive_coefficients = np.argsort(coef)[-n_top_features:]\n",
    "    negative_coefficients = np.argsort(coef)[:n_top_features]\n",
    "    # Объединяем 2 вышесозданных списка индексов в один список\n",
    "    interesting_coefficients = np.hstack([negative_coefficients, positive_coefficients])\n",
    "    # plot them\n",
    "    plt.figure(figsize=(15, 5))\n",
    "    colors = [\"red\" if c < 0 else \"blue\" for c in coef[interesting_coefficients]]\n",
    "    plt.bar(np.arange(2 * n_top_features), coef[interesting_coefficients], color=colors)\n",
    "    feature_names = np.array(feature_names)\n",
    "    plt.xticks(np.arange(1, 1 + 2 * n_top_features), feature_names[interesting_coefficients], rotation=60, ha=\"right\");"
   ]
  },
  {
   "cell_type": "code",
   "execution_count": 181,
   "metadata": {},
   "outputs": [],
   "source": [
    "# Ф-ЦИЯ ПРЕДСКАЗАНИЯ\n",
    "\n",
    "def fitModel(model,x_train=X_train,y_train=y_train,x_test=X_test,y_test=y_test):\n",
    "    start_time = time.time()\n",
    "    lr = model\n",
    "    lr.fit(x_train, y_train)\n",
    "    fit_time = round(time.time() - start_time,0)\n",
    "    print(\"---time_fit model %s seconds ---\" % (fit_time))\n",
    "    preds = lr.predict(x_test)\n",
    "    accuracy = accuracy_score(y_test, preds)\n",
    "    f1 = f1_score(y_test, preds)\n",
    "    report = classification_report(y_test,preds,target_names = ['0','1'])\n",
    "    \n",
    "    cm_1 = confusion_matrix(y_test,preds)\n",
    "    cm_1 = pd.DataFrame(cm_1, index=[0,1], columns=[0,1])\n",
    "    cm_1.index.name = 'Actual'\n",
    "    cm_1.columns.name = 'Predicted'\n",
    "    plt.figure(figsize = (10,10))\n",
    "    sns.heatmap(cm_1,cmap= \"Blues\",annot = True, fmt='')\n",
    "    return {'model':lr,'f1_score':f1,'accuracy_score':accuracy,'report':report,'time_fit':fit_time}"
   ]
  },
  {
   "cell_type": "markdown",
   "metadata": {},
   "source": [
    "### 3.2 Модель LogisticRegression"
   ]
  },
  {
   "cell_type": "markdown",
   "metadata": {},
   "source": [
    "#### 3.2.1 результаты при трансформации Bag-of-words"
   ]
  },
  {
   "cell_type": "code",
   "execution_count": 176,
   "metadata": {},
   "outputs": [
    {
     "name": "stdout",
     "output_type": "stream",
     "text": [
      "# Tuning hyper-parameters for accuracy\n",
      "\n",
      "Best parameters set found on development set:\n",
      "\n",
      "{'C': 1, 'penalty': 'l2', 'solver': 'newton-cg'}\n",
      "\n",
      "Grid scores on development set:\n",
      "\n",
      "0.791 (+/-0.013) for {'C': 0.1, 'penalty': 'l2', 'solver': 'newton-cg'}\n",
      "0.791 (+/-0.013) for {'C': 0.1, 'penalty': 'l2', 'solver': 'lbfgs'}\n",
      "0.791 (+/-0.013) for {'C': 0.1, 'penalty': 'l2', 'solver': 'liblinear'}\n",
      "0.798 (+/-0.005) for {'C': 1, 'penalty': 'l2', 'solver': 'newton-cg'}\n",
      "0.798 (+/-0.005) for {'C': 1, 'penalty': 'l2', 'solver': 'lbfgs'}\n",
      "0.797 (+/-0.007) for {'C': 1, 'penalty': 'l2', 'solver': 'liblinear'}\n",
      "0.789 (+/-0.016) for {'C': 10, 'penalty': 'l2', 'solver': 'newton-cg'}\n",
      "0.789 (+/-0.017) for {'C': 10, 'penalty': 'l2', 'solver': 'lbfgs'}\n",
      "0.788 (+/-0.016) for {'C': 10, 'penalty': 'l2', 'solver': 'liblinear'}\n",
      "0.782 (+/-0.016) for {'C': 100, 'penalty': 'l2', 'solver': 'newton-cg'}\n",
      "0.781 (+/-0.017) for {'C': 100, 'penalty': 'l2', 'solver': 'lbfgs'}\n",
      "0.782 (+/-0.016) for {'C': 100, 'penalty': 'l2', 'solver': 'liblinear'}\n",
      "0.779 (+/-0.016) for {'C': 1000, 'penalty': 'l2', 'solver': 'newton-cg'}\n",
      "0.776 (+/-0.007) for {'C': 1000, 'penalty': 'l2', 'solver': 'lbfgs'}\n",
      "0.779 (+/-0.015) for {'C': 1000, 'penalty': 'l2', 'solver': 'liblinear'}\n",
      "0.772 (+/-0.010) for {'C': 0.1, 'penalty': 'none', 'solver': 'newton-cg'}\n",
      "0.768 (+/-0.026) for {'C': 0.1, 'penalty': 'none', 'solver': 'lbfgs'}\n",
      "nan (+/-nan) for {'C': 0.1, 'penalty': 'none', 'solver': 'liblinear'}\n",
      "0.772 (+/-0.010) for {'C': 1, 'penalty': 'none', 'solver': 'newton-cg'}\n",
      "0.768 (+/-0.026) for {'C': 1, 'penalty': 'none', 'solver': 'lbfgs'}\n",
      "nan (+/-nan) for {'C': 1, 'penalty': 'none', 'solver': 'liblinear'}\n",
      "0.772 (+/-0.010) for {'C': 10, 'penalty': 'none', 'solver': 'newton-cg'}\n",
      "0.768 (+/-0.026) for {'C': 10, 'penalty': 'none', 'solver': 'lbfgs'}\n",
      "nan (+/-nan) for {'C': 10, 'penalty': 'none', 'solver': 'liblinear'}\n",
      "0.772 (+/-0.010) for {'C': 100, 'penalty': 'none', 'solver': 'newton-cg'}\n",
      "0.768 (+/-0.026) for {'C': 100, 'penalty': 'none', 'solver': 'lbfgs'}\n",
      "nan (+/-nan) for {'C': 100, 'penalty': 'none', 'solver': 'liblinear'}\n",
      "0.772 (+/-0.010) for {'C': 1000, 'penalty': 'none', 'solver': 'newton-cg'}\n",
      "0.768 (+/-0.026) for {'C': 1000, 'penalty': 'none', 'solver': 'lbfgs'}\n",
      "nan (+/-nan) for {'C': 1000, 'penalty': 'none', 'solver': 'liblinear'}\n",
      "\n",
      "Detailed classification report:\n",
      "\n",
      "The model is trained on the full development set.\n",
      "The scores are computed on the full evaluation set.\n",
      "\n",
      "              precision    recall  f1-score   support\n",
      "\n",
      "           0       0.79      0.88      0.83       882\n",
      "           1       0.81      0.68      0.74       641\n",
      "\n",
      "    accuracy                           0.80      1523\n",
      "   macro avg       0.80      0.78      0.79      1523\n",
      "weighted avg       0.80      0.80      0.79      1523\n",
      "\n",
      "\n",
      "Wall time: 53.9 s\n"
     ]
    }
   ],
   "source": [
    "%%time\n",
    "parameters = [{'penalty':['l2'], \"solver\":['newton-cg', 'lbfgs', 'liblinear'],\n",
    "                'C': [0.1, 1, 10, 100, 1000]},\n",
    "              {'penalty':['none'], \"solver\":['newton-cg', 'lbfgs', 'liblinear'],\n",
    "                'C': [0.1, 1, 10, 100, 1000]}]\n",
    "best_params_LR = best_model(LogisticRegression(),parameters,X_train=X_train_cv,\n",
    "                            y_train=y_train,y_test=y_test,X_test=X_test_cv,score = \"accuracy\")"
   ]
  },
  {
   "cell_type": "code",
   "execution_count": 182,
   "metadata": {},
   "outputs": [
    {
     "name": "stdout",
     "output_type": "stream",
     "text": [
      "---time_fit model 0.0 seconds ---\n"
     ]
    },
    {
     "data": {
      "application/javascript": [
       "\n",
       "        if (window._pyforest_update_imports_cell) { window._pyforest_update_imports_cell('from sklearn.model_selection import cross_val_score\\nimport re\\nimport seaborn as sns\\nfrom sklearn.model_selection import train_test_split\\nimport nltk\\nimport matplotlib.pyplot as plt'); }\n",
       "    "
      ],
      "text/plain": [
       "<IPython.core.display.Javascript object>"
      ]
     },
     "metadata": {},
     "output_type": "display_data"
    },
    {
     "data": {
      "application/javascript": [
       "\n",
       "        if (window._pyforest_update_imports_cell) { window._pyforest_update_imports_cell('from sklearn.model_selection import cross_val_score\\nimport re\\nimport seaborn as sns\\nfrom sklearn.model_selection import train_test_split\\nimport nltk\\nimport matplotlib.pyplot as plt'); }\n",
       "    "
      ],
      "text/plain": [
       "<IPython.core.display.Javascript object>"
      ]
     },
     "metadata": {},
     "output_type": "display_data"
    },
    {
     "data": {
      "image/png": "[encoded data removed]",
      "text/plain": [
       "<Figure size 720x720 with 2 Axes>"
      ]
     },
     "metadata": {
      "needs_background": "light"
     },
     "output_type": "display_data"
    }
   ],
   "source": [
    "# Возьмем оптимально подобранные гиперпараметры выше и запустим на них ф-цию предсказания\n",
    "bestmod = fitModel(LogisticRegression(C=best_params_LR['C'],solver = best_params_LR['solver'],penalty=best_params_LR['penalty']),\n",
    "                   x_train=X_train_cv,y_train=y_train,x_test=X_test_cv,y_test=y_test)\n",
    "# bestmod - уже обученная модель\n",
    "#visualize_coefficients(bestmod['model'], CV.get_feature_names())\n",
    "best_params_of_all_models = []\n",
    "best_params_of_all_models.append(bestmod)"
   ]
  },
  {
   "cell_type": "code",
   "execution_count": 183,
   "metadata": {},
   "outputs": [
    {
     "data": {
      "text/plain": [
       "0.7971109652002626"
      ]
     },
     "execution_count": 183,
     "metadata": {},
     "output_type": "execute_result"
    }
   ],
   "source": [
    "best_params_of_all_models[0]['accuracy_score']"
   ]
  },
  {
   "cell_type": "markdown",
   "metadata": {},
   "source": [
    "#### 3.2.2 результаты при трансформации TF-IDF"
   ]
  },
  {
   "cell_type": "code",
   "execution_count": 116,
   "metadata": {},
   "outputs": [
    {
     "name": "stdout",
     "output_type": "stream",
     "text": [
      "# Tuning hyper-parameters for accuracy\n",
      "\n",
      "Best parameters set found on development set:\n",
      "\n",
      "{'C': 10, 'penalty': 'l2', 'solver': 'newton-cg'}\n",
      "\n",
      "Grid scores on development set:\n",
      "\n",
      "0.700 (+/-0.009) for {'C': 0.1, 'penalty': 'l2', 'solver': 'newton-cg'}\n",
      "0.700 (+/-0.009) for {'C': 0.1, 'penalty': 'l2', 'solver': 'lbfgs'}\n",
      "0.701 (+/-0.010) for {'C': 0.1, 'penalty': 'l2', 'solver': 'liblinear'}\n",
      "0.790 (+/-0.010) for {'C': 1, 'penalty': 'l2', 'solver': 'newton-cg'}\n",
      "0.790 (+/-0.010) for {'C': 1, 'penalty': 'l2', 'solver': 'lbfgs'}\n",
      "0.790 (+/-0.010) for {'C': 1, 'penalty': 'l2', 'solver': 'liblinear'}\n",
      "0.795 (+/-0.016) for {'C': 10, 'penalty': 'l2', 'solver': 'newton-cg'}\n",
      "0.795 (+/-0.015) for {'C': 10, 'penalty': 'l2', 'solver': 'lbfgs'}\n",
      "0.795 (+/-0.015) for {'C': 10, 'penalty': 'l2', 'solver': 'liblinear'}\n",
      "0.784 (+/-0.013) for {'C': 100, 'penalty': 'l2', 'solver': 'newton-cg'}\n",
      "0.784 (+/-0.012) for {'C': 100, 'penalty': 'l2', 'solver': 'lbfgs'}\n",
      "0.784 (+/-0.013) for {'C': 100, 'penalty': 'l2', 'solver': 'liblinear'}\n",
      "0.780 (+/-0.013) for {'C': 1000, 'penalty': 'l2', 'solver': 'newton-cg'}\n",
      "0.779 (+/-0.017) for {'C': 1000, 'penalty': 'l2', 'solver': 'lbfgs'}\n",
      "0.780 (+/-0.013) for {'C': 1000, 'penalty': 'l2', 'solver': 'liblinear'}\n",
      "0.773 (+/-0.009) for {'C': 0.1, 'penalty': 'none', 'solver': 'newton-cg'}\n",
      "0.774 (+/-0.022) for {'C': 0.1, 'penalty': 'none', 'solver': 'lbfgs'}\n",
      "nan (+/-nan) for {'C': 0.1, 'penalty': 'none', 'solver': 'liblinear'}\n",
      "0.773 (+/-0.009) for {'C': 1, 'penalty': 'none', 'solver': 'newton-cg'}\n",
      "0.774 (+/-0.022) for {'C': 1, 'penalty': 'none', 'solver': 'lbfgs'}\n",
      "nan (+/-nan) for {'C': 1, 'penalty': 'none', 'solver': 'liblinear'}\n",
      "0.773 (+/-0.009) for {'C': 10, 'penalty': 'none', 'solver': 'newton-cg'}\n",
      "0.774 (+/-0.022) for {'C': 10, 'penalty': 'none', 'solver': 'lbfgs'}\n",
      "nan (+/-nan) for {'C': 10, 'penalty': 'none', 'solver': 'liblinear'}\n",
      "0.773 (+/-0.009) for {'C': 100, 'penalty': 'none', 'solver': 'newton-cg'}\n",
      "0.774 (+/-0.022) for {'C': 100, 'penalty': 'none', 'solver': 'lbfgs'}\n",
      "nan (+/-nan) for {'C': 100, 'penalty': 'none', 'solver': 'liblinear'}\n",
      "0.773 (+/-0.009) for {'C': 1000, 'penalty': 'none', 'solver': 'newton-cg'}\n",
      "0.774 (+/-0.022) for {'C': 1000, 'penalty': 'none', 'solver': 'lbfgs'}\n",
      "nan (+/-nan) for {'C': 1000, 'penalty': 'none', 'solver': 'liblinear'}\n",
      "\n",
      "Detailed classification report:\n",
      "\n",
      "The model is trained on the full development set.\n",
      "The scores are computed on the full evaluation set.\n",
      "\n",
      "              precision    recall  f1-score   support\n",
      "\n",
      "           0       0.81      0.83      0.82       882\n",
      "           1       0.76      0.73      0.74       641\n",
      "\n",
      "    accuracy                           0.79      1523\n",
      "   macro avg       0.78      0.78      0.78      1523\n",
      "weighted avg       0.79      0.79      0.79      1523\n",
      "\n",
      "\n",
      "Wall time: 23.3 s\n"
     ]
    }
   ],
   "source": [
    "%%time\n",
    "parameters = [{'penalty':['l2'], \"solver\":['newton-cg', 'lbfgs', 'liblinear'],\n",
    "                'C': [0.1, 1, 10, 100, 1000]},\n",
    "              {'penalty':['none'], \"solver\":['newton-cg', 'lbfgs', 'liblinear'],\n",
    "                'C': [0.1, 1, 10, 100, 1000]}]\n",
    "best_params_LR = best_model(LogisticRegression(),parameters,X_train=X_train_tf,\n",
    "                            y_train=y_train,y_test=y_test,X_test=X_test_tf,score = \"accuracy\")"
   ]
  },
  {
   "cell_type": "code",
   "execution_count": 117,
   "metadata": {},
   "outputs": [
    {
     "name": "stdout",
     "output_type": "stream",
     "text": [
      "---time_fit model 0.23715591430664062 seconds ---\n"
     ]
    },
    {
     "data": {
      "application/javascript": [
       "\n",
       "        if (window._pyforest_update_imports_cell) { window._pyforest_update_imports_cell('import seaborn as sns\\nimport nltk\\nfrom sklearn.model_selection import train_test_split\\nimport matplotlib.pyplot as plt'); }\n",
       "    "
      ],
      "text/plain": [
       "<IPython.core.display.Javascript object>"
      ]
     },
     "metadata": {},
     "output_type": "display_data"
    },
    {
     "data": {
      "application/javascript": [
       "\n",
       "        if (window._pyforest_update_imports_cell) { window._pyforest_update_imports_cell('import seaborn as sns\\nimport nltk\\nfrom sklearn.model_selection import train_test_split\\nimport matplotlib.pyplot as plt'); }\n",
       "    "
      ],
      "text/plain": [
       "<IPython.core.display.Javascript object>"
      ]
     },
     "metadata": {},
     "output_type": "display_data"
    },
    {
     "data": {
      "application/javascript": [
       "\n",
       "        if (window._pyforest_update_imports_cell) { window._pyforest_update_imports_cell('import seaborn as sns\\nimport nltk\\nfrom sklearn.model_selection import train_test_split\\nimport matplotlib.pyplot as plt'); }\n",
       "    "
      ],
      "text/plain": [
       "<IPython.core.display.Javascript object>"
      ]
     },
     "metadata": {},
     "output_type": "display_data"
    },
    {
     "data": {
      "application/javascript": [
       "\n",
       "        if (window._pyforest_update_imports_cell) { window._pyforest_update_imports_cell('import seaborn as sns\\nimport nltk\\nfrom sklearn.model_selection import train_test_split\\nimport matplotlib.pyplot as plt'); }\n",
       "    "
      ],
      "text/plain": [
       "<IPython.core.display.Javascript object>"
      ]
     },
     "metadata": {},
     "output_type": "display_data"
    },
    {
     "data": {
      "application/javascript": [
       "\n",
       "        if (window._pyforest_update_imports_cell) { window._pyforest_update_imports_cell('import seaborn as sns\\nimport nltk\\nfrom sklearn.model_selection import train_test_split\\nimport matplotlib.pyplot as plt'); }\n",
       "    "
      ],
      "text/plain": [
       "<IPython.core.display.Javascript object>"
      ]
     },
     "metadata": {},
     "output_type": "display_data"
    },
    {
     "data": {
      "image/png": "[encoded data removed]",
      "text/plain": [
       "<Figure size 720x720 with 2 Axes>"
      ]
     },
     "metadata": {
      "needs_background": "light"
     },
     "output_type": "display_data"
    },
    {
     "data": {
      "image/png": "[encoded data removed]",
      "text/plain": [
       "<Figure size 1080x360 with 1 Axes>"
      ]
     },
     "metadata": {
      "needs_background": "light"
     },
     "output_type": "display_data"
    }
   ],
   "source": [
    "# Возьмем оптимально подобранные гиперпараметры выше и запустим на них ф-цию предсказания\n",
    "bestmod = fitModel(LogisticRegression(C=best_params_LR['C'],solver = best_params_LR['solver'],penalty=best_params_LR['penalty']),\n",
    "                   x_train=X_train_tf,y_train=y_train,x_test=X_test_tf,y_test=y_test)\n",
    "# bestmod - уже обученная модель\n",
    "visualize_coefficients(bestmod['model'], CV.get_feature_names())\n",
    "best_params_of_all_models_TF = []\n",
    "best_params_of_all_models_TF.append(bestmod)"
   ]
  },
  {
   "cell_type": "code",
   "execution_count": 118,
   "metadata": {},
   "outputs": [
    {
     "data": {
      "text/plain": [
       "0.7872619829284307"
      ]
     },
     "execution_count": 118,
     "metadata": {},
     "output_type": "execute_result"
    }
   ],
   "source": [
    "best_params_of_all_models_TF[0]['accuracy_score']"
   ]
  },
  {
   "cell_type": "markdown",
   "metadata": {},
   "source": [
    "#### 3.2.3 Результаты трансформации word embedding"
   ]
  },
  {
   "cell_type": "code",
   "execution_count": 254,
   "metadata": {},
   "outputs": [
    {
     "name": "stdout",
     "output_type": "stream",
     "text": [
      "# Tuning hyper-parameters for accuracy\n",
      "\n",
      "Best parameters set found on development set:\n",
      "\n",
      "{'C': 1, 'penalty': 'l2', 'solver': 'liblinear'}\n",
      "\n",
      "Grid scores on development set:\n",
      "\n",
      "0.788 (+/-0.010) for {'C': 0.1, 'penalty': 'l2', 'solver': 'newton-cg'}\n",
      "0.788 (+/-0.010) for {'C': 0.1, 'penalty': 'l2', 'solver': 'lbfgs'}\n",
      "0.787 (+/-0.011) for {'C': 0.1, 'penalty': 'l2', 'solver': 'liblinear'}\n",
      "0.788 (+/-0.011) for {'C': 1, 'penalty': 'l2', 'solver': 'newton-cg'}\n",
      "0.788 (+/-0.011) for {'C': 1, 'penalty': 'l2', 'solver': 'lbfgs'}\n",
      "0.788 (+/-0.011) for {'C': 1, 'penalty': 'l2', 'solver': 'liblinear'}\n",
      "0.783 (+/-0.014) for {'C': 10, 'penalty': 'l2', 'solver': 'newton-cg'}\n",
      "0.783 (+/-0.012) for {'C': 10, 'penalty': 'l2', 'solver': 'lbfgs'}\n",
      "0.783 (+/-0.013) for {'C': 10, 'penalty': 'l2', 'solver': 'liblinear'}\n",
      "0.781 (+/-0.011) for {'C': 100, 'penalty': 'l2', 'solver': 'newton-cg'}\n",
      "0.782 (+/-0.012) for {'C': 100, 'penalty': 'l2', 'solver': 'lbfgs'}\n",
      "0.781 (+/-0.011) for {'C': 100, 'penalty': 'l2', 'solver': 'liblinear'}\n",
      "0.781 (+/-0.012) for {'C': 1000, 'penalty': 'l2', 'solver': 'newton-cg'}\n",
      "0.781 (+/-0.013) for {'C': 1000, 'penalty': 'l2', 'solver': 'lbfgs'}\n",
      "0.781 (+/-0.012) for {'C': 1000, 'penalty': 'l2', 'solver': 'liblinear'}\n",
      "0.781 (+/-0.012) for {'C': 0.1, 'penalty': 'none', 'solver': 'newton-cg'}\n",
      "0.781 (+/-0.012) for {'C': 0.1, 'penalty': 'none', 'solver': 'lbfgs'}\n",
      "nan (+/-nan) for {'C': 0.1, 'penalty': 'none', 'solver': 'liblinear'}\n",
      "0.781 (+/-0.012) for {'C': 1, 'penalty': 'none', 'solver': 'newton-cg'}\n",
      "0.781 (+/-0.012) for {'C': 1, 'penalty': 'none', 'solver': 'lbfgs'}\n",
      "nan (+/-nan) for {'C': 1, 'penalty': 'none', 'solver': 'liblinear'}\n",
      "0.781 (+/-0.012) for {'C': 10, 'penalty': 'none', 'solver': 'newton-cg'}\n",
      "0.781 (+/-0.012) for {'C': 10, 'penalty': 'none', 'solver': 'lbfgs'}\n",
      "nan (+/-nan) for {'C': 10, 'penalty': 'none', 'solver': 'liblinear'}\n",
      "0.781 (+/-0.012) for {'C': 100, 'penalty': 'none', 'solver': 'newton-cg'}\n",
      "0.781 (+/-0.012) for {'C': 100, 'penalty': 'none', 'solver': 'lbfgs'}\n",
      "nan (+/-nan) for {'C': 100, 'penalty': 'none', 'solver': 'liblinear'}\n",
      "0.781 (+/-0.012) for {'C': 1000, 'penalty': 'none', 'solver': 'newton-cg'}\n",
      "0.781 (+/-0.012) for {'C': 1000, 'penalty': 'none', 'solver': 'lbfgs'}\n",
      "nan (+/-nan) for {'C': 1000, 'penalty': 'none', 'solver': 'liblinear'}\n",
      "\n",
      "Detailed classification report:\n",
      "\n",
      "The model is trained on the full development set.\n",
      "The scores are computed on the full evaluation set.\n",
      "\n",
      "              precision    recall  f1-score   support\n",
      "\n",
      "           0       0.80      0.86      0.83       882\n",
      "           1       0.79      0.71      0.75       641\n",
      "\n",
      "    accuracy                           0.80      1523\n",
      "   macro avg       0.80      0.79      0.79      1523\n",
      "weighted avg       0.80      0.80      0.80      1523\n",
      "\n",
      "\n",
      "Wall time: 1min 13s\n"
     ]
    }
   ],
   "source": [
    "%%time\n",
    "parameters = [{'penalty':['l2'], \"solver\":['newton-cg', 'lbfgs', 'liblinear'],\n",
    "                'C': [0.1, 1, 10, 100, 1000]},\n",
    "              {'penalty':['none'], \"solver\":['newton-cg', 'lbfgs', 'liblinear'],\n",
    "                'C': [0.1, 1, 10, 100, 1000]}]\n",
    "best_params_LR = best_model(LogisticRegression(),parameters,X_train=X_train_emb,\n",
    "                            y_train=y_train_emb,y_test=y_test_emb,X_test=X_test_emb,score = \"accuracy\")"
   ]
  },
  {
   "cell_type": "code",
   "execution_count": 255,
   "metadata": {},
   "outputs": [
    {
     "name": "stdout",
     "output_type": "stream",
     "text": [
      "---time_fit model 1.0 seconds ---\n"
     ]
    },
    {
     "data": {
      "application/javascript": [
       "\n",
       "        if (window._pyforest_update_imports_cell) { window._pyforest_update_imports_cell('from sklearn.model_selection import cross_val_score\\nimport re\\nimport seaborn as sns\\nfrom sklearn.model_selection import train_test_split\\nimport nltk\\nimport matplotlib.pyplot as plt'); }\n",
       "    "
      ],
      "text/plain": [
       "<IPython.core.display.Javascript object>"
      ]
     },
     "metadata": {},
     "output_type": "display_data"
    },
    {
     "data": {
      "image/png": "[encoded data removed]",
      "text/plain": [
       "<Figure size 720x720 with 2 Axes>"
      ]
     },
     "metadata": {
      "needs_background": "light"
     },
     "output_type": "display_data"
    }
   ],
   "source": [
    "# Возьмем оптимально подобранные гиперпараметры выше и запустим на них ф-цию предсказания\n",
    "bestmod = fitModel(LogisticRegression(C=best_params_LR['C'],solver = best_params_LR['solver'],penalty=best_params_LR['penalty']),\n",
    "                   x_train=X_train_emb,y_train=y_train_emb,x_test=X_test_emb,y_test=y_test_emb)"
   ]
  },
  {
   "cell_type": "code",
   "execution_count": 211,
   "metadata": {},
   "outputs": [],
   "source": [
    "# Будем использовать эту модель трансформации для оценки последующих моделей\n",
    "best_params_of_all_models = []\n",
    "best_params_of_all_models.append(bestmod)"
   ]
  },
  {
   "cell_type": "code",
   "execution_count": 256,
   "metadata": {},
   "outputs": [
    {
     "data": {
      "text/plain": [
       "0.7493837304847986"
      ]
     },
     "execution_count": 256,
     "metadata": {},
     "output_type": "execute_result"
    }
   ],
   "source": [
    "bestmod['f1_score']"
   ]
  },
  {
   "cell_type": "markdown",
   "metadata": {},
   "source": [
    "#### Сделаем предсказание на выборке KAGGLE"
   ]
  },
  {
   "cell_type": "code",
   "execution_count": 257,
   "metadata": {},
   "outputs": [],
   "source": [
    "df = pd.read_csv('Data/DisasterTweets/test.csv', sep=',', skipinitialspace=True)"
   ]
  },
  {
   "cell_type": "code",
   "execution_count": 259,
   "metadata": {},
   "outputs": [
    {
     "data": {
      "text/html": [
       "<div>\n",
       "<style scoped>\n",
       "    .dataframe tbody tr th:only-of-type {\n",
       "        vertical-align: middle;\n",
       "    }\n",
       "\n",
       "    .dataframe tbody tr th {\n",
       "        vertical-align: top;\n",
       "    }\n",
       "\n",
       "    .dataframe thead th {\n",
       "        text-align: right;\n",
       "    }\n",
       "</style>\n",
       "<table border=\"1\" class=\"dataframe\">\n",
       "  <thead>\n",
       "    <tr style=\"text-align: right;\">\n",
       "      <th></th>\n",
       "      <th>id</th>\n",
       "      <th>keyword</th>\n",
       "      <th>location</th>\n",
       "      <th>text</th>\n",
       "    </tr>\n",
       "  </thead>\n",
       "  <tbody>\n",
       "    <tr>\n",
       "      <th>0</th>\n",
       "      <td>0</td>\n",
       "      <td>NaN</td>\n",
       "      <td>NaN</td>\n",
       "      <td>Just happened a terrible car crash</td>\n",
       "    </tr>\n",
       "    <tr>\n",
       "      <th>1</th>\n",
       "      <td>2</td>\n",
       "      <td>NaN</td>\n",
       "      <td>NaN</td>\n",
       "      <td>Heard about #earthquake is different cities, s...</td>\n",
       "    </tr>\n",
       "  </tbody>\n",
       "</table>\n",
       "</div>"
      ],
      "text/plain": [
       "   id keyword location                                               text\n",
       "0   0     NaN      NaN                 Just happened a terrible car crash\n",
       "1   2     NaN      NaN  Heard about #earthquake is different cities, s..."
      ]
     },
     "execution_count": 259,
     "metadata": {},
     "output_type": "execute_result"
    }
   ],
   "source": [
    "df.head(2)"
   ]
  },
  {
   "cell_type": "code",
   "execution_count": 258,
   "metadata": {},
   "outputs": [
    {
     "data": {
      "text/html": [
       "<div>\n",
       "<style scoped>\n",
       "    .dataframe tbody tr th:only-of-type {\n",
       "        vertical-align: middle;\n",
       "    }\n",
       "\n",
       "    .dataframe tbody tr th {\n",
       "        vertical-align: top;\n",
       "    }\n",
       "\n",
       "    .dataframe thead th {\n",
       "        text-align: right;\n",
       "    }\n",
       "</style>\n",
       "<table border=\"1\" class=\"dataframe\">\n",
       "  <thead>\n",
       "    <tr style=\"text-align: right;\">\n",
       "      <th></th>\n",
       "      <th>id</th>\n",
       "      <th>target</th>\n",
       "    </tr>\n",
       "  </thead>\n",
       "  <tbody>\n",
       "    <tr>\n",
       "      <th>0</th>\n",
       "      <td>0</td>\n",
       "      <td>0</td>\n",
       "    </tr>\n",
       "    <tr>\n",
       "      <th>1</th>\n",
       "      <td>2</td>\n",
       "      <td>0</td>\n",
       "    </tr>\n",
       "  </tbody>\n",
       "</table>\n",
       "</div>"
      ],
      "text/plain": [
       "   id  target\n",
       "0   0       0\n",
       "1   2       0"
      ]
     },
     "execution_count": 258,
     "metadata": {},
     "output_type": "execute_result"
    }
   ],
   "source": [
    "df_sample = pd.read_csv('Data/DisasterTweets/sample_submission.csv', sep=',', skipinitialspace=True)\n",
    "df_sample.head(2)"
   ]
  },
  {
   "cell_type": "code",
   "execution_count": 261,
   "metadata": {},
   "outputs": [
    {
     "name": "stdout",
     "output_type": "stream",
     "text": [
      "Wall time: 37.2 s\n"
     ]
    }
   ],
   "source": [
    "%%time\n",
    "X_for_pred = df.text\n",
    "# применяем лемматизацию\n",
    "X_for_pred = X_for_pred.apply(lemmatize_words)"
   ]
  },
  {
   "cell_type": "code",
   "execution_count": 262,
   "metadata": {},
   "outputs": [
    {
     "data": {
      "text/plain": [
       "0                            happen terrible car crash\n",
       "1    heard #earthquake different cities, stay safe ...\n",
       "2    forest fire spot pond, geese flee across stree...\n",
       "3             apocalypse lighting. #spokane #wildfires\n",
       "4                typhoon soudelor kill 28 china taiwan\n",
       "Name: text, dtype: object"
      ]
     },
     "execution_count": 262,
     "metadata": {},
     "output_type": "execute_result"
    }
   ],
   "source": [
    "X_for_pred.head()"
   ]
  },
  {
   "cell_type": "code",
   "execution_count": 271,
   "metadata": {},
   "outputs": [
    {
     "name": "stdout",
     "output_type": "stream",
     "text": [
      "Wall time: 59.1 s\n"
     ]
    }
   ],
   "source": [
    "%%time\n",
    "# combine all the word vectors into a single document vector\n",
    "# by AVERAGING the vectors for each word in the document.\n",
    "# So, the average document vector:\n",
    "with nlp.disable_pipes():\n",
    "    X_vec = np.array([nlp(text).vector for text in X_for_pred])"
   ]
  },
  {
   "cell_type": "code",
   "execution_count": 272,
   "metadata": {},
   "outputs": [],
   "source": [
    "preds = bestmod['model'].predict(X_vec)"
   ]
  },
  {
   "cell_type": "code",
   "execution_count": 287,
   "metadata": {},
   "outputs": [],
   "source": [
    "pred_final = pd.DataFrame(np.array([df['id'].values, preds]).transpose(),columns=[['id','target']])"
   ]
  },
  {
   "cell_type": "code",
   "execution_count": 288,
   "metadata": {},
   "outputs": [
    {
     "data": {
      "text/html": [
       "<div>\n",
       "<style scoped>\n",
       "    .dataframe tbody tr th:only-of-type {\n",
       "        vertical-align: middle;\n",
       "    }\n",
       "\n",
       "    .dataframe tbody tr th {\n",
       "        vertical-align: top;\n",
       "    }\n",
       "\n",
       "    .dataframe thead tr th {\n",
       "        text-align: left;\n",
       "    }\n",
       "</style>\n",
       "<table border=\"1\" class=\"dataframe\">\n",
       "  <thead>\n",
       "    <tr>\n",
       "      <th></th>\n",
       "      <th>id</th>\n",
       "      <th>target</th>\n",
       "    </tr>\n",
       "  </thead>\n",
       "  <tbody>\n",
       "    <tr>\n",
       "      <th>0</th>\n",
       "      <td>0</td>\n",
       "      <td>1</td>\n",
       "    </tr>\n",
       "    <tr>\n",
       "      <th>1</th>\n",
       "      <td>2</td>\n",
       "      <td>1</td>\n",
       "    </tr>\n",
       "    <tr>\n",
       "      <th>2</th>\n",
       "      <td>3</td>\n",
       "      <td>1</td>\n",
       "    </tr>\n",
       "    <tr>\n",
       "      <th>3</th>\n",
       "      <td>9</td>\n",
       "      <td>1</td>\n",
       "    </tr>\n",
       "    <tr>\n",
       "      <th>4</th>\n",
       "      <td>11</td>\n",
       "      <td>1</td>\n",
       "    </tr>\n",
       "  </tbody>\n",
       "</table>\n",
       "</div>"
      ],
      "text/plain": [
       "   id target\n",
       "0   0      1\n",
       "1   2      1\n",
       "2   3      1\n",
       "3   9      1\n",
       "4  11      1"
      ]
     },
     "execution_count": 288,
     "metadata": {},
     "output_type": "execute_result"
    }
   ],
   "source": [
    "pred_final.head()"
   ]
  },
  {
   "cell_type": "code",
   "execution_count": 289,
   "metadata": {},
   "outputs": [],
   "source": [
    "pred_final.to_csv('Data/DisasterTweets/Pred1.csv',sep=',',header=True,index=False)"
   ]
  },
  {
   "cell_type": "code",
   "execution_count": 293,
   "metadata": {},
   "outputs": [
    {
     "data": {
      "image/png": "[encoded data removed]",
      "text/plain": [
       "<IPython.core.display.Image object>"
      ]
     },
     "execution_count": 293,
     "metadata": {},
     "output_type": "execute_result"
    }
   ],
   "source": [
    "Image(\"Data/DisasterTweets/Kaggle_compet.PNG\")"
   ]
  },
  {
   "cell_type": "markdown",
   "metadata": {},
   "source": [
    "### 3.3 Модель SVC"
   ]
  },
  {
   "cell_type": "code",
   "execution_count": null,
   "metadata": {},
   "outputs": [],
   "source": [
    "%%time\n",
    "parameters = [{'kernel': ['rbf'], 'gamma': [1e-3, 1e-4],'C': [1, 10, 100, 1000]},\n",
    "              {'kernel': ['linear'], 'C': [1, 10, 100, 1000]},\n",
    "              {'kernel': ['poly'], 'gamma': [1e-3, 1e-4],'C': [1, 10, 100, 1000]}]\n",
    "best_params_SVC = best_model(SVC(),parameters,X_train=X_train_emb,\n",
    "                            y_train=y_train_emb,y_test=y_test_emb,X_test=X_test_emb,score = \"accuracy\")"
   ]
  },
  {
   "cell_type": "code",
   "execution_count": null,
   "metadata": {},
   "outputs": [],
   "source": [
    "# Возьмем оптимально подобранные гиперпараметры выше и запустим на них ф-цию предсказания\n",
    "bestmod = fitModel(SVC(C=best_params_SVC['C'],gamma = best_params_SVC['gamma'],kernel=best_params_SVC['kernel']),\n",
    "                   x_train=X_train_emb,y_train=y_train_emb,x_test=X_test_emb,y_test=y_test_emb)\n",
    "\n",
    "best_params_of_all_models.append(bestmod)"
   ]
  },
  {
   "cell_type": "code",
   "execution_count": null,
   "metadata": {},
   "outputs": [],
   "source": [
    "bestmod['accuracy_score']"
   ]
  },
  {
   "cell_type": "markdown",
   "metadata": {},
   "source": [
    "### 3.4 Модель DecisionTreeClassifier"
   ]
  },
  {
   "cell_type": "code",
   "execution_count": 220,
   "metadata": {},
   "outputs": [
    {
     "name": "stdout",
     "output_type": "stream",
     "text": [
      "# Tuning hyper-parameters for accuracy\n",
      "\n",
      "Best parameters set found on development set:\n",
      "\n",
      "{'class_weight': None, 'criterion': 'entropy', 'max_depth': 50, 'max_features': None, 'splitter': 'random'}\n",
      "\n",
      "Grid scores on development set:\n",
      "\n",
      "0.685 (+/-0.017) for {'class_weight': 'balanced', 'criterion': 'gini', 'max_depth': 20, 'max_features': None, 'splitter': 'best'}\n",
      "0.676 (+/-0.020) for {'class_weight': 'balanced', 'criterion': 'gini', 'max_depth': 20, 'max_features': None, 'splitter': 'random'}\n",
      "0.670 (+/-0.011) for {'class_weight': 'balanced', 'criterion': 'gini', 'max_depth': 20, 'max_features': 'auto', 'splitter': 'best'}\n",
      "0.650 (+/-0.038) for {'class_weight': 'balanced', 'criterion': 'gini', 'max_depth': 20, 'max_features': 'auto', 'splitter': 'random'}\n",
      "0.685 (+/-0.017) for {'class_weight': 'balanced', 'criterion': 'gini', 'max_depth': 30, 'max_features': None, 'splitter': 'best'}\n",
      "0.679 (+/-0.020) for {'class_weight': 'balanced', 'criterion': 'gini', 'max_depth': 30, 'max_features': None, 'splitter': 'random'}\n",
      "0.678 (+/-0.027) for {'class_weight': 'balanced', 'criterion': 'gini', 'max_depth': 30, 'max_features': 'auto', 'splitter': 'best'}\n",
      "0.653 (+/-0.020) for {'class_weight': 'balanced', 'criterion': 'gini', 'max_depth': 30, 'max_features': 'auto', 'splitter': 'random'}\n",
      "0.680 (+/-0.021) for {'class_weight': 'balanced', 'criterion': 'gini', 'max_depth': 40, 'max_features': None, 'splitter': 'best'}\n",
      "0.681 (+/-0.035) for {'class_weight': 'balanced', 'criterion': 'gini', 'max_depth': 40, 'max_features': None, 'splitter': 'random'}\n",
      "0.664 (+/-0.012) for {'class_weight': 'balanced', 'criterion': 'gini', 'max_depth': 40, 'max_features': 'auto', 'splitter': 'best'}\n",
      "0.656 (+/-0.010) for {'class_weight': 'balanced', 'criterion': 'gini', 'max_depth': 40, 'max_features': 'auto', 'splitter': 'random'}\n",
      "0.677 (+/-0.012) for {'class_weight': 'balanced', 'criterion': 'gini', 'max_depth': 50, 'max_features': None, 'splitter': 'best'}\n",
      "0.662 (+/-0.028) for {'class_weight': 'balanced', 'criterion': 'gini', 'max_depth': 50, 'max_features': None, 'splitter': 'random'}\n",
      "0.669 (+/-0.027) for {'class_weight': 'balanced', 'criterion': 'gini', 'max_depth': 50, 'max_features': 'auto', 'splitter': 'best'}\n",
      "0.650 (+/-0.010) for {'class_weight': 'balanced', 'criterion': 'gini', 'max_depth': 50, 'max_features': 'auto', 'splitter': 'random'}\n",
      "0.681 (+/-0.003) for {'class_weight': 'balanced', 'criterion': 'gini', 'max_depth': 80, 'max_features': None, 'splitter': 'best'}\n",
      "0.679 (+/-0.027) for {'class_weight': 'balanced', 'criterion': 'gini', 'max_depth': 80, 'max_features': None, 'splitter': 'random'}\n",
      "0.673 (+/-0.019) for {'class_weight': 'balanced', 'criterion': 'gini', 'max_depth': 80, 'max_features': 'auto', 'splitter': 'best'}\n",
      "0.651 (+/-0.014) for {'class_weight': 'balanced', 'criterion': 'gini', 'max_depth': 80, 'max_features': 'auto', 'splitter': 'random'}\n",
      "0.684 (+/-0.026) for {'class_weight': 'balanced', 'criterion': 'entropy', 'max_depth': 20, 'max_features': None, 'splitter': 'best'}\n",
      "0.679 (+/-0.029) for {'class_weight': 'balanced', 'criterion': 'entropy', 'max_depth': 20, 'max_features': None, 'splitter': 'random'}\n",
      "0.681 (+/-0.022) for {'class_weight': 'balanced', 'criterion': 'entropy', 'max_depth': 20, 'max_features': 'auto', 'splitter': 'best'}\n",
      "0.663 (+/-0.025) for {'class_weight': 'balanced', 'criterion': 'entropy', 'max_depth': 20, 'max_features': 'auto', 'splitter': 'random'}\n",
      "0.686 (+/-0.032) for {'class_weight': 'balanced', 'criterion': 'entropy', 'max_depth': 30, 'max_features': None, 'splitter': 'best'}\n",
      "0.678 (+/-0.027) for {'class_weight': 'balanced', 'criterion': 'entropy', 'max_depth': 30, 'max_features': None, 'splitter': 'random'}\n",
      "0.679 (+/-0.037) for {'class_weight': 'balanced', 'criterion': 'entropy', 'max_depth': 30, 'max_features': 'auto', 'splitter': 'best'}\n",
      "0.656 (+/-0.024) for {'class_weight': 'balanced', 'criterion': 'entropy', 'max_depth': 30, 'max_features': 'auto', 'splitter': 'random'}\n",
      "0.691 (+/-0.027) for {'class_weight': 'balanced', 'criterion': 'entropy', 'max_depth': 40, 'max_features': None, 'splitter': 'best'}\n",
      "0.678 (+/-0.011) for {'class_weight': 'balanced', 'criterion': 'entropy', 'max_depth': 40, 'max_features': None, 'splitter': 'random'}\n",
      "0.674 (+/-0.035) for {'class_weight': 'balanced', 'criterion': 'entropy', 'max_depth': 40, 'max_features': 'auto', 'splitter': 'best'}\n",
      "0.647 (+/-0.017) for {'class_weight': 'balanced', 'criterion': 'entropy', 'max_depth': 40, 'max_features': 'auto', 'splitter': 'random'}\n",
      "0.685 (+/-0.023) for {'class_weight': 'balanced', 'criterion': 'entropy', 'max_depth': 50, 'max_features': None, 'splitter': 'best'}\n",
      "0.678 (+/-0.027) for {'class_weight': 'balanced', 'criterion': 'entropy', 'max_depth': 50, 'max_features': None, 'splitter': 'random'}\n",
      "0.672 (+/-0.017) for {'class_weight': 'balanced', 'criterion': 'entropy', 'max_depth': 50, 'max_features': 'auto', 'splitter': 'best'}\n",
      "0.668 (+/-0.019) for {'class_weight': 'balanced', 'criterion': 'entropy', 'max_depth': 50, 'max_features': 'auto', 'splitter': 'random'}\n",
      "0.691 (+/-0.020) for {'class_weight': 'balanced', 'criterion': 'entropy', 'max_depth': 80, 'max_features': None, 'splitter': 'best'}\n",
      "0.677 (+/-0.023) for {'class_weight': 'balanced', 'criterion': 'entropy', 'max_depth': 80, 'max_features': None, 'splitter': 'random'}\n",
      "0.670 (+/-0.019) for {'class_weight': 'balanced', 'criterion': 'entropy', 'max_depth': 80, 'max_features': 'auto', 'splitter': 'best'}\n",
      "0.660 (+/-0.020) for {'class_weight': 'balanced', 'criterion': 'entropy', 'max_depth': 80, 'max_features': 'auto', 'splitter': 'random'}\n",
      "0.685 (+/-0.023) for {'class_weight': None, 'criterion': 'gini', 'max_depth': 20, 'max_features': None, 'splitter': 'best'}\n",
      "0.665 (+/-0.020) for {'class_weight': None, 'criterion': 'gini', 'max_depth': 20, 'max_features': None, 'splitter': 'random'}\n",
      "0.670 (+/-0.025) for {'class_weight': None, 'criterion': 'gini', 'max_depth': 20, 'max_features': 'auto', 'splitter': 'best'}\n",
      "0.654 (+/-0.023) for {'class_weight': None, 'criterion': 'gini', 'max_depth': 20, 'max_features': 'auto', 'splitter': 'random'}\n",
      "0.678 (+/-0.022) for {'class_weight': None, 'criterion': 'gini', 'max_depth': 30, 'max_features': None, 'splitter': 'best'}\n",
      "0.676 (+/-0.025) for {'class_weight': None, 'criterion': 'gini', 'max_depth': 30, 'max_features': None, 'splitter': 'random'}\n",
      "0.666 (+/-0.024) for {'class_weight': None, 'criterion': 'gini', 'max_depth': 30, 'max_features': 'auto', 'splitter': 'best'}\n",
      "0.644 (+/-0.020) for {'class_weight': None, 'criterion': 'gini', 'max_depth': 30, 'max_features': 'auto', 'splitter': 'random'}\n",
      "0.676 (+/-0.033) for {'class_weight': None, 'criterion': 'gini', 'max_depth': 40, 'max_features': None, 'splitter': 'best'}\n",
      "0.673 (+/-0.022) for {'class_weight': None, 'criterion': 'gini', 'max_depth': 40, 'max_features': None, 'splitter': 'random'}\n",
      "0.673 (+/-0.017) for {'class_weight': None, 'criterion': 'gini', 'max_depth': 40, 'max_features': 'auto', 'splitter': 'best'}\n",
      "0.661 (+/-0.043) for {'class_weight': None, 'criterion': 'gini', 'max_depth': 40, 'max_features': 'auto', 'splitter': 'random'}\n",
      "0.677 (+/-0.016) for {'class_weight': None, 'criterion': 'gini', 'max_depth': 50, 'max_features': None, 'splitter': 'best'}\n",
      "0.670 (+/-0.022) for {'class_weight': None, 'criterion': 'gini', 'max_depth': 50, 'max_features': None, 'splitter': 'random'}\n",
      "0.667 (+/-0.033) for {'class_weight': None, 'criterion': 'gini', 'max_depth': 50, 'max_features': 'auto', 'splitter': 'best'}\n",
      "0.648 (+/-0.008) for {'class_weight': None, 'criterion': 'gini', 'max_depth': 50, 'max_features': 'auto', 'splitter': 'random'}\n",
      "0.682 (+/-0.028) for {'class_weight': None, 'criterion': 'gini', 'max_depth': 80, 'max_features': None, 'splitter': 'best'}\n",
      "0.673 (+/-0.037) for {'class_weight': None, 'criterion': 'gini', 'max_depth': 80, 'max_features': None, 'splitter': 'random'}\n",
      "0.674 (+/-0.018) for {'class_weight': None, 'criterion': 'gini', 'max_depth': 80, 'max_features': 'auto', 'splitter': 'best'}\n",
      "0.654 (+/-0.030) for {'class_weight': None, 'criterion': 'gini', 'max_depth': 80, 'max_features': 'auto', 'splitter': 'random'}\n",
      "0.688 (+/-0.014) for {'class_weight': None, 'criterion': 'entropy', 'max_depth': 20, 'max_features': None, 'splitter': 'best'}\n",
      "0.675 (+/-0.017) for {'class_weight': None, 'criterion': 'entropy', 'max_depth': 20, 'max_features': None, 'splitter': 'random'}\n",
      "0.665 (+/-0.027) for {'class_weight': None, 'criterion': 'entropy', 'max_depth': 20, 'max_features': 'auto', 'splitter': 'best'}\n",
      "0.660 (+/-0.013) for {'class_weight': None, 'criterion': 'entropy', 'max_depth': 20, 'max_features': 'auto', 'splitter': 'random'}\n",
      "0.687 (+/-0.023) for {'class_weight': None, 'criterion': 'entropy', 'max_depth': 30, 'max_features': None, 'splitter': 'best'}\n",
      "0.680 (+/-0.018) for {'class_weight': None, 'criterion': 'entropy', 'max_depth': 30, 'max_features': None, 'splitter': 'random'}\n",
      "0.678 (+/-0.017) for {'class_weight': None, 'criterion': 'entropy', 'max_depth': 30, 'max_features': 'auto', 'splitter': 'best'}\n",
      "0.653 (+/-0.029) for {'class_weight': None, 'criterion': 'entropy', 'max_depth': 30, 'max_features': 'auto', 'splitter': 'random'}\n",
      "0.686 (+/-0.023) for {'class_weight': None, 'criterion': 'entropy', 'max_depth': 40, 'max_features': None, 'splitter': 'best'}\n",
      "0.676 (+/-0.023) for {'class_weight': None, 'criterion': 'entropy', 'max_depth': 40, 'max_features': None, 'splitter': 'random'}\n",
      "0.675 (+/-0.015) for {'class_weight': None, 'criterion': 'entropy', 'max_depth': 40, 'max_features': 'auto', 'splitter': 'best'}\n",
      "0.657 (+/-0.021) for {'class_weight': None, 'criterion': 'entropy', 'max_depth': 40, 'max_features': 'auto', 'splitter': 'random'}\n",
      "0.685 (+/-0.021) for {'class_weight': None, 'criterion': 'entropy', 'max_depth': 50, 'max_features': None, 'splitter': 'best'}\n",
      "0.695 (+/-0.014) for {'class_weight': None, 'criterion': 'entropy', 'max_depth': 50, 'max_features': None, 'splitter': 'random'}\n",
      "0.665 (+/-0.017) for {'class_weight': None, 'criterion': 'entropy', 'max_depth': 50, 'max_features': 'auto', 'splitter': 'best'}\n",
      "0.653 (+/-0.011) for {'class_weight': None, 'criterion': 'entropy', 'max_depth': 50, 'max_features': 'auto', 'splitter': 'random'}\n",
      "0.685 (+/-0.024) for {'class_weight': None, 'criterion': 'entropy', 'max_depth': 80, 'max_features': None, 'splitter': 'best'}\n",
      "0.668 (+/-0.019) for {'class_weight': None, 'criterion': 'entropy', 'max_depth': 80, 'max_features': None, 'splitter': 'random'}\n",
      "0.682 (+/-0.018) for {'class_weight': None, 'criterion': 'entropy', 'max_depth': 80, 'max_features': 'auto', 'splitter': 'best'}\n",
      "0.664 (+/-0.015) for {'class_weight': None, 'criterion': 'entropy', 'max_depth': 80, 'max_features': 'auto', 'splitter': 'random'}\n",
      "\n",
      "Detailed classification report:\n",
      "\n",
      "The model is trained on the full development set.\n",
      "The scores are computed on the full evaluation set.\n",
      "\n",
      "              precision    recall  f1-score   support\n",
      "\n",
      "           0       0.72      0.71      0.71       882\n",
      "           1       0.61      0.62      0.61       641\n",
      "\n",
      "    accuracy                           0.67      1523\n",
      "   macro avg       0.66      0.66      0.66      1523\n",
      "weighted avg       0.67      0.67      0.67      1523\n",
      "\n",
      "\n",
      "Wall time: 3min 16s\n"
     ]
    }
   ],
   "source": [
    "%%time\n",
    "parameters = [{'criterion':['gini', 'entropy'],'splitter':['best', 'random'],'max_depth':[20,30,40,50,80],\n",
    "               'max_features':[None,'auto'],'class_weight':['balanced',None]}]\n",
    "best_params_DTC = best_model(DecisionTreeClassifier(),parameters,X_train=X_train_emb,\n",
    "                            y_train=y_train_emb,y_test=y_test_emb,X_test=X_test_emb,score = \"accuracy\")"
   ]
  },
  {
   "cell_type": "code",
   "execution_count": 222,
   "metadata": {},
   "outputs": [
    {
     "name": "stdout",
     "output_type": "stream",
     "text": [
      "---time_fit model 1.0 seconds ---\n"
     ]
    },
    {
     "data": {
      "application/javascript": [
       "\n",
       "        if (window._pyforest_update_imports_cell) { window._pyforest_update_imports_cell('from sklearn.model_selection import cross_val_score\\nimport re\\nimport seaborn as sns\\nfrom sklearn.model_selection import train_test_split\\nimport nltk\\nimport matplotlib.pyplot as plt'); }\n",
       "    "
      ],
      "text/plain": [
       "<IPython.core.display.Javascript object>"
      ]
     },
     "metadata": {},
     "output_type": "display_data"
    },
    {
     "data": {
      "application/javascript": [
       "\n",
       "        if (window._pyforest_update_imports_cell) { window._pyforest_update_imports_cell('from sklearn.model_selection import cross_val_score\\nimport re\\nimport seaborn as sns\\nfrom sklearn.model_selection import train_test_split\\nimport nltk\\nimport matplotlib.pyplot as plt'); }\n",
       "    "
      ],
      "text/plain": [
       "<IPython.core.display.Javascript object>"
      ]
     },
     "metadata": {},
     "output_type": "display_data"
    },
    {
     "data": {
      "image/png": "[encoded data removed]",
      "text/plain": [
       "<Figure size 720x720 with 2 Axes>"
      ]
     },
     "metadata": {
      "needs_background": "light"
     },
     "output_type": "display_data"
    }
   ],
   "source": [
    "# Возьмем оптимально подобранные гиперпараметры выше и запустим на них ф-цию предсказания\n",
    "bestmod = fitModel(DecisionTreeClassifier(criterion=best_params_DTC['criterion'],splitter=best_params_DTC['splitter'],\n",
    "                                        max_depth=best_params_DTC['max_depth'],max_features=best_params_DTC['max_features'],\n",
    "                                        class_weight=best_params_DTC['class_weight']),\n",
    "                   x_train=X_train_emb,y_train=y_train_emb,x_test=X_test_emb,y_test=y_test_emb)\n",
    "\n",
    "best_params_of_all_models.append(bestmod)"
   ]
  },
  {
   "cell_type": "code",
   "execution_count": 223,
   "metadata": {},
   "outputs": [
    {
     "data": {
      "text/plain": [
       "0.6749835850295469"
      ]
     },
     "execution_count": 223,
     "metadata": {},
     "output_type": "execute_result"
    }
   ],
   "source": [
    "bestmod['accuracy_score']"
   ]
  },
  {
   "cell_type": "markdown",
   "metadata": {},
   "source": [
    "### 3.5 Модель SGDClassifier"
   ]
  },
  {
   "cell_type": "code",
   "execution_count": 224,
   "metadata": {},
   "outputs": [
    {
     "name": "stdout",
     "output_type": "stream",
     "text": [
      "# Tuning hyper-parameters for accuracy\n",
      "\n",
      "Best parameters set found on development set:\n",
      "\n",
      "{'loss': 'log', 'max_iter': 1000, 'tol': 0.0001}\n",
      "\n",
      "Grid scores on development set:\n",
      "\n",
      "0.782 (+/-0.026) for {'loss': 'hinge', 'max_iter': 100, 'tol': 0.001}\n",
      "0.771 (+/-0.029) for {'loss': 'hinge', 'max_iter': 100, 'tol': 0.01}\n",
      "0.774 (+/-0.035) for {'loss': 'hinge', 'max_iter': 100, 'tol': 0.0001}\n",
      "0.773 (+/-0.021) for {'loss': 'hinge', 'max_iter': 1000, 'tol': 0.001}\n",
      "0.768 (+/-0.027) for {'loss': 'hinge', 'max_iter': 1000, 'tol': 0.01}\n",
      "0.777 (+/-0.023) for {'loss': 'hinge', 'max_iter': 1000, 'tol': 0.0001}\n",
      "0.781 (+/-0.010) for {'loss': 'hinge', 'max_iter': 2000, 'tol': 0.001}\n",
      "0.772 (+/-0.027) for {'loss': 'hinge', 'max_iter': 2000, 'tol': 0.01}\n",
      "0.784 (+/-0.014) for {'loss': 'hinge', 'max_iter': 2000, 'tol': 0.0001}\n",
      "0.776 (+/-0.023) for {'loss': 'log', 'max_iter': 100, 'tol': 0.001}\n",
      "0.765 (+/-0.033) for {'loss': 'log', 'max_iter': 100, 'tol': 0.01}\n",
      "0.783 (+/-0.008) for {'loss': 'log', 'max_iter': 100, 'tol': 0.0001}\n",
      "0.783 (+/-0.019) for {'loss': 'log', 'max_iter': 1000, 'tol': 0.001}\n",
      "0.765 (+/-0.026) for {'loss': 'log', 'max_iter': 1000, 'tol': 0.01}\n",
      "0.787 (+/-0.013) for {'loss': 'log', 'max_iter': 1000, 'tol': 0.0001}\n",
      "0.776 (+/-0.017) for {'loss': 'log', 'max_iter': 2000, 'tol': 0.001}\n",
      "0.746 (+/-0.097) for {'loss': 'log', 'max_iter': 2000, 'tol': 0.01}\n",
      "0.782 (+/-0.009) for {'loss': 'log', 'max_iter': 2000, 'tol': 0.0001}\n",
      "0.762 (+/-0.038) for {'loss': 'modified_huber', 'max_iter': 100, 'tol': 0.001}\n",
      "0.753 (+/-0.042) for {'loss': 'modified_huber', 'max_iter': 100, 'tol': 0.01}\n",
      "0.733 (+/-0.140) for {'loss': 'modified_huber', 'max_iter': 100, 'tol': 0.0001}\n",
      "0.743 (+/-0.041) for {'loss': 'modified_huber', 'max_iter': 1000, 'tol': 0.001}\n",
      "0.756 (+/-0.024) for {'loss': 'modified_huber', 'max_iter': 1000, 'tol': 0.01}\n",
      "0.768 (+/-0.009) for {'loss': 'modified_huber', 'max_iter': 1000, 'tol': 0.0001}\n",
      "0.765 (+/-0.029) for {'loss': 'modified_huber', 'max_iter': 2000, 'tol': 0.001}\n",
      "0.733 (+/-0.149) for {'loss': 'modified_huber', 'max_iter': 2000, 'tol': 0.01}\n",
      "0.750 (+/-0.021) for {'loss': 'modified_huber', 'max_iter': 2000, 'tol': 0.0001}\n",
      "0.672 (+/-0.036) for {'loss': 'squared_hinge', 'max_iter': 100, 'tol': 0.001}\n",
      "0.668 (+/-0.043) for {'loss': 'squared_hinge', 'max_iter': 100, 'tol': 0.01}\n",
      "0.682 (+/-0.031) for {'loss': 'squared_hinge', 'max_iter': 100, 'tol': 0.0001}\n",
      "0.674 (+/-0.008) for {'loss': 'squared_hinge', 'max_iter': 1000, 'tol': 0.001}\n",
      "0.678 (+/-0.008) for {'loss': 'squared_hinge', 'max_iter': 1000, 'tol': 0.01}\n",
      "0.679 (+/-0.028) for {'loss': 'squared_hinge', 'max_iter': 1000, 'tol': 0.0001}\n",
      "0.678 (+/-0.015) for {'loss': 'squared_hinge', 'max_iter': 2000, 'tol': 0.001}\n",
      "0.678 (+/-0.013) for {'loss': 'squared_hinge', 'max_iter': 2000, 'tol': 0.01}\n",
      "0.675 (+/-0.015) for {'loss': 'squared_hinge', 'max_iter': 2000, 'tol': 0.0001}\n",
      "0.709 (+/-0.107) for {'loss': 'perceptron', 'max_iter': 100, 'tol': 0.001}\n",
      "0.750 (+/-0.025) for {'loss': 'perceptron', 'max_iter': 100, 'tol': 0.01}\n",
      "0.657 (+/-0.179) for {'loss': 'perceptron', 'max_iter': 100, 'tol': 0.0001}\n",
      "0.711 (+/-0.082) for {'loss': 'perceptron', 'max_iter': 1000, 'tol': 0.001}\n",
      "0.695 (+/-0.109) for {'loss': 'perceptron', 'max_iter': 1000, 'tol': 0.01}\n",
      "0.720 (+/-0.045) for {'loss': 'perceptron', 'max_iter': 1000, 'tol': 0.0001}\n",
      "0.711 (+/-0.078) for {'loss': 'perceptron', 'max_iter': 2000, 'tol': 0.001}\n",
      "0.718 (+/-0.076) for {'loss': 'perceptron', 'max_iter': 2000, 'tol': 0.01}\n",
      "0.722 (+/-0.072) for {'loss': 'perceptron', 'max_iter': 2000, 'tol': 0.0001}\n",
      "\n",
      "Detailed classification report:\n",
      "\n",
      "The model is trained on the full development set.\n",
      "The scores are computed on the full evaluation set.\n",
      "\n",
      "              precision    recall  f1-score   support\n",
      "\n",
      "           0       0.79      0.88      0.83       882\n",
      "           1       0.80      0.68      0.74       641\n",
      "\n",
      "    accuracy                           0.79      1523\n",
      "   macro avg       0.80      0.78      0.78      1523\n",
      "weighted avg       0.79      0.79      0.79      1523\n",
      "\n",
      "\n",
      "Wall time: 2min 12s\n"
     ]
    }
   ],
   "source": [
    "%%time\n",
    "parameters = [{'loss' : ['hinge', 'log', 'modified_huber', 'squared_hinge', 'perceptron'],\n",
    "               'max_iter' : [100,1000,2000],'tol':[10**(-3),10**(-2),10**(-4)]}]\n",
    "best_params_SGD = best_model(SGDClassifier(),parameters,X_train=X_train_emb,\n",
    "                            y_train=y_train_emb,y_test=y_test_emb,X_test=X_test_emb,score = \"accuracy\")"
   ]
  },
  {
   "cell_type": "code",
   "execution_count": 225,
   "metadata": {},
   "outputs": [
    {
     "name": "stdout",
     "output_type": "stream",
     "text": [
      "---time_fit model 1.0 seconds ---\n"
     ]
    },
    {
     "data": {
      "application/javascript": [
       "\n",
       "        if (window._pyforest_update_imports_cell) { window._pyforest_update_imports_cell('from sklearn.model_selection import cross_val_score\\nimport re\\nimport seaborn as sns\\nfrom sklearn.model_selection import train_test_split\\nimport nltk\\nimport matplotlib.pyplot as plt'); }\n",
       "    "
      ],
      "text/plain": [
       "<IPython.core.display.Javascript object>"
      ]
     },
     "metadata": {},
     "output_type": "display_data"
    },
    {
     "data": {
      "application/javascript": [
       "\n",
       "        if (window._pyforest_update_imports_cell) { window._pyforest_update_imports_cell('from sklearn.model_selection import cross_val_score\\nimport re\\nimport seaborn as sns\\nfrom sklearn.model_selection import train_test_split\\nimport nltk\\nimport matplotlib.pyplot as plt'); }\n",
       "    "
      ],
      "text/plain": [
       "<IPython.core.display.Javascript object>"
      ]
     },
     "metadata": {},
     "output_type": "display_data"
    },
    {
     "data": {
      "image/png": "[encoded data removed]",
      "text/plain": [
       "<Figure size 720x720 with 2 Axes>"
      ]
     },
     "metadata": {
      "needs_background": "light"
     },
     "output_type": "display_data"
    }
   ],
   "source": [
    "# Возьмем оптимально подобранные гиперпараметры выше и запустим на них ф-цию предсказания\n",
    "bestmod = fitModel(SGDClassifier(loss=best_params_SGD['loss'],max_iter=best_params_SGD['max_iter'],tol=best_params_SGD['tol']),\n",
    "                   x_train=X_train_emb,y_train=y_train_emb,x_test=X_test_emb,y_test=y_test_emb)\n",
    "\n",
    "best_params_of_all_models.append(bestmod)"
   ]
  },
  {
   "cell_type": "code",
   "execution_count": 226,
   "metadata": {},
   "outputs": [
    {
     "data": {
      "text/plain": [
       "0.7951411687458962"
      ]
     },
     "execution_count": 226,
     "metadata": {},
     "output_type": "execute_result"
    }
   ],
   "source": [
    "bestmod['accuracy_score']"
   ]
  },
  {
   "cell_type": "markdown",
   "metadata": {},
   "source": [
    "### 3.6 Модель RandomForestClassifier"
   ]
  },
  {
   "cell_type": "code",
   "execution_count": 229,
   "metadata": {},
   "outputs": [
    {
     "name": "stdout",
     "output_type": "stream",
     "text": [
      "---time_fit model 12.0 seconds ---\n"
     ]
    },
    {
     "data": {
      "application/javascript": [
       "\n",
       "        if (window._pyforest_update_imports_cell) { window._pyforest_update_imports_cell('from sklearn.model_selection import cross_val_score\\nimport re\\nimport seaborn as sns\\nfrom sklearn.model_selection import train_test_split\\nimport nltk\\nimport matplotlib.pyplot as plt'); }\n",
       "    "
      ],
      "text/plain": [
       "<IPython.core.display.Javascript object>"
      ]
     },
     "metadata": {},
     "output_type": "display_data"
    },
    {
     "data": {
      "application/javascript": [
       "\n",
       "        if (window._pyforest_update_imports_cell) { window._pyforest_update_imports_cell('from sklearn.model_selection import cross_val_score\\nimport re\\nimport seaborn as sns\\nfrom sklearn.model_selection import train_test_split\\nimport nltk\\nimport matplotlib.pyplot as plt'); }\n",
       "    "
      ],
      "text/plain": [
       "<IPython.core.display.Javascript object>"
      ]
     },
     "metadata": {},
     "output_type": "display_data"
    },
    {
     "data": {
      "image/png": "[encoded data removed]",
      "text/plain": [
       "<Figure size 720x720 with 2 Axes>"
      ]
     },
     "metadata": {
      "needs_background": "light"
     },
     "output_type": "display_data"
    }
   ],
   "source": [
    "# Возьмем оптимально подобранные гиперпараметры выше и запустим на них ф-цию предсказания\n",
    "bestmod = fitModel(RandomForestClassifier(n_estimators=50,criterion='entropy',random_state=0),\n",
    "                   x_train=X_train_emb,y_train=y_train_emb,x_test=X_test_emb,y_test=y_test_emb)\n",
    "\n",
    "best_params_of_all_models.append(bestmod)"
   ]
  },
  {
   "cell_type": "code",
   "execution_count": 233,
   "metadata": {},
   "outputs": [
    {
     "data": {
      "text/plain": [
       "0.7136640557006092"
      ]
     },
     "execution_count": 233,
     "metadata": {},
     "output_type": "execute_result"
    }
   ],
   "source": [
    "bestmod['f1_score']"
   ]
  },
  {
   "cell_type": "markdown",
   "metadata": {},
   "source": [
    "### 3.7 Модель XGB Classifier"
   ]
  },
  {
   "cell_type": "code",
   "execution_count": 252,
   "metadata": {},
   "outputs": [
    {
     "name": "stdout",
     "output_type": "stream",
     "text": [
      "[20:46:16] WARNING: ..\\src\\learner.cc:1061: Starting in XGBoost 1.3.0, the default evaluation metric used with the objective 'binary:logistic' was changed from 'error' to 'logloss'. Explicitly set eval_metric if you'd like to restore the old behavior.\n",
      "Accuracy:  0.7997373604727511\n",
      "Wall time: 50.7 s\n"
     ]
    }
   ],
   "source": [
    "%%time\n",
    "XGB = xgb.XGBClassifier()\n",
    "XGB.fit(X_train_emb, y_train_emb)\n",
    "pred_emb = XGB.predict(X_test_emb)\n",
    "XGB_accuracy = accuracy_score(y_test_emb, pred_emb)\n",
    " \n",
    "print(\"Accuracy: \",XGB_accuracy)"
   ]
  }
 ],
 "metadata": {
  "kernelspec": {
   "display_name": "Python 3",
   "language": "python",
   "name": "python3"
  },
  "language_info": {
   "codemirror_mode": {
    "name": "ipython",
    "version": 3
   },
   "file_extension": ".py",
   "mimetype": "text/x-python",
   "name": "python",
   "nbconvert_exporter": "python",
   "pygments_lexer": "ipython3",
   "version": "3.8.5"
  }
 },
 "nbformat": 4,
 "nbformat_minor": 4
}
