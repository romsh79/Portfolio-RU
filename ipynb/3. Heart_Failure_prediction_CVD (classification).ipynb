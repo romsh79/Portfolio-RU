{
 "cells": [
  {
   "cell_type": "markdown",
   "metadata": {},
   "source": [
    "# Cardiovascular diseases (CVDs) prediction model"
   ]
  },
  {
   "cell_type": "code",
   "execution_count": null,
   "metadata": {},
   "outputs": [],
   "source": [
    "# Проект построен следующим образом.\n",
    "# Сначала определяются ф-ции, для последующего запуска генетического алгоритма по подбору оптимальных\n",
    "# гиперпараметров для модели классификации XGBoost (градиентного бустинга)\n",
    "# 1. Primary Data Handling - обработка сырых данных: Очистка данных, трансформация/разделение признаков, подготовка данных\n",
    "# 2. Подбор гиперпараметров XGBoost на основе генетического алгоритма и выполнение классификации\n",
    "\n",
    "# В итоге классификатор XGBoost с подбором гиперпараметров при помощи генетического алгоритма \n",
    "# показал точность 92% против 89% с гиперпараметрами по умолчанию\n",
    "\n",
    "# Таким образом, с точностью 92% можно предсказывать риск возникновения сердечной недостаточности пациента по его анализам"
   ]
  },
  {
   "cell_type": "code",
   "execution_count": 1,
   "metadata": {},
   "outputs": [],
   "source": [
    "import numpy as np\n",
    "import matplotlib.pyplot as plt\n",
    "import pandas as pd\n",
    "from sklearn.preprocessing import LabelEncoder, StandardScaler\n",
    "from sklearn import preprocessing\n",
    "from sklearn.model_selection import train_test_split,cross_val_score,GridSearchCV\n",
    "from sklearn.linear_model import ElasticNet\n",
    "from sklearn import linear_model\n",
    "from sklearn import ensemble, model_selection, metrics, tree\n",
    "import xgboost as xgb\n",
    "from sklearn.tree import DecisionTreeRegressor\n",
    "from sklearn.metrics import accuracy_score, mean_absolute_error,roc_auc_score,confusion_matrix\n",
    "from numpy.random import randint\n",
    "from numpy.random import randn,random\n",
    "import random as rnd\n",
    "\n",
    "from sklearn.tree import DecisionTreeRegressor\n",
    "from sklearn.svm import SVR\n",
    "\n",
    "import warnings\n",
    "\n",
    "%matplotlib inline"
   ]
  },
  {
   "cell_type": "code",
   "execution_count": null,
   "metadata": {},
   "outputs": [],
   "source": [
    "#Data features information:\n",
    "    \n",
    "#1. Age: age of the patient [years]\n",
    "#2. Sex: sex of the patient [M: Male, F: Female]\n",
    "#3. ChestPainType: chest pain type [TA: Typical Angina, ATA: Atypical Angina, NAP: Non-Anginal Pain, ASY: Asymptomatic]\n",
    "#4. RestingBP: resting blood pressure [mm Hg]\n",
    "#5. Cholesterol: serum cholesterol [mm/dl]\n",
    "#6. FastingBS: fasting blood sugar [1: if FastingBS > 120 mg/dl, 0: otherwise]\n",
    "#7. RestingECG: resting electrocardiogram results [Normal: Normal, ST: having ST-T wave abnormality (T wave inversions and/or ST elevation or depression of > 0.05 mV), LVH: showing probable or definite left ventricular hypertrophy by Estes' criteria]\n",
    "#8. MaxHR: maximum heart rate achieved [Numeric value between 60 and 202]\n",
    "#9. ExerciseAngina: exercise-induced angina [Y: Yes, N: No]\n",
    "#10. Oldpeak: oldpeak = ST [Numeric value measured in depression]\n",
    "#11. ST_Slope: the slope of the peak exercise ST segment [Up: upsloping, Flat: flat, Down: downsloping]\n",
    "#12. HeartDisease: output class [1: heart disease, 0: Normal]"
   ]
  },
  {
   "cell_type": "markdown",
   "metadata": {},
   "source": [
    "# Define functions for further Genetics run"
   ]
  },
  {
   "cell_type": "raw",
   "metadata": {},
   "source": [
    "NOTE: In further appraising of the classifications the prediction accuracy is the aprraising object!\n",
    "That is why getSurvPopul() function has a descending sorting, not acsending as in regression problems\n",
    "where the prediction error can be the appraising object!!!"
   ]
  },
  {
   "cell_type": "code",
   "execution_count": 2,
   "metadata": {},
   "outputs": [],
   "source": [
    "'''\n",
    "    Function of getting of the survived botes of the population\n",
    "        Input parameters:\n",
    "        - popul - the population\n",
    "        - val - the current values of the prediction accuracy on the botes for the population\n",
    "        - nsurv - the number of the survived botes\n",
    "'''\n",
    "def getSurvPopul(\n",
    "        popul,\n",
    "        val,\n",
    "        nsurv,\n",
    "        ):\n",
    "    newpopul = [] # 2-dimension matrix for new population\n",
    "    sval = sorted(val, reverse=1) # Sort the val-values on descending\n",
    "    for i in range(nsurv): # Finally, the best nsurv-botes will be written in a new population 'newpopul'\n",
    "        index = val.index(sval[i]) # Get the index in list 'val' for the value=sval[i]\n",
    "        newpopul.append(popul[index]) # Add the bote from the current population with the founded above index in a new population\n",
    "    return newpopul, sval # Return new population ('nsurv' elements) and the sorted list of function's result on the all the initial botes\n",
    "\n",
    "'''\n",
    "    Function to get parents from the survived botes of the population\n",
    "        Input parameters:\n",
    "        - curr_popul - the current survived population\n",
    "        - nsurv - the number of survived botes\n",
    "'''\n",
    "def getParents(\n",
    "        curr_popul,\n",
    "        nsurv\n",
    "        ):   \n",
    "    indexp1 = rnd.randint(0, nsurv - 1) # The random index of the first parent from 0 to 'nsurv - 1'\n",
    "    indexp2 = rnd.randint(0, nsurv - 1) # The random index of the second parent from 0 to 'nsurv - 1'    \n",
    "    botp1 = curr_popul[indexp1] # Get the first parent-bote based on index 'indexp1'\n",
    "    botp2 = curr_popul[indexp2] # Get the second parent-bote based on index 'indexp2'    \n",
    "    return botp1, botp2 # Return the both parents-botes\n",
    "\n",
    "'''\n",
    "    Function of crossing of two parents\n",
    "        Input parameters:\n",
    "        - botp1 - the first parent-bote\n",
    "        - botp2 - the second parent-bote\n",
    "        - j - number of the feature\n",
    "'''\n",
    "def crossPointFrom2Parents(\n",
    "        botp1,\n",
    "        botp2, \n",
    "        j\n",
    "        ):\n",
    "    pindex = rnd.random() # random number from 0 to 1\n",
    "    if pindex < 0.5:\n",
    "        x = botp1[j]\n",
    "    else:\n",
    "        x = botp2[j]\n",
    "    return x"
   ]
  },
  {
   "cell_type": "code",
   "execution_count": 3,
   "metadata": {},
   "outputs": [],
   "source": [
    "'''\n",
    "    Function of initialization of population of botes. Each bote contents 6 hyperparameters of XGBoost model:\n",
    "\n",
    "    n_estimators - the number of trees\n",
    "    learning_rate - gradient step\n",
    "    max_depth - max depth of the each tree (increasing this value will make the model more complex and more likely to \n",
    "                overfit)\n",
    "    gamma - Minimum loss reduction required to make a further partition on a leaf node of the tree. The larger gamma is, \n",
    "            the more conservative the algorithm will be\n",
    "    min_child_weight - Minimum sum of instance weight (hessian) needed in a child. If the tree partition step results \n",
    "                       in a leaf node with the sum of instance weight less than min_child_weight, then the building process \n",
    "                       will give up further partitioning. In linear regression task, this simply corresponds to minimum \n",
    "                       number of instances needed to be in each node. The larger min_child_weight is, the more conservative \n",
    "                       the algorithm will be.\n",
    "    subsample - ratio of the training instances. Setting it to 0.5 means that XGBoost would randomly sample half of the \n",
    "                training data prior to growing trees and this will prevent overfitting. Subsampling will occur once in \n",
    "                every boosting iteration.\n",
    "'''\n",
    "def initilialize_poplulation(num_botes):\n",
    "    learningRate = np.empty([num_botes, 1])\n",
    "    nEstimators = np.empty([num_botes, 1], dtype = np.uint8)\n",
    "    maxDepth = np.empty([num_botes, 1], dtype = np.uint8)\n",
    "    minChildWeight = np.empty([num_botes, 1])\n",
    "    gammaValue = np.empty([num_botes, 1])\n",
    "    subSample = np.empty([num_botes, 1])\n",
    "    for i in range(num_botes):\n",
    "        learningRate[i] = round(rnd.uniform(0.01, 1), 2)\n",
    "        nEstimators[i] = rnd.randrange(10, 1500, step = 25)\n",
    "        maxDepth[i] = int(rnd.randrange(1, 10, step= 1))\n",
    "        minChildWeight[i] = round(rnd.uniform(0.01, 10.0), 2)\n",
    "        gammaValue[i] = round(rnd.uniform(0.01, 10.0), 2)\n",
    "        subSample[i] = round(rnd.uniform(0.01, 1.0), 2)\n",
    "    population = np.concatenate((learningRate, nEstimators, maxDepth, minChildWeight, gammaValue, subSample), axis= 1)\n",
    "    return population"
   ]
  },
  {
   "cell_type": "code",
   "execution_count": 4,
   "metadata": {},
   "outputs": [],
   "source": [
    "'''\n",
    "    Function of mutation\n",
    "        Input parameters:\n",
    "            param_n - feature index\n",
    "            param_val - the value of the feature\n",
    "            num_of_pars - the number of features in each bote\n",
    "'''\n",
    "def mutationXGB(param_n,param_val,num_of_pars):\n",
    "    #the borders for the each feature\n",
    "    minMaxValue = np.zeros((num_of_pars, 2))\n",
    "    minMaxValue[0, :] = [0.01, 1.0] #min/max learning rate\n",
    "    minMaxValue[1, :] = [10, 2000] #min/max n_estimator\n",
    "    minMaxValue[2, :] = [1, 15] #min/max depth\n",
    "    minMaxValue[3, :] = [0, 10.0] #min/max child_weight\n",
    "    minMaxValue[4, :] = [0.01, 10.0] #min/max gamma\n",
    "    minMaxValue[5, :] = [0.01, 1.0] #min/max subsample\n",
    " \n",
    "    # First set the change of the feature\n",
    "    if param_n == 0: #learning_rate\n",
    "        mutationValue = round(np.random.uniform(-0.5, 0.5), 2)\n",
    "    if param_n == 1: #n_estimators\n",
    "        mutationValue = np.random.randint(-200, 200)\n",
    "    if param_n == 2: #max_depth\n",
    "        mutationValue = np.random.randint(-5, 5)\n",
    "    if param_n == 3: #min_child_weight\n",
    "        mutationValue = round(np.random.uniform(5, 5), 2)\n",
    "    if param_n == 4: #gamma\n",
    "        mutationValue = round(np.random.uniform(-2, 2), 2)\n",
    "    if param_n == 5: #subsample\n",
    "        mutationValue = round(np.random.uniform(-0.5, 0.5), 2)\n",
    "  \n",
    "    # new feature value = old feature value + change of the feature\n",
    "    mutated_param = param_val + mutationValue\n",
    "    # keep the new feature value within the borders\n",
    "    if(mutated_param > minMaxValue[param_n, 1]):\n",
    "        mutated_param = minMaxValue[param_n, 1]\n",
    "    if(mutated_param < minMaxValue[param_n, 0]):\n",
    "        mutated_param = minMaxValue[param_n, 0]      \n",
    "    return mutated_param"
   ]
  },
  {
   "cell_type": "markdown",
   "metadata": {},
   "source": [
    "# 1. Primary data handling"
   ]
  },
  {
   "cell_type": "code",
   "execution_count": 5,
   "metadata": {},
   "outputs": [],
   "source": [
    "df=pd.read_csv('Data/heart.csv')"
   ]
  },
  {
   "cell_type": "code",
   "execution_count": 6,
   "metadata": {},
   "outputs": [
    {
     "data": {
      "text/html": [
       "<div>\n",
       "<style scoped>\n",
       "    .dataframe tbody tr th:only-of-type {\n",
       "        vertical-align: middle;\n",
       "    }\n",
       "\n",
       "    .dataframe tbody tr th {\n",
       "        vertical-align: top;\n",
       "    }\n",
       "\n",
       "    .dataframe thead th {\n",
       "        text-align: right;\n",
       "    }\n",
       "</style>\n",
       "<table border=\"1\" class=\"dataframe\">\n",
       "  <thead>\n",
       "    <tr style=\"text-align: right;\">\n",
       "      <th></th>\n",
       "      <th>Age</th>\n",
       "      <th>Sex</th>\n",
       "      <th>ChestPainType</th>\n",
       "      <th>RestingBP</th>\n",
       "      <th>Cholesterol</th>\n",
       "      <th>FastingBS</th>\n",
       "      <th>RestingECG</th>\n",
       "      <th>MaxHR</th>\n",
       "      <th>ExerciseAngina</th>\n",
       "      <th>Oldpeak</th>\n",
       "      <th>ST_Slope</th>\n",
       "      <th>HeartDisease</th>\n",
       "    </tr>\n",
       "  </thead>\n",
       "  <tbody>\n",
       "    <tr>\n",
       "      <th>0</th>\n",
       "      <td>40</td>\n",
       "      <td>M</td>\n",
       "      <td>ATA</td>\n",
       "      <td>140</td>\n",
       "      <td>289</td>\n",
       "      <td>0</td>\n",
       "      <td>Normal</td>\n",
       "      <td>172</td>\n",
       "      <td>N</td>\n",
       "      <td>0.0</td>\n",
       "      <td>Up</td>\n",
       "      <td>0</td>\n",
       "    </tr>\n",
       "    <tr>\n",
       "      <th>1</th>\n",
       "      <td>49</td>\n",
       "      <td>F</td>\n",
       "      <td>NAP</td>\n",
       "      <td>160</td>\n",
       "      <td>180</td>\n",
       "      <td>0</td>\n",
       "      <td>Normal</td>\n",
       "      <td>156</td>\n",
       "      <td>N</td>\n",
       "      <td>1.0</td>\n",
       "      <td>Flat</td>\n",
       "      <td>1</td>\n",
       "    </tr>\n",
       "    <tr>\n",
       "      <th>2</th>\n",
       "      <td>37</td>\n",
       "      <td>M</td>\n",
       "      <td>ATA</td>\n",
       "      <td>130</td>\n",
       "      <td>283</td>\n",
       "      <td>0</td>\n",
       "      <td>ST</td>\n",
       "      <td>98</td>\n",
       "      <td>N</td>\n",
       "      <td>0.0</td>\n",
       "      <td>Up</td>\n",
       "      <td>0</td>\n",
       "    </tr>\n",
       "    <tr>\n",
       "      <th>3</th>\n",
       "      <td>48</td>\n",
       "      <td>F</td>\n",
       "      <td>ASY</td>\n",
       "      <td>138</td>\n",
       "      <td>214</td>\n",
       "      <td>0</td>\n",
       "      <td>Normal</td>\n",
       "      <td>108</td>\n",
       "      <td>Y</td>\n",
       "      <td>1.5</td>\n",
       "      <td>Flat</td>\n",
       "      <td>1</td>\n",
       "    </tr>\n",
       "    <tr>\n",
       "      <th>4</th>\n",
       "      <td>54</td>\n",
       "      <td>M</td>\n",
       "      <td>NAP</td>\n",
       "      <td>150</td>\n",
       "      <td>195</td>\n",
       "      <td>0</td>\n",
       "      <td>Normal</td>\n",
       "      <td>122</td>\n",
       "      <td>N</td>\n",
       "      <td>0.0</td>\n",
       "      <td>Up</td>\n",
       "      <td>0</td>\n",
       "    </tr>\n",
       "  </tbody>\n",
       "</table>\n",
       "</div>"
      ],
      "text/plain": [
       "   Age Sex ChestPainType  RestingBP  Cholesterol  FastingBS RestingECG  MaxHR  \\\n",
       "0   40   M           ATA        140          289          0     Normal    172   \n",
       "1   49   F           NAP        160          180          0     Normal    156   \n",
       "2   37   M           ATA        130          283          0         ST     98   \n",
       "3   48   F           ASY        138          214          0     Normal    108   \n",
       "4   54   M           NAP        150          195          0     Normal    122   \n",
       "\n",
       "  ExerciseAngina  Oldpeak ST_Slope  HeartDisease  \n",
       "0              N      0.0       Up             0  \n",
       "1              N      1.0     Flat             1  \n",
       "2              N      0.0       Up             0  \n",
       "3              Y      1.5     Flat             1  \n",
       "4              N      0.0       Up             0  "
      ]
     },
     "execution_count": 6,
     "metadata": {},
     "output_type": "execute_result"
    }
   ],
   "source": [
    "df.head()"
   ]
  },
  {
   "cell_type": "code",
   "execution_count": 7,
   "metadata": {},
   "outputs": [
    {
     "data": {
      "text/plain": [
       "1    508\n",
       "0    410\n",
       "Name: HeartDisease, dtype: int64"
      ]
     },
     "execution_count": 7,
     "metadata": {},
     "output_type": "execute_result"
    }
   ],
   "source": [
    "# look is the data balanced or not\n",
    "df['HeartDisease'].value_counts()"
   ]
  },
  {
   "cell_type": "code",
   "execution_count": 8,
   "metadata": {},
   "outputs": [],
   "source": [
    "# transform categorical data to numeric\n",
    "df.loc[df['Sex'] == 'M', 'Sex'] = 1\n",
    "df.loc[df['Sex'] == 'F', 'Sex'] = 0\n",
    "df.loc[df['ChestPainType'] == 'ASY', 'ChestPainType'] = 0\n",
    "df.loc[df['ChestPainType'] == 'NAP', 'ChestPainType'] = 1\n",
    "df.loc[df['ChestPainType'] == 'ATA', 'ChestPainType'] = 2\n",
    "df.loc[df['ChestPainType'] == 'TA', 'ChestPainType'] = 3\n",
    "df.loc[df['RestingECG'] == 'Normal', 'RestingECG'] = 0\n",
    "df.loc[df['RestingECG'] == 'LVH', 'RestingECG'] = 1\n",
    "df.loc[df['RestingECG'] == 'ST', 'RestingECG'] = 2\n",
    "df.loc[df['ExerciseAngina'] == 'Y', 'ExerciseAngina'] = 1\n",
    "df.loc[df['ExerciseAngina'] == 'N', 'ExerciseAngina'] = 0\n",
    "df.loc[df['ST_Slope'] == 'Flat', 'ST_Slope'] = 0\n",
    "df.loc[df['ST_Slope'] == 'Up', 'ST_Slope'] = 1\n",
    "df.loc[df['ST_Slope'] == 'Down', 'ST_Slope'] = 2\n",
    "\n",
    "df = df.astype({\"Sex\": int, \"ChestPainType\": int, \"RestingECG\": int, \"ExerciseAngina\": int, \"ST_Slope\": int})"
   ]
  },
  {
   "cell_type": "code",
   "execution_count": 9,
   "metadata": {},
   "outputs": [
    {
     "data": {
      "text/plain": [
       "Age               0\n",
       "Sex               0\n",
       "ChestPainType     0\n",
       "RestingBP         0\n",
       "Cholesterol       0\n",
       "FastingBS         0\n",
       "RestingECG        0\n",
       "MaxHR             0\n",
       "ExerciseAngina    0\n",
       "Oldpeak           0\n",
       "ST_Slope          0\n",
       "HeartDisease      0\n",
       "dtype: int64"
      ]
     },
     "execution_count": 9,
     "metadata": {},
     "output_type": "execute_result"
    }
   ],
   "source": [
    "# look are there some undefined values\n",
    "df.isna().sum()"
   ]
  },
  {
   "cell_type": "code",
   "execution_count": 11,
   "metadata": {},
   "outputs": [
    {
     "data": {
      "image/png": "[encoded data removed]",
      "text/plain": [
       "<Figure size 720x576 with 12 Axes>"
      ]
     },
     "metadata": {
      "needs_background": "light"
     },
     "output_type": "display_data"
    }
   ],
   "source": [
    "# look on the statistics of the data\n",
    "df.hist(bins=20, figsize=(10,8),layout=(3,4));"
   ]
  },
  {
   "cell_type": "code",
   "execution_count": 10,
   "metadata": {},
   "outputs": [],
   "source": [
    "# based on distribution above, remove outliers by changing 0-value of RestingBP to the median\n",
    "df.loc[df['RestingBP'] < 50, 'RestingBP'] = df['RestingBP'].median()"
   ]
  },
  {
   "cell_type": "code",
   "execution_count": 11,
   "metadata": {},
   "outputs": [
    {
     "data": {
      "application/javascript": [
       "\n",
       "        if (window._pyforest_update_imports_cell) { window._pyforest_update_imports_cell('import seaborn as sns'); }\n",
       "    "
      ],
      "text/plain": [
       "<IPython.core.display.Javascript object>"
      ]
     },
     "metadata": {},
     "output_type": "display_data"
    },
    {
     "name": "stderr",
     "output_type": "stream",
     "text": [
      "C:\\Users\\Roman\\Anaconda3\\lib\\site-packages\\scipy\\stats\\stats.py:1713: FutureWarning: Using a non-tuple sequence for multidimensional indexing is deprecated; use `arr[tuple(seq)]` instead of `arr[seq]`. In the future this will be interpreted as an array index, `arr[np.array(seq)]`, which will result either in an error or a different result.\n",
      "  return np.add.reduce(sorted[indexer] * weights, axis=axis) / sumval\n",
      "C:\\Users\\Roman\\Anaconda3\\lib\\site-packages\\statsmodels\\nonparametric\\kde.py:488: RuntimeWarning: invalid value encountered in true_divide\n",
      "  binned = fast_linbin(X, a, b, gridsize) / (delta * nobs)\n",
      "C:\\Users\\Roman\\Anaconda3\\lib\\site-packages\\statsmodels\\nonparametric\\kdetools.py:34: RuntimeWarning: invalid value encountered in double_scalars\n",
      "  FAC1 = 2*(np.pi*bw/RANGE)**2\n",
      "C:\\Users\\Roman\\Anaconda3\\lib\\site-packages\\numpy\\core\\fromnumeric.py:83: RuntimeWarning: invalid value encountered in reduce\n",
      "  return ufunc.reduce(obj, axis, dtype, out, **passkwargs)\n"
     ]
    },
    {
     "data": {
      "text/plain": [
       "<seaborn.axisgrid.PairGrid at 0xf784ba8>"
      ]
     },
     "execution_count": 11,
     "metadata": {},
     "output_type": "execute_result"
    },
    {
     "data": {
      "image/png": "[encoded data removed]",
      "text/plain": [
       "<Figure size 435.25x360 with 6 Axes>"
      ]
     },
     "metadata": {
      "needs_background": "light"
     },
     "output_type": "display_data"
    }
   ],
   "source": [
    "# look on the transformed 'RestingBP', be sure that there are no more outliers\n",
    "sns.pairplot(df[['RestingBP','HeartDisease']], hue=\"HeartDisease\",height=2.5)"
   ]
  },
  {
   "cell_type": "code",
   "execution_count": 13,
   "metadata": {},
   "outputs": [
    {
     "data": {
      "text/plain": [
       "Age                 int64\n",
       "Sex                 int32\n",
       "ChestPainType       int32\n",
       "RestingBP           int64\n",
       "Cholesterol         int64\n",
       "FastingBS           int64\n",
       "RestingECG          int32\n",
       "MaxHR               int64\n",
       "ExerciseAngina      int32\n",
       "Oldpeak           float64\n",
       "ST_Slope            int32\n",
       "HeartDisease        int64\n",
       "dtype: object"
      ]
     },
     "execution_count": 13,
     "metadata": {},
     "output_type": "execute_result"
    }
   ],
   "source": [
    "df.dtypes"
   ]
  },
  {
   "cell_type": "code",
   "execution_count": 53,
   "metadata": {},
   "outputs": [
    {
     "data": {
      "text/html": [
       "<div>\n",
       "<style scoped>\n",
       "    .dataframe tbody tr th:only-of-type {\n",
       "        vertical-align: middle;\n",
       "    }\n",
       "\n",
       "    .dataframe tbody tr th {\n",
       "        vertical-align: top;\n",
       "    }\n",
       "\n",
       "    .dataframe thead th {\n",
       "        text-align: right;\n",
       "    }\n",
       "</style>\n",
       "<table border=\"1\" class=\"dataframe\">\n",
       "  <thead>\n",
       "    <tr style=\"text-align: right;\">\n",
       "      <th></th>\n",
       "      <th>Age</th>\n",
       "      <th>Sex</th>\n",
       "      <th>ChestPainType</th>\n",
       "      <th>RestingBP</th>\n",
       "      <th>Cholesterol</th>\n",
       "      <th>FastingBS</th>\n",
       "      <th>RestingECG</th>\n",
       "      <th>MaxHR</th>\n",
       "      <th>ExerciseAngina</th>\n",
       "      <th>Oldpeak</th>\n",
       "      <th>ST_Slope</th>\n",
       "      <th>HeartDisease</th>\n",
       "    </tr>\n",
       "  </thead>\n",
       "  <tbody>\n",
       "    <tr>\n",
       "      <th>count</th>\n",
       "      <td>918.000000</td>\n",
       "      <td>918.000000</td>\n",
       "      <td>918.000000</td>\n",
       "      <td>918.000000</td>\n",
       "      <td>918.000000</td>\n",
       "      <td>918.000000</td>\n",
       "      <td>918.000000</td>\n",
       "      <td>918.000000</td>\n",
       "      <td>918.000000</td>\n",
       "      <td>918.000000</td>\n",
       "      <td>918.000000</td>\n",
       "      <td>918.000000</td>\n",
       "    </tr>\n",
       "    <tr>\n",
       "      <th>mean</th>\n",
       "      <td>53.510893</td>\n",
       "      <td>0.789760</td>\n",
       "      <td>0.748366</td>\n",
       "      <td>132.538126</td>\n",
       "      <td>198.799564</td>\n",
       "      <td>0.233115</td>\n",
       "      <td>0.592593</td>\n",
       "      <td>136.809368</td>\n",
       "      <td>0.404139</td>\n",
       "      <td>0.887364</td>\n",
       "      <td>0.567538</td>\n",
       "      <td>0.553377</td>\n",
       "    </tr>\n",
       "    <tr>\n",
       "      <th>std</th>\n",
       "      <td>9.432617</td>\n",
       "      <td>0.407701</td>\n",
       "      <td>0.931031</td>\n",
       "      <td>17.990127</td>\n",
       "      <td>109.384145</td>\n",
       "      <td>0.423046</td>\n",
       "      <td>0.793670</td>\n",
       "      <td>25.460334</td>\n",
       "      <td>0.490992</td>\n",
       "      <td>1.066570</td>\n",
       "      <td>0.618959</td>\n",
       "      <td>0.497414</td>\n",
       "    </tr>\n",
       "    <tr>\n",
       "      <th>min</th>\n",
       "      <td>28.000000</td>\n",
       "      <td>0.000000</td>\n",
       "      <td>0.000000</td>\n",
       "      <td>80.000000</td>\n",
       "      <td>0.000000</td>\n",
       "      <td>0.000000</td>\n",
       "      <td>0.000000</td>\n",
       "      <td>60.000000</td>\n",
       "      <td>0.000000</td>\n",
       "      <td>-2.600000</td>\n",
       "      <td>0.000000</td>\n",
       "      <td>0.000000</td>\n",
       "    </tr>\n",
       "    <tr>\n",
       "      <th>25%</th>\n",
       "      <td>47.000000</td>\n",
       "      <td>1.000000</td>\n",
       "      <td>0.000000</td>\n",
       "      <td>120.000000</td>\n",
       "      <td>173.250000</td>\n",
       "      <td>0.000000</td>\n",
       "      <td>0.000000</td>\n",
       "      <td>120.000000</td>\n",
       "      <td>0.000000</td>\n",
       "      <td>0.000000</td>\n",
       "      <td>0.000000</td>\n",
       "      <td>0.000000</td>\n",
       "    </tr>\n",
       "    <tr>\n",
       "      <th>50%</th>\n",
       "      <td>54.000000</td>\n",
       "      <td>1.000000</td>\n",
       "      <td>0.000000</td>\n",
       "      <td>130.000000</td>\n",
       "      <td>223.000000</td>\n",
       "      <td>0.000000</td>\n",
       "      <td>0.000000</td>\n",
       "      <td>138.000000</td>\n",
       "      <td>0.000000</td>\n",
       "      <td>0.600000</td>\n",
       "      <td>0.000000</td>\n",
       "      <td>1.000000</td>\n",
       "    </tr>\n",
       "    <tr>\n",
       "      <th>75%</th>\n",
       "      <td>60.000000</td>\n",
       "      <td>1.000000</td>\n",
       "      <td>1.000000</td>\n",
       "      <td>140.000000</td>\n",
       "      <td>267.000000</td>\n",
       "      <td>0.000000</td>\n",
       "      <td>1.000000</td>\n",
       "      <td>156.000000</td>\n",
       "      <td>1.000000</td>\n",
       "      <td>1.500000</td>\n",
       "      <td>1.000000</td>\n",
       "      <td>1.000000</td>\n",
       "    </tr>\n",
       "    <tr>\n",
       "      <th>max</th>\n",
       "      <td>77.000000</td>\n",
       "      <td>1.000000</td>\n",
       "      <td>3.000000</td>\n",
       "      <td>200.000000</td>\n",
       "      <td>603.000000</td>\n",
       "      <td>1.000000</td>\n",
       "      <td>2.000000</td>\n",
       "      <td>202.000000</td>\n",
       "      <td>1.000000</td>\n",
       "      <td>6.200000</td>\n",
       "      <td>2.000000</td>\n",
       "      <td>1.000000</td>\n",
       "    </tr>\n",
       "  </tbody>\n",
       "</table>\n",
       "</div>"
      ],
      "text/plain": [
       "              Age         Sex  ChestPainType   RestingBP  Cholesterol  \\\n",
       "count  918.000000  918.000000     918.000000  918.000000   918.000000   \n",
       "mean    53.510893    0.789760       0.748366  132.538126   198.799564   \n",
       "std      9.432617    0.407701       0.931031   17.990127   109.384145   \n",
       "min     28.000000    0.000000       0.000000   80.000000     0.000000   \n",
       "25%     47.000000    1.000000       0.000000  120.000000   173.250000   \n",
       "50%     54.000000    1.000000       0.000000  130.000000   223.000000   \n",
       "75%     60.000000    1.000000       1.000000  140.000000   267.000000   \n",
       "max     77.000000    1.000000       3.000000  200.000000   603.000000   \n",
       "\n",
       "        FastingBS  RestingECG       MaxHR  ExerciseAngina     Oldpeak  \\\n",
       "count  918.000000  918.000000  918.000000      918.000000  918.000000   \n",
       "mean     0.233115    0.592593  136.809368        0.404139    0.887364   \n",
       "std      0.423046    0.793670   25.460334        0.490992    1.066570   \n",
       "min      0.000000    0.000000   60.000000        0.000000   -2.600000   \n",
       "25%      0.000000    0.000000  120.000000        0.000000    0.000000   \n",
       "50%      0.000000    0.000000  138.000000        0.000000    0.600000   \n",
       "75%      0.000000    1.000000  156.000000        1.000000    1.500000   \n",
       "max      1.000000    2.000000  202.000000        1.000000    6.200000   \n",
       "\n",
       "         ST_Slope  HeartDisease  \n",
       "count  918.000000    918.000000  \n",
       "mean     0.567538      0.553377  \n",
       "std      0.618959      0.497414  \n",
       "min      0.000000      0.000000  \n",
       "25%      0.000000      0.000000  \n",
       "50%      0.000000      1.000000  \n",
       "75%      1.000000      1.000000  \n",
       "max      2.000000      1.000000  "
      ]
     },
     "execution_count": 53,
     "metadata": {},
     "output_type": "execute_result"
    }
   ],
   "source": [
    "df.describe()"
   ]
  },
  {
   "cell_type": "code",
   "execution_count": 54,
   "metadata": {},
   "outputs": [
    {
     "data": {
      "text/plain": [
       "(918, 12)"
      ]
     },
     "execution_count": 54,
     "metadata": {},
     "output_type": "execute_result"
    }
   ],
   "source": [
    "df.shape"
   ]
  },
  {
   "cell_type": "code",
   "execution_count": 15,
   "metadata": {},
   "outputs": [
    {
     "data": {
      "text/html": [
       "<div>\n",
       "<style scoped>\n",
       "    .dataframe tbody tr th:only-of-type {\n",
       "        vertical-align: middle;\n",
       "    }\n",
       "\n",
       "    .dataframe tbody tr th {\n",
       "        vertical-align: top;\n",
       "    }\n",
       "\n",
       "    .dataframe thead th {\n",
       "        text-align: right;\n",
       "    }\n",
       "</style>\n",
       "<table border=\"1\" class=\"dataframe\">\n",
       "  <thead>\n",
       "    <tr style=\"text-align: right;\">\n",
       "      <th></th>\n",
       "      <th>Age</th>\n",
       "      <th>Sex</th>\n",
       "      <th>ChestPainType</th>\n",
       "      <th>RestingBP</th>\n",
       "      <th>Cholesterol</th>\n",
       "      <th>FastingBS</th>\n",
       "      <th>RestingECG</th>\n",
       "      <th>MaxHR</th>\n",
       "      <th>ExerciseAngina</th>\n",
       "      <th>Oldpeak</th>\n",
       "      <th>ST_Slope</th>\n",
       "      <th>HeartDisease</th>\n",
       "    </tr>\n",
       "  </thead>\n",
       "  <tbody>\n",
       "    <tr>\n",
       "      <th>0</th>\n",
       "      <td>40</td>\n",
       "      <td>1</td>\n",
       "      <td>2</td>\n",
       "      <td>140</td>\n",
       "      <td>289</td>\n",
       "      <td>0</td>\n",
       "      <td>0</td>\n",
       "      <td>172</td>\n",
       "      <td>0</td>\n",
       "      <td>0.0</td>\n",
       "      <td>1</td>\n",
       "      <td>0</td>\n",
       "    </tr>\n",
       "    <tr>\n",
       "      <th>1</th>\n",
       "      <td>49</td>\n",
       "      <td>0</td>\n",
       "      <td>1</td>\n",
       "      <td>160</td>\n",
       "      <td>180</td>\n",
       "      <td>0</td>\n",
       "      <td>0</td>\n",
       "      <td>156</td>\n",
       "      <td>0</td>\n",
       "      <td>1.0</td>\n",
       "      <td>0</td>\n",
       "      <td>1</td>\n",
       "    </tr>\n",
       "    <tr>\n",
       "      <th>2</th>\n",
       "      <td>37</td>\n",
       "      <td>1</td>\n",
       "      <td>2</td>\n",
       "      <td>130</td>\n",
       "      <td>283</td>\n",
       "      <td>0</td>\n",
       "      <td>2</td>\n",
       "      <td>98</td>\n",
       "      <td>0</td>\n",
       "      <td>0.0</td>\n",
       "      <td>1</td>\n",
       "      <td>0</td>\n",
       "    </tr>\n",
       "    <tr>\n",
       "      <th>3</th>\n",
       "      <td>48</td>\n",
       "      <td>0</td>\n",
       "      <td>0</td>\n",
       "      <td>138</td>\n",
       "      <td>214</td>\n",
       "      <td>0</td>\n",
       "      <td>0</td>\n",
       "      <td>108</td>\n",
       "      <td>1</td>\n",
       "      <td>1.5</td>\n",
       "      <td>0</td>\n",
       "      <td>1</td>\n",
       "    </tr>\n",
       "    <tr>\n",
       "      <th>4</th>\n",
       "      <td>54</td>\n",
       "      <td>1</td>\n",
       "      <td>1</td>\n",
       "      <td>150</td>\n",
       "      <td>195</td>\n",
       "      <td>0</td>\n",
       "      <td>0</td>\n",
       "      <td>122</td>\n",
       "      <td>0</td>\n",
       "      <td>0.0</td>\n",
       "      <td>1</td>\n",
       "      <td>0</td>\n",
       "    </tr>\n",
       "  </tbody>\n",
       "</table>\n",
       "</div>"
      ],
      "text/plain": [
       "   Age  Sex  ChestPainType  RestingBP  Cholesterol  FastingBS  RestingECG  \\\n",
       "0   40    1              2        140          289          0           0   \n",
       "1   49    0              1        160          180          0           0   \n",
       "2   37    1              2        130          283          0           2   \n",
       "3   48    0              0        138          214          0           0   \n",
       "4   54    1              1        150          195          0           0   \n",
       "\n",
       "   MaxHR  ExerciseAngina  Oldpeak  ST_Slope  HeartDisease  \n",
       "0    172               0      0.0         1             0  \n",
       "1    156               0      1.0         0             1  \n",
       "2     98               0      0.0         1             0  \n",
       "3    108               1      1.5         0             1  \n",
       "4    122               0      0.0         1             0  "
      ]
     },
     "execution_count": 15,
     "metadata": {},
     "output_type": "execute_result"
    }
   ],
   "source": [
    "df.head()"
   ]
  },
  {
   "cell_type": "code",
   "execution_count": 12,
   "metadata": {},
   "outputs": [],
   "source": [
    "# Transform each categorical column to multiple columns\n",
    "\n",
    "def to_categorical(arg,vect_len):\n",
    "    vect = np.zeros(vect_len)\n",
    "    vect[int(arg)] = 1.0\n",
    "    return vect\n",
    "\n",
    "#d - input original value (string)\n",
    "#dVar - np-array of all variants for that data\n",
    "def categ_trans(d, dVar):\n",
    "    dVar = list(dVar)\n",
    "    #Find an index of the value in all variants array\n",
    "    if d in dVar:\n",
    "        ind = dVar.index(d)\n",
    "        #one hot encoding\n",
    "        ind = to_categorical(ind, len(dVar))\n",
    "    else:\n",
    "        ind = np.zeros(len(dVar))\n",
    "    return ind\n",
    "\n",
    "# Age categories\n",
    "def age_categ(age):\n",
    "    if age <= 32:\n",
    "        return [1.0,0,0,0,0,0,0,0,0,0]\n",
    "    if (age >= 33) & (age <= 37):\n",
    "        return [0,1.0,0,0,0,0,0,0,0,0,0]\n",
    "    if (age >= 38) & (age <= 42):\n",
    "        return [0,0,1.0,0,0,0,0,0,0,0]\n",
    "    if (age >= 43) & (age <= 47):\n",
    "        return [0,0,0,1.0,0,0,0,0,0,0]\n",
    "    if (age >= 48) & (age <= 52):\n",
    "        return [0,0,0,0,1.0,0,0,0,0,0]\n",
    "    if (age >= 53) & (age <= 57):\n",
    "        return [0,0,0,0,0,1.0,0,0,0,0]\n",
    "    if (age >= 58) & (age <= 62):\n",
    "        return [0,0,0,0,0,0,1.0,0,0,0]\n",
    "    if (age >= 63) & (age <= 67):\n",
    "        return [0,0,0,0,0,0,0,1.0,0,0]\n",
    "    if (age >= 68) & (age <= 72):\n",
    "        return [0,0,0,0,0,0,0,0,1.0,0]\n",
    "    if age >= 73:\n",
    "        return [0,0,0,0,0,0,0,0,0,1.0]"
   ]
  },
  {
   "cell_type": "code",
   "execution_count": 13,
   "metadata": {},
   "outputs": [],
   "source": [
    "# create the list of new columns after data transformation\n",
    "cols = []\n",
    "for age in range(len(age_categ(42))):  #any age is ok, 42 - just random\n",
    "    cols.append(\"Age\"+str(age))\n",
    "for sex in range(len(df.Sex.unique())):\n",
    "    cols.append(\"Sex\"+str(sex))\n",
    "for cpt in range(len(df.ChestPainType.unique())):\n",
    "    cols.append(\"ChestPainType\"+str(cpt))\n",
    "cols.append(\"RestingBP\")\n",
    "cols.append(\"Cholesterol\")\n",
    "for fbs in range(len(df.FastingBS.unique())):\n",
    "    cols.append(\"FastingBS\"+str(fbs))\n",
    "for ecg in range(len(df.RestingECG.unique())):\n",
    "    cols.append(\"RestingECG\"+str(ecg))\n",
    "cols.append(\"MaxHR\")\n",
    "for ang in range(len(df.ExerciseAngina.unique())):\n",
    "    cols.append(\"ExerciseAngina\"+str(ang))\n",
    "cols.append(\"Oldpeak\")\n",
    "for sts in range(len(df.ST_Slope.unique())):\n",
    "    cols.append(\"ST_Slope\"+str(sts))\n",
    "cols.append(\"HeartDisease\")"
   ]
  },
  {
   "cell_type": "code",
   "execution_count": 14,
   "metadata": {},
   "outputs": [],
   "source": [
    "# Function creating data from the dataframe in the right format for further implementation \n",
    "# d - string from dataframe\n",
    "def getAllParameters(d):\n",
    "    Age = age_categ(d.Age)\n",
    "    Sex = categ_trans(d.Sex,sorted(df.Sex.unique()))\n",
    "    ChestPainType = categ_trans(d.ChestPainType,sorted(df.ChestPainType.unique()))\n",
    "    FastingBS = categ_trans(d.FastingBS,sorted(df.FastingBS.unique()))\n",
    "    RestingECG = categ_trans(d.RestingECG,sorted(df.RestingECG.unique()))\n",
    "    ExerciseAngina = categ_trans(d.ExerciseAngina,sorted(df.ExerciseAngina.unique()))\n",
    "    ST_Slope = categ_trans(d.ST_Slope,sorted(df.ST_Slope.unique()))\n",
    "    \n",
    "    out = list(Age)\n",
    "    out.extend(Sex)\n",
    "    out.extend(ChestPainType)\n",
    "    out.append(d.RestingBP)\n",
    "    out.append(d.Cholesterol)\n",
    "    out.extend(FastingBS)\n",
    "    out.extend(RestingECG)\n",
    "    out.append(d.MaxHR)\n",
    "    out.extend(ExerciseAngina)\n",
    "    out.append(d.Oldpeak)\n",
    "    out.extend(ST_Slope)\n",
    "    return out"
   ]
  },
  {
   "cell_type": "code",
   "execution_count": 15,
   "metadata": {},
   "outputs": [
    {
     "data": {
      "application/javascript": [
       "\n",
       "        if (window._pyforest_update_imports_cell) { window._pyforest_update_imports_cell('import seaborn as sns'); }\n",
       "    "
      ],
      "text/plain": [
       "<IPython.core.display.Javascript object>"
      ]
     },
     "metadata": {},
     "output_type": "display_data"
    },
    {
     "data": {
      "image/png": "[encoded data removed]",
      "text/plain": [
       "<Figure size 1080x360 with 1 Axes>"
      ]
     },
     "metadata": {
      "needs_background": "light"
     },
     "output_type": "display_data"
    }
   ],
   "source": [
    "# Visualization of the features distribution (here 'Oldpeak' feature for example)\n",
    "warnings.filterwarnings('ignore')\n",
    "plt.figure(figsize=(15,5))\n",
    "ax = sns.countplot(df.Oldpeak)\n",
    "ax.set_xticklabels(ax.get_xticklabels(), rotation=90, ha=\"right\",fontsize=7)\n",
    "plt.tight_layout()\n",
    "plt.show()"
   ]
  },
  {
   "cell_type": "code",
   "execution_count": 16,
   "metadata": {},
   "outputs": [
    {
     "name": "stdout",
     "output_type": "stream",
     "text": [
      "Wall time: 1.24 s\n"
     ]
    }
   ],
   "source": [
    "%%time\n",
    "#creating data from the dataframe in the right format for further implementation  \n",
    "warnings.filterwarnings('ignore')\n",
    "data = []\n",
    "for i in range(df.shape[0]):\n",
    "    data.append(getAllParameters(df.iloc[i]))"
   ]
  },
  {
   "cell_type": "code",
   "execution_count": 17,
   "metadata": {},
   "outputs": [],
   "source": [
    "# create DataFrame object from data\n",
    "warnings.filterwarnings('ignore')\n",
    "df_mod = pd.DataFrame(data,columns=cols)\n",
    "df_mod['HeartDisease'] = df['HeartDisease']"
   ]
  },
  {
   "cell_type": "markdown",
   "metadata": {},
   "source": [
    "### 1.2 Preparing data for model input"
   ]
  },
  {
   "cell_type": "code",
   "execution_count": 18,
   "metadata": {},
   "outputs": [],
   "source": [
    "warnings.filterwarnings('ignore')\n",
    "#defining features and target variable\n",
    "X = df_mod.drop(['HeartDisease'],axis=1) \n",
    "y = df_mod['HeartDisease']\n",
    "X_train, X_test, y_train, y_test = train_test_split(X, y, test_size=0.20, random_state=1)"
   ]
  },
  {
   "cell_type": "code",
   "execution_count": 19,
   "metadata": {},
   "outputs": [],
   "source": [
    "# normalization of the features\n",
    "xScaler = StandardScaler()\n",
    "xScaler.fit(X_train)\n",
    "X_train = xScaler.transform(X_train)\n",
    "X_test = xScaler.transform(X_test)"
   ]
  },
  {
   "cell_type": "markdown",
   "metadata": {},
   "source": [
    "# 2. Genetic Run to find the optimal set of input parameters of XGBoost model"
   ]
  },
  {
   "cell_type": "code",
   "execution_count": 28,
   "metadata": {},
   "outputs": [
    {
     "data": {
      "text/plain": [
       "XGBClassifier(base_score=None, booster=None, colsample_bylevel=None,\n",
       "              colsample_bynode=None, colsample_bytree=None, gamma=None,\n",
       "              gpu_id=None, importance_type='gain', interaction_constraints=None,\n",
       "              learning_rate=None, max_delta_step=None, max_depth=None,\n",
       "              min_child_weight=None, missing=nan, monotone_constraints=None,\n",
       "              n_estimators=100, n_jobs=None, num_parallel_tree=None,\n",
       "              random_state=None, reg_alpha=None, reg_lambda=None,\n",
       "              scale_pos_weight=None, subsample=None, tree_method=None,\n",
       "              validate_parameters=None, verbosity=None)"
      ]
     },
     "execution_count": 28,
     "metadata": {},
     "output_type": "execute_result"
    }
   ],
   "source": [
    "xgb.XGBClassifier()"
   ]
  },
  {
   "cell_type": "code",
   "execution_count": 20,
   "metadata": {},
   "outputs": [
    {
     "name": "stdout",
     "output_type": "stream",
     "text": [
      "0   [0.902, 0.897, 0.886, 0.88, 0.875, 0.87]\n",
      "1   [0.902, 0.897, 0.897, 0.886, 0.886, 0.886]\n",
      "2   [0.918, 0.908, 0.902, 0.897, 0.897, 0.897]\n",
      "3   [0.919, 0.918, 0.908, 0.907, 0.903, 0.902]\n",
      "4   [0.919, 0.919, 0.918, 0.913, 0.908, 0.908]\n",
      "5   [0.919, 0.919, 0.919, 0.918, 0.918, 0.913]\n",
      "6   [0.919, 0.919, 0.919, 0.919, 0.918, 0.918]\n",
      "7   [0.919, 0.919, 0.919, 0.919, 0.919, 0.919]\n",
      "8   [0.919, 0.919, 0.919, 0.919, 0.919, 0.919]\n",
      "9   [0.919, 0.919, 0.919, 0.919, 0.919, 0.919]\n",
      "10   [0.919, 0.919, 0.919, 0.919, 0.919, 0.919]\n",
      "11   [0.919, 0.919, 0.919, 0.919, 0.919, 0.919]\n",
      "12   [0.919, 0.919, 0.919, 0.919, 0.919, 0.919]\n",
      "13   [0.919, 0.919, 0.919, 0.919, 0.919, 0.919]\n",
      "14   [0.919, 0.919, 0.919, 0.919, 0.919, 0.919]\n",
      "Wall time: 4min 42s\n"
     ]
    }
   ],
   "source": [
    "%%time\n",
    "warnings.filterwarnings('ignore')\n",
    "\n",
    "n = 40 # the population size\n",
    "nsurv = int(0.2*n) # the size of the survived botes in population\n",
    "nnew = n - nsurv # the number of new botes (after keeping the best 'nsurv' botes)\n",
    "l = 6 # the length of bote (number of features)\n",
    "epohs = 15 # number of epochs (how many times we change population)\n",
    "\n",
    "popul = initilialize_poplulation(n) # Creates random population: [n, l] matrix\n",
    "\n",
    "for it in range(epohs):  \n",
    "    val = [] # 1-dimension array of the model precision (or error for regression problem) on the botes features\n",
    "\n",
    "    for i in range(n):\n",
    "        bot = popul[i] # the current bote\n",
    "    \n",
    "        # run the model on the features from the current bote\n",
    "        XGB_i = xgb.XGBClassifier(\n",
    "            verbosity=0,\n",
    "            learning_rate=bot[0],\n",
    "            n_estimators=int(bot[1]),\n",
    "            max_depth=int(bot[2]),\n",
    "            min_child_weight=bot[3],\n",
    "            gamma=bot[4],\n",
    "            subsample=bot[5])\n",
    "        XGB_i.fit(X_train, y_train)\n",
    "        # add the prediction score for the current bote based on cross-validation accuracy to the 'val' array\n",
    "        val.append(round(cross_val_score(estimator=XGB_i,X=X_test,y=y_test,cv=10).mean(),3))\n",
    "    \n",
    "    newpopul, sval = getSurvPopul(popul, val, nsurv) # Get the survived botes of population and sorted botes scores\n",
    "    print(it, \" \", [round(s,8) for s in sval[0:6]]) # print scores for 6 best botes\n",
    " \n",
    "    for i in range(nnew): # run cycle 'n-nsurv' times to fill the rest of the new population based on the survived botes  \n",
    "        botp1, botp2 = getParents(newpopul, nsurv) # Get from the survived botes-population two random parents\n",
    "        newbot = [] # set new bote which will be borned from the choosen parents above\n",
    "        # each feature of the new bote is crossing the features of the parents\n",
    "        for j in range(l):\n",
    "            # j-th feature of the new bote:\n",
    "            x = crossPointFrom2Parents(botp1, botp2, j)        \n",
    "            newbot.append(x)\n",
    "        #Introduce mutation in a random feature of the borned bote\n",
    "        j_mut = np.random.randint(0, l)\n",
    "        newbot[j_mut] = mutationXGB(j_mut,newbot[j_mut],l) \n",
    "        newpopul.append(newbot) # Add this bote in new population of the survived botes\n",
    "        #so we finally add 'n-nsurv' new borned botes to the survived botes\n",
    "    \n",
    "    popul = newpopul # Write the new created population in 'popul'"
   ]
  },
  {
   "cell_type": "code",
   "execution_count": 21,
   "metadata": {},
   "outputs": [
    {
     "name": "stdout",
     "output_type": "stream",
     "text": [
      "Learning rate =  0.39\n",
      "Trees number =  10.0\n",
      "Max depth =  4.0\n",
      "min_child_weight =  0.35\n",
      "gamma =  0.39\n",
      "subsample =  0.89\n"
     ]
    }
   ],
   "source": [
    "#print the features of the best bote\n",
    "best_bot = popul[0]\n",
    "print(\"Learning rate = \",best_bot[0])\n",
    "print(\"Trees number = \",best_bot[1])\n",
    "print(\"Max depth = \",best_bot[2])\n",
    "print(\"min_child_weight = \",best_bot[3])\n",
    "print(\"gamma = \",best_bot[4])\n",
    "print(\"subsample = \",best_bot[5])"
   ]
  },
  {
   "cell_type": "code",
   "execution_count": 22,
   "metadata": {},
   "outputs": [
    {
     "name": "stdout",
     "output_type": "stream",
     "text": [
      "Mean Accuracy:  0.9187134502923977\n",
      "Accuracy on testing dataset:  0.8858695652173914\n"
     ]
    }
   ],
   "source": [
    "# run the model on the features of the best bote\n",
    "XGB_best = xgb.XGBClassifier(\n",
    "            verbosity=0,\n",
    "            learning_rate=best_bot[0],\n",
    "            n_estimators=int(best_bot[1]),\n",
    "            max_depth=int(best_bot[2]),\n",
    "            min_child_weight=best_bot[3],\n",
    "            gamma=best_bot[4],\n",
    "            subsample=best_bot[5])\n",
    "XGB_best.fit(X_train, y_train)\n",
    "XGB_accuracies=cross_val_score(estimator=XGB_best,X=X_test,y=y_test,cv=10)\n",
    " \n",
    "print(\"Mean Accuracy: \",XGB_accuracies.mean())\n",
    "xgb_pred=XGB_best.predict(X_test)\n",
    "print(\"Accuracy on testing dataset: \",accuracy_score(y_test,xgb_pred))"
   ]
  },
  {
   "cell_type": "code",
   "execution_count": 26,
   "metadata": {},
   "outputs": [
    {
     "name": "stdout",
     "output_type": "stream",
     "text": [
      "Confusion Matrix For XGBoost\n"
     ]
    },
    {
     "data": {
      "application/javascript": [
       "\n",
       "        if (window._pyforest_update_imports_cell) { window._pyforest_update_imports_cell('import seaborn as sns'); }\n",
       "    "
      ],
      "text/plain": [
       "<IPython.core.display.Javascript object>"
      ]
     },
     "metadata": {},
     "output_type": "display_data"
    },
    {
     "data": {
      "text/plain": [
       "(2.0, 0.0)"
      ]
     },
     "execution_count": 26,
     "metadata": {},
     "output_type": "execute_result"
    },
    {
     "data": {
      "image/png": "[encoded data removed]",
      "text/plain": [
       "<Figure size 504x360 with 2 Axes>"
      ]
     },
     "metadata": {
      "needs_background": "light"
     },
     "output_type": "display_data"
    }
   ],
   "source": [
    "print(\"Confusion Matrix For XGBoost\")\n",
    "cm=confusion_matrix(y_test,xgb_pred, labels=[0, 1])\n",
    "\n",
    "df_cm = pd.DataFrame(cm, index = [i for i in [0,1]],\n",
    "                  columns = [i for i in [\"Predict 0\",\"Predict 1\"]])\n",
    "plt.figure(figsize = (7,5))\n",
    "ax = sns.heatmap(df_cm, annot=True)\n",
    "\n",
    "i, k = ax.get_ylim()\n",
    "ax.set_ylim(i+0.5, k-0.5) #устанавливаем границы вручную"
   ]
  },
  {
   "cell_type": "code",
   "execution_count": 24,
   "metadata": {},
   "outputs": [
    {
     "name": "stdout",
     "output_type": "stream",
     "text": [
      "Mean Accuracy:  0.8967836257309942\n",
      "Accuracy on testing dataset:  0.8858695652173914\n"
     ]
    }
   ],
   "source": [
    "# run the model on the default features (for comparison)\n",
    "XGB_default = xgb.XGBClassifier()\n",
    "XGB_default.fit(X_train, y_train)\n",
    "XGB_accuracies=cross_val_score(estimator=XGB_default,X=X_test,y=y_test,cv=10)\n",
    " \n",
    "print(\"Mean Accuracy: \",XGB_accuracies.mean())\n",
    "xgb_pred=XGB_default.predict(X_test)\n",
    "print(\"Accuracy on testing dataset: \",accuracy_score(y_test,xgb_pred))"
   ]
  },
  {
   "cell_type": "code",
   "execution_count": null,
   "metadata": {},
   "outputs": [],
   "source": []
  }
 ],
 "metadata": {
  "kernelspec": {
   "display_name": "Python 3",
   "language": "python",
   "name": "python3"
  },
  "language_info": {
   "codemirror_mode": {
    "name": "ipython",
    "version": 3
   },
   "file_extension": ".py",
   "mimetype": "text/x-python",
   "name": "python",
   "nbconvert_exporter": "python",
   "pygments_lexer": "ipython3",
   "version": "3.8.5"
  }
 },
 "nbformat": 4,
 "nbformat_minor": 4
}
