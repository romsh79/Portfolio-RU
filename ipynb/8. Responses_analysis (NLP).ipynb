{
 "cells": [
  {
   "cell_type": "markdown",
   "metadata": {},
   "source": [
    "# Анализ отзывов на основе модели word2vec"
   ]
  },
  {
   "cell_type": "code",
   "execution_count": 1,
   "metadata": {},
   "outputs": [
    {
     "name": "stdout",
     "output_type": "stream",
     "text": [
      "Populating the interactive namespace from numpy and matplotlib\n"
     ]
    }
   ],
   "source": [
    "import json\n",
    "import bz2\n",
    "import regex\n",
    "from tqdm import tqdm\n",
    "from scipy import sparse\n",
    "import pandas as pd\n",
    "import numpy as np\n",
    "import re\n",
    "import nltk\n",
    "from nltk import FreqDist\n",
    "import matplotlib.pyplot as plt\n",
    "import seaborn as sns\n",
    "from pymystem3 import Mystem\n",
    "from nltk.corpus import stopwords\n",
    "import sqlite3\n",
    "from gensim.models import Word2Vec\n",
    "from sklearn.manifold import TSNE\n",
    "\n",
    "%matplotlib inline\n",
    "%pylab inline\n",
    "from pprint import pprint\n",
    "\n",
    "import warnings\n",
    "warnings.filterwarnings('ignore')"
   ]
  },
  {
   "cell_type": "markdown",
   "metadata": {},
   "source": [
    "#### Определяем функции"
   ]
  },
  {
   "cell_type": "code",
   "execution_count": 65,
   "metadata": {},
   "outputs": [],
   "source": [
    "# 1. Токенизация\n",
    "# задаём шаблон слова (слова с \"Ё\" или \"ё\" или с дефисом - выпадают из шаблона)\n",
    "regex = re.compile(\"[А-Яа-я:=!\\)\\()A-z\\_\\%/|]+\")\n",
    "def words_only(text, regex=regex):\n",
    "    try:\n",
    "        return \" \".join(regex.findall(text))\n",
    "    except:\n",
    "        return \"\"\n",
    "    \n",
    "# 2. Ф-ция разделения текста на токены без стоп-слов\n",
    "mystopwords = stopwords.words('russian') + ['это', 'наш' , 'тыс', 'млн', 'млрд', 'также',  'т', 'д']\n",
    "def  remove_stopwords(text, mystopwords = mystopwords):\n",
    "    try:\n",
    "        return \" \".join([token for token in text.split() if not token in mystopwords])\n",
    "    except:\n",
    "        return \"\"\n",
    "\n",
    "# задаём морфологический анализатор\n",
    "m = Mystem()\n",
    "# 3. Ф-ция лемматизации\n",
    "# для большого числа документов на порядок быстрее будет лемматизировать по батчам - \n",
    "# объединениям документов в батч перед подачей в лемматизатор\n",
    "def smart_lemmatize(texts,batch_size=1000,mystem=m):\n",
    "    lol = lambda lst, sz: [lst[i:i+sz] for i in range(0, len(lst), sz)]\n",
    "    txtpart = lol(texts, batch_size)\n",
    "    res = []\n",
    "    for txtp in txtpart:\n",
    "        alltexts = ' '.join([txt + ' brrr ' for txt in txtp])\n",
    "\n",
    "        words = mystem.lemmatize(alltexts)\n",
    "        doc = []\n",
    "        for txt in words:\n",
    "            if txt != '\\n' and txt.strip() != '':\n",
    "                if txt == 'brrr':\n",
    "                    res.append(doc)\n",
    "                    doc = []\n",
    "                else:\n",
    "                    doc.append(txt)\n",
    "    return res\n",
    "# объединяем отлематизированный список слов из текстов обратно в тексты\n",
    "def join_lemm(lis):\n",
    "    lis_sent = []\n",
    "    for l in lis:\n",
    "        lis_sent.append(\" \".join(l).strip())\n",
    "    return lis_sent\n",
    "\n",
    "# 4. Ф-ция удаления стоп-лемм\n",
    "mystoplemmas = ['который','прошлый','сей', 'свой', 'наш', 'мочь', 'такой']\n",
    "def  remove_stoplemmas(text, mystoplemmas = mystoplemmas):\n",
    "    try:\n",
    "        return \" \".join([token for token in text.split() if not token in mystoplemmas])\n",
    "    except:\n",
    "        return \"\""
   ]
  },
  {
   "cell_type": "code",
   "execution_count": 2,
   "metadata": {},
   "outputs": [
    {
     "name": "stderr",
     "output_type": "stream",
     "text": [
      "201030it [00:35, 5714.90it/s]\n"
     ]
    }
   ],
   "source": [
    "responses = []\n",
    "with bz2.BZ2File('dataNLP/banki_responses.json.bz2', 'r') as thefile:\n",
    "    for row in tqdm(thefile):\n",
    "        resp = json.loads(row)\n",
    "        if not resp['rating_not_checked'] and (len(resp['text'].split()) > 0):\n",
    "            responses.append(resp)"
   ]
  },
  {
   "cell_type": "code",
   "execution_count": 3,
   "metadata": {},
   "outputs": [
    {
     "data": {
      "text/plain": [
       "{'city': 'г. Саратов',\n",
       " 'rating_not_checked': False,\n",
       " 'title': 'Карта ко вкладу',\n",
       " 'num_comments': 0,\n",
       " 'bank_license': 'лицензия № 880',\n",
       " 'author': 'ronnichka',\n",
       " 'bank_name': 'Югра',\n",
       " 'datetime': '2015-06-03 20:56:57',\n",
       " 'text': 'Здравствуйте! Хотела написать, что мне месяц не выдают карту ко вкладу, ссылаясь на \"нам же их из Самары везут\" (на секундочку 5 часов езды от нашего города). Но! Прочитала, что людям 3,5 месяцев не выдают карту, и поняла, что у меня все хорошо, пока что. И подарок мне дали, и кулер в отделении есть. Так что я, конечно, готова ждать. Правда хотелось бы не очень долго.',\n",
       " 'rating_grade': 3}"
      ]
     },
     "execution_count": 3,
     "metadata": {},
     "output_type": "execute_result"
    }
   ],
   "source": [
    "responses[99]"
   ]
  },
  {
   "cell_type": "code",
   "execution_count": 8,
   "metadata": {},
   "outputs": [
    {
     "data": {
      "text/html": [
       "<div>\n",
       "<style scoped>\n",
       "    .dataframe tbody tr th:only-of-type {\n",
       "        vertical-align: middle;\n",
       "    }\n",
       "\n",
       "    .dataframe tbody tr th {\n",
       "        vertical-align: top;\n",
       "    }\n",
       "\n",
       "    .dataframe thead th {\n",
       "        text-align: right;\n",
       "    }\n",
       "</style>\n",
       "<table border=\"1\" class=\"dataframe\">\n",
       "  <thead>\n",
       "    <tr style=\"text-align: right;\">\n",
       "      <th></th>\n",
       "      <th>text</th>\n",
       "      <th>rating</th>\n",
       "    </tr>\n",
       "  </thead>\n",
       "  <tbody>\n",
       "    <tr>\n",
       "      <th>0</th>\n",
       "      <td>Добрый день! Я не являюсь клиентом банка и пор...</td>\n",
       "      <td>NaN</td>\n",
       "    </tr>\n",
       "    <tr>\n",
       "      <th>1</th>\n",
       "      <td>Доброго дня! Являюсь держателем зарплатной кар...</td>\n",
       "      <td>NaN</td>\n",
       "    </tr>\n",
       "    <tr>\n",
       "      <th>2</th>\n",
       "      <td>Здравствуйте!  Дублирую свое заявление от 03.0...</td>\n",
       "      <td>NaN</td>\n",
       "    </tr>\n",
       "    <tr>\n",
       "      <th>3</th>\n",
       "      <td>Добрый день!! Я открыл расчетный счет в СберБа...</td>\n",
       "      <td>NaN</td>\n",
       "    </tr>\n",
       "    <tr>\n",
       "      <th>4</th>\n",
       "      <td>04.03.2015 г. взяла кредит в вашем банке, заяв...</td>\n",
       "      <td>NaN</td>\n",
       "    </tr>\n",
       "  </tbody>\n",
       "</table>\n",
       "</div>"
      ],
      "text/plain": [
       "                                                text  rating\n",
       "0  Добрый день! Я не являюсь клиентом банка и пор...     NaN\n",
       "1  Доброго дня! Являюсь держателем зарплатной кар...     NaN\n",
       "2  Здравствуйте!  Дублирую свое заявление от 03.0...     NaN\n",
       "3  Добрый день!! Я открыл расчетный счет в СберБа...     NaN\n",
       "4  04.03.2015 г. взяла кредит в вашем банке, заяв...     NaN"
      ]
     },
     "execution_count": 8,
     "metadata": {},
     "output_type": "execute_result"
    }
   ],
   "source": [
    "# переводим загруженные данные в датафрейм\n",
    "resp_matrix = []\n",
    "for resp in responses:\n",
    "    resp_matrix.append([resp['text'],resp['rating_grade']])\n",
    "df = pd.DataFrame(resp_matrix,columns=['text','rating'])\n",
    "df.head()"
   ]
  },
  {
   "cell_type": "markdown",
   "metadata": {},
   "source": [
    "### 1. Разобьём всю коллекцию отзывов на предложения и отлемматизируем все слова."
   ]
  },
  {
   "cell_type": "code",
   "execution_count": 86,
   "metadata": {},
   "outputs": [],
   "source": [
    "corpus_sent = []\n",
    "for txt in df.text:\n",
    "    # убираем слова-сокращения типа \"руб.\" и \" г. \"(вместо \"г\" любая буква), чтобы не портить алгоритм разбивки на предложения\n",
    "    txt = re.sub(\"руб\\.\", '', txt)\n",
    "    txt = re.sub(\"Юр\\.\", 'юридическое ', txt)\n",
    "    txt = re.sub(\"юр\\.\", 'юридическое ', txt)\n",
    "    txt = re.sub(\"физ\\.\", 'физическое ', txt)\n",
    "    txt = re.sub(\"Физ\\.\", 'физическое ', txt)\n",
    "    txt = re.sub(\" [а-я]\\. \", ' ', txt)\n",
    "    # разбиваем на предложения\n",
    "    txt_spl = re.split(\"\\. |\\.\\.\\. |!|\\?\", txt)\n",
    "    # добавляем новые предложения в корпус предложений\n",
    "    corpus_sent+=txt_spl\n",
    "# очистим от пустых предложений\n",
    "corpus_sent = list(filter(None, corpus_sent))"
   ]
  },
  {
   "cell_type": "code",
   "execution_count": 87,
   "metadata": {},
   "outputs": [
    {
     "name": "stdout",
     "output_type": "stream",
     "text": [
      "Wall time: 15min 22s\n"
     ]
    }
   ],
   "source": [
    "%%time\n",
    "# очищаем предложения от мусора\n",
    "corpus_sent = list(map(words_only,corpus_sent))\n",
    "# очищаем предложения от стоп-слов\n",
    "corpus_sent = list(map(remove_stopwords,corpus_sent))\n",
    "# лемматизируем корпус предложений\n",
    "lem_txt_list = smart_lemmatize(corpus_sent,batch_size=10000,mystem=m)\n",
    "corpus_sent = join_lemm(lem_txt_list)\n",
    "# Удаляем из отлемматизированного текста стоп-леммы\n",
    "corpus_sent = list(map(remove_stoplemmas,corpus_sent))"
   ]
  },
  {
   "cell_type": "code",
   "execution_count": 92,
   "metadata": {},
   "outputs": [],
   "source": [
    "# запишем обработанный корпус предложений в файл\n",
    "MyFile = open('output.txt', 'w')\n",
    "for sentense in corpus_sent:\n",
    "    MyFile.write(sentense)\n",
    "    MyFile.write('\\n')\n",
    "MyFile.close()"
   ]
  },
  {
   "cell_type": "code",
   "execution_count": 94,
   "metadata": {},
   "outputs": [],
   "source": [
    "# ф-ция чтения файла в список\n",
    "def read2list(file):\n",
    "    # открываем файл в режиме чтения utf-8\n",
    "    file = open(file, 'r')\n",
    "    # читаем все строки и удаляем переводы строк\n",
    "    lines = file.readlines()\n",
    "    lines = [line.rstrip('\\n') for line in lines]\n",
    "    file.close()\n",
    "    return lines\n",
    "corpus_sent = read2list('output.txt')"
   ]
  },
  {
   "cell_type": "code",
   "execution_count": 150,
   "metadata": {},
   "outputs": [
    {
     "data": {
      "text/plain": [
       "['добрый день', 'я являться клиент банк поручитель кредитный договор являться какой либо другой лицо письменно оформлять отношение банк повод урегулирование чей либо задолженность']"
      ]
     },
     "execution_count": 150,
     "metadata": {},
     "output_type": "execute_result"
    }
   ],
   "source": [
    "corpus_sent[:2]"
   ]
  },
  {
   "cell_type": "markdown",
   "metadata": {},
   "source": [
    "### 2. Обучим по коллекции предложений word2vec"
   ]
  },
  {
   "cell_type": "code",
   "execution_count": 122,
   "metadata": {},
   "outputs": [],
   "source": [
    "# заворачиваем все отлематизированные отзывы в список, каждый элемент которого - список разбитого на слова предложения\n",
    "words_from_sent = [corpus_sent[i].split() for i in range(len(corpus_sent))]"
   ]
  },
  {
   "cell_type": "code",
   "execution_count": 149,
   "metadata": {},
   "outputs": [
    {
     "data": {
      "text/plain": [
       "[['добрый', 'день'], ['я', 'являться', 'клиент', 'банк', 'поручитель', 'кредитный', 'договор', 'являться', 'какой', 'либо', 'другой', 'лицо', 'письменно', 'оформлять', 'отношение', 'банк', 'повод', 'урегулирование', 'чей', 'либо', 'задолженность']]"
      ]
     },
     "execution_count": 149,
     "metadata": {},
     "output_type": "execute_result"
    }
   ],
   "source": [
    "words_from_sent[:2]"
   ]
  },
  {
   "cell_type": "code",
   "execution_count": 124,
   "metadata": {},
   "outputs": [
    {
     "name": "stdout",
     "output_type": "stream",
     "text": [
      "Wall time: 45.2 s\n"
     ]
    }
   ],
   "source": [
    "%%time\n",
    "# по умолчанию - модель skip-gram (SGNS), т.е. по слову предсказывается его контекст \n",
    "# (вероятные слова справа и слева по ширине контекстного окна)\n",
    "# процесс обцчения - подбор весов в нейронной сети, осуществляющей обучение-предсказание контекста\n",
    "# size - размерность обучаемого вектора (длина скрытого слоя)\n",
    "# window - размер окна контекста\n",
    "# min_count - мин.порог на частоту (отбрасываем слова частотностью ниже порога)\n",
    "# workers - для распараллеливания задачи\n",
    "model = Word2Vec(words_from_sent, vector_size=100, window=5, min_count=5, workers=4)\n",
    "model.save(\"case_1_task_6.model\")"
   ]
  },
  {
   "cell_type": "markdown",
   "metadata": {},
   "source": [
    "### 3. Приведём несколько удачных и неудачных примеров решения стандартных текстов для word2vec:"
   ]
  },
  {
   "cell_type": "code",
   "execution_count": 141,
   "metadata": {},
   "outputs": [
    {
     "name": "stdout",
     "output_type": "stream",
     "text": [
      "[('кд', 0.7705057263374329),\n",
      " ('соглашение', 0.7525549530982971),\n",
      " ('контракт', 0.7078739404678345),\n",
      " ('ДКП', 0.7068864703178406),\n",
      " ('допсоглашение', 0.6827666163444519),\n",
      " ('удбо', 0.6429632306098938),\n",
      " ('полис', 0.570100724697113),\n",
      " ('допник', 0.5474047660827637),\n",
      " ('дог', 0.5411660671234131),\n",
      " ('дкбо', 0.5392885804176331)]\n",
      "\n",
      "\n",
      "[('законодательство', 0.8622851967811584),\n",
      " ('фз', 0.8374890089035034),\n",
      " ('гк', 0.7376949191093445),\n",
      " ('кодекс', 0.7229976654052734),\n",
      " ('зозпп', 0.7125692963600159),\n",
      " ('норма', 0.7029560804367065),\n",
      " ('статья', 0.6862754821777344),\n",
      " ('ГПК', 0.6812851428985596),\n",
      " ('правило', 0.6758270859718323),\n",
      " ('конституция', 0.6637629270553589)]\n",
      "\n",
      "\n",
      "[('задолжность', 0.9123563766479492),\n",
      " ('долг', 0.8583141565322876),\n",
      " ('недоплата', 0.6700452566146851),\n",
      " ('просрочка', 0.6576327085494995),\n",
      " ('заложенность', 0.6426811218261719),\n",
      " ('штраф', 0.5779269337654114),\n",
      " ('перерасход', 0.5683619379997253),\n",
      " ('неустойка', 0.552131175994873),\n",
      " ('задолженость', 0.5398138761520386),\n",
      " ('овердрафт', 0.5236278176307678)]\n"
     ]
    }
   ],
   "source": [
    "# 1. Тест на определение ближайших (похожих по смыслу) слов\n",
    "# W2W-вектор к-либо слова: model.wv[\"договор\"]\n",
    "pprint(model.wv.most_similar(\"договор\"))\n",
    "print(\"\\n\")\n",
    "pprint(model.wv.most_similar(\"закон\"))\n",
    "print(\"\\n\")\n",
    "pprint(model.wv.most_similar(\"задолженность\"))"
   ]
  },
  {
   "cell_type": "code",
   "execution_count": 146,
   "metadata": {},
   "outputs": [
    {
     "name": "stdout",
     "output_type": "stream",
     "text": [
      "[('возлагать', 0.49648839235305786),\n",
      " ('невыполнение', 0.4806137681007385),\n",
      " ('выполнять', 0.45451197028160095),\n",
      " ('нарушение', 0.42858538031578064),\n",
      " ('выполнение', 0.4262755811214447),\n",
      " ('нарушаться', 0.42125093936920166),\n",
      " ('препятствовать', 0.4144633412361145),\n",
      " ('наплевать', 0.4059809744358063),\n",
      " ('принуждать', 0.4010668098926544),\n",
      " ('убыток', 0.40092381834983826)]\n",
      "\n",
      "\n",
      "[('заявка', 0.4612016975879669),\n",
      " ('проблема', 0.4255731403827667),\n",
      " ('информация', 0.42353853583335876),\n",
      " ('справка', 0.42013514041900635),\n",
      " ('бумага', 0.4165123701095581),\n",
      " ('вариант', 0.405070424079895),\n",
      " ('док', 0.4004081189632416),\n",
      " ('претензия', 0.3932012915611267),\n",
      " ('заявление', 0.39065080881118774),\n",
      " ('запрос', 0.38732418417930603)]\n"
     ]
    }
   ],
   "source": [
    "# 2. Тест на аналогии (мужчина – король : женщина – королева)\n",
    "pprint(model.wv.most_similar(positive=[\"нарушать\",\"ответственность\"], negative=[\"закон\"]))\n",
    "print(\"\\n\")\n",
    "pprint(model.wv.most_similar(positive=[\"документ\",\"вопрос\"], negative=[\"подлинность\"]))"
   ]
  },
  {
   "cell_type": "code",
   "execution_count": 148,
   "metadata": {},
   "outputs": [
    {
     "data": {
      "text/plain": [
       "'пирожок'"
      ]
     },
     "execution_count": 148,
     "metadata": {},
     "output_type": "execute_result"
    }
   ],
   "source": [
    "# 3. Тест на определение лишнего слова\n",
    "model.wv.doesnt_match(\"договор заявка подлинность прекращение пирожок\".split())"
   ]
  },
  {
   "cell_type": "markdown",
   "metadata": {},
   "source": [
    "### 4. Кластеризация встречающихся слов"
   ]
  },
  {
   "cell_type": "code",
   "execution_count": 154,
   "metadata": {},
   "outputs": [],
   "source": [
    "#выведем 500 самых встречающихся слов\n",
    "top_words = []\n",
    "fd = FreqDist()\n",
    "for text in words_from_sent:\n",
    "    fd.update(text)\n",
    "for i in fd.most_common(500):\n",
    "    top_words.append(i[0])"
   ]
  },
  {
   "cell_type": "code",
   "execution_count": 158,
   "metadata": {},
   "outputs": [],
   "source": [
    "# переведем все топовые слова в word2vec представлении\n",
    "top_words_vec = model.wv[top_words]\n",
    "# уменьшаем размерность до 2 с помощью TSNE для последующей отрисовки\n",
    "tsne = TSNE(n_components=2, random_state=0)\n",
    "top_words_tsne = tsne.fit_transform(top_words_vec)"
   ]
  },
  {
   "cell_type": "code",
   "execution_count": 160,
   "metadata": {},
   "outputs": [
    {
     "data": {
      "text/html": [
       "\n",
       "    <div class=\"bk-root\">\n",
       "        <a href=\"https://bokeh.org\" target=\"_blank\" class=\"bk-logo bk-logo-small bk-logo-notebook\"></a>\n",
       "        <span id=\"1094\">Loading BokehJS ...</span>\n",
       "    </div>"
      ]
     },
     "metadata": {},
     "output_type": "display_data"
    },
    {
     "data": {
      "application/javascript": [
       "\n",
       "(function(root) {\n",
       "  function now() {\n",
       "    return new Date();\n",
       "  }\n",
       "\n",
       "  const force = true;\n",
       "\n",
       "  if (typeof root._bokeh_onload_callbacks === \"undefined\" || force === true) {\n",
       "    root._bokeh_onload_callbacks = [];\n",
       "    root._bokeh_is_loading = undefined;\n",
       "  }\n",
       "\n",
       "  const JS_MIME_TYPE = 'application/javascript';\n",
       "  const HTML_MIME_TYPE = 'text/html';\n",
       "  const EXEC_MIME_TYPE = 'application/vnd.bokehjs_exec.v0+json';\n",
       "  const CLASS_NAME = 'output_bokeh rendered_html';\n",
       "\n",
       "  /**\n",
       "   * Render data to the DOM node\n",
       "   */\n",
       "  function render(props, node) {\n",
       "    const script = document.createElement(\"script\");\n",
       "    node.appendChild(script);\n",
       "  }\n",
       "\n",
       "  /**\n",
       "   * Handle when an output is cleared or removed\n",
       "   */\n",
       "  function handleClearOutput(event, handle) {\n",
       "    const cell = handle.cell;\n",
       "\n",
       "    const id = cell.output_area._bokeh_element_id;\n",
       "    const server_id = cell.output_area._bokeh_server_id;\n",
       "    // Clean up Bokeh references\n",
       "    if (id != null && id in Bokeh.index) {\n",
       "      Bokeh.index[id].model.document.clear();\n",
       "      delete Bokeh.index[id];\n",
       "    }\n",
       "\n",
       "    if (server_id !== undefined) {\n",
       "      // Clean up Bokeh references\n",
       "      const cmd_clean = \"from bokeh.io.state import curstate; print(curstate().uuid_to_server['\" + server_id + \"'].get_sessions()[0].document.roots[0]._id)\";\n",
       "      cell.notebook.kernel.execute(cmd_clean, {\n",
       "        iopub: {\n",
       "          output: function(msg) {\n",
       "            const id = msg.content.text.trim();\n",
       "            if (id in Bokeh.index) {\n",
       "              Bokeh.index[id].model.document.clear();\n",
       "              delete Bokeh.index[id];\n",
       "            }\n",
       "          }\n",
       "        }\n",
       "      });\n",
       "      // Destroy server and session\n",
       "      const cmd_destroy = \"import bokeh.io.notebook as ion; ion.destroy_server('\" + server_id + \"')\";\n",
       "      cell.notebook.kernel.execute(cmd_destroy);\n",
       "    }\n",
       "  }\n",
       "\n",
       "  /**\n",
       "   * Handle when a new output is added\n",
       "   */\n",
       "  function handleAddOutput(event, handle) {\n",
       "    const output_area = handle.output_area;\n",
       "    const output = handle.output;\n",
       "\n",
       "    // limit handleAddOutput to display_data with EXEC_MIME_TYPE content only\n",
       "    if ((output.output_type != \"display_data\") || (!Object.prototype.hasOwnProperty.call(output.data, EXEC_MIME_TYPE))) {\n",
       "      return\n",
       "    }\n",
       "\n",
       "    const toinsert = output_area.element.find(\".\" + CLASS_NAME.split(' ')[0]);\n",
       "\n",
       "    if (output.metadata[EXEC_MIME_TYPE][\"id\"] !== undefined) {\n",
       "      toinsert[toinsert.length - 1].firstChild.textContent = output.data[JS_MIME_TYPE];\n",
       "      // store reference to embed id on output_area\n",
       "      output_area._bokeh_element_id = output.metadata[EXEC_MIME_TYPE][\"id\"];\n",
       "    }\n",
       "    if (output.metadata[EXEC_MIME_TYPE][\"server_id\"] !== undefined) {\n",
       "      const bk_div = document.createElement(\"div\");\n",
       "      bk_div.innerHTML = output.data[HTML_MIME_TYPE];\n",
       "      const script_attrs = bk_div.children[0].attributes;\n",
       "      for (let i = 0; i < script_attrs.length; i++) {\n",
       "        toinsert[toinsert.length - 1].firstChild.setAttribute(script_attrs[i].name, script_attrs[i].value);\n",
       "        toinsert[toinsert.length - 1].firstChild.textContent = bk_div.children[0].textContent\n",
       "      }\n",
       "      // store reference to server id on output_area\n",
       "      output_area._bokeh_server_id = output.metadata[EXEC_MIME_TYPE][\"server_id\"];\n",
       "    }\n",
       "  }\n",
       "\n",
       "  function register_renderer(events, OutputArea) {\n",
       "\n",
       "    function append_mime(data, metadata, element) {\n",
       "      // create a DOM node to render to\n",
       "      const toinsert = this.create_output_subarea(\n",
       "        metadata,\n",
       "        CLASS_NAME,\n",
       "        EXEC_MIME_TYPE\n",
       "      );\n",
       "      this.keyboard_manager.register_events(toinsert);\n",
       "      // Render to node\n",
       "      const props = {data: data, metadata: metadata[EXEC_MIME_TYPE]};\n",
       "      render(props, toinsert[toinsert.length - 1]);\n",
       "      element.append(toinsert);\n",
       "      return toinsert\n",
       "    }\n",
       "\n",
       "    /* Handle when an output is cleared or removed */\n",
       "    events.on('clear_output.CodeCell', handleClearOutput);\n",
       "    events.on('delete.Cell', handleClearOutput);\n",
       "\n",
       "    /* Handle when a new output is added */\n",
       "    events.on('output_added.OutputArea', handleAddOutput);\n",
       "\n",
       "    /**\n",
       "     * Register the mime type and append_mime function with output_area\n",
       "     */\n",
       "    OutputArea.prototype.register_mime_type(EXEC_MIME_TYPE, append_mime, {\n",
       "      /* Is output safe? */\n",
       "      safe: true,\n",
       "      /* Index of renderer in `output_area.display_order` */\n",
       "      index: 0\n",
       "    });\n",
       "  }\n",
       "\n",
       "  // register the mime type if in Jupyter Notebook environment and previously unregistered\n",
       "  if (root.Jupyter !== undefined) {\n",
       "    const events = require('base/js/events');\n",
       "    const OutputArea = require('notebook/js/outputarea').OutputArea;\n",
       "\n",
       "    if (OutputArea.prototype.mime_types().indexOf(EXEC_MIME_TYPE) == -1) {\n",
       "      register_renderer(events, OutputArea);\n",
       "    }\n",
       "  }\n",
       "\n",
       "  \n",
       "  if (typeof (root._bokeh_timeout) === \"undefined\" || force === true) {\n",
       "    root._bokeh_timeout = Date.now() + 5000;\n",
       "    root._bokeh_failed_load = false;\n",
       "  }\n",
       "\n",
       "  const NB_LOAD_WARNING = {'data': {'text/html':\n",
       "     \"<div style='background-color: #fdd'>\\n\"+\n",
       "     \"<p>\\n\"+\n",
       "     \"BokehJS does not appear to have successfully loaded. If loading BokehJS from CDN, this \\n\"+\n",
       "     \"may be due to a slow or bad network connection. Possible fixes:\\n\"+\n",
       "     \"</p>\\n\"+\n",
       "     \"<ul>\\n\"+\n",
       "     \"<li>re-rerun `output_notebook()` to attempt to load from CDN again, or</li>\\n\"+\n",
       "     \"<li>use INLINE resources instead, as so:</li>\\n\"+\n",
       "     \"</ul>\\n\"+\n",
       "     \"<code>\\n\"+\n",
       "     \"from bokeh.resources import INLINE\\n\"+\n",
       "     \"output_notebook(resources=INLINE)\\n\"+\n",
       "     \"</code>\\n\"+\n",
       "     \"</div>\"}};\n",
       "\n",
       "  function display_loaded() {\n",
       "    const el = document.getElementById(\"1094\");\n",
       "    if (el != null) {\n",
       "      el.textContent = \"BokehJS is loading...\";\n",
       "    }\n",
       "    if (root.Bokeh !== undefined) {\n",
       "      if (el != null) {\n",
       "        el.textContent = \"BokehJS \" + root.Bokeh.version + \" successfully loaded.\";\n",
       "      }\n",
       "    } else if (Date.now() < root._bokeh_timeout) {\n",
       "      setTimeout(display_loaded, 100)\n",
       "    }\n",
       "  }\n",
       "\n",
       "\n",
       "  function run_callbacks() {\n",
       "    try {\n",
       "      root._bokeh_onload_callbacks.forEach(function(callback) {\n",
       "        if (callback != null)\n",
       "          callback();\n",
       "      });\n",
       "    } finally {\n",
       "      delete root._bokeh_onload_callbacks\n",
       "    }\n",
       "    console.debug(\"Bokeh: all callbacks have finished\");\n",
       "  }\n",
       "\n",
       "  function load_libs(css_urls, js_urls, callback) {\n",
       "    if (css_urls == null) css_urls = [];\n",
       "    if (js_urls == null) js_urls = [];\n",
       "\n",
       "    root._bokeh_onload_callbacks.push(callback);\n",
       "    if (root._bokeh_is_loading > 0) {\n",
       "      console.debug(\"Bokeh: BokehJS is being loaded, scheduling callback at\", now());\n",
       "      return null;\n",
       "    }\n",
       "    if (js_urls == null || js_urls.length === 0) {\n",
       "      run_callbacks();\n",
       "      return null;\n",
       "    }\n",
       "    console.debug(\"Bokeh: BokehJS not loaded, scheduling load and callback at\", now());\n",
       "    root._bokeh_is_loading = css_urls.length + js_urls.length;\n",
       "\n",
       "    function on_load() {\n",
       "      root._bokeh_is_loading--;\n",
       "      if (root._bokeh_is_loading === 0) {\n",
       "        console.debug(\"Bokeh: all BokehJS libraries/stylesheets loaded\");\n",
       "        run_callbacks()\n",
       "      }\n",
       "    }\n",
       "\n",
       "    function on_error(url) {\n",
       "      console.error(\"failed to load \" + url);\n",
       "    }\n",
       "\n",
       "    for (let i = 0; i < css_urls.length; i++) {\n",
       "      const url = css_urls[i];\n",
       "      const element = document.createElement(\"link\");\n",
       "      element.onload = on_load;\n",
       "      element.onerror = on_error.bind(null, url);\n",
       "      element.rel = \"stylesheet\";\n",
       "      element.type = \"text/css\";\n",
       "      element.href = url;\n",
       "      console.debug(\"Bokeh: injecting link tag for BokehJS stylesheet: \", url);\n",
       "      document.body.appendChild(element);\n",
       "    }\n",
       "\n",
       "    for (let i = 0; i < js_urls.length; i++) {\n",
       "      const url = js_urls[i];\n",
       "      const element = document.createElement('script');\n",
       "      element.onload = on_load;\n",
       "      element.onerror = on_error.bind(null, url);\n",
       "      element.async = false;\n",
       "      element.src = url;\n",
       "      console.debug(\"Bokeh: injecting script tag for BokehJS library: \", url);\n",
       "      document.head.appendChild(element);\n",
       "    }\n",
       "  };\n",
       "\n",
       "  function inject_raw_css(css) {\n",
       "    const element = document.createElement(\"style\");\n",
       "    element.appendChild(document.createTextNode(css));\n",
       "    document.body.appendChild(element);\n",
       "  }\n",
       "\n",
       "  \n",
       "  const js_urls = [\"https://cdn.bokeh.org/bokeh/release/bokeh-2.4.1.min.js\", \"https://cdn.bokeh.org/bokeh/release/bokeh-gl-2.4.1.min.js\", \"https://cdn.bokeh.org/bokeh/release/bokeh-widgets-2.4.1.min.js\", \"https://cdn.bokeh.org/bokeh/release/bokeh-tables-2.4.1.min.js\", \"https://cdn.bokeh.org/bokeh/release/bokeh-mathjax-2.4.1.min.js\"];\n",
       "  const css_urls = [];\n",
       "  \n",
       "\n",
       "  const inline_js = [\n",
       "    function(Bokeh) {\n",
       "      Bokeh.set_log_level(\"info\");\n",
       "    },\n",
       "    function(Bokeh) {\n",
       "    \n",
       "    \n",
       "    }\n",
       "  ];\n",
       "\n",
       "  function run_inline_js() {\n",
       "    \n",
       "    if (root.Bokeh !== undefined || force === true) {\n",
       "      \n",
       "    for (let i = 0; i < inline_js.length; i++) {\n",
       "      inline_js[i].call(root, root.Bokeh);\n",
       "    }\n",
       "    if (force === true) {\n",
       "        display_loaded();\n",
       "      }} else if (Date.now() < root._bokeh_timeout) {\n",
       "      setTimeout(run_inline_js, 100);\n",
       "    } else if (!root._bokeh_failed_load) {\n",
       "      console.log(\"Bokeh: BokehJS failed to load within specified timeout.\");\n",
       "      root._bokeh_failed_load = true;\n",
       "    } else if (force !== true) {\n",
       "      const cell = $(document.getElementById(\"1094\")).parents('.cell').data().cell;\n",
       "      cell.output_area.append_execute_result(NB_LOAD_WARNING)\n",
       "    }\n",
       "\n",
       "  }\n",
       "\n",
       "  if (root._bokeh_is_loading === 0) {\n",
       "    console.debug(\"Bokeh: BokehJS loaded, going straight to plotting\");\n",
       "    run_inline_js();\n",
       "  } else {\n",
       "    load_libs(css_urls, js_urls, function() {\n",
       "      console.debug(\"Bokeh: BokehJS plotting callback run at\", now());\n",
       "      run_inline_js();\n",
       "    });\n",
       "  }\n",
       "}(window));"
      ],
      "application/vnd.bokehjs_load.v0+json": "\n(function(root) {\n  function now() {\n    return new Date();\n  }\n\n  const force = true;\n\n  if (typeof root._bokeh_onload_callbacks === \"undefined\" || force === true) {\n    root._bokeh_onload_callbacks = [];\n    root._bokeh_is_loading = undefined;\n  }\n\n  \n\n  \n  if (typeof (root._bokeh_timeout) === \"undefined\" || force === true) {\n    root._bokeh_timeout = Date.now() + 5000;\n    root._bokeh_failed_load = false;\n  }\n\n  const NB_LOAD_WARNING = {'data': {'text/html':\n     \"<div style='background-color: #fdd'>\\n\"+\n     \"<p>\\n\"+\n     \"BokehJS does not appear to have successfully loaded. If loading BokehJS from CDN, this \\n\"+\n     \"may be due to a slow or bad network connection. Possible fixes:\\n\"+\n     \"</p>\\n\"+\n     \"<ul>\\n\"+\n     \"<li>re-rerun `output_notebook()` to attempt to load from CDN again, or</li>\\n\"+\n     \"<li>use INLINE resources instead, as so:</li>\\n\"+\n     \"</ul>\\n\"+\n     \"<code>\\n\"+\n     \"from bokeh.resources import INLINE\\n\"+\n     \"output_notebook(resources=INLINE)\\n\"+\n     \"</code>\\n\"+\n     \"</div>\"}};\n\n  function display_loaded() {\n    const el = document.getElementById(\"1094\");\n    if (el != null) {\n      el.textContent = \"BokehJS is loading...\";\n    }\n    if (root.Bokeh !== undefined) {\n      if (el != null) {\n        el.textContent = \"BokehJS \" + root.Bokeh.version + \" successfully loaded.\";\n      }\n    } else if (Date.now() < root._bokeh_timeout) {\n      setTimeout(display_loaded, 100)\n    }\n  }\n\n\n  function run_callbacks() {\n    try {\n      root._bokeh_onload_callbacks.forEach(function(callback) {\n        if (callback != null)\n          callback();\n      });\n    } finally {\n      delete root._bokeh_onload_callbacks\n    }\n    console.debug(\"Bokeh: all callbacks have finished\");\n  }\n\n  function load_libs(css_urls, js_urls, callback) {\n    if (css_urls == null) css_urls = [];\n    if (js_urls == null) js_urls = [];\n\n    root._bokeh_onload_callbacks.push(callback);\n    if (root._bokeh_is_loading > 0) {\n      console.debug(\"Bokeh: BokehJS is being loaded, scheduling callback at\", now());\n      return null;\n    }\n    if (js_urls == null || js_urls.length === 0) {\n      run_callbacks();\n      return null;\n    }\n    console.debug(\"Bokeh: BokehJS not loaded, scheduling load and callback at\", now());\n    root._bokeh_is_loading = css_urls.length + js_urls.length;\n\n    function on_load() {\n      root._bokeh_is_loading--;\n      if (root._bokeh_is_loading === 0) {\n        console.debug(\"Bokeh: all BokehJS libraries/stylesheets loaded\");\n        run_callbacks()\n      }\n    }\n\n    function on_error(url) {\n      console.error(\"failed to load \" + url);\n    }\n\n    for (let i = 0; i < css_urls.length; i++) {\n      const url = css_urls[i];\n      const element = document.createElement(\"link\");\n      element.onload = on_load;\n      element.onerror = on_error.bind(null, url);\n      element.rel = \"stylesheet\";\n      element.type = \"text/css\";\n      element.href = url;\n      console.debug(\"Bokeh: injecting link tag for BokehJS stylesheet: \", url);\n      document.body.appendChild(element);\n    }\n\n    for (let i = 0; i < js_urls.length; i++) {\n      const url = js_urls[i];\n      const element = document.createElement('script');\n      element.onload = on_load;\n      element.onerror = on_error.bind(null, url);\n      element.async = false;\n      element.src = url;\n      console.debug(\"Bokeh: injecting script tag for BokehJS library: \", url);\n      document.head.appendChild(element);\n    }\n  };\n\n  function inject_raw_css(css) {\n    const element = document.createElement(\"style\");\n    element.appendChild(document.createTextNode(css));\n    document.body.appendChild(element);\n  }\n\n  \n  const js_urls = [\"https://cdn.bokeh.org/bokeh/release/bokeh-2.4.1.min.js\", \"https://cdn.bokeh.org/bokeh/release/bokeh-gl-2.4.1.min.js\", \"https://cdn.bokeh.org/bokeh/release/bokeh-widgets-2.4.1.min.js\", \"https://cdn.bokeh.org/bokeh/release/bokeh-tables-2.4.1.min.js\", \"https://cdn.bokeh.org/bokeh/release/bokeh-mathjax-2.4.1.min.js\"];\n  const css_urls = [];\n  \n\n  const inline_js = [\n    function(Bokeh) {\n      Bokeh.set_log_level(\"info\");\n    },\n    function(Bokeh) {\n    \n    \n    }\n  ];\n\n  function run_inline_js() {\n    \n    if (root.Bokeh !== undefined || force === true) {\n      \n    for (let i = 0; i < inline_js.length; i++) {\n      inline_js[i].call(root, root.Bokeh);\n    }\n    if (force === true) {\n        display_loaded();\n      }} else if (Date.now() < root._bokeh_timeout) {\n      setTimeout(run_inline_js, 100);\n    } else if (!root._bokeh_failed_load) {\n      console.log(\"Bokeh: BokehJS failed to load within specified timeout.\");\n      root._bokeh_failed_load = true;\n    } else if (force !== true) {\n      const cell = $(document.getElementById(\"1094\")).parents('.cell').data().cell;\n      cell.output_area.append_execute_result(NB_LOAD_WARNING)\n    }\n\n  }\n\n  if (root._bokeh_is_loading === 0) {\n    console.debug(\"Bokeh: BokehJS loaded, going straight to plotting\");\n    run_inline_js();\n  } else {\n    load_libs(css_urls, js_urls, function() {\n      console.debug(\"Bokeh: BokehJS plotting callback run at\", now());\n      run_inline_js();\n    });\n  }\n}(window));"
     },
     "metadata": {},
     "output_type": "display_data"
    },
    {
     "data": {
      "text/html": [
       "\n",
       "\n",
       "\n",
       "\n",
       "\n",
       "\n",
       "  <div class=\"bk-root\" id=\"ba871600-7c84-4463-acb2-4a2eefab6439\" data-root-id=\"1095\"></div>\n"
      ]
     },
     "metadata": {},
     "output_type": "display_data"
    },
    {
     "data": {
      "application/javascript": [
       "(function(root) {\n",
       "  function embed_document(root) {\n",
       "    \n",
       "  const docs_json = {\"f7fd8cb0-f119-4a4a-8f04-34f258e36998\":{\"defs\":[],\"roots\":{\"references\":[{\"attributes\":{\"below\":[{\"id\":\"1106\"}],\"center\":[{\"id\":\"1109\"},{\"id\":\"1113\"},{\"id\":\"1130\"}],\"left\":[{\"id\":\"1110\"}],\"renderers\":[{\"id\":\"1128\"}],\"title\":{\"id\":\"1096\"},\"toolbar\":{\"id\":\"1118\"},\"toolbar_location\":\"above\",\"x_range\":{\"id\":\"1098\"},\"x_scale\":{\"id\":\"1102\"},\"y_range\":{\"id\":\"1100\"},\"y_scale\":{\"id\":\"1104\"}},\"id\":\"1095\",\"subtype\":\"Figure\",\"type\":\"Plot\"},{\"attributes\":{\"tools\":[{\"id\":\"1114\"},{\"id\":\"1115\"},{\"id\":\"1116\"},{\"id\":\"1117\"}]},\"id\":\"1118\",\"type\":\"Toolbar\"},{\"attributes\":{\"fill_alpha\":{\"value\":0.1},\"fill_color\":{\"value\":\"#1f77b4\"},\"hatch_alpha\":{\"value\":0.1},\"line_alpha\":{\"value\":0.1},\"line_color\":{\"value\":\"#1f77b4\"},\"size\":{\"value\":8},\"x\":{\"field\":\"x1\"},\"y\":{\"field\":\"x2\"}},\"id\":\"1126\",\"type\":\"Scatter\"},{\"attributes\":{\"coordinates\":null,\"group\":null,\"source\":{\"id\":\"1123\"},\"text\":{\"field\":\"names\"},\"text_align\":{\"value\":\"center\"},\"text_color\":{\"value\":\"#555555\"},\"text_font_size\":{\"value\":\"8pt\"},\"x\":{\"field\":\"x1\"},\"y\":{\"field\":\"x2\"},\"y_offset\":{\"value\":6}},\"id\":\"1130\",\"type\":\"LabelSet\"},{\"attributes\":{\"coordinates\":null,\"data_source\":{\"id\":\"1123\"},\"glyph\":{\"id\":\"1125\"},\"group\":null,\"hover_glyph\":null,\"muted_glyph\":{\"id\":\"1127\"},\"nonselection_glyph\":{\"id\":\"1126\"},\"view\":{\"id\":\"1129\"}},\"id\":\"1128\",\"type\":\"GlyphRenderer\"},{\"attributes\":{\"fill_alpha\":{\"value\":0.2},\"fill_color\":{\"value\":\"#1f77b4\"},\"hatch_alpha\":{\"value\":0.2},\"line_alpha\":{\"value\":0.2},\"line_color\":{\"value\":\"#1f77b4\"},\"size\":{\"value\":8},\"x\":{\"field\":\"x1\"},\"y\":{\"field\":\"x2\"}},\"id\":\"1127\",\"type\":\"Scatter\"},{\"attributes\":{},\"id\":\"1147\",\"type\":\"AllLabels\"},{\"attributes\":{},\"id\":\"1111\",\"type\":\"BasicTicker\"},{\"attributes\":{},\"id\":\"1107\",\"type\":\"BasicTicker\"},{\"attributes\":{\"coordinates\":null,\"formatter\":{\"id\":\"1146\"},\"group\":null,\"major_label_policy\":{\"id\":\"1147\"},\"ticker\":{\"id\":\"1107\"}},\"id\":\"1106\",\"type\":\"LinearAxis\"},{\"attributes\":{\"axis\":{\"id\":\"1106\"},\"coordinates\":null,\"group\":null,\"ticker\":null},\"id\":\"1109\",\"type\":\"Grid\"},{\"attributes\":{\"source\":{\"id\":\"1123\"}},\"id\":\"1129\",\"type\":\"CDSView\"},{\"attributes\":{\"axis\":{\"id\":\"1110\"},\"coordinates\":null,\"dimension\":1,\"group\":null,\"ticker\":null},\"id\":\"1113\",\"type\":\"Grid\"},{\"attributes\":{},\"id\":\"1104\",\"type\":\"LinearScale\"},{\"attributes\":{\"coordinates\":null,\"formatter\":{\"id\":\"1143\"},\"group\":null,\"major_label_policy\":{\"id\":\"1144\"},\"ticker\":{\"id\":\"1111\"}},\"id\":\"1110\",\"type\":\"LinearAxis\"},{\"attributes\":{},\"id\":\"1116\",\"type\":\"ResetTool\"},{\"attributes\":{},\"id\":\"1098\",\"type\":\"DataRange1d\"},{\"attributes\":{},\"id\":\"1115\",\"type\":\"WheelZoomTool\"},{\"attributes\":{},\"id\":\"1117\",\"type\":\"SaveTool\"},{\"attributes\":{},\"id\":\"1114\",\"type\":\"PanTool\"},{\"attributes\":{},\"id\":\"1148\",\"type\":\"UnionRenderers\"},{\"attributes\":{\"coordinates\":null,\"group\":null,\"text\":\"word2vec T-SNE for most common words\"},\"id\":\"1096\",\"type\":\"Title\"},{\"attributes\":{},\"id\":\"1146\",\"type\":\"BasicTickFormatter\"},{\"attributes\":{},\"id\":\"1100\",\"type\":\"DataRange1d\"},{\"attributes\":{},\"id\":\"1143\",\"type\":\"BasicTickFormatter\"},{\"attributes\":{},\"id\":\"1102\",\"type\":\"LinearScale\"},{\"attributes\":{},\"id\":\"1144\",\"type\":\"AllLabels\"},{\"attributes\":{\"fill_color\":{\"value\":\"#1f77b4\"},\"line_color\":{\"value\":\"#1f77b4\"},\"size\":{\"value\":8},\"x\":{\"field\":\"x1\"},\"y\":{\"field\":\"x2\"}},\"id\":\"1125\",\"type\":\"Scatter\"},{\"attributes\":{},\"id\":\"1149\",\"type\":\"Selection\"},{\"attributes\":{\"data\":{\"names\":[\"\\u0431\\u0430\\u043d\\u043a\",\"\\u043a\\u0430\\u0440\\u0442\\u0430\",\")\",\"(\",\":\",\"\\u044f\",\"\\u0434\\u0435\\u043d\\u044c\\u0433\\u0438\",\"\\u0434\\u0435\\u043d\\u044c\",\"\\u043c\\u043e\\u0439\",\"\\u0432\",\"\\u043a\\u0440\\u0435\\u0434\\u0438\\u0442\",\"\\u043e\\u0442\\u0434\\u0435\\u043b\\u0435\\u043d\\u0438\\u0435\",\"\\u043a\\u043b\\u0438\\u0435\\u043d\\u0442\",\"\\u0441\\u043e\\u0442\\u0440\\u0443\\u0434\\u043d\\u0438\\u043a\",\"\\u0441\\u0447\\u0435\\u0442\",\"\\u0441\\u043a\\u0430\\u0437\\u0430\\u0442\\u044c\",\"\\u0441\\u0443\\u043c\\u043c\\u0430\",\"\\u043f\\u043e\\u043b\\u0443\\u0447\\u0430\\u0442\\u044c\",\"\\u0437\\u0430\\u044f\\u0432\\u043b\\u0435\\u043d\\u0438\\u0435\",\"\\u0433\\u043e\\u0434\",\"\\u0432\\u043e\\u043f\\u0440\\u043e\\u0441\",\"\\u0432\\u0440\\u0435\\u043c\\u044f\",\"\\u043a\\u0440\\u0435\\u0434\\u0438\\u0442\\u043d\\u044b\\u0439\",\"\\u043f\\u0440\\u0438\\u0445\\u043e\\u0434\\u0438\\u0442\\u044c\",\"\\u0438\",\"\\u043e\\u0442\\u0432\\u0435\\u0442\",\"\\u0432\\u043a\\u043b\\u0430\\u0434\",\"\\u043e\\u0444\\u0438\\u0441\",\"\\u0434\\u0430\\u043d\\u043d\\u044b\\u0439\",\"\\u0442\\u0435\\u043b\\u0435\\u0444\\u043e\\u043d\",\"\\u043f\\u043b\\u0430\\u0442\\u0435\\u0436\",\"\\u0434\\u043e\\u0433\\u043e\\u0432\\u043e\\u0440\",\"\\u0432\\u0430\\u0448\",\"\\u043d\\u043e\\u043c\\u0435\\u0440\",\"\\u0437\\u0432\\u043e\\u043d\\u0438\\u0442\\u044c\",\"\\u043d\\u0430\",\"\\u0431\\u0430\\u043d\\u043a\\u043e\\u043c\\u0430\\u0442\",\"\\u0430\",\"\\u0441\\u0431\\u0435\\u0440\\u0431\\u0430\\u043d\\u043a\",\"\\u0431\\u044b\\u0442\\u044c\",\"\\u043e\\u0447\\u0435\\u043d\\u044c\",\"\\u043f\\u043e\\u0437\\u0432\\u043e\\u043d\\u0438\\u0442\\u044c\",\"\\u043c\\u0435\\u0441\\u044f\\u0446\",\"\\u043d\\u0430\\u043f\\u0438\\u0441\\u0430\\u0442\\u044c\",\"\\u0432\\u044b\",\"\\u043a\\u0430\\u043a\\u043e\\u0439\",\"\\u043f\\u0440\\u043e\\u0431\\u043b\\u0435\\u043c\\u0430\",\"\\u0434\\u0440\\u0443\\u0433\\u043e\\u0439\",\"\\u043e\\u0431\\u0440\\u0430\\u0449\\u0430\\u0442\\u044c\\u0441\\u044f\",\"\\u0440\\u0435\\u0448\\u0430\\u0442\\u044c\",\"\\u0440\\u0430\\u0431\\u043e\\u0442\\u0430\\u0442\\u044c\",\"\\u0441\\u0440\\u0435\\u0434\\u0441\\u0442\\u0432\\u043e\",\"\\u043d\\u043e\",\"\\u0440\\u0443\\u0431\\u043b\\u044c\",\"\\u0440\\u0430\\u0431\\u043e\\u0442\\u0430\",\"/\",\"\\u0434\\u043e\\u043a\\u0443\\u043c\\u0435\\u043d\\u0442\",\"\\u043e\\u0434\\u0438\\u043d\",\"\\u0441\\u0438\\u0442\\u0443\\u0430\\u0446\\u0438\\u044f\",\"\\u0437\\u0432\\u043e\\u043d\\u043e\\u043a\",\"\\u043e\\u0442\\u0432\\u0435\\u0447\\u0430\\u0442\\u044c\",\"\\u0433\\u043e\\u0432\\u043e\\u0440\\u0438\\u0442\\u044c\",\"\\u0447\\u0435\\u043b\\u043e\\u0432\\u0435\\u043a\",\"\\u0445\\u043e\\u0442\\u0435\\u0442\\u044c\",\"\\u043e\\u043f\\u0435\\u0440\\u0430\\u0446\\u0438\\u044f\",\"\\u043f\\u043e\\u0447\\u0435\\u043c\\u0443\",\"\\u0434\\u0430\\u0432\\u0430\\u0442\\u044c\",\"\\u0438\\u043d\\u0444\\u043e\\u0440\\u043c\\u0430\\u0446\\u0438\\u044f\",\"\\u0441\\u043e\\u043e\\u0431\\u0449\\u0430\\u0442\\u044c\",\"\\u0441\\u0434\\u0435\\u043b\\u0430\\u0442\\u044c\",\"\\u0441\\u043c\\u0441\",\"\\u043e\\u0444\\u043e\\u0440\\u043c\\u043b\\u044f\\u0442\\u044c\",\"\\u0441\\u0440\\u043e\\u043a\",\"\\u0443\\u0441\\u043b\\u0443\\u0433\\u0430\",\"\\u043f\\u0440\\u043e\\u0441\\u0442\\u043e\",\"\\u0437\\u043d\\u0430\\u0442\\u044c\",\"\\u0434\\u043e\\u043b\\u0436\\u043d\\u044b\\u0439\",\"\\u0437\\u0430\\u044f\\u0432\\u043a\\u0430\",\"\\u043e\\u0431\\u0441\\u043b\\u0443\\u0436\\u0438\\u0432\\u0430\\u043d\\u0438\\u0435\",\"\\u0431\\u0430\\u043d\\u043a\\u0430\",\"\\u043e\\u0447\\u0435\\u0440\\u0435\\u0434\\u044c\",\"\\u043c\\u0438\\u043d\\u0443\\u0442\\u0430\",\"\\u044d\\u0442\\u043e\\u0442\",\"\\u0441\\u0435\\u0433\\u043e\\u0434\\u043d\\u044f\",\"\\u043f\\u0435\\u0440\\u0432\\u044b\\u0439\",\"\\u0434\\u0435\\u0432\\u0443\\u0448\\u043a\\u0430\",\"\\u0436\\u0434\\u0430\\u0442\\u044c\",\"\\u0441\\u0430\\u0439\\u0442\",\"\\u043f\\u0440\\u0435\\u0442\\u0435\\u043d\\u0437\\u0438\\u044f\",\"\\u043d\\u0435\",\"\\u0442\\u043e\\u0442\",\"\\u043f\\u0440\\u043e\\u0441\\u0438\\u0442\\u044c\",\"\\u043d\\u043e\\u0432\\u044b\\u0439\",\"\\u0438\\u043d\\u0442\\u0435\\u0440\\u043d\\u0435\\u0442\",\"\\u043f\\u0440\\u043e\\u0446\\u0435\\u043d\\u0442\",\"\\u043f\\u0440\\u0438\\u043d\\u0438\\u043c\\u0430\\u0442\\u044c\",\"\\u0441\\u043d\\u0438\\u043c\\u0430\\u0442\\u044c\",\"\\u0432\\u044b\\u0434\\u0430\\u0432\\u0430\\u0442\\u044c\",\"\\u043d\\u0435\\u0434\\u0435\\u043b\\u044f\",\"\\u043e\\u0442\\u043a\\u0440\\u044b\\u0432\\u0430\\u0442\\u044c\",\"\\u043d\\u0438\\u043a\\u0430\\u043a\\u043e\\u0439\",\"\\u043e\\u043f\\u0435\\u0440\\u0430\\u0442\\u043e\\u0440\",\"\\u0432\\u0435\\u0441\\u044c\",\"\\u044f\\u0432\\u043b\\u044f\\u0442\\u044c\\u0441\\u044f\",\"\\u0441\",\"\\u043f\\u043e\\u043d\\u0438\\u043c\\u0430\\u0442\\u044c\",\"%\",\"\\u0441\\u0442\\u0430\\u043d\\u043e\\u0432\\u0438\\u0442\\u044c\\u0441\\u044f\",\"\\u0437\\u0430\\u043a\\u0440\\u044b\\u0432\\u0430\\u0442\\u044c\",\"\\u043f\\u0440\\u0435\\u0434\\u043b\\u0430\\u0433\\u0430\\u0442\\u044c\",\"\\u043e\\u043f\\u043b\\u0430\\u0447\\u0438\\u0432\\u0430\\u0442\\u044c\",\"\\u043f\\u0440\\u043e\\u0445\\u043e\\u0434\\u0438\\u0442\\u044c\",\"\\u0447\\u0430\\u0441\",\"\\u043d\\u0435\\u0441\\u043a\\u043e\\u043b\\u044c\\u043a\\u043e\",\"\\u043f\\u0435\\u0440\\u0435\\u0432\\u043e\\u0434\",\"\\u044d\\u0442\\u043e\",\"\\u043f\\u0438\\u0441\\u0430\\u0442\\u044c\",\"\\u043e\\u043a\\u0430\\u0437\\u044b\\u0432\\u0430\\u0442\\u044c\\u0441\\u044f\",\"\\u043d\\u0443\\u0436\\u043d\\u043e\",\"\\u043a\\u043e\\u043c\\u0438\\u0441\\u0441\\u0438\\u044f\",\"\\u0441\\u0430\\u043c\\u044b\\u0439\",\"\\u0445\\u043e\\u0442\\u044f\",\"\\u0438\\u043c\\u0435\\u0442\\u044c\",\"\\u0435\",\"\\u043e\\u0431\\u044a\\u044f\\u0441\\u043d\\u044f\\u0442\\u044c\",\"\\u043f\\u043e\\u043b\\u044c\\u0437\\u043e\\u0432\\u0430\\u0442\\u044c\\u0441\\u044f\",\"\\u043c\\u044b\",\"\\u0443\\u0441\\u043b\\u043e\\u0432\\u0438\\u0435\",\"\\u0441\\u043b\\u0435\\u0434\\u0443\\u044e\\u0449\\u0438\\u0439\",\"\\u043f\\u043e\",\"\\u0446\\u0435\\u043d\\u0442\\u0440\",\"\\u043c\\u043e\\u043c\\u0435\\u043d\\u0442\",\"\\u0437\\u0430\\u0434\\u043e\\u043b\\u0436\\u0435\\u043d\\u043d\\u043e\\u0441\\u0442\\u044c\",\"\\u0443\\u0437\\u043d\\u0430\\u0432\\u0430\\u0442\\u044c\",\"\\u0432\\u0437\\u044f\\u0442\\u044c\",\"\\u0443\\u043a\\u0430\\u0437\\u044b\\u0432\\u0430\\u0442\\u044c\",\"\\u0441\\u043b\\u0443\\u0447\\u0430\\u0439\",\"\\u0442\\u0435\\u0447\\u0435\\u043d\\u0438\\u0435\",\"\\u043f\\u0440\\u0438\\u0445\\u043e\\u0434\\u0438\\u0442\\u044c\\u0441\\u044f\",\"\\u0432\\u043e\\u043e\\u0431\\u0449\\u0435\",\"\\u0434\\u0435\\u043b\\u0430\\u0442\\u044c\",\"\\u0433\",\"\\u0441\\u0440\\u0430\\u0437\\u0443\",\"\\u0432\\u0441\",\"\\u043a\\u0430\\u043a\",\"\\u0434\\u0435\\u043b\\u043e\",\"\\u043d\\u0438\\u043a\\u0442\\u043e\",\"\\u0441\\u043b\\u0443\\u0436\\u0431\\u0430\",\"\\u0440\\u0435\\u0448\\u0435\\u043d\\u0438\\u0435\",\"\\u0432\\u043d\\u043e\\u0441\\u0438\\u0442\\u044c\",\"\\u0441\\u043f\\u0435\\u0446\\u0438\\u0430\\u043b\\u0438\\u0441\\u0442\",\"\\u0441\\u0438\\u0441\\u0442\\u0435\\u043c\\u0430\",\"\\u0441\\u0430\\u043c\",\"\\u043d\\u0430\\u0447\\u0438\\u043d\\u0430\\u0442\\u044c\",\"\\u0441\\u043f\\u0440\\u0430\\u0448\\u0438\\u0432\\u0430\\u0442\\u044c\",\"\\u0442\\u0430\\u043a\",\"\\u0434\\u0435\\u043d\\u0435\\u0436\\u043d\\u044b\\u0439\",\"\\u043e\\u0431\\u0440\\u0430\\u0449\\u0435\\u043d\\u0438\\u0435\",\"\\u043e\\u0442\\u0437\\u044b\\u0432\",\"\\u043e\\u0442\\u043f\\u0440\\u0430\\u0432\\u043b\\u044f\\u0442\\u044c\",\"\\u043f\\u0440\\u0438\",\"\\u0430\\u0434\\u0440\\u0435\\u0441\",\"\\u0441\\u043c\\u043e\\u0447\\u044c\",\"\\u043c\\u043e\\u0441\\u043a\\u0432\\u0430\",\"\\u043e\\u043f\\u043b\\u0430\\u0442\\u0430\",\"\\u0438\\u0442\\u043e\\u0433\",\"\\u043f\\u043e\\u0441\\u043b\\u0435\",\"\\u043c\\u0435\\u043d\\u0435\\u0434\\u0436\\u0435\\u0440\",\"\\u043d\\u0443\\u0436\\u043d\\u044b\\u0439\",\"\\u0447\\u0442\\u043e\",\"\\u0434\\u0430\\u043d\\u043d\\u044b\\u0435\",\"\\u043a\\u0430\\u0436\\u0434\\u044b\\u0439\",\"\\u043f\\u0440\\u0435\\u0434\\u043e\\u0441\\u0442\\u0430\\u0432\\u043b\\u044f\\u0442\\u044c\",\"\\u043f\\u043e\\u0441\\u0442\\u0443\\u043f\\u0430\\u0442\\u044c\",\"\\u043f\\u043e\\u043a\\u0430\",\"\\u043a\\u0430\\u0441\\u0441\\u0430\",\"\\u043f\\u0440\\u043e\\u0438\\u0441\\u0445\\u043e\\u0434\\u0438\\u0442\\u044c\",\"\\u0438\\u0441\\u0442\\u043e\\u0440\\u0438\\u044f\",\"\\u043e\\u0431\\u0449\\u0438\\u0439\",\"\\u0443\",\"\\u0434\\u0443\\u043c\\u0430\\u0442\\u044c\",\"\\u043e\\u0441\\u0442\\u0430\\u0432\\u0430\\u0442\\u044c\\u0441\\u044f\",\"\\u0441\\u043b\\u043e\\u0432\\u043e\",\"\\u0432\\u0442\\u043e\\u0440\\u043e\\u0439\",\"\\u043d\\u0443\",\"\\u0434\\u0432\\u0430\",\"\\u0432\\u0435\\u0440\\u043d\\u0443\\u0442\\u044c\",\"\\u043f\\u043e\\u0433\\u0430\\u0448\\u0435\\u043d\\u0438\\u0435\",\"\\u0434\\u043e\\u0431\\u0440\\u044b\\u0439\",\"\\u043e\\u0442\\u043d\\u043e\\u0448\\u0435\\u043d\\u0438\\u0435\",\"\\u0431\\u0440\\u0430\\u0442\\u044c\",\"\\u0440\\u0430\\u0437\\u0431\\u0438\\u0440\\u0430\\u0442\\u044c\\u0441\\u044f\",\"\\u0430\\u043b\\u044c\\u0444\\u0430\",\"\\u0438\\u0434\\u0442\\u0438\",\"\\u043f\\u043e\\u0434\\u0434\\u0435\\u0440\\u0436\\u043a\\u0430\",\"\\u043f\\u0440\\u0438\\u0435\\u0437\\u0436\\u0430\\u0442\\u044c\",\"\\u043f\\u043e\\u0441\\u043b\\u0435\\u0434\\u043d\\u0438\\u0439\",\"\\u0435\\u0441\\u043b\\u0438\",\"\\u043f\\u043e\\u043f\\u0440\\u043e\\u0441\\u0438\\u0442\\u044c\",\"\\u043f\\u043e\\u043b\\u0443\\u0447\\u0435\\u043d\\u0438\\u0435\",\"\\u043b\\u0438\\u0446\\u043e\",\"\\u0441\\u043f\\u0430\\u0441\\u0438\\u0431\\u043e\",\"\\u043e\\u0441\\u0442\\u0430\\u0432\\u043b\\u044f\\u0442\\u044c\",\"\\u043d\\u0430\\u0445\\u043e\\u0434\\u0438\\u0442\\u044c\\u0441\\u044f\",\"\\u043f\\u0438\\u0441\\u044c\\u043c\\u043e\",\"\\u0443\\u0442\\u043e\\u0447\\u043d\\u044f\\u0442\\u044c\",\"\\u043f\\u043b\\u0430\\u0442\\u0438\\u0442\\u044c\",\"\\u043b\\u0438\\u043c\\u0438\\u0442\",\"\\u0434\\u0430\\u0442\\u0430\",\"\\u0432\\u0441\\u0435\",\"\\u043b\\u0438\\u043d\\u0438\\u044f\",\"\\u0440\\u0430\\u0431\\u043e\\u0447\\u0438\\u0439\",\"\\u0441\\u0432\\u044f\\u0437\\u044c\",\"\\u043f\\u043e\\u043c\\u043e\\u0433\\u0430\\u0442\\u044c\",\"\\u0432\\u043e\\u0437\\u043c\\u043e\\u0436\\u043d\\u043e\\u0441\\u0442\\u044c\",\"\\u043e\\u0442\\u043a\\u0430\\u0437\\u044b\\u0432\\u0430\\u0442\\u044c\\u0441\\u044f\",\"\\u043f\\u0440\\u0438\\u0447\\u0438\\u043d\\u0430\",\"\\u043e\\u0448\\u0438\\u0431\\u043a\\u0430\",\"\\u0441\\u043e\\u0442\\u0440\\u0443\\u0434\\u043d\\u0438\\u0446\\u0430\",\"\\u043f\\u0440\\u043e\\u0441\\u044c\\u0431\\u0430\",\"\\u0431\\u0430\\u043d\\u043a\\u043e\\u0432\\u0441\\u043a\\u0438\\u0439\",\"\\u0441\\u043d\\u043e\\u0432\\u0430\",\"\\u043b\\u0438\\u0431\\u043e\",\"\\u043f\\u0430\\u0441\\u043f\\u043e\\u0440\\u0442\",\"\\u0440\\u0430\\u0437\",\"\\u043a\\u0442\\u043e\",\"\\u043f\\u043e\\u0434\\u0430\\u0432\\u0430\\u0442\\u044c\",\"\\u043a\\u043e\\u043d\\u0435\\u0446\",\"\\u043c\\u0435\\u0441\\u0442\\u043e\",\"\\u0438\\u043c\\u0435\\u043d\\u043d\\u043e\",\"\\u0445\\u043e\\u0440\\u043e\\u0448\\u0438\\u0439\",\"\\u0431\\u044b\\u0441\\u0442\\u0440\\u043e\",\"\\u0434\\u043e\\u043b\\u0433\",\"\\u0434\\u0435\\u0439\\u0441\\u0442\\u0432\\u0438\\u0435\",\"\\u0432\\u044b\\u043f\\u0438\\u0441\\u043a\\u0430\",\"\\u0441\\u043f\\u0440\\u0430\\u0432\\u043a\\u0430\",\"\\u0445\\u043e\\u0442\\u0435\\u0442\\u044c\\u0441\\u044f\",\"\\u0441\\u0442\\u0440\\u0430\\u0445\\u043e\\u0432\\u043a\\u0430\",\"\\u043f\\u0435\\u0440\\u0435\\u0437\\u0432\\u0430\\u043d\\u0438\\u0432\\u0430\\u0442\\u044c\",\"\\u043a\\u0430\\u0440\\u0442\\u043e\\u0447\\u043a\\u0430\",\"\\u043e\\u0444\\u043e\\u0440\\u043c\\u043b\\u0435\\u043d\\u0438\\u0435\",\"\\u0440\\u0430\\u0441\\u0441\\u043c\\u043e\\u0442\\u0440\\u0435\\u043d\\u0438\\u0435\",\"\\u0432\\u0438\\u0434\\u0435\\u0442\\u044c\",\"\\u0431\\u043e\\u043b\\u044c\\u0448\\u043e\\u0439\",\"\\u043d\\u0430\\u0437\\u0430\\u0434\",\"\\u0441\\u043f\\u0438\\u0441\\u044b\\u0432\\u0430\\u0442\\u044c\",\"\\u043e\\u0442\\u043a\\u0430\\u0437\",\"\\u0434\\u043e\",\"\\u043a\",\"\\u043c\",\"\\u043f\\u043e\\u044d\\u0442\\u043e\\u043c\\u0443\",\"\\u043d\\u0430\\u0445\\u043e\\u0434\\u0438\\u0442\\u044c\",\"\\u043f\\u043e\\u043b\\u043d\\u044b\\u0439\",\"\\u043f\\u043e\\u0433\\u0430\\u0441\\u0438\\u0442\\u044c\",\"\\u0440\",\"\\u043f\\u044b\\u0442\\u0430\\u0442\\u044c\\u0441\\u044f\",\"\\u0443\\u0445\\u043e\\u0434\\u0438\\u0442\\u044c\",\"\\u0437\\u0430\\u0431\\u043b\\u043e\\u043a\\u0438\\u0440\\u043e\\u0432\\u0430\\u0442\\u044c\",\"\\u043e\\u043f\\u0435\\u0440\\u0430\\u0446\\u0438\\u043e\\u043d\\u0438\\u0441\\u0442\",\"\\u043b\\u044e\\u0431\\u043e\\u0439\",\"\\u0430\\u0434\\u043c\\u0438\\u043d\\u0438\\u0441\\u0442\\u0440\\u0430\\u0442\\u043e\\u0440\",\"\\u0433\\u043e\\u0440\\u044f\\u0447\\u0438\\u0439\",\"\\u0440\\u0435\\u0437\\u0443\\u043b\\u044c\\u0442\\u0430\\u0442\",\"\\u043f\\u043e\\u043b\\u0443\\u0447\\u0430\\u0442\\u044c\\u0441\\u044f\",\"\\u0441\\u043e\\u043e\\u0431\\u0449\\u0435\\u043d\\u0438\\u0435\",\"\\u0447\\u0435\\u0440\\u0435\\u0437\",\"\\u043f\\u0440\\u043e\\u0432\\u0435\\u0440\\u044f\\u0442\\u044c\",\"\\u0435\\u0449\",\"\\u0432\\u043e\\u0437\\u043d\\u0438\\u043a\\u0430\\u0442\\u044c\",\"\\u0442\\u0435\\u0440\\u043c\\u0438\\u043d\\u0430\\u043b\",\"\\u043f\\u043e\\u0439\\u0442\\u0438\",\"\\u0447\\u0438\\u0441\\u043b\\u043e\",\"\\u0441\\u0442\\u0430\\u0432\\u043a\\u0430\",\"\\u043a\\u043e\\u0433\\u0434\\u0430\",\"\\u043f\\u0440\\u043e\\u0432\\u043e\\u0434\\u0438\\u0442\\u044c\",\"\\u0437\\u0430\\u043a\\u0440\\u044b\\u0442\\u0438\\u0435\",\"\\u0432\\u0442\\u0431\",\"\\u043c\\u043e\\u0431\\u0438\\u043b\\u044c\\u043d\\u044b\\u0439\",\"\\u043f\\u0440\\u043e\\u0441\\u0440\\u043e\\u0447\\u043a\\u0430\",\"\\u043f\\u043e\\u0440\\u0430\",\"\\u0432\\u043e\\u0442\",\"\\u0443\\u043b\",\"\\u043e\\u0442\\u0434\\u0435\\u043b\",\"\\u0433\\u043e\\u0440\\u043e\\u0434\",\"\\u0441\\u043e\\u0441\\u0442\\u0430\\u0432\\u043b\\u044f\\u0442\\u044c\",\"\\u043f\\u043e\\u043a\\u0443\\u043f\\u043a\\u0430\",\"\\u043e\\u0442\",\"\\u0444\\u0438\\u043b\\u0438\\u0430\\u043b\",\"\\u0434\\u0435\\u043a\\u0430\\u0431\\u0440\\u044c\",\"\\u043f\\u043e\\u0447\\u0442\\u0430\",\"\\u043e\\u043a\\u043e\\u043b\\u043e\",\"\\u0441\\u043f\\u0438\\u0441\\u0430\\u043d\\u0438\\u0435\",\"\\u0441\\u0442\\u043e\\u044f\\u0442\\u044c\",\"\\u0441\\u0447\",\"\\u0442\\u0430\\u043a\\u0438\",\"\\u0437\\u0430\\u043f\\u043e\\u043b\\u043d\\u044f\\u0442\\u044c\",\"\\u0442\\u043e\",\"\\u043e\\u0442\\u043a\\u0440\\u044b\\u0442\\u0438\\u0435\",\"\\u0441\\u0447\\u0438\\u0442\\u0430\\u0442\\u044c\",\"\\u043f\\u043e\\u0434\\u0445\\u043e\\u0434\\u0438\\u0442\\u044c\",\"\\u0434\\u0435\\u0431\\u0435\\u0442\\u043e\\u0432\\u044b\\u0439\",\"\\u0437\\u0430\\u0431\\u0438\\u0440\\u0430\\u0442\\u044c\",\"\\u043c\\u0430\\u043b\\u043e\",\"\\u0441\\u0432\\u044f\\u0437\\u044b\\u0432\\u0430\\u0442\\u044c\\u0441\\u044f\",\"\\u0441\\u0442\\u043e\\u0440\\u043e\\u043d\\u0430\",\"\\u043d\\u0430\\u043b\\u0438\\u0447\\u043d\\u044b\\u0439\",\"\\u043f\\u0435\\u0440\\u0435\\u0432\\u043e\\u0434\\u0438\\u0442\\u044c\",\"\\u0440\\u0430\\u0437\\u043c\\u0435\\u0440\",\"\\u0441\\u043d\\u044f\\u0442\\u0438\\u0435\",\"\\u043f\\u043e\\u0434\\u043f\\u0438\\u0441\\u044b\\u0432\\u0430\\u0442\\u044c\",\"\\u0434\\u0430\",\"\\u043f\\u0440\\u0430\\u0432\\u043e\",\"\\u043e\\u043d\\u043b\\u0430\\u0439\\u043d\",\"\\u043e\\u0442\\u043a\\u0430\\u0437\\u044b\\u0432\\u0430\\u0442\\u044c\",\"\\u043d\\u0430\\u0434\\u0435\\u044f\\u0442\\u044c\\u0441\\u044f\",\"\\u043e\\u0434\\u043d\\u0430\\u043a\\u043e\",\"\\u043f\\u0440\\u043e\\u0433\\u0440\\u0430\\u043c\\u043c\\u0430\",\"\\u043e\\u0431\\u0435\\u0449\\u0430\\u0442\\u044c\",\"\\u0437\\u0434\\u0440\\u0430\\u0432\\u0441\\u0442\\u0432\\u043e\\u0432\\u0430\\u0442\\u044c\",\"\\u043a\\u043e\\u043b\\u043b\",\"\\u043a\\u043e\\u043f\\u0438\\u044f\",\"\\u0432\\u0435\\u0447\\u0435\\u0440\",\"\\u043f\\u0440\\u0435\\u0434\\u043b\\u043e\\u0436\\u0435\\u043d\\u0438\\u0435\",\"\\u0437\\u0430\",\"\\u0434\\u0430\\u043b\\u0435\\u043a\\u043e\",\"\\u0441\\u0443\\u0434\",\"\\u0441\\u043a\\u043e\\u043b\\u044c\\u043a\\u043e\",\"\\u0438\\u043c\\u044f\",\"\\u0436\\u0430\\u043b\\u043e\\u0431\\u0430\",\"\\u0440\\u0430\\u0441\\u0441\\u043c\\u0430\\u0442\\u0440\\u0438\\u0432\\u0430\\u0442\\u044c\",\"\\u043d\\u0430\\u0437\\u044b\\u0432\\u0430\\u0442\\u044c\",\"\\u043e\\u0447\\u0435\\u0440\\u0435\\u0434\\u043d\\u043e\\u0439\",\"\\u0443\\u0442\\u0440\\u043e\",\"\\u0434\\u043e\\u043b\\u0433\\u043e\",\"\\u0432\\u0438\\u0434\\u0438\\u043c\\u043e\",\"\\u0432\\u043e\\u0437\\u0432\\u0440\\u0430\\u0442\",\"\\u043c\\u0430\\u0433\\u0430\\u0437\\u0438\\u043d\",\"\\u043f\\u043e\\u0440\\u044f\\u0434\\u043e\\u043a\",\"\\u043f\\u043e\\u043b\\u0430\\u0433\\u0430\\u0442\\u044c\",\"\\u043a\\u043e\\u0434\",\"\\u043d\\u0430\\u0447\\u0438\\u043d\\u0430\\u0442\\u044c\\u0441\\u044f\",\"\\u0442\\u0430\\u0440\\u0438\\u0444\",\"\\u0434\\u0430\\u043b\\u0435\\u0435\",\"\\u0440\\u0443\\u043a\\u0430\",\"\\u0434\\u043e\\u043f\\u043e\\u043b\\u043d\\u0438\\u0442\\u0435\\u043b\\u044c\\u043d\\u044b\\u0439\",\"\\u0442\",\"\\u043e\\u0441\\u0442\\u0430\\u0442\\u043e\\u043a\",\"\\u0432\\u044b\\u0434\\u0430\\u0447\\u0430\",\"\\u0440\\u0430\\u0437\\u0433\\u043e\\u0432\\u043e\\u0440\",\"\\u044d\\u043b\\u0435\\u043a\\u0442\\u0440\\u043e\\u043d\\u043d\\u044b\\u0439\",\"\\u043e\\u0434\\u043e\\u0431\\u0440\\u044f\\u0442\\u044c\",\"\\u0442\\u044b\\u0441\\u044f\\u0447\\u0430\",\"\\u043f\\u043e\\u0434\\u043a\\u043b\\u044e\\u0447\\u0430\\u0442\\u044c\",\"\\u0440\\u0430\\u0441\\u0441\\u043a\\u0430\\u0437\\u044b\\u0432\\u0430\\u0442\\u044c\",\"ru\",\"\\u0440\\u043e\\u0441\\u0441\\u0438\\u044f\",\"\\u043b\\u0438\\u0447\\u043d\\u044b\\u0439\",\"\\u0432\\u043d\\u0438\\u043c\\u0430\\u043d\\u0438\\u0435\",\"\\u043f\",\"\\u0433\\u043e\\u0442\\u043e\\u0432\\u044b\\u0439\",\"\\u043c\\u0430\\u0440\\u0442\",\"\\u0437\\u0430\\u043f\\u0440\\u043e\\u0441\",\"\\u044f\\u043d\\u0432\\u0430\\u0440\\u044c\",\"\\u043f\\u0440\\u0435\\u0434\\u0441\\u0442\\u0430\\u0432\\u0438\\u0442\\u0435\\u043b\\u044c\",\"\\u0442\\u0440\\u0435\\u0431\\u043e\\u0432\\u0430\\u0442\\u044c\",\"\\u043f\\u0430\\u0440\\u0430\",\"\\u0442\\u043e\\u0447\\u043d\\u043e\",\"\\u043f\\u0440\\u0438\\u0447\\u0435\\u043c\",\"\\u0440\\u0444\",\"\\u0441\\u0435\\u0440\\u0432\\u0438\\u0441\",\"\\u043e\\u043d\\u0430\",\"\\u043e\\u0431\\u0440\\u0430\\u0437\",\"\\u043a\\u0430\\u0441\\u0441\\u0438\\u0440\",\"\\u043e\\u043d\",\"\\u0440\\u0430\\u0431\\u043e\\u0442\\u043d\\u0438\\u043a\",\"\\u0434\\u043e\\u0441\\u0440\\u043e\\u0447\\u043d\\u044b\\u0439\",\"\\u043e\\u0440\\u0433\\u0430\\u043d\\u0438\\u0437\\u0430\\u0446\\u0438\\u044f\",\"\\u0434\\u0435\\u043f\\u043e\\u0437\\u0438\\u0442\",\"\\u0437\\u0430\\u0439\\u0442\\u0438\",\"\\u043e\",\"\\u0437\\u0430\\u043a\\u0430\\u0437\\u044b\\u0432\\u0430\\u0442\\u044c\",\"\\u0434\\u043b\\u044f\",\"\\u043f\\u043e\\u0434\\u0442\\u0432\\u0435\\u0440\\u0436\\u0434\\u0430\\u0442\\u044c\",\"\\u043e\\u043d\\u0438\",\"\\u043d\\u0435\\u043e\\u0431\\u0445\\u043e\\u0434\\u0438\\u043c\\u043e\",\"\\u043d\\u0435\\u043e\\u0431\\u0445\\u043e\\u0434\\u0438\\u043c\\u044b\\u0439\",\"\\u0440\\u0430\\u0437\\u043d\\u044b\\u0439\",\"\\u0430\\u043d\\u043a\\u0435\\u0442\\u0430\",\"\\u0444\\u0430\\u043a\\u0442\",\"\\u043f\\u043e\\u0436\\u0430\\u043b\\u0443\\u0439\\u0441\\u0442\\u0430\",\"\\u0447\\u0435\\u043a\",\"\\u0430\\u043f\\u0440\\u0435\\u043b\\u044c\",\"\\u043e\\u0446\\u0435\\u043d\\u043a\\u0430\",\"\\u043f\\u0435\\u0440\\u0438\\u043e\\u0434\",\"\\u043a\\u043e\\u043c\\u043f\\u0430\\u043d\\u0438\\u044f\",\"\\u043b\",\"\\u043c\\u0430\\u0439\",\"\\u0432\\u044b\\u044f\\u0441\\u043d\\u044f\\u0442\\u044c\\u0441\\u044f\",\"\\u0448\\u0442\\u0440\\u0430\\u0444\",\"\\u0437\\u0430\\u043f\\u043b\\u0430\\u0442\\u0438\\u0442\\u044c\",\"\\u0441\\u0442\\u0440\\u0430\\u0445\\u043e\\u0432\\u0430\\u043d\\u0438\\u0435\",\"\\u043a\\u0443\\u0440\\u0441\",\"\\u0441\\u043d\\u0430\\u0447\\u0430\\u043b\\u0430\",\"\\u0432\\u044b\\u0445\\u043e\\u0434\\u0438\\u0442\\u044c\",\"\\u043f\\u043e\\u0432\\u043e\\u0434\",\"\\u0431\\u043b\\u0438\\u0437\\u043a\\u0438\\u0439\",\"\\u0443\\u0432\\u0430\\u0436\\u0430\\u0435\\u043c\\u044b\\u0439\",\"\\u0440\\u0430\\u043d\\u043e\",\"\\u0437\\u0430\\u043d\\u0438\\u043c\\u0430\\u0442\\u044c\",\"\\u0434\\u043e\\u0437\\u0432\\u0430\\u043d\\u0438\\u0432\\u0430\\u0442\\u044c\\u0441\\u044f\",\"\\u043f\\u0435\\u0440\\u0435\\u0434\\u0430\\u0432\\u0430\\u0442\\u044c\",\"\\u0442\\u0440\\u0435\\u0431\\u043e\\u0432\\u0430\\u043d\\u0438\\u0435\",\"\\u043f\\u043e\\u043b\\u043e\\u0436\\u0438\\u0442\\u0435\\u043b\\u044c\\u043d\\u044b\\u0439\",\"\\u0442\\u0435\\u0445\\u043d\\u0438\\u0447\\u0435\\u0441\\u043a\\u0438\\u0439\",\"\\u043d\\u0435\\u043a\\u043e\\u0442\\u043e\\u0440\\u044b\\u0439\",\"\\u0432\\u044b\\u044f\\u0441\\u043d\\u044f\\u0442\\u044c\",\"\\u0443\\u0432\\u0438\\u0434\\u0435\\u0442\\u044c\",\"\\u043f\\u043e\\u043f\\u044b\\u0442\\u043a\\u0430\",\"\\u0444\\u043e\\u0440\\u043c\\u0430\",\"\\u043f\\u0440\\u043e\\u0434\\u0443\\u043a\\u0442\",\"\\u0432\\u043e\\u0437\\u043c\\u043e\\u0436\\u043d\\u043e\",\"\\u043f\\u043e\\u044f\\u0432\\u043b\\u044f\\u0442\\u044c\\u0441\\u044f\",\"\\u0444\\u0435\\u0432\\u0440\\u0430\\u043b\\u044c\",\"\\u043d\\u043e\\u044f\\u0431\\u0440\\u044c\",\"\\u0442\\u0440\\u0435\\u0442\\u0438\\u0439\",\"\\u043a\\u0430\\u0447\\u0435\\u0441\\u0442\\u0432\\u043e\",\"\\u043a\\u0432\\u0430\\u0440\\u0442\\u0438\\u0440\\u0430\",\"\\u043b\\u0430\\u0434\\u043d\\u043e\",\"\\u043a\\u0440\\u043e\\u043c\\u0435\",\"\\u0432\\u0438\\u0434\",\"\\u0433\\u043e\\u0434\\u043e\\u0432\\u043e\\u0439\",\"\\u0437\\u0430\\u043a\\u0430\\u043d\\u0447\\u0438\\u0432\\u0430\\u0442\\u044c\\u0441\\u044f\",\"\\u0432\\u0447\\u0435\\u0440\\u0430\",\"\\u043f\\u043e\\u0434\\u043e\\u0431\\u043d\\u044b\\u0439\",\"\\u0443\\u043a\\u0430\\u0437\\u0430\\u043d\\u043d\\u044b\\u0439\",\"\\u043e\\u043a\\u0442\\u044f\\u0431\\u0440\\u044c\",\"\\u0445\",\"\\u0447\\u0430\\u0441\\u0442\\u044c\",\"\\u043f\\u043e\\u0441\\u043c\\u043e\\u0442\\u0440\\u0435\\u0442\\u044c\",\"\\u043f\\u043e\\u0437\\u0434\\u043d\\u043e\",\"\\u0434\\u0435\\u0439\\u0441\\u0442\\u0432\\u0438\\u0442\\u0435\\u043b\\u044c\\u043d\\u043e\",\"\\u0441\\u043e\\u0436\\u0430\\u043b\\u0435\\u043d\\u0438\\u0435\",\"\\u0432\\u044b\\u0431\\u0438\\u0440\\u0430\\u0442\\u044c\",\"\\u043f\\u043e\\u043f\\u043e\\u043b\\u043d\\u044f\\u0442\\u044c\",\"\\u0443\\u0432\\u0435\\u0434\\u043e\\u043c\\u043b\\u0435\\u043d\\u0438\\u0435\",\"\\u043f\\u043b\\u0430\\u0442\\u0430\",\"\\u043d\\u0435\\u0442\",\"\\u043f\\u043e\\u043f\\u0430\\u0434\\u0430\\u0442\\u044c\",\"\\u0441\\u0438\\u0434\\u0435\\u0442\\u044c\",\"\\u0442\\u0443\\u0434\\u0430\",\"\\u043e\\u0431\\u0449\\u0435\\u043d\\u0438\\u0435\",\"\\u0441\\u043e\\u0432\\u0435\\u0440\\u0448\\u0430\\u0442\\u044c\",\"\\u0432\\u0432\\u043e\\u0434\\u0438\\u0442\\u044c\",\"\\u043d\\u0430\\u0447\\u0430\\u043b\\u043e\",\"\\u0442\\u0440\\u0443\\u0431\\u043a\\u0430\",\"\\u0432\\u043e\\u0441\\u043f\\u043e\\u043b\\u044c\\u0437\\u043e\\u0432\\u0430\\u0442\\u044c\\u0441\\u044f\",\"\\u043f\\u043e\\u043c\\u043e\\u0449\\u044c\",\"\\u0430\\u0432\\u0433\\u0443\\u0441\\u0442\",\"\\u0440\\u0443\\u043a\\u043e\\u0432\\u043e\\u0434\\u0441\\u0442\\u0432\\u043e\",\"\\u0434\\u0440\\u0443\\u0433\",\"\\u0434\\u0430\\u0432\\u043d\\u043e\",\"\\u0441\\u0435\\u043d\\u0442\\u044f\\u0431\\u0440\\u044c\",\"\\u043f\\u0440\\u0438\\u043c\\u0435\\u0440\\u043d\\u043e\",\"\\u043e\\u0431\\u0441\\u043b\\u0443\\u0436\\u0438\\u0432\\u0430\\u0442\\u044c\",\"\\u043e\\u0442\\u0434\\u0430\\u0432\\u0430\\u0442\\u044c\",\"\\u043f\\u0440\\u0438\\u0441\\u044b\\u043b\\u0430\\u0442\\u044c\",\"\\u043f\\u043e\\u0434\\u043e\\u0436\\u0434\\u0430\\u0442\\u044c\",\"\\u043a\\u0443\\u043f\\u044e\\u0440\\u0430\",\"\\u043e\\u0436\\u0438\\u0434\\u0430\\u043d\\u0438\\u0435\",\"\\u043a\\u0441\\u0442\\u0430\\u0442\\u0438\",\"\\u0435\\u0445\\u0430\\u0442\\u044c\",\"\\u043f\\u043b\\u044e\\u0441\",\"\\u043d\\u0430\\u0447\\u0438\\u0441\\u043b\\u044f\\u0442\\u044c\",\"\\u0432\\u043f\\u0435\\u0447\\u0430\\u0442\\u043b\\u0435\\u043d\\u0438\\u0435\",\"\\u0433\\u0440\\u0430\\u0444\\u0438\\u043a\",\"\\u0441\\u0431\\u043e\\u0439\",\"\\u0437\\u0430\\u043d\\u0438\\u043c\\u0430\\u0442\\u044c\\u0441\\u044f\",\"\\u043e\\u0441\\u043d\\u043e\\u0432\\u0430\\u043d\\u0438\\u0435\",\"\\u0437\\u0430\\u043a\\u043e\\u043d\",\"\\u0435\\u0441\\u0442\\u0435\\u0441\\u0442\\u0432\\u0435\\u043d\\u043d\\u043e\",\"\\u0434\\u043e\\u0441\\u0442\\u0430\\u0442\\u043e\\u0447\\u043d\\u043e\",\"\\u0441\\u043e\\u0431\\u0438\\u0440\\u0430\\u0442\\u044c\\u0441\\u044f\",\"\\u043f\\u043e\\u0442\\u0440\\u0430\\u0442\\u0438\\u0442\\u044c\",\"\\u0431\\u0435\\u0437\\u043e\\u043f\\u0430\\u0441\\u043d\\u043e\\u0441\\u0442\\u044c\",\"\\u0437\\u0430\\u044f\\u0432\\u043b\\u044f\\u0442\\u044c\",\"\\u043f\\u043e\\u0441\\u0442\\u0430\\u0432\\u043b\\u044f\\u0442\\u044c\",\"\\u0437\\u0430\\u0447\\u0438\\u0441\\u043b\\u044f\\u0442\\u044c\",\"\\u0441\\u0442\\u0430\\u0440\\u044b\\u0439\",\"\\u0432\\u044b\\u043f\\u043e\\u043b\\u043d\\u044f\\u0442\\u044c\",\"\\u043f\\u043e\\u0441\\u043a\\u043e\\u043b\\u044c\\u043a\\u0443\",\"\\u0441\\u0442\\u0440\\u0430\\u0445\\u043e\\u0432\\u043e\\u0439\",\"\\u0442\\u0435\\u043f\\u0435\\u0440\\u044c\",\"\\u0432\\u0440\\u043e\\u0434\\u0435\",\"\\u043f\\u0440\\u043e\\u0438\\u0437\\u0432\\u043e\\u0434\\u0438\\u0442\\u044c\",\"\\u0435\\u0436\\u0435\\u043c\\u0435\\u0441\\u044f\\u0447\\u043d\\u044b\\u0439\",\"\\u0432\\u044b\\u043f\\u0443\\u0441\\u043a\\u0430\\u0442\\u044c\",\"\\u0437\\u0430\\u0431\\u044b\\u0432\\u0430\\u0442\\u044c\",\"\\u0446\\u0435\\u043b\\u044c\",\"\\u043f\\u043e\\u0442\\u0435\\u0440\\u044f\\u0442\\u044c\",\"\\u043f\\u043e\\u043b\\u043d\\u043e\\u0441\\u0442\\u044c\\u044e\"],\"x1\":{\"__ndarray__\":\"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\",\"dtype\":\"float32\",\"order\":\"little\",\"shape\":[500]},\"x2\":{\"__ndarray__\":\"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\",\"dtype\":\"float32\",\"order\":\"little\",\"shape\":[500]}},\"selected\":{\"id\":\"1149\"},\"selection_policy\":{\"id\":\"1148\"}},\"id\":\"1123\",\"type\":\"ColumnDataSource\"}],\"root_ids\":[\"1095\"]},\"title\":\"Bokeh Application\",\"version\":\"2.4.1\"}};\n",
       "  const render_items = [{\"docid\":\"f7fd8cb0-f119-4a4a-8f04-34f258e36998\",\"root_ids\":[\"1095\"],\"roots\":{\"1095\":\"ba871600-7c84-4463-acb2-4a2eefab6439\"}}];\n",
       "  root.Bokeh.embed.embed_items_notebook(docs_json, render_items);\n",
       "\n",
       "  }\n",
       "  if (root.Bokeh !== undefined) {\n",
       "    embed_document(root);\n",
       "  } else {\n",
       "    let attempts = 0;\n",
       "    const timer = setInterval(function(root) {\n",
       "      if (root.Bokeh !== undefined) {\n",
       "        clearInterval(timer);\n",
       "        embed_document(root);\n",
       "      } else {\n",
       "        attempts++;\n",
       "        if (attempts > 100) {\n",
       "          clearInterval(timer);\n",
       "          console.log(\"Bokeh: ERROR: Unable to run BokehJS code because BokehJS library is missing\");\n",
       "        }\n",
       "      }\n",
       "    }, 10, root)\n",
       "  }\n",
       "})(window);"
      ],
      "application/vnd.bokehjs_exec.v0+json": ""
     },
     "metadata": {
      "application/vnd.bokehjs_exec.v0+json": {
       "id": "1095"
      }
     },
     "output_type": "display_data"
    }
   ],
   "source": [
    "# отрисовываем для визуализации близости слов, возможной кластеризации и т.д.\n",
    "from bokeh.models import ColumnDataSource, LabelSet\n",
    "from bokeh.plotting import figure, show, output_file\n",
    "from bokeh.io import output_notebook\n",
    "output_notebook()\n",
    "\n",
    "p = figure(tools=\"pan,wheel_zoom,reset,save\",\n",
    "           toolbar_location=\"above\",\n",
    "           title=\"word2vec T-SNE for most common words\")\n",
    "\n",
    "source = ColumnDataSource(data=dict(x1=top_words_tsne[:,0],\n",
    "                                    x2=top_words_tsne[:,1],\n",
    "                                    names=top_words))\n",
    "\n",
    "p.scatter(x=\"x1\", y=\"x2\", size=8, source=source)\n",
    "\n",
    "labels = LabelSet(x=\"x1\", y=\"x2\", text=\"names\", y_offset=6,\n",
    "                  text_font_size=\"8pt\", text_color=\"#555555\",\n",
    "                  source=source, text_align='center')\n",
    "p.add_layout(labels)\n",
    "\n",
    "show(p)"
   ]
  },
  {
   "cell_type": "markdown",
   "metadata": {},
   "source": [
    "### 5. Качество работы банков\n",
    "Зададим координаты для нового пространства следующим образом: одна  ось описывает отношение \"плохо – хорошо\", \n",
    "вторая – \"медленно – быстро\" и найдём координаты названий банков в этих координатах.  \n",
    "Более формально: берем вектор слова \"хорошо\", вычитаем из него вектор слова \"плохо\", получаем новый вектор, \n",
    "который описывает разницу между хорошими и плохими словами. \n",
    "Берем вектор слова \"сбербанк\" и умножаем его на этот новый вектор – получаем координату по первой оси. \n",
    "Аналогично – для второй оси. Две координаты уже можно нарисовать на плоскости."
   ]
  },
  {
   "cell_type": "code",
   "execution_count": 260,
   "metadata": {},
   "outputs": [],
   "source": [
    "# Задаём словарь векторов банков\n",
    "banks = {}\n",
    "banks[\"альфабанк\"] = model.wv[\"альфабанк\"]\n",
    "banks[\"сбербанк\"] = model.wv[\"сбербанк\"]\n",
    "banks[\"втб\"] = model.wv[\"втб\"]\n",
    "banks[\"россельхозбанк\"] = model.wv[\"россельхозбанк\"]\n",
    "banks[\"газпромбанк\"] = model.wv[\"газпромбанк\"]\n",
    "banks[\"ситибанк\"] = model.wv[\"ситибанк\"]\n",
    "banks[\"росбанк\"] = model.wv[\"росбанк\"]\n",
    "banks[\"тинькоффбанк\"] = model.wv[\"тинькоффбанк\"]\n",
    "banks[\"райффайзенбанк\"] = model.wv[\"райффайзенбанк\"]\n",
    "banks[\"совкомбанк\"] = model.wv[\"совкомбанк\"]"
   ]
  },
  {
   "cell_type": "code",
   "execution_count": 192,
   "metadata": {},
   "outputs": [],
   "source": [
    "# Задаём векторы осей\n",
    "x_vec = model.wv[\"хорошо\"]-model.wv[\"плохо\"]\n",
    "y_vec = model.wv[\"быстро\"]-model.wv[\"медленно\"]"
   ]
  },
  {
   "cell_type": "code",
   "execution_count": 261,
   "metadata": {},
   "outputs": [],
   "source": [
    "# формируем точки банков в системе координат \"хорошо-плохо\", \"быстро-медленно\"\n",
    "x = []\n",
    "y = []\n",
    "bank_names = []\n",
    "for bank in banks:\n",
    "    x.append(np.dot(banks[bank],x_vec))\n",
    "    y.append(np.dot(banks[bank],y_vec))\n",
    "    bank_names.append(bank)"
   ]
  },
  {
   "cell_type": "code",
   "execution_count": 262,
   "metadata": {},
   "outputs": [
    {
     "name": "stderr",
     "output_type": "stream",
     "text": [
      "*c* argument looks like a single numeric RGB or RGBA sequence, which should be avoided as value-mapping will have precedence in case its length matches with *x* & *y*.  Please use the *color* keyword-argument or provide a 2D array with a single row if you intend to specify the same RGB or RGBA value for all points.\n",
      "*c* argument looks like a single numeric RGB or RGBA sequence, which should be avoided as value-mapping will have precedence in case its length matches with *x* & *y*.  Please use the *color* keyword-argument or provide a 2D array with a single row if you intend to specify the same RGB or RGBA value for all points.\n",
      "*c* argument looks like a single numeric RGB or RGBA sequence, which should be avoided as value-mapping will have precedence in case its length matches with *x* & *y*.  Please use the *color* keyword-argument or provide a 2D array with a single row if you intend to specify the same RGB or RGBA value for all points.\n",
      "*c* argument looks like a single numeric RGB or RGBA sequence, which should be avoided as value-mapping will have precedence in case its length matches with *x* & *y*.  Please use the *color* keyword-argument or provide a 2D array with a single row if you intend to specify the same RGB or RGBA value for all points.\n",
      "*c* argument looks like a single numeric RGB or RGBA sequence, which should be avoided as value-mapping will have precedence in case its length matches with *x* & *y*.  Please use the *color* keyword-argument or provide a 2D array with a single row if you intend to specify the same RGB or RGBA value for all points.\n",
      "*c* argument looks like a single numeric RGB or RGBA sequence, which should be avoided as value-mapping will have precedence in case its length matches with *x* & *y*.  Please use the *color* keyword-argument or provide a 2D array with a single row if you intend to specify the same RGB or RGBA value for all points.\n",
      "*c* argument looks like a single numeric RGB or RGBA sequence, which should be avoided as value-mapping will have precedence in case its length matches with *x* & *y*.  Please use the *color* keyword-argument or provide a 2D array with a single row if you intend to specify the same RGB or RGBA value for all points.\n",
      "*c* argument looks like a single numeric RGB or RGBA sequence, which should be avoided as value-mapping will have precedence in case its length matches with *x* & *y*.  Please use the *color* keyword-argument or provide a 2D array with a single row if you intend to specify the same RGB or RGBA value for all points.\n",
      "*c* argument looks like a single numeric RGB or RGBA sequence, which should be avoided as value-mapping will have precedence in case its length matches with *x* & *y*.  Please use the *color* keyword-argument or provide a 2D array with a single row if you intend to specify the same RGB or RGBA value for all points.\n",
      "*c* argument looks like a single numeric RGB or RGBA sequence, which should be avoided as value-mapping will have precedence in case its length matches with *x* & *y*.  Please use the *color* keyword-argument or provide a 2D array with a single row if you intend to specify the same RGB or RGBA value for all points.\n"
     ]
    },
    {
     "data": {
      "image/png": "[encoded data removed]",
      "text/plain": [
       "<Figure size 900x900 with 1 Axes>"
      ]
     },
     "metadata": {
      "needs_background": "light"
     },
     "output_type": "display_data"
    }
   ],
   "source": [
    "# Визуализируем\n",
    "colors = plt.cm.tab20.colors\n",
    "\n",
    "fig = plt.figure(figsize=(3,3), dpi=300)\n",
    "ax = fig.add_subplot()\n",
    "fig.subplots_adjust()\n",
    "\n",
    "ax.set_title('качество работы банков', fontsize=8)\n",
    "\n",
    "ax.set_xlabel('хорошо - плохо', fontsize=4)\n",
    "ax.set_ylabel('быстро - медленно', fontsize=4)\n",
    "\n",
    "for i in range(len(bank_names)):\n",
    "    ax.text(x[i]+0.5, y[i]+0.5, bank_names[i], color=colors[i%20], fontsize=6)\n",
    "    ax.scatter(x[i], y[i], alpha=0.9, c=colors[i%20])\n",
    "\n",
    "    plt.tick_params(axis='both', labelsize=4)\n",
    "plt.show()"
   ]
  },
  {
   "cell_type": "code",
   "execution_count": 277,
   "metadata": {},
   "outputs": [],
   "source": [
    "# словарь: model.wv.key_to_index.keys()"
   ]
  }
 ],
 "metadata": {
  "kernelspec": {
   "display_name": "Python 3 (ipykernel)",
   "language": "python",
   "name": "python3"
  },
  "language_info": {
   "codemirror_mode": {
    "name": "ipython",
    "version": 3
   },
   "file_extension": ".py",
   "mimetype": "text/x-python",
   "name": "python",
   "nbconvert_exporter": "python",
   "pygments_lexer": "ipython3",
   "version": "3.9.7"
  }
 },
 "nbformat": 4,
 "nbformat_minor": 2
}
